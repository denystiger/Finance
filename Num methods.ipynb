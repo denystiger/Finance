{
 "cells": [
  {
   "cell_type": "code",
   "id": "initial_id",
   "metadata": {
    "collapsed": true,
    "ExecuteTime": {
     "end_time": "2025-06-07T00:39:59.979963Z",
     "start_time": "2025-06-07T00:39:59.901762Z"
    }
   },
   "source": [
    "from heapq import nlargest\n",
    "\n",
    "import numpy as np\n",
    "from numpy import sqrt, pi, sin, cos, exp\n"
   ],
   "outputs": [],
   "execution_count": 2
  },
  {
   "metadata": {
    "ExecuteTime": {
     "end_time": "2025-06-07T00:41:44.065693Z",
     "start_time": "2025-06-07T00:41:44.061458Z"
    }
   },
   "cell_type": "code",
   "source": [
    "def f(n):\n",
    "    psi = (1+sqrt(5)) / 2\n",
    "    phi = (1 - sqrt(5)) / 2\n",
    "    f_n = 1/sqrt(5) * (psi**n - phi**n)\n",
    "    return f_n"
   ],
   "id": "53ce5feb43c5984",
   "outputs": [],
   "execution_count": 4
  },
  {
   "metadata": {
    "ExecuteTime": {
     "end_time": "2025-06-07T00:50:03.698597Z",
     "start_time": "2025-06-07T00:50:03.695461Z"
    }
   },
   "cell_type": "code",
   "source": "f_n = f(100)",
   "id": "5c29ad25fd294836",
   "outputs": [],
   "execution_count": 18
  },
  {
   "metadata": {
    "ExecuteTime": {
     "end_time": "2025-06-07T00:51:30.520936Z",
     "start_time": "2025-06-07T00:51:30.515630Z"
    }
   },
   "cell_type": "code",
   "source": [
    "from decimal import Decimal, getcontext\n",
    "\n",
    "# Set precision\n",
    "getcontext().prec = 200\n",
    "\n",
    "# Define constants\n",
    "phi = (Decimal(1) + Decimal(5).sqrt()) / Decimal(2)\n",
    "psi = (Decimal(1) - Decimal(5).sqrt()) / Decimal(2)\n",
    "\n",
    "# Which Fibonacci number to compute\n",
    "n = 200\n",
    "\n",
    "# Compute using Binet's formula\n",
    "F_n = (phi**n - psi**n) / Decimal(5).sqrt()\n",
    "\n",
    "# Print result\n",
    "print(F_n)\n"
   ],
   "id": "ced48da282ad5451",
   "outputs": [
    {
     "name": "stdout",
     "output_type": "stream",
     "text": [
      "280571172992510140037611932413038677189525.00000000000000000000000000000000000000000000000000000000000000000000000000000000000000000000000000000000000000000000000000000000000000000000000000000000000067\n"
     ]
    }
   ],
   "execution_count": 24
  },
  {
   "metadata": {
    "ExecuteTime": {
     "end_time": "2025-06-07T00:57:41.684265Z",
     "start_time": "2025-06-07T00:57:41.670260Z"
    }
   },
   "cell_type": "code",
   "source": [
    "from sympy import sqrt, simplify\n",
    "from numpy import log\n",
    "phi = (1 + sqrt(5)) / 2\n",
    "psi = (1 - sqrt(5)) / 2\n",
    "n = 100\n",
    "\n",
    "F_n = (phi**n - psi**n) / sqrt(5)\n",
    "\n",
    "# simplify\n",
    "print(simplify(F_n))\n"
   ],
   "id": "bf2ad6a0c6423161",
   "outputs": [
    {
     "name": "stdout",
     "output_type": "stream",
     "text": [
      "354224848179261915075\n"
     ]
    }
   ],
   "execution_count": 37
  },
  {
   "metadata": {
    "ExecuteTime": {
     "end_time": "2025-06-07T01:02:22.794730Z",
     "start_time": "2025-06-07T01:02:22.788768Z"
    }
   },
   "cell_type": "code",
   "source": [
    "from math import log\n",
    "\n",
    "def harm_term(n):\n",
    "    sum_ = 0\n",
    "    for i in range(1, n+1):\n",
    "        term = 1/i\n",
    "        sum_ += term\n",
    "    return sum_\n",
    "\n",
    "def harm_term_min_ln(n):\n",
    "    sum_ = 0\n",
    "    for i in range(1, n+1):\n",
    "        term = 1/i\n",
    "        sum_ += term\n",
    "    return sum_ - log(n)\n",
    "\n",
    "# Set maximum value to test\n",
    "max_n = 100000\n",
    "\n",
    "# Loop\n",
    "for i in range(1, max_n):\n",
    "    diff = abs(harm_term_min_ln(i+1) - harm_term_min_ln(i))\n",
    "    if diff <= 1e-3:\n",
    "        print(f\"i = {i}, diff = {diff}\")\n",
    "        break\n"
   ],
   "id": "6c9d0b989d358661",
   "outputs": [
    {
     "name": "stdout",
     "output_type": "stream",
     "text": [
      "i = 22, diff = 0.0009735017012681979\n"
     ]
    }
   ],
   "execution_count": 54
  },
  {
   "metadata": {
    "ExecuteTime": {
     "end_time": "2025-06-07T01:58:01.024499Z",
     "start_time": "2025-06-07T01:58:01.015353Z"
    }
   },
   "cell_type": "code",
   "source": [
    "import numpy as np\n",
    "\n",
    "def compute_scaled_norm(N, s, S, y, Y, lam, n, x_list):\n",
    "    '''\n",
    "    Computes a scaled norm with piecewise processing:\n",
    "    - Small values (< y) are scaled by S\n",
    "    - Medium values (< Y) are unscaled\n",
    "    - Large values (>= Y) are scaled by s\n",
    "    - Clipping if total norm too large\n",
    "\n",
    "    Parameters:\n",
    "    N : upper bound on n\n",
    "    s, S : scaling factors\n",
    "    y, Y : thresholds\n",
    "    lam : clipping limit\n",
    "    n : number of elements to process\n",
    "    x_list : list or array of numbers\n",
    "\n",
    "    Returns:\n",
    "    str : Description of the computed norm or overflow\n",
    "    '''\n",
    "\n",
    "    # Step 1: Checks\n",
    "    if n <= 0:\n",
    "        raise ValueError(\"n must be positive\")\n",
    "    if n >= N:\n",
    "        raise ValueError(\"n is too large\")\n",
    "    if len(x_list) < n:\n",
    "        raise ValueError(\"Input list is smaller than n\")\n",
    "\n",
    "    x_list = np.array(x_list)  # make sure it's an array\n",
    "\n",
    "    total_sum = 0.0\n",
    "    i = 0\n",
    "\n",
    "    # Step 2: Process small values\n",
    "    while i < n and abs(x_list[i]) < y:\n",
    "        total_sum += (S * x_list[i]) ** 2\n",
    "        i += 2  # Skip every second element as in original code\n",
    "\n",
    "    # Step 3: Check if done\n",
    "    if i >= n:\n",
    "        norm = (total_sum ** 0.5) / S\n",
    "        return f\"Norm is {norm}\"\n",
    "\n",
    "    # Rescale total_sum\n",
    "    total_sum = (total_sum / S) / S\n",
    "\n",
    "    # Step 4: Process medium values\n",
    "    while i < n and abs(x_list[i]) < Y:\n",
    "        total_sum += x_list[i] ** 2\n",
    "        i += 1\n",
    "\n",
    "    # Step 5: Check if done\n",
    "    if i >= n:\n",
    "        norm = total_sum ** 0.5\n",
    "        return f\"Norm is {norm}\"\n",
    "\n",
    "    # Rescale again\n",
    "    total_sum = (total_sum * s) * s\n",
    "\n",
    "    # Step 6: Process large values\n",
    "    while i < n:\n",
    "        total_sum += (s * x_list[i]) ** 2\n",
    "        i += 1\n",
    "\n",
    "    # Step 7: Final check\n",
    "    final_norm = total_sum ** 0.5\n",
    "    if final_norm < lam * s:\n",
    "        norm = final_norm / s\n",
    "        return f\"Norm is {norm}\"\n",
    "    else:\n",
    "        return f\"Norm > {lam}, overflow occurred\"\n"
   ],
   "id": "eaa97723256c2fd6",
   "outputs": [],
   "execution_count": 59
  },
  {
   "metadata": {
    "ExecuteTime": {
     "end_time": "2025-06-07T01:58:33.664099Z",
     "start_time": "2025-06-07T01:58:33.657652Z"
    }
   },
   "cell_type": "code",
   "source": [
    "# Example values\n",
    "t = 24\n",
    "emin = -300\n",
    "emax = 300\n",
    "\n",
    "e_N = (t - 2) / 2\n",
    "N = 10 ** e_N\n",
    "\n",
    "e_s = -(emax + e_N) / 2\n",
    "s = 10 ** e_s\n",
    "\n",
    "e_S = (1 - emin) / 2\n",
    "S = 10 ** e_S\n",
    "\n",
    "e_y = (emin + t - 2) / 2\n",
    "y = 10 ** e_y\n",
    "\n",
    "e_Y = (emax - e_N) / 2\n",
    "Y = 10 ** e_Y\n",
    "\n",
    "lam = 10  # Clipping limit\n",
    "\n",
    "n = 100\n",
    "x_list = np.random.uniform(low=-1, high=1, size=n)  # Example random numbers\n",
    "\n",
    "result = compute_scaled_norm(N, s, S, y, Y, lam, n, x_list)\n",
    "print(result)\n"
   ],
   "id": "b227e9a3ddb50cd3",
   "outputs": [
    {
     "name": "stdout",
     "output_type": "stream",
     "text": [
      "Norm is 5.396404292336005\n"
     ]
    }
   ],
   "execution_count": 62
  },
  {
   "metadata": {
    "ExecuteTime": {
     "end_time": "2025-06-07T02:12:45.559375Z",
     "start_time": "2025-06-07T02:12:45.552914Z"
    }
   },
   "cell_type": "code",
   "source": [
    "def bisection(f, a, b, tol, n):\n",
    "    fa = f(a)\n",
    "    for i in range(n+1):\n",
    "        p = a + (b - a) / 2\n",
    "        fp = f(p)\n",
    "\n",
    "        if fp == 0 or abs(b - a) / 2 < tol:\n",
    "            return p\n",
    "\n",
    "        if fa * fp > 0:\n",
    "            a = p\n",
    "            fa = fp\n",
    "        else:\n",
    "            b = p\n",
    "\n",
    "    # If not converged\n",
    "    print(f'Method failed after {n} iterations')\n",
    "    return None\n",
    "# Example: find root of f(x) = x^2 - 2 → should be sqrt(2)\n",
    "\n",
    "def f(x):\n",
    "    return x**2 - 2\n",
    "\n",
    "root = bisection(f, a=0, b=2, tol=1e-6, n=50)\n",
    "print(f\"Root found: {root}\")\n"
   ],
   "id": "40850f2a035a7ca0",
   "outputs": [
    {
     "name": "stdout",
     "output_type": "stream",
     "text": [
      "Root found: 1.4142141342163086\n"
     ]
    }
   ],
   "execution_count": 65
  },
  {
   "metadata": {
    "ExecuteTime": {
     "end_time": "2025-06-07T09:32:42.211906Z",
     "start_time": "2025-06-07T09:32:42.208153Z"
    }
   },
   "cell_type": "code",
   "source": [
    "def prod(n):\n",
    "    prod = 1\n",
    "    for i in range (1,n+1):\n",
    "        prod *= 9*i/(9*i+1)\n",
    "    return prod"
   ],
   "id": "e13d54adfaf2f14c",
   "outputs": [],
   "execution_count": 72
  },
  {
   "metadata": {
    "ExecuteTime": {
     "end_time": "2025-06-07T09:33:06.054364Z",
     "start_time": "2025-06-07T09:33:01.285903Z"
    }
   },
   "cell_type": "code",
   "source": "prod(33333333)",
   "id": "244a1078f1b53f98",
   "outputs": [
    {
     "data": {
      "text/plain": [
       "0.13818428992159346"
      ]
     },
     "execution_count": 78,
     "metadata": {},
     "output_type": "execute_result"
    }
   ],
   "execution_count": 78
  },
  {
   "metadata": {
    "ExecuteTime": {
     "end_time": "2025-06-07T10:07:59.073044Z",
     "start_time": "2025-06-07T10:07:59.069467Z"
    }
   },
   "cell_type": "code",
   "source": [
    "from itertools import product\n",
    "\n",
    "sample_space = list(product([0, 1], repeat = 5))\n"
   ],
   "id": "c79da93700e1c92f",
   "outputs": [],
   "execution_count": 83
  },
  {
   "metadata": {
    "ExecuteTime": {
     "end_time": "2025-06-07T10:15:07.859546Z",
     "start_time": "2025-06-07T10:15:07.853296Z"
    }
   },
   "cell_type": "code",
   "source": [
    "sample_space\n",
    "print(f\"Total outcomes: {len(sample_space)}\")\n",
    "\n",
    "W = []\n",
    "\n",
    "for outcome in sample_space:\n",
    "    x1, x2, x3, x4, x5 = outcome\n",
    "    if (x1 == 1 and x2 == 1) or (x3 == 1 and x4 == 1) or (x1==1 and x3 == 1 and x5 ==1):\n",
    "        W.append(outcome)\n",
    "print(\"Count W:\",len(W))\n",
    "\n",
    "A = [o for o in sample_space if o[3]==0 and o[4]==0]\n",
    "print(\"Count A:\", len(A) )\n",
    "\n",
    "AW = [o for o in W if o[3]==0 and o[4] ==0]\n",
    "print(\"Count AW:\", len(AW))\n"
   ],
   "id": "5ddedb007cde9094",
   "outputs": [
    {
     "name": "stdout",
     "output_type": "stream",
     "text": [
      "Total outcomes: 32\n",
      "Count W: 15\n",
      "Count A: 8\n",
      "Count AW: 2\n"
     ]
    }
   ],
   "execution_count": 100
  },
  {
   "metadata": {
    "ExecuteTime": {
     "end_time": "2025-06-07T10:17:47.504563Z",
     "start_time": "2025-06-07T10:17:47.500127Z"
    }
   },
   "cell_type": "code",
   "source": [
    "insurance = [0, 1]\n",
    "condition =['g', 'f', 's']\n",
    "\n",
    "sample_space = list(product(insurance, condition))\n",
    "\n",
    "for outcome in sample_space:\n",
    "    print(outcome)"
   ],
   "id": "284622ea3a7156c5",
   "outputs": [
    {
     "name": "stdout",
     "output_type": "stream",
     "text": [
      "(0, 'g')\n",
      "(0, 'f')\n",
      "(0, 's')\n",
      "(1, 'g')\n",
      "(1, 'f')\n",
      "(1, 's')\n"
     ]
    }
   ],
   "execution_count": 102
  },
  {
   "metadata": {
    "ExecuteTime": {
     "end_time": "2025-06-07T10:19:19.763237Z",
     "start_time": "2025-06-07T10:19:19.759855Z"
    }
   },
   "cell_type": "code",
   "source": "A = [outcome for outcome in sample_space if outcome[1] == 's']",
   "id": "5d148ae0d6f07a79",
   "outputs": [],
   "execution_count": 104
  },
  {
   "metadata": {
    "ExecuteTime": {
     "end_time": "2025-06-07T10:19:25.649465Z",
     "start_time": "2025-06-07T10:19:25.644924Z"
    }
   },
   "cell_type": "code",
   "source": "len(A)",
   "id": "8ea1ab7ba03a2057",
   "outputs": [
    {
     "data": {
      "text/plain": [
       "2"
      ]
     },
     "execution_count": 106,
     "metadata": {},
     "output_type": "execute_result"
    }
   ],
   "execution_count": 106
  },
  {
   "metadata": {
    "ExecuteTime": {
     "end_time": "2025-06-07T10:19:53.533848Z",
     "start_time": "2025-06-07T10:19:53.530517Z"
    }
   },
   "cell_type": "code",
   "source": "B = [outcome for outcome in sample_space if outcome[0] == 0]",
   "id": "dd8744886986e164",
   "outputs": [],
   "execution_count": 107
  },
  {
   "metadata": {
    "ExecuteTime": {
     "end_time": "2025-06-07T10:19:55.099642Z",
     "start_time": "2025-06-07T10:19:55.094252Z"
    }
   },
   "cell_type": "code",
   "source": "B",
   "id": "a8d4a0087f16aa69",
   "outputs": [
    {
     "data": {
      "text/plain": [
       "[(0, 'g'), (0, 'f'), (0, 's')]"
      ]
     },
     "execution_count": 108,
     "metadata": {},
     "output_type": "execute_result"
    }
   ],
   "execution_count": 108
  },
  {
   "metadata": {
    "ExecuteTime": {
     "end_time": "2025-06-07T10:21:29.790556Z",
     "start_time": "2025-06-07T10:21:29.786939Z"
    }
   },
   "cell_type": "code",
   "source": [
    "Bc = [outcome for outcome in sample_space if outcome[0] == 1]\n",
    "\n",
    "Bc_union_A = list(set(Bc).union(A))"
   ],
   "id": "d15785e33c39e4b0",
   "outputs": [],
   "execution_count": 112
  },
  {
   "metadata": {
    "ExecuteTime": {
     "end_time": "2025-06-07T10:21:35.684127Z",
     "start_time": "2025-06-07T10:21:35.679324Z"
    }
   },
   "cell_type": "code",
   "source": "Bc_union_A",
   "id": "3845b1cf5cdae37c",
   "outputs": [
    {
     "data": {
      "text/plain": [
       "[(1, 's'), (1, 'g'), (1, 'f'), (0, 's')]"
      ]
     },
     "execution_count": 113,
     "metadata": {},
     "output_type": "execute_result"
    }
   ],
   "execution_count": 113
  },
  {
   "metadata": {},
   "cell_type": "code",
   "outputs": [],
   "execution_count": null,
   "source": "",
   "id": "a7aed2be605d2eea"
  }
 ],
 "metadata": {
  "kernelspec": {
   "display_name": "Python 3",
   "language": "python",
   "name": "python3"
  },
  "language_info": {
   "codemirror_mode": {
    "name": "ipython",
    "version": 2
   },
   "file_extension": ".py",
   "mimetype": "text/x-python",
   "name": "python",
   "nbconvert_exporter": "python",
   "pygments_lexer": "ipython2",
   "version": "2.7.6"
  }
 },
 "nbformat": 4,
 "nbformat_minor": 5
}
