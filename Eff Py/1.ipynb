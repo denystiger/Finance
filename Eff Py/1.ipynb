{
 "cells": [
  {
   "metadata": {},
   "cell_type": "code",
   "outputs": [],
   "execution_count": null,
   "source": [
    "from bleach.six_shim import urllib\n",
    "from lxml.objectify import NoneElement\n",
    "\n",
    "\n",
    "def to_str(bytes_or_str):\n",
    "    if isinstance(bytes_or_str, bytes):\n",
    "        value = bytes_or_str.decode('utf-8')\n",
    "    else:\n",
    "        value = bytes_or_str\n",
    "    return value"
   ],
   "id": "52e167284660f5ec"
  },
  {
   "metadata": {},
   "cell_type": "code",
   "outputs": [],
   "execution_count": null,
   "source": [
    "print(repr(to_str((b'foo'))))\n",
    "print(repr(to_str('bar')))"
   ],
   "id": "45c566fb4e22b1b5"
  },
  {
   "metadata": {},
   "cell_type": "code",
   "outputs": [],
   "execution_count": null,
   "source": [
    "def to_bytes(bytes_or_str):\n",
    "    if isinstance(bytes_or_str, str):\n",
    "        value = bytes_or_str.encode('utf-8')\n",
    "    else:\n",
    "        value = bytes_or_str\n",
    "    return value\n",
    "print(repr(to_bytes(b\"foo\")))\n",
    "print(repr(to_bytes('bar')))"
   ],
   "id": "b134709591338b7f"
  },
  {
   "metadata": {},
   "cell_type": "code",
   "outputs": [],
   "execution_count": null,
   "source": [
    "print(b'one' + b'two')\n",
    "print('one' + 'two')"
   ],
   "id": "a9cbe6149e919bbc"
  },
  {
   "metadata": {},
   "cell_type": "code",
   "outputs": [],
   "execution_count": null,
   "source": "assert 'red' > 'blue'",
   "id": "e15829aa8fe8615c"
  },
  {
   "metadata": {},
   "cell_type": "code",
   "outputs": [],
   "execution_count": null,
   "source": [
    "with open('data.bin', 'wb') as f:\n",
    "    f.write(b'\\xf1\\xf2\\xf3\\xf4\\xf5')"
   ],
   "id": "c87bd7de538cd0cc"
  },
  {
   "metadata": {},
   "cell_type": "code",
   "outputs": [],
   "execution_count": null,
   "source": [
    "with open('data.bin', 'rb') as f:\n",
    "    data = f.read()\n",
    "\n",
    "assert data == b'\\xf1\\xf2\\xf3\\xf4\\xf5'"
   ],
   "id": "18e880f27bc60623"
  },
  {
   "metadata": {},
   "cell_type": "code",
   "outputs": [],
   "execution_count": null,
   "source": "print(b'red %s' % 'blue')",
   "id": "a4655da60ccec63b"
  },
  {
   "metadata": {},
   "cell_type": "code",
   "outputs": [],
   "execution_count": null,
   "source": [
    "with open('data.bin', 'r', encoding = 'cp1252') as f:\n",
    "    data = f.read()\n",
    "assert data == 'ñņļ'"
   ],
   "id": "5369ea55af42949f"
  },
  {
   "metadata": {},
   "cell_type": "code",
   "outputs": [],
   "execution_count": null,
   "source": [
    "a = 0b10111011\n",
    "b = 0xc5f\n",
    "print(\"Binary os %d, hex is %d\" % (a, b))"
   ],
   "id": "8d284af415437193"
  },
  {
   "metadata": {},
   "cell_type": "code",
   "outputs": [],
   "execution_count": null,
   "source": [
    "key = 'my_var'\n",
    "value = 1.234\n",
    "formatted = '%-10s = %.2f' % (key, value)\n",
    "print(formatted)"
   ],
   "id": "6d1c31200820b511"
  },
  {
   "metadata": {},
   "cell_type": "code",
   "outputs": [],
   "execution_count": null,
   "source": "reordered_tuple = '%-10s = %.2f' % (value, key)",
   "id": "a7017bb04c858bcc"
  },
  {
   "metadata": {},
   "cell_type": "code",
   "outputs": [],
   "execution_count": null,
   "source": [
    "pantry = [\n",
    "    ('avocados', 1.25),\n",
    "    ('bananas', 2.5),\n",
    "    ('charries', 15)\n",
    "]\n",
    "for i, (item, count) in enumerate(pantry):\n",
    "    print('#%d: %-10s = %.2f' % (i, item, count))"
   ],
   "id": "aaceb5b9dec053ee"
  },
  {
   "metadata": {},
   "cell_type": "code",
   "outputs": [],
   "execution_count": null,
   "source": [
    "for i, (item, count) in enumerate(pantry):\n",
    "    print('#%d: %-10s = %d' % (\n",
    "        i + 1,\n",
    "        item.title(),\n",
    "        round(count)\n",
    "\n",
    "    ))"
   ],
   "id": "e96da26d502422b"
  },
  {
   "metadata": {},
   "cell_type": "code",
   "outputs": [],
   "execution_count": null,
   "source": [
    "template = '%s loves food. See %s cook.'\n",
    "name = 'Max'\n",
    "formated = template % (name, name)"
   ],
   "id": "60fa124c2714777e"
  },
  {
   "metadata": {},
   "cell_type": "code",
   "outputs": [],
   "execution_count": null,
   "source": "formated",
   "id": "694ab21e90914336"
  },
  {
   "metadata": {},
   "cell_type": "code",
   "outputs": [],
   "execution_count": null,
   "source": [
    "name = 'brad'\n",
    "formated = template % (name.title(), name.title())\n",
    "formated"
   ],
   "id": "8ccea23046d413b5"
  },
  {
   "metadata": {},
   "cell_type": "code",
   "outputs": [],
   "execution_count": null,
   "source": [
    "key = 'my_var'\n",
    "value = 1/234\n",
    "\n",
    "old_way = '%-10s = %.2f' % (key, value)\n",
    "\n",
    "new_way = '%(key)-10s = %(value).2f' % {\n",
    "    'value': value, 'key': key}\n",
    "reordered = \"%(key)-10s = %(value).2f\" % {'value':value,\n",
    "                                          'key': key}\n",
    "assert old_way == new_way == reordered"
   ],
   "id": "51c1a2f89dc9284b"
  },
  {
   "metadata": {},
   "cell_type": "code",
   "outputs": [],
   "execution_count": null,
   "source": [
    "name = 'Max'\n",
    "\n",
    "template = '%s loves food. See %s cook.'\n",
    "before = template % (name, name)\n",
    "\n",
    "template = '%(name)s loves food. See %(name)s cook.'\n",
    "after = template % {'name': name}\n",
    "\n",
    "assert before == after"
   ],
   "id": "91c2067c317da0d4"
  },
  {
   "metadata": {},
   "cell_type": "code",
   "outputs": [],
   "execution_count": null,
   "source": [
    "for i, (item, count) in enumerate(pantry):\n",
    "    before = '#%d: %-10s = %d' % (\n",
    "        i + 1,\n",
    "        item.title(),\n",
    "        round(count))\n",
    "    after = '#%(loop)d: %(item)-10s = %(count)d' % {\n",
    "        'loop': i + 1,\n",
    "        'item': item.title(),\n",
    "        'count': round(count),\n",
    "\n",
    "    }\n",
    "assert before == after"
   ],
   "id": "d02598af0fe9993e"
  },
  {
   "metadata": {},
   "cell_type": "code",
   "outputs": [],
   "execution_count": null,
   "source": [
    "soup = 'lentil'\n",
    "formatted = 'Today\\'s soup is %(soup)s.' %{'soup': soup}\n",
    "print(formatted)\n",
    "menu = {\n",
    "    'soup':'lentil',\n",
    "    'oyster': 'kumamoto',\n",
    "    'special': 'schnitzel'\n",
    "}\n",
    "template = ('Today\\'s soup is %(soup)s, '\n",
    "            'buy one get two %(oyster)s oysters, '\n",
    "            'and our special entrée is %(special)s.')\n",
    "formatted = template % menu\n",
    "print(formatted)\n",
    "\n"
   ],
   "id": "611cd462b4bcffbf"
  },
  {
   "metadata": {},
   "cell_type": "code",
   "outputs": [],
   "execution_count": null,
   "source": [
    "a = 1234.5678\n",
    "formatted = format(a, ',.2f')\n",
    "print(formatted)\n",
    "\n",
    "b = 'my string'\n",
    "formatted = format(b, '^20s')\n",
    "print('*', formatted, '*')\n",
    "\n"
   ],
   "id": "96f4667b03392606"
  },
  {
   "metadata": {},
   "cell_type": "code",
   "outputs": [],
   "execution_count": null,
   "source": [
    "key = 'my_var'\n",
    "value = 1.234\n",
    "\n",
    "formatted = '{} = {}'.format(key, value)\n",
    "print(formatted)\n",
    "\n",
    "\n"
   ],
   "id": "8d19c70265ac77e4"
  },
  {
   "metadata": {},
   "cell_type": "code",
   "outputs": [],
   "execution_count": null,
   "source": [
    "formatted = '{:<10} = {:.2f}'.format(key, value)\n",
    "print(formatted)\n",
    "\n",
    "print('%.2f%%' % 12.5)\n",
    "print('{} replaces {{}}'.format(1.23))\n",
    "\n"
   ],
   "id": "546bf157918c5ef6"
  },
  {
   "metadata": {},
   "cell_type": "code",
   "outputs": [],
   "execution_count": null,
   "source": "help('FORMATTING')",
   "id": "92c87fdb51bde9ec"
  },
  {
   "metadata": {},
   "cell_type": "code",
   "outputs": [],
   "execution_count": null,
   "source": [
    "points = 19\n",
    "total = 22\n",
    "'Correct answers: {:.2%}'.format(points/total)"
   ],
   "id": "f3e33841a57da9d5"
  },
  {
   "metadata": {},
   "cell_type": "code",
   "outputs": [],
   "execution_count": null,
   "source": [
    "import datetime\n",
    "d = datetime.datetime(2010, 7, 4, 12, 15, 58)\n",
    "'{:%Y-%m-%d %H:%M:%S}'.format(d)\n"
   ],
   "id": "a8ca125051a10a94"
  },
  {
   "metadata": {},
   "cell_type": "code",
   "outputs": [],
   "execution_count": null,
   "source": [
    "formatted = 'First letter is {menu[oyster][0]!r}'.format( menu = menu)\n",
    "print(formatted)"
   ],
   "id": "78b32095177cd583"
  },
  {
   "metadata": {},
   "cell_type": "code",
   "outputs": [],
   "execution_count": null,
   "source": [
    "old_template = (\n",
    "    'Today\\s soup is %(soup)s, '\n",
    "    'buy one get two %(oyster)s oysters, '\n",
    "    'and our special entree is %(special)s.')\n",
    "olf_formatted = template % {\n",
    "    'soup': 'lentil',\n",
    "    'oyster': 'kumamoto',\n",
    "    'special': 'schnitzel',\n",
    "}"
   ],
   "id": "6a8011dad4ec85a7"
  },
  {
   "metadata": {},
   "cell_type": "code",
   "outputs": [],
   "execution_count": null,
   "source": [
    "new_template = (\n",
    "    'Today\\'s soup is {soup}, '\n",
    "    'buy one get two {oyster} oysters, '\n",
    "    'and our special entree is {special}.')\n",
    "new_formatted = new_template.format(\n",
    "    soup = 'lentil',\n",
    "    oyster = 'kumamoto',\n",
    "    special = 'schnitzel'\n",
    ")"
   ],
   "id": "ab0095bed5eff618"
  },
  {
   "metadata": {},
   "cell_type": "code",
   "outputs": [],
   "execution_count": null,
   "source": "assert olf_formatted == new_formatted",
   "id": "f806b6d33c3da5c2"
  },
  {
   "metadata": {},
   "cell_type": "code",
   "outputs": [],
   "execution_count": null,
   "source": [
    "key = 'my_var'\n",
    "value = 1.234\n",
    "formatted = f'{key} = {value}'\n",
    "print(formatted)"
   ],
   "id": "ced7f9ae51743a15"
  },
  {
   "metadata": {},
   "cell_type": "code",
   "outputs": [],
   "execution_count": null,
   "source": [
    "formatted = f'{key!r:<20} = {value:.2f}'\n",
    "print(formatted)"
   ],
   "id": "901df4eff4666a2f"
  },
  {
   "metadata": {},
   "cell_type": "code",
   "outputs": [],
   "execution_count": null,
   "source": [
    "f_string = f'{key:<10} = {value:.2f}'\n",
    "c_tuple = '%-10s = %.2f' % (key, value)\n",
    "\n",
    "str_args = '{:<10} = {:.2f}'.format(key, value)\n",
    "\n",
    "str_kw = '{key:<10} = {value:.2f}'.format(key = key, value = value)\n",
    "\n",
    "c_dict = '%(key)-10s = %(value).2f' % {'key': key,\n",
    "                                       'value': value}\n",
    "\n",
    "assert c_tuple == c_dict == f_string"
   ],
   "id": "2158fb0fa6c9f88f"
  },
  {
   "metadata": {},
   "cell_type": "code",
   "outputs": [],
   "execution_count": null,
   "source": [
    "for i, (item, count) in enumerate(pantry):\n",
    "    old_style ="
   ],
   "id": "91a6e50e703c1720"
  },
  {
   "metadata": {},
   "cell_type": "code",
   "outputs": [],
   "execution_count": null,
   "source": "my_values = parse_qs('reg=5')",
   "id": "d0fc2eecc4292161"
  },
  {
   "metadata": {},
   "cell_type": "code",
   "outputs": [],
   "execution_count": null,
   "source": [
    "from urllib.parse import parse_qs\n",
    "\n",
    "my_values = parse_qs('red = 5&blue = 0 ')"
   ],
   "id": "8288d6497cf41366"
  },
  {
   "metadata": {},
   "cell_type": "code",
   "outputs": [],
   "execution_count": null,
   "source": "red = int(my_values.get('red', [''])[0] or 0)",
   "id": "877d0465848e9ddf"
  },
  {
   "metadata": {},
   "cell_type": "code",
   "outputs": [],
   "execution_count": null,
   "source": [
    "green_str = my_values.get('green', [''])\n",
    "if green_str[0]:\n",
    "    green = int(green_str[0])\n",
    "else:\n",
    "    green = 0\n",
    "\n",
    "def get_first_int(values, key, default = 0):\n",
    "    found = values.get(key, [''])\n",
    "    if found[0]:\n",
    "        return int(found[0])\n",
    "    return default\n",
    "\n",
    "green ="
   ],
   "id": "61d352f2a3437baa"
  },
  {
   "metadata": {},
   "cell_type": "code",
   "outputs": [],
   "execution_count": null,
   "source": [
    "snack_calories = { 'chips': 140, 'popcorn': 80, 'nuts': 190, }\n",
    "items = tuple(snack_calories.items())\n",
    "print(items)"
   ],
   "id": "e2cb58646d2a8266"
  },
  {
   "metadata": {},
   "cell_type": "code",
   "outputs": [],
   "execution_count": null,
   "source": [
    "item = ('Peanut butter', 'Jelly')\n",
    "first = item[0]\n",
    "second = item[1]\n",
    "print(first, 'and', second)\n",
    "\n"
   ],
   "id": "e9cf0e8b55c15efe"
  },
  {
   "metadata": {},
   "cell_type": "code",
   "outputs": [],
   "execution_count": null,
   "source": [
    "item = ('Peanut butter', 'Jelly')\n",
    "first, second = item"
   ],
   "id": "7192af359b9c15c3"
  },
  {
   "metadata": {},
   "cell_type": "code",
   "outputs": [],
   "execution_count": null,
   "source": "favorite_snacks = { 'salty': ('pretzels', 100), 'sweet': ('cookies', 180), 'veggie': ('carrots', 20), }",
   "id": "6d4fc206cd7a5021"
  },
  {
   "metadata": {},
   "cell_type": "code",
   "outputs": [],
   "execution_count": null,
   "source": [
    "def bubble_sort(a):\n",
    "    for _ in range(len(a)):\n",
    "        for i in range(1, len(a)):\n",
    "            if a[i] < a[i-1]:\n",
    "                temp = a[i]\n",
    "                a[i] = a[i-1]\n",
    "                a[i-1] = temp\n",
    "\n"
   ],
   "id": "53cad6a09c7cc0b8"
  },
  {
   "metadata": {},
   "cell_type": "code",
   "outputs": [],
   "execution_count": null,
   "source": "",
   "id": "51609cf899c3440"
  },
  {
   "metadata": {},
   "cell_type": "code",
   "outputs": [],
   "execution_count": null,
   "source": "snacks = [('bacon', 350), ('donut', 240), ('muffin', 190)]",
   "id": "a88290f661591540"
  },
  {
   "metadata": {},
   "cell_type": "code",
   "outputs": [],
   "execution_count": null,
   "source": [
    "for i in range(len(snacks)):\n",
    "    item = snacks[i]\n",
    "    name = item[0]\n",
    "    calories = item[1]\n",
    "    print(f\"{i+1}: {name} has {calories} calories\")"
   ],
   "id": "6ad1d5a401cd47b5"
  },
  {
   "metadata": {},
   "cell_type": "code",
   "outputs": [],
   "execution_count": null,
   "source": [
    "for rank, (name, callories) in enumerate(snacks, 1):\n",
    "    print(f\"#{rank}: {name} has {calories} callories\")"
   ],
   "id": "614bc5c21725a133"
  },
  {
   "metadata": {},
   "cell_type": "code",
   "outputs": [],
   "execution_count": null,
   "source": [
    "from random import randint\n",
    "\n",
    "random_bits = 0\n",
    "for i in range(32):\n",
    "    if randint(0, 1):\n",
    "        random_bits |= 1 <<i\n",
    "print(bin(random_bits))"
   ],
   "id": "200873a7680bcedd"
  },
  {
   "metadata": {},
   "cell_type": "code",
   "outputs": [],
   "execution_count": null,
   "source": [
    "it = enumerate(flavor_list)\n",
    "print(next(it))\n",
    "print(next(it))"
   ],
   "id": "bb4c34b972a7dcb0"
  },
  {
   "metadata": {},
   "cell_type": "code",
   "outputs": [],
   "execution_count": null,
   "source": [
    "a = 4\n",
    "b = 9\n",
    "\n",
    "for i in range(2, min(a, b) + 1):\n",
    "    print('Testing', i)\n",
    "    if a % i == 0  and b % i == 0:\n",
    "        print('Not coprime')\n",
    "        break\n",
    "else:\n",
    "    print('Coprime')\n"
   ],
   "id": "78486a46dbbe8509"
  },
  {
   "metadata": {},
   "cell_type": "code",
   "outputs": [],
   "execution_count": null,
   "source": [
    "def coprime(a, b):\n",
    "    for i in range(2, min(a, b) + 1):\n",
    "        if a % i == 0 and b % i == 0:\n",
    "            return False\n",
    "    return True\n",
    "assert coprime(4, 9)\n",
    "assert not coprime(3, 6)"
   ],
   "id": "a64c519c676949c8"
  },
  {
   "metadata": {},
   "cell_type": "code",
   "outputs": [],
   "execution_count": null,
   "source": [
    "def coprime_alternate(a, b):\n",
    "    is_coprime = True\n",
    "    for i in range(2, min(a, b)+ 1):\n",
    "        is_coprime == True\n",
    "        for i in range(2, min(a, b)+ 1):\n",
    "            if a % i == 0 and b % i == 0:\n",
    "                is_coprime = False\n",
    "                break\n",
    "        return is_coprime\n",
    "assert coprime_alternate(4, 9)\n",
    "assert not coprime_alternate(3, 6)"
   ],
   "id": "62f55d7950aa1236"
  },
  {
   "metadata": {},
   "cell_type": "code",
   "outputs": [],
   "execution_count": null,
   "source": [
    "fresh_fruit = {\n",
    "    'apple':10,\n",
    "    'banana':8,\n",
    "    'lemon':5,\n",
    "}"
   ],
   "id": "c6d5f19648c9ee0"
  },
  {
   "metadata": {},
   "cell_type": "code",
   "outputs": [],
   "execution_count": null,
   "source": [
    "def make_lemonade(count):\n",
    "    print(f\"Making lemonade with {count} lemon(s)! 🍋\")\n",
    "\n",
    "def out_of_stock():\n",
    "    print(\"Out of lemons! Cannot make lemonade. ❌\")\n",
    "\n",
    "count = fresh_fruit.get('lemon', 0)\n",
    "if count:\n",
    "    make_lemonade(count)\n",
    "else:\n",
    "    out_of_stock()"
   ],
   "id": "ce8205b41218a7be"
  },
  {
   "metadata": {},
   "cell_type": "code",
   "outputs": [],
   "execution_count": null,
   "source": [
    "if count := fresh_fruit.get('lemon', 0 ):\n",
    "    make_lemonade(count)\n",
    "else:\n",
    "    out_of_stock()"
   ],
   "id": "a051c4dc69aa8daa"
  },
  {
   "metadata": {},
   "cell_type": "code",
   "outputs": [],
   "execution_count": null,
   "source": [
    "def make_cider():\n",
    "    if (count := fresh_fruit.get('apple', 0)) >= 4:\n",
    "        print(\"Making a cider from 4 apples 🍎\")\n",
    "    else:\n",
    "        out_of_stock()\n",
    "        print(\"Sorry, not enough apples. Make lemonade instead 🍋\")\n",
    "\n",
    "def out_of_stock():\n",
    "    print(\"Out of apples! ❌\")\n",
    "\n",
    "# Example:\n",
    "fresh_fruit = {\"apple\": 2}\n",
    "\n",
    "make_cider()\n"
   ],
   "id": "f8165daff2b65eb9"
  },
  {
   "metadata": {},
   "cell_type": "code",
   "outputs": [],
   "execution_count": null,
   "source": [
    "def slice_bananas(count):\n",
    "\n",
    "class OutOfBananas(Exception):\n",
    "    pass\n",
    "def make_smoothies(count):\n",
    "    pieces = 0\n",
    "    count = fresh_fruit.get('banana', 0)\n",
    "    if count >=2:\n",
    "        pieces = slice_bananas(count)\n",
    "    try:\n",
    "        smoothies = make_smoothies(pieces)\n",
    "    except OutOfBananas:\n",
    "        out_of_stock()"
   ],
   "id": "5eb0834e3220aac4"
  },
  {
   "metadata": {},
   "cell_type": "code",
   "outputs": [],
   "execution_count": null,
   "source": [
    "pieces = 0\n",
    "if (count := fresh_fruit.get('banana', 0)) >= 2:\n",
    "    pieces = slice_bananas(count)\n",
    "    try:\n",
    "        make_smoothies = make_smoothies(piecees)\n",
    "    exept OutOfBananas:\n",
    "    out_of_stock()"
   ],
   "id": "5a92118b2d18b458"
  },
  {
   "metadata": {},
   "cell_type": "code",
   "outputs": [],
   "execution_count": null,
   "source": [
    "count = fresh_fruit.get('banana', 0)\n",
    "if count >= 2:\n",
    "    pieces = slice_bananas(count)\n",
    "    to_enjoy = make_smoothies(pieces)\n",
    "else:\n",
    "    count = fresh_fruit.get('apple', 0)\n",
    "    if count >= 4:\n",
    "        to_enjoy = make_cider(count)\n",
    "    else:\n",
    "        count = fresh_fruit.get('lemon', 0)\n",
    "        if count:\n",
    "            to_enjoy = make_lemonade(count)\n",
    "        else:\n",
    "            to_enjoy = 'Nothing'"
   ],
   "id": "8911c81d019959b8"
  },
  {
   "metadata": {},
   "cell_type": "code",
   "outputs": [],
   "execution_count": null,
   "source": [
    "if (count := fresh_fruit.get('banana', 0)) >= 2:\n",
    "    pieces = slice_bananas(count)\n",
    "    to_enjoy =make_smoothies(pieces)\n",
    "elif (count := fresh_fruit.get('apple', 0)) >= 4:\n",
    "    to_enjoy = make_cider(count)\n",
    "elif (count := fresh_fruit.get('lemon', 0)):\n",
    "    to_enjoy = make_lemonade(count)\n",
    "else:\n",
    "    to_enjoy = 'Nothing'"
   ],
   "id": "d22df41b20d5033d"
  },
  {
   "metadata": {},
   "cell_type": "code",
   "outputs": [],
   "execution_count": null,
   "source": [
    "def pick_fruit():\n",
    "    ...\n",
    "def make_juice(fruit, count):\n",
    "    ...\n",
    "bottles = []\n",
    "fresh_fruit = pick_fruit()\n",
    "while fresh_fruit:\n",
    "    for fruit, count in fresh_fruit.items():\n",
    "        batch = make_juice(fruit, count)\n",
    "        bottles.extend(batch)\n",
    "    fresh_fruit = pick_fruit()"
   ],
   "id": "f1c81ab5773058d3"
  },
  {
   "metadata": {},
   "cell_type": "code",
   "outputs": [],
   "execution_count": null,
   "source": "a = ['a', 'b', 'c', 'd', 'e', 'f', 'g', 'h']",
   "id": "addc8283002946e7"
  },
  {
   "metadata": {},
   "cell_type": "code",
   "outputs": [],
   "execution_count": null,
   "source": [
    "b = a[3:]\n",
    "b[1] = 99\n",
    "a"
   ],
   "id": "27642ebb6b39cc1"
  },
  {
   "metadata": {},
   "cell_type": "code",
   "outputs": [],
   "execution_count": null,
   "source": "b",
   "id": "754b4a60e589f93b"
  },
  {
   "metadata": {},
   "cell_type": "code",
   "outputs": [],
   "execution_count": null,
   "source": [
    "print('Before', a)\n",
    "a[2:7] = [99, 22, 14]\n",
    "print('After', a)"
   ],
   "id": "50128eb50feb2023"
  },
  {
   "metadata": {},
   "cell_type": "code",
   "outputs": [],
   "execution_count": null,
   "source": "a[2:3] = [47, 11]",
   "id": "98d64ce6fb1751ec"
  },
  {
   "metadata": {},
   "cell_type": "code",
   "outputs": [],
   "execution_count": null,
   "source": "a",
   "id": "29777e879d0a6626"
  },
  {
   "metadata": {},
   "cell_type": "code",
   "outputs": [],
   "execution_count": null,
   "source": "b = a",
   "id": "e6647e10a7be9334"
  },
  {
   "metadata": {},
   "cell_type": "code",
   "outputs": [],
   "execution_count": null,
   "source": "b[2] = 33333",
   "id": "83f0fde9cfd1acdc"
  },
  {
   "metadata": {},
   "cell_type": "code",
   "outputs": [],
   "execution_count": null,
   "source": "a",
   "id": "138bd1a66c698fcf"
  },
  {
   "metadata": {},
   "cell_type": "code",
   "outputs": [],
   "execution_count": null,
   "source": [
    "x = ['red', 'orange', 'yellow', 'green', 'blue', 'purple']\n",
    "odds = x[::2]\n",
    "even = x[1::2]"
   ],
   "id": "6583051787f2353"
  },
  {
   "metadata": {},
   "cell_type": "code",
   "outputs": [],
   "execution_count": null,
   "source": "x = b'mongoose'\n",
   "id": "1af7922a944d03e0"
  },
  {
   "metadata": {},
   "cell_type": "code",
   "outputs": [],
   "execution_count": null,
   "source": [
    "y = x[::-1]\n",
    "print(y)"
   ],
   "id": "178af9c2a148330f"
  },
  {
   "metadata": {},
   "cell_type": "code",
   "outputs": [],
   "execution_count": null,
   "source": [
    "x = 'ᇓৌ'\n",
    "y=  x[::-1]\n",
    "y"
   ],
   "id": "45297f37efa94b0b"
  },
  {
   "metadata": {},
   "cell_type": "code",
   "outputs": [],
   "execution_count": null,
   "source": [
    "w = 'ᇓৌ'\n",
    "x = w.encode('utf-8')\n",
    "y = x[::-1]\n",
    "z = y.decode('utf-8')"
   ],
   "id": "6d6bdb24dee4d5c4"
  },
  {
   "metadata": {},
   "cell_type": "code",
   "outputs": [],
   "execution_count": null,
   "source": [
    "x = ['a', 'b', 'c', 'd', 'e', 'f', 'g', 'h']\n",
    "x[2:2:-2]"
   ],
   "id": "9dd137a56487caf"
  },
  {
   "metadata": {},
   "cell_type": "code",
   "outputs": [],
   "execution_count": null,
   "source": [
    "car_ages = [0, 9, 4, 8, 7, 20, 19, 1, 6, 15]\n",
    "car_ages_descending = sorted(car_ages, reverse=True)\n",
    "oldest = car_ages_descending[0]\n",
    "second_oldest = car_ages_descending[1]\n",
    "others = car_ages_descending[2:]\n",
    "print(oldest, second_oldest, others)"
   ],
   "id": "f6e3cfbb2a56e329"
  },
  {
   "metadata": {},
   "cell_type": "code",
   "outputs": [],
   "execution_count": null,
   "source": [
    "oldest, second_oldest, *others = car_ages_descending\n",
    "print()"
   ],
   "id": "d78e4c7c4e5a5e7f"
  },
  {
   "metadata": {},
   "cell_type": "code",
   "outputs": [],
   "execution_count": null,
   "source": [
    "oldest, *others, youngest = car_ages_descending\n",
    "print(oldest, youngest, others)"
   ],
   "id": "9d9cd53602b149f3"
  },
  {
   "metadata": {},
   "cell_type": "code",
   "outputs": [],
   "execution_count": null,
   "source": [
    "*others, second_youngest, youngest = car_ages_descending\n",
    "print(youngest, second_youngest, oldest)"
   ],
   "id": "6dd244ef5ca7c4b8"
  },
  {
   "metadata": {},
   "cell_type": "code",
   "outputs": [],
   "execution_count": null,
   "source": "*other = car_ages_descending",
   "id": "f044b61cb73a706d"
  },
  {
   "metadata": {},
   "cell_type": "code",
   "outputs": [],
   "execution_count": null,
   "source": "first, *middle, *second_middle, last = [1, 2, 3, 4]",
   "id": "6106eae656d8783c"
  },
  {
   "metadata": {},
   "cell_type": "code",
   "outputs": [],
   "execution_count": null,
   "source": "car_inventory = { 'Downtown': ('Silver Shadow', 'Pinto', 'DMC'), 'Airport': ('Skyline', 'Viper', 'Gremlin', 'Nova'), }",
   "id": "78817fc0bd491a5c"
  },
  {
   "metadata": {},
   "cell_type": "code",
   "outputs": [],
   "execution_count": null,
   "source": [
    "((loc1, (best1, *rest1)),\n",
    " (loc2, (best2, *rest2))) = car_inventory.items()\n",
    "print(f\"Best at {loc1} is {best1}, {len(rest1)} others\")"
   ],
   "id": "c01b2dbf9619b275"
  },
  {
   "metadata": {},
   "cell_type": "code",
   "outputs": [],
   "execution_count": null,
   "source": "it = iter(range(1, 3))",
   "id": "e13baf5429742985"
  },
  {
   "metadata": {},
   "cell_type": "code",
   "outputs": [],
   "execution_count": null,
   "source": "first, secnt = it",
   "id": "cb6f1327663af93f"
  },
  {
   "metadata": {},
   "cell_type": "code",
   "outputs": [],
   "execution_count": null,
   "source": "first",
   "id": "ce720cc67cd25c54"
  },
  {
   "metadata": {},
   "cell_type": "code",
   "outputs": [],
   "execution_count": null,
   "source": [
    "def generate_csv():\n",
    "    yield('Date', 'Make', 'Model', 'Year', 'Price')\n"
   ],
   "id": "7b90cb1c38dcac10"
  },
  {
   "metadata": {},
   "cell_type": "code",
   "outputs": [],
   "execution_count": null,
   "source": [
    "it = generate_csv()\n",
    "header, *rows = it\n",
    "print('CSV Header:', header)\n",
    "print('Row count', len(rows))\n"
   ],
   "id": "7fda52f5449cb009"
  },
  {
   "metadata": {},
   "cell_type": "code",
   "outputs": [],
   "execution_count": null,
   "source": [
    "numbers = [93, 86, 11, 68, 70]\n",
    "numbers.sort()\n",
    "print(numbers)"
   ],
   "id": "5354e92dfc1e201e"
  },
  {
   "metadata": {},
   "cell_type": "code",
   "outputs": [],
   "execution_count": null,
   "source": [
    "class Tool:\n",
    "    def __init__(self, name, weight):\n",
    "        self.name = name\n",
    "        self.weight = weight\n",
    "\n",
    "    def __repr__(self):\n",
    "        return f\"Tool({self.name!r}, {self.weight})\"\n",
    "\n",
    "tools = [\n",
    "    Tool('level', 3.5),\n",
    "    Tool('hammer', 1.25),\n",
    "    Tool('screwdriver', 0.5),\n",
    "    Tool('chisel', 0.25),\n",
    "    ]"
   ],
   "id": "2e0f4e216aa91698"
  },
  {
   "metadata": {},
   "cell_type": "code",
   "outputs": [],
   "execution_count": null,
   "source": [
    "print(repr(tools))\n",
    "tools.sort(key = lambda x: x.name)\n",
    "print('\\nSorted: ', tools)"
   ],
   "id": "b29bf1cfa3cbb283"
  },
  {
   "metadata": {},
   "cell_type": "code",
   "outputs": [],
   "execution_count": null,
   "source": "tools.sort(key = lambda x: x.weight)",
   "id": "ecd35b7f21154e17"
  },
  {
   "metadata": {},
   "cell_type": "code",
   "outputs": [],
   "execution_count": null,
   "source": "tools",
   "id": "9173d18074b48e35"
  },
  {
   "metadata": {},
   "cell_type": "code",
   "outputs": [],
   "execution_count": null,
   "source": [
    "places = ['home', 'work', 'New York', 'Paris']\n",
    "places.sort()\n",
    "places"
   ],
   "id": "e6ec2dc3e9a66c36"
  },
  {
   "metadata": {},
   "cell_type": "code",
   "outputs": [],
   "execution_count": null,
   "source": [
    "places.sort(key = lambda x: x.lower())\n",
    "places"
   ],
   "id": "f5701673d0d601d7"
  },
  {
   "metadata": {},
   "cell_type": "code",
   "outputs": [],
   "execution_count": null,
   "source": "power_tools = [ Tool('drill', 4), Tool('circular saw', 5), Tool('jackhammer', 40), Tool('sander', 4), ]",
   "id": "b30d176b199c28d9"
  },
  {
   "metadata": {},
   "cell_type": "code",
   "outputs": [],
   "execution_count": null,
   "source": [
    "saw = (5, 'circular saw')\n",
    "jackhammer = (40, 'jackhummer')\n",
    "assert not (jackhammer < saw)"
   ],
   "id": "5a6e0fcd163bb6b3"
  },
  {
   "metadata": {},
   "cell_type": "code",
   "outputs": [],
   "execution_count": null,
   "source": [
    "drill = (4, 'drill')\n",
    "sander = (4, 'sander')\n",
    "assert drill[0] == sander[0] # Weight\n",
    "assert drill[1] < sander[1] #Alphabet\n",
    "assert drill < sander"
   ],
   "id": "a217162617f535"
  },
  {
   "metadata": {},
   "cell_type": "code",
   "outputs": [],
   "execution_count": null,
   "source": [
    "power_tools.sort(key = lambda x: (x.weight, x.name))\n",
    "power_tools"
   ],
   "id": "9b8915c33be8d9bc"
  },
  {
   "metadata": {},
   "cell_type": "code",
   "outputs": [],
   "execution_count": null,
   "source": [
    "power_tools.sort(key = lambda x: (x.weight, x.name), reverse = True)\n",
    "power_tools"
   ],
   "id": "3060663179a153a"
  },
  {
   "metadata": {},
   "cell_type": "code",
   "outputs": [],
   "execution_count": null,
   "source": [
    "power_tools.sort(key = lambda x: (-x.weight, x.name))\n",
    "power_tools"
   ],
   "id": "57b7682b96fbba51"
  },
  {
   "metadata": {},
   "cell_type": "code",
   "outputs": [],
   "execution_count": null,
   "source": [
    "power_tools.sort(key = lambda x: (x.weight, -x.name))\n",
    "power_tools"
   ],
   "id": "16ec9b3633cee95c"
  },
  {
   "metadata": {},
   "cell_type": "code",
   "outputs": [],
   "execution_count": null,
   "source": [
    "power_tools.sort(key = lambda x: x.name, reverse = True)\n",
    "power_tools.sort(key = lambda x: x.weight)\n",
    "\n",
    "power_tools"
   ],
   "id": "cef03249534c8e2"
  },
  {
   "metadata": {},
   "cell_type": "code",
   "outputs": [],
   "execution_count": null,
   "source": [
    "baby_names = {\n",
    "    'cat':'kitten',\n",
    "    'dog':'puppy'\n",
    "}"
   ],
   "id": "3be44d5a6592347a"
  },
  {
   "metadata": {},
   "cell_type": "code",
   "outputs": [],
   "execution_count": null,
   "source": "baby_names",
   "id": "404846b57135e75d"
  },
  {
   "metadata": {},
   "cell_type": "code",
   "outputs": [],
   "execution_count": null,
   "source": "votes = { 'otter': 1281, 'polar bear': 587, 'fox': 863, }",
   "id": "51c7d06f58af8c61"
  },
  {
   "metadata": {},
   "cell_type": "code",
   "outputs": [],
   "execution_count": null,
   "source": [
    "def populate_ranks(votes, ranks):\n",
    "    names = list(votes.keys())\n",
    "    names.sort(key = votes.get, reverse = True)\n",
    "    for i, name in enumerate(names, 1):\n",
    "        ranks[name] = i\n",
    "def get_winner(ranks):\n",
    "    return next(iter(ranks))"
   ],
   "id": "14a72fc0cf709eab"
  },
  {
   "metadata": {},
   "cell_type": "code",
   "outputs": [],
   "execution_count": null,
   "source": [
    "ranks = {}\n",
    "populate_ranks(votes, ranks)\n",
    "print(ranks)\n",
    "winner = get_winner(ranks)\n",
    "print(winner)"
   ],
   "id": "12ad45a648751a64"
  },
  {
   "metadata": {},
   "cell_type": "code",
   "outputs": [],
   "execution_count": null,
   "source": [
    "from collections.abc import MutableMapping\n",
    "class SortedDict(MutableMapping):\n",
    "    def __init__(self):\n",
    "        self.data = {}\n",
    "    def __getitem__(self, key):\n",
    "        return self.data[key]\n",
    "    def __setitem__(self, key, value):\n",
    "        self.data[key] = value\n",
    "    def __delitem__(self, key):\n",
    "        del self.data[key]\n",
    "    def __iter__(self):\n",
    "        keys = list(self.data.keys())\n",
    "        keys.sort()\n",
    "        for key in keys:\n",
    "            yield key\n",
    "    def __len__(self):\n",
    "        return len(self.data)"
   ],
   "id": "26692b53d836396f"
  },
  {
   "metadata": {},
   "cell_type": "code",
   "outputs": [],
   "execution_count": null,
   "source": [
    "sorted_ranks = SortedDict()\n",
    "populate_ranks(votes, sorted_ranks)\n",
    "print(sorted_ranks.data)\n",
    "winner = get_winner(sorted_ranks)\n",
    "print(winner)"
   ],
   "id": "2be9cc974fd41830"
  },
  {
   "metadata": {},
   "cell_type": "code",
   "outputs": [],
   "execution_count": null,
   "source": [
    "def get_winner(ranks):\n",
    "    for name, rank in ranks.items():\n",
    "        if rank == 1:\n",
    "            return name\n",
    "winner = get_winner(sorted_ranks)\n",
    "winner"
   ],
   "id": "ef9d61b807cd14ca"
  },
  {
   "metadata": {},
   "cell_type": "code",
   "outputs": [],
   "execution_count": null,
   "source": [
    "def get_winner(ranks):\n",
    "    if not isinstance(ranks, dict):\n",
    "        raise TypeError('must provide a dict instance')\n",
    "    return next(iter(ranks))"
   ],
   "id": "ad502380e1d792c3"
  },
  {
   "metadata": {},
   "cell_type": "code",
   "outputs": [],
   "execution_count": null,
   "source": "get_winner(sorted_ranks)",
   "id": "7cce72e2c4e428b1"
  },
  {
   "metadata": {},
   "cell_type": "code",
   "outputs": [],
   "execution_count": null,
   "source": "",
   "id": "77fa9b1bbd317d76"
  },
  {
   "metadata": {},
   "cell_type": "code",
   "outputs": [],
   "execution_count": null,
   "source": [
    "from typing import Dict, MutableMapping\n",
    "def populate_ranks(votes: Dict[str, int],\n",
    "                   ranks: Dict[str, int]) -> None:\n",
    "    names = list(votes.keys())\n",
    "    names.sort(key = votes.get, reverse=True)\n",
    "    for i, name in enumerate(names, 1):\n",
    "        ranks[name] = i"
   ],
   "id": "58e0d6ce00abe38c"
  },
  {
   "metadata": {},
   "cell_type": "code",
   "outputs": [],
   "execution_count": null,
   "source": "",
   "id": "7f6a0b399509e911"
  },
  {
   "metadata": {},
   "cell_type": "code",
   "outputs": [],
   "execution_count": null,
   "source": [
    "def get_winner(ranks: Dict[str, int]) -> str:\n",
    "    return next(iter(ranks))\n",
    "\n",
    "class Sorted"
   ],
   "id": "c0060b6ea902daaf"
  },
  {
   "metadata": {},
   "cell_type": "code",
   "outputs": [],
   "execution_count": null,
   "source": "",
   "id": "ef708c531f3d4077"
  },
  {
   "metadata": {
    "ExecuteTime": {
     "end_time": "2025-06-30T14:50:34.054045Z",
     "start_time": "2025-06-30T14:50:33.963910Z"
    }
   },
   "cell_type": "code",
   "source": [
    "counters = { 'pumpernickel': 2, 'sourdough': 1, }\n",
    "key = 'wheat'\n",
    "if key in counters:\n",
    "    count = counters[key]\n",
    "else:\n",
    "    count = 0\n",
    "\n",
    "counters[key] = count +1\n",
    "\n",
    "counters"
   ],
   "id": "131c056fe5cfd067",
   "outputs": [
    {
     "data": {
      "text/plain": [
       "{'pumpernickel': 2, 'sourdough': 1, 'wheat': 1}"
      ]
     },
     "execution_count": 4,
     "metadata": {},
     "output_type": "execute_result"
    }
   ],
   "execution_count": 4
  },
  {
   "metadata": {
    "ExecuteTime": {
     "end_time": "2025-06-30T14:52:23.372216Z",
     "start_time": "2025-06-30T14:52:23.361703Z"
    }
   },
   "cell_type": "code",
   "source": [
    "try:\n",
    "    count = counters[key]\n",
    "except KeyError:\n",
    "    count = 0\n",
    "counters[key] = count + 1"
   ],
   "id": "30c928214ceccf32",
   "outputs": [],
   "execution_count": 5
  },
  {
   "metadata": {},
   "cell_type": "markdown",
   "source": "",
   "id": "f99f514cbe92079b"
  },
  {
   "metadata": {
    "ExecuteTime": {
     "end_time": "2025-06-30T14:52:53.378604Z",
     "start_time": "2025-06-30T14:52:53.355555Z"
    }
   },
   "cell_type": "code",
   "source": [
    "count = counters.get(key, 0)\n",
    "counters[key] = count + 1\n"
   ],
   "id": "473aca3024a56f0f",
   "outputs": [],
   "execution_count": 6
  },
  {
   "metadata": {
    "ExecuteTime": {
     "end_time": "2025-06-30T14:57:06.244600Z",
     "start_time": "2025-06-30T14:57:06.219641Z"
    }
   },
   "cell_type": "code",
   "source": [
    "votes = {\n",
    "    'baguette': ['Bob', 'Alice'],\n",
    "    'ciabatta': ['Coco', 'Deb']\n",
    "}\n",
    "key ='brioche'\n",
    "who = 'Elmer'\n",
    "\n",
    "if key in votes:\n",
    "    names = votes[key]\n",
    "else:\n",
    "    votes[key] = names = []\n",
    "names.append(who)\n",
    "print(votes)"
   ],
   "id": "6edf338596855372",
   "outputs": [
    {
     "name": "stdout",
     "output_type": "stream",
     "text": [
      "{'baguette': ['Bob', 'Alice'], 'ciabatta': ['Coco', 'Deb'], 'brioche': ['Elmer']}\n"
     ]
    }
   ],
   "execution_count": 9
  },
  {
   "metadata": {},
   "cell_type": "code",
   "outputs": [],
   "execution_count": null,
   "source": [
    "try:\n",
    "    names = votes[key]\n",
    "except KeyError:\n",
    "    votes[key] = names = []"
   ],
   "id": "416e524055c75fe4"
  },
  {
   "metadata": {
    "ExecuteTime": {
     "end_time": "2025-06-30T15:01:54.710109Z",
     "start_time": "2025-06-30T15:01:54.698141Z"
    }
   },
   "cell_type": "code",
   "source": [
    "names = votes.get(key)\n",
    "if names is None:\n",
    "    votes[key] = names = []\n",
    "names.append(who)\n",
    "names"
   ],
   "id": "aaafef7009cc2105",
   "outputs": [
    {
     "data": {
      "text/plain": [
       "['Elmer', 'Elmer', 'Elmer']"
      ]
     },
     "execution_count": 13,
     "metadata": {},
     "output_type": "execute_result"
    }
   ],
   "execution_count": 13
  },
  {
   "metadata": {
    "ExecuteTime": {
     "end_time": "2025-06-30T15:03:38.511864Z",
     "start_time": "2025-06-30T15:03:38.499626Z"
    }
   },
   "cell_type": "code",
   "source": [
    "if (names := votes.get(key)) is None:\n",
    "    votes[key] = names = []\n",
    "names.append(who)\n",
    "names"
   ],
   "id": "b9e09de7625572a7",
   "outputs": [
    {
     "data": {
      "text/plain": [
       "['Elmer', 'Elmer', 'Elmer', 'Elmer', 'Elmer']"
      ]
     },
     "execution_count": 18,
     "metadata": {},
     "output_type": "execute_result"
    }
   ],
   "execution_count": 18
  },
  {
   "metadata": {
    "ExecuteTime": {
     "end_time": "2025-06-30T15:04:30.644579Z",
     "start_time": "2025-06-30T15:04:30.638442Z"
    }
   },
   "cell_type": "code",
   "source": [
    "names = votes.setdefault(key, [])\n",
    "names.append(who)\n"
   ],
   "id": "9a78bf5914071959",
   "outputs": [],
   "execution_count": 19
  },
  {
   "metadata": {
    "ExecuteTime": {
     "end_time": "2025-06-30T15:06:32.551809Z",
     "start_time": "2025-06-30T15:06:32.542929Z"
    }
   },
   "cell_type": "code",
   "source": [
    "data = {}\n",
    "key = 'foo'\n",
    "value = []\n",
    "data.setdefault(key, value)\n",
    "print('Before ', data)\n",
    "value.append('hello')\n",
    "print('After', data)"
   ],
   "id": "a64fca1dc6626258",
   "outputs": [
    {
     "name": "stdout",
     "output_type": "stream",
     "text": [
      "Before  {'foo': []}\n",
      "After {'foo': ['hello']}\n"
     ]
    }
   ],
   "execution_count": 21
  },
  {
   "metadata": {
    "ExecuteTime": {
     "end_time": "2025-06-30T15:08:27.851844Z",
     "start_time": "2025-06-30T15:08:27.841508Z"
    }
   },
   "cell_type": "code",
   "source": [
    "count = counters.setdefault(key, 0)\n",
    "counters[key] = count + 1\n",
    "counters"
   ],
   "id": "1208ca709ac3c731",
   "outputs": [
    {
     "data": {
      "text/plain": [
       "{'pumpernickel': 2, 'sourdough': 1, 'wheat': 3, 'foo': 2}"
      ]
     },
     "execution_count": 25,
     "metadata": {},
     "output_type": "execute_result"
    }
   ],
   "execution_count": 25
  },
  {
   "metadata": {
    "ExecuteTime": {
     "end_time": "2025-06-30T15:12:35.956344Z",
     "start_time": "2025-06-30T15:12:35.950805Z"
    }
   },
   "cell_type": "code",
   "source": [
    "visits = {\n",
    "    'Mexico': {'Tulum', 'Puerto Vallarta'},\n",
    "    'Japan': {'Hakone'},\n",
    "}"
   ],
   "id": "93e347e0c86e9280",
   "outputs": [],
   "execution_count": 26
  },
  {
   "metadata": {
    "ExecuteTime": {
     "end_time": "2025-06-30T15:13:24.463356Z",
     "start_time": "2025-06-30T15:13:24.457022Z"
    }
   },
   "cell_type": "code",
   "source": "visits.setdefault('France', set()).add('Arles')\n",
   "id": "81e2627a1fdde2bf",
   "outputs": [],
   "execution_count": 27
  },
  {
   "metadata": {
    "ExecuteTime": {
     "end_time": "2025-06-30T15:15:06.713366Z",
     "start_time": "2025-06-30T15:15:06.705326Z"
    }
   },
   "cell_type": "code",
   "source": [
    "if ( japan := visits.get('Japan')) is None:\n",
    "    visits['Japan'] = japan.set()\n",
    "japan.add('Kyoto')\n",
    "\n",
    "print(visits)"
   ],
   "id": "424ec2260289c3c",
   "outputs": [
    {
     "name": "stdout",
     "output_type": "stream",
     "text": [
      "{'Mexico': {'Puerto Vallarta', 'Tulum'}, 'Japan': {'Kyoto', 'Hakone', 'Kyonti', 'Kyont'}, 'France': {'Arles'}}\n"
     ]
    }
   ],
   "execution_count": 33
  },
  {
   "metadata": {
    "ExecuteTime": {
     "end_time": "2025-06-30T15:17:53.640103Z",
     "start_time": "2025-06-30T15:17:53.626875Z"
    }
   },
   "cell_type": "code",
   "source": [
    "class Visits:\n",
    "    def __init__(self):\n",
    "        self.data = {}\n",
    "\n",
    "    def add(self, country, city):\n",
    "        city_set = self.data.setdefault(country, set())\n",
    "        city_set.add(city)\n",
    "\n",
    "visits = Visits()\n",
    "visits.add('Russia', 'Bua')\n",
    "visits.add('Tanz', \"Ben\")\n",
    "visits.data"
   ],
   "id": "aecdc294caa06174",
   "outputs": [
    {
     "data": {
      "text/plain": [
       "{'Russia': {'Bua'}, 'Tanz': {'Ben'}}"
      ]
     },
     "execution_count": 38,
     "metadata": {},
     "output_type": "execute_result"
    }
   ],
   "execution_count": 38
  },
  {
   "metadata": {
    "ExecuteTime": {
     "end_time": "2025-06-30T15:21:11.794798Z",
     "start_time": "2025-06-30T15:21:11.784498Z"
    }
   },
   "cell_type": "code",
   "source": [
    "from _collections import defaultdict\n",
    "\n",
    "class Visits:\n",
    "    def __init__(self):\n",
    "        self.data = defaultdict(set)\n",
    "\n",
    "    def add(self, country, city):\n",
    "        self.data[country].add(city)\n",
    "visits = Visits()\n",
    "visits.add('England', 'Bath')\n",
    "visits.add('England', 'London')\n",
    "visits.data\n"
   ],
   "id": "fc5973df8263ebd5",
   "outputs": [
    {
     "data": {
      "text/plain": [
       "defaultdict(set, {'England': {'Bath', 'London'}})"
      ]
     },
     "execution_count": 40,
     "metadata": {},
     "output_type": "execute_result"
    }
   ],
   "execution_count": 40
  },
  {
   "metadata": {
    "ExecuteTime": {
     "end_time": "2025-06-30T15:26:28.150379Z",
     "start_time": "2025-06-30T15:26:28.141770Z"
    }
   },
   "cell_type": "code",
   "source": [
    "pictures = {}\n",
    "path = 'path.png'\n",
    "\n",
    "if (handle := pictures.get(path)) is None:\n",
    "    try:\n",
    "        handle = open(path, 'a+b')\n",
    "    except OSError:\n",
    "        print(f\"failed to open path {path}\")\n",
    "        raise\n",
    "    else:\n",
    "        pictures[path] = handle\n",
    "handle.seek(0)\n",
    "image_data = handle.read()"
   ],
   "id": "d176f3716c97a284",
   "outputs": [],
   "execution_count": 42
  },
  {
   "metadata": {
    "ExecuteTime": {
     "end_time": "2025-06-30T15:26:32.378323Z",
     "start_time": "2025-06-30T15:26:32.368901Z"
    }
   },
   "cell_type": "code",
   "source": [
    "try:\n",
    "    handle = pictures.setdefault(path, open(path, 'a+b'))"
   ],
   "id": "7609bad587a50860",
   "outputs": [
    {
     "data": {
      "text/plain": [
       "b''"
      ]
     },
     "execution_count": 43,
     "metadata": {},
     "output_type": "execute_result"
    }
   ],
   "execution_count": 43
  },
  {
   "metadata": {
    "ExecuteTime": {
     "end_time": "2025-06-30T15:31:34.224293Z",
     "start_time": "2025-06-30T15:31:34.172240Z"
    }
   },
   "cell_type": "code",
   "source": [
    "from _collections import defaultdict\n",
    "\n",
    "def open_picture(profile_path):\n",
    "    try:\n",
    "        return open(profile_path, 'a+b')\n",
    "    except OSError:\n",
    "        print(f\"Failed to open path {profile_path}\")\n",
    "        raise\n",
    "\n",
    "pictures = defaultdict(open_picture)\n",
    "handle = pictures[path]\n",
    "handle.seek(0)\n",
    "image_data = handle.read()"
   ],
   "id": "4953ba495c5215b4",
   "outputs": [
    {
     "ename": "TypeError",
     "evalue": "open_picture() missing 1 required positional argument: 'profile_path'",
     "output_type": "error",
     "traceback": [
      "\u001B[0;31m---------------------------------------------------------------------------\u001B[0m",
      "\u001B[0;31mTypeError\u001B[0m                                 Traceback (most recent call last)",
      "Cell \u001B[0;32mIn[46], line 11\u001B[0m\n\u001B[1;32m      8\u001B[0m         \u001B[38;5;28;01mraise\u001B[39;00m\n\u001B[1;32m     10\u001B[0m pictures \u001B[38;5;241m=\u001B[39m defaultdict(open_picture)\n\u001B[0;32m---> 11\u001B[0m handle \u001B[38;5;241m=\u001B[39m \u001B[43mpictures\u001B[49m\u001B[43m[\u001B[49m\u001B[43mpath\u001B[49m\u001B[43m]\u001B[49m\n\u001B[1;32m     12\u001B[0m handle\u001B[38;5;241m.\u001B[39mseek(\u001B[38;5;241m0\u001B[39m)\n\u001B[1;32m     13\u001B[0m image_data \u001B[38;5;241m=\u001B[39m handle\u001B[38;5;241m.\u001B[39mread()  \n",
      "\u001B[0;31mTypeError\u001B[0m: open_picture() missing 1 required positional argument: 'profile_path'"
     ]
    }
   ],
   "execution_count": 46
  },
  {
   "metadata": {},
   "cell_type": "code",
   "outputs": [],
   "execution_count": null,
   "source": [
    "class Pictures(dict):\n",
    "    def __missing__(self, key):\n",
    "        value = open_picture(key)\n",
    "        self[key] = value\n",
    "        re"
   ],
   "id": "8b47b863ca606c8e"
  },
  {
   "metadata": {},
   "cell_type": "code",
   "outputs": [],
   "execution_count": null,
   "source": "",
   "id": "81c0cba5a16dee74"
  }
 ],
 "metadata": {
  "kernelspec": {
   "display_name": "Python 3",
   "language": "python",
   "name": "python3"
  },
  "language_info": {
   "codemirror_mode": {
    "name": "ipython",
    "version": 2
   },
   "file_extension": ".py",
   "mimetype": "text/x-python",
   "name": "python",
   "nbconvert_exporter": "python",
   "pygments_lexer": "ipython2",
   "version": "2.7.6"
  }
 },
 "nbformat": 4,
 "nbformat_minor": 5
}
