{
 "cells": [
  {
   "cell_type": "code",
   "id": "initial_id",
   "metadata": {
    "collapsed": true,
    "ExecuteTime": {
     "end_time": "2025-07-05T13:32:28.651838Z",
     "start_time": "2025-07-05T13:32:28.642759Z"
    }
   },
   "source": [
    "counters = {\n",
    "    'pumpernickel': 2,\n",
    "    'sourtdough': 1,\n",
    "}\n",
    "key = 'wheat'\n",
    "if key in counters:\n",
    "    count = counters[key]\n",
    "else:\n",
    "    count = 0\n",
    "counters[key] = count+ 1"
   ],
   "outputs": [
    {
     "data": {
      "text/plain": [
       "{'pumpernickel': 2, 'sourtdough': 1, 'wheat': 1}"
      ]
     },
     "execution_count": 3,
     "metadata": {},
     "output_type": "execute_result"
    }
   ],
   "execution_count": 3
  },
  {
   "metadata": {
    "ExecuteTime": {
     "end_time": "2025-07-05T13:38:14.199482Z",
     "start_time": "2025-07-05T13:38:14.194412Z"
    }
   },
   "cell_type": "code",
   "source": [
    "try:\n",
    "    count = counters[key]\n",
    "except KeyError:\n",
    "    count = count + 1\n",
    "\n",
    "count = counters.get(key, 0)\n",
    "counters[key] = count + 1\n",
    "\n",
    "votes = {\n",
    "    'baguette': ['Bob', 'Alice'],\n",
    "    'ciabatta': ['Coco', 'Deb'],\n",
    "}\n",
    "key = 'brioche'\n",
    "who = 'Elmer'\n",
    "if key in votes:\n",
    "    names = votes[key]\n",
    "else:\n",
    "    votes[key] = names = []\n",
    "names.append(who)\n",
    "print(votes)\n",
    "try:\n",
    "    names = votes[key]\n",
    "except KeyError:\n",
    "    votes[key] = names = []\n",
    "names.append(who)"
   ],
   "id": "1ede20d893dc68c1",
   "outputs": [
    {
     "name": "stdout",
     "output_type": "stream",
     "text": [
      "{'baguette': ['Bob', 'Alice'], 'ciabatta': ['Coco', 'Deb'], 'brioche': ['Elmer']}\n"
     ]
    }
   ],
   "execution_count": 7
  },
  {
   "metadata": {
    "ExecuteTime": {
     "end_time": "2025-07-05T13:39:03.022859Z",
     "start_time": "2025-07-05T13:39:03.019912Z"
    }
   },
   "cell_type": "code",
   "source": [
    "names = votes.get(key)\n",
    "if names is None:\n",
    "    votes[key] = names = []\n",
    "names.append(who)"
   ],
   "id": "e846ced5f15090a4",
   "outputs": [],
   "execution_count": 8
  },
  {
   "metadata": {
    "ExecuteTime": {
     "end_time": "2025-07-05T13:39:57.412480Z",
     "start_time": "2025-07-05T13:39:57.409104Z"
    }
   },
   "cell_type": "code",
   "source": [
    "if (names := votes.get(key)) is None:\n",
    "    votes[key] = names = []\n",
    "names.append(who)"
   ],
   "id": "bece323f9f7b587a",
   "outputs": [],
   "execution_count": 11
  },
  {
   "metadata": {
    "ExecuteTime": {
     "end_time": "2025-07-05T13:40:00.015082Z",
     "start_time": "2025-07-05T13:40:00.011026Z"
    }
   },
   "cell_type": "code",
   "source": "names",
   "id": "f8d3ebb628cc8c85",
   "outputs": [
    {
     "data": {
      "text/plain": [
       "['Elmer', 'Elmer', 'Elmer', 'Elmer']"
      ]
     },
     "execution_count": 12,
     "metadata": {},
     "output_type": "execute_result"
    }
   ],
   "execution_count": 12
  },
  {
   "metadata": {
    "ExecuteTime": {
     "end_time": "2025-07-05T13:40:32.876194Z",
     "start_time": "2025-07-05T13:40:32.873220Z"
    }
   },
   "cell_type": "code",
   "source": [
    "names = votes.setdefault(key, [])\n",
    "names.append(who)"
   ],
   "id": "5592b40b634b375f",
   "outputs": [],
   "execution_count": 14
  },
  {
   "metadata": {
    "ExecuteTime": {
     "end_time": "2025-07-05T13:40:38.211959Z",
     "start_time": "2025-07-05T13:40:38.207361Z"
    }
   },
   "cell_type": "code",
   "source": "names",
   "id": "a7b0ace83c7da017",
   "outputs": [
    {
     "data": {
      "text/plain": [
       "['Elmer', 'Elmer', 'Elmer', 'Elmer', 'Elmer']"
      ]
     },
     "execution_count": 15,
     "metadata": {},
     "output_type": "execute_result"
    }
   ],
   "execution_count": 15
  },
  {
   "metadata": {
    "ExecuteTime": {
     "end_time": "2025-07-05T13:42:28.799928Z",
     "start_time": "2025-07-05T13:42:28.796565Z"
    }
   },
   "cell_type": "code",
   "source": [
    "count = counters.setdefault(key, 0)\n",
    "counters[key] = count + 1"
   ],
   "id": "e37a21a811826dc5",
   "outputs": [],
   "execution_count": 16
  },
  {
   "metadata": {
    "ExecuteTime": {
     "end_time": "2025-07-05T13:49:30.056380Z",
     "start_time": "2025-07-05T13:49:30.052803Z"
    }
   },
   "cell_type": "code",
   "source": [
    "lengths = [63, 73, 72, 60, 67, 66, 71, 61, 72, 70]\n",
    "def get_avg_ratio(numbers):\n",
    "    average = sum(numbers) / len(numbers)\n",
    "    scaled = [x / average for x in numbers]\n",
    "    scaled.sort(reverse = True)\n",
    "    return scaled\n",
    "longest, *middle, shortest = get_avg_ratio(lengths)\n",
    "\n",
    "print(f\"Longest: {longest:>4.0%}\")\n",
    "print(f\"Shortest: {shortest:4.0%}\")\n",
    "\n",
    "def get_stats(numbers):\n",
    "    minimum = min(numbers)\n",
    "    maximum = max(numbers)\n",
    "    count = len(numbers)\n",
    "    average = sum(numbers) / count\n",
    "\n",
    "    sorted_numbers = sorted(numbers)\n",
    "    middle ="
   ],
   "id": "bba0cd577090c20e",
   "outputs": [],
   "execution_count": 21
  },
  {
   "metadata": {},
   "cell_type": "code",
   "outputs": [],
   "execution_count": null,
   "source": "",
   "id": "bf9ba289031a6dad"
  }
 ],
 "metadata": {
  "kernelspec": {
   "display_name": "Python 3",
   "language": "python",
   "name": "python3"
  },
  "language_info": {
   "codemirror_mode": {
    "name": "ipython",
    "version": 2
   },
   "file_extension": ".py",
   "mimetype": "text/x-python",
   "name": "python",
   "nbconvert_exporter": "python",
   "pygments_lexer": "ipython2",
   "version": "2.7.6"
  }
 },
 "nbformat": 4,
 "nbformat_minor": 5
}
