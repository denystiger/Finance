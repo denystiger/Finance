{
 "cells": [
  {
   "cell_type": "code",
   "id": "initial_id",
   "metadata": {
    "collapsed": true,
    "ExecuteTime": {
     "end_time": "2025-06-22T01:01:05.878911Z",
     "start_time": "2025-06-22T01:01:05.872964Z"
    }
   },
   "source": [
    "import numpy as np\n",
    "import pandas as pd\n",
    "def mpNumCoEvents(closeIdx, t1, molecule):\n",
    "    '''\n",
    "    Compute the number of concurrent events per bar\n",
    "    :param closeIdx:\n",
    "    :param molecule[-1]: last day in which return will be computed\n",
    "    :param molecule[0]: firs day\n",
    "\n",
    "    :return:\n",
    "    '''\n",
    "    t1 = t1.fillna(closeIdx[-1])\n",
    "    t1 = t1[t1 >= molecule[0] ]\n",
    "    t1 = t1.loc[:t1[molecule].max()]   # events that start at or before t1[molecule].max()\n",
    "\n",
    "    #count the evens\n",
    "    iloc = closeIdx.searchsorted(np.array([t1.index[0], t1.max()]))\n",
    "    count = pd.Series(0, index = closeIdx[iloc[0]: iloc[1]+1])\n",
    "    for tIn, tOut in t1.iteritems():\n",
    "        count.loc[tIn:tOut] += 1\n",
    "        return count.loc[molecule[0]: t1[molecule].max()]\n"
   ],
   "outputs": [],
   "execution_count": 4
  },
  {
   "metadata": {
    "ExecuteTime": {
     "end_time": "2025-06-22T01:05:25.646170Z",
     "start_time": "2025-06-22T01:05:25.642685Z"
    }
   },
   "cell_type": "code",
   "source": [
    "def mpSampleTW(t1, numCoEvents, molecule):\n",
    "    #Derive avg uniqueness over the event's lifespan\n",
    "    wght = pd.Series(index = molecule)\n",
    "    for tIn, tOut in t1.loc[wght.index].iteritems():\n",
    "        wght.loc[tIn] = (1./numCoEvents.loc[tIn:tOut]).mean()\n",
    "    return wght\n",
    "\n",
    "NumCoEvents = mp.Pandas"
   ],
   "id": "e6c11e12d69fcf61",
   "outputs": [],
   "execution_count": 6
  },
  {
   "metadata": {},
   "cell_type": "code",
   "outputs": [],
   "execution_count": null,
   "source": "mpP",
   "id": "75661b2e50ae9419"
  }
 ],
 "metadata": {
  "kernelspec": {
   "display_name": "Python 3",
   "language": "python",
   "name": "python3"
  },
  "language_info": {
   "codemirror_mode": {
    "name": "ipython",
    "version": 2
   },
   "file_extension": ".py",
   "mimetype": "text/x-python",
   "name": "python",
   "nbconvert_exporter": "python",
   "pygments_lexer": "ipython2",
   "version": "2.7.6"
  }
 },
 "nbformat": 4,
 "nbformat_minor": 5
}
