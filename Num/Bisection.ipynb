{
 "cells": [
  {
   "cell_type": "code",
   "id": "initial_id",
   "metadata": {
    "collapsed": true,
    "ExecuteTime": {
     "end_time": "2025-06-14T23:48:59.693238Z",
     "start_time": "2025-06-14T23:48:58.964922Z"
    }
   },
   "source": [
    "import numpy as np\n",
    "import matplotlib.pyplot as plt\n",
    "from sympy.printing.pretty.pretty_symbology import line_width\n",
    "\n",
    "\n",
    "def bisection(f, a, b, tol=1e-3, max_iter=100, stopping_criterion='absolute'):\n",
    "    \"\"\"\n",
    "    Perform the bisection method on f over [a, b].\n",
    "\n",
    "    Parameters:\n",
    "        f: function\n",
    "        a, b: interval endpoints\n",
    "        tol: tolerance for stopping\n",
    "        max_iter: maximum number of iterations\n",
    "        stopping_criterion: 'absolute' or 'relative'\n",
    "\n",
    "    Returns:\n",
    "        root: estimated root\n",
    "        seq: list of (a, b, midpoint) at each iteration\n",
    "    \"\"\"\n",
    "    seq = []\n",
    "    for _ in range(max_iter):\n",
    "        p = (a + b) / 2\n",
    "        seq.append((a, b, p))\n",
    "\n",
    "        fa, fp = f(a), f(p)\n",
    "        if stopping_criterion == 'absolute':\n",
    "            if abs(b - a) < tol:\n",
    "                break\n",
    "        else:  # relative\n",
    "            if abs((b - a) / p) < tol:\n",
    "                break\n",
    "\n",
    "        if fa * fp <= 0:\n",
    "            b = p\n",
    "        else:\n",
    "            a = p\n",
    "    return p, seq\n",
    "\n",
    "# Define the function\n",
    "f = lambda x: x**3 + 4*x**2 - 10\n",
    "\n",
    "# Absolute tolerance example: [1, 2], tol=0.005\n",
    "root_abs, seq_abs = bisection(f, 1.0, 2.0, tol=0.005, stopping_criterion='absolute')\n",
    "\n",
    "print('Bisection intervals tol =0.005(absolute)')\n",
    "for interval in seq_abs:\n",
    "    print(f\"[{interval[0]}, {interval[1]} -> p = {interval[2]}]\")\n",
    "print(f\"\\nEstimated root: {root_abs:.9f}\")\n",
    "\n",
    "root_rel, seq_rel = bisection(f, 1.0, 2.0, 0.005, stopping_criterion='relative')\n",
    "\n",
    "\n",
    "a, b = 1.25, 1.5\n",
    "_, seq_plot = bisection(f, a, b, tol = 0.02, max_iter = 4)\n",
    "midpoints = [p for (_, _, p) in seq_plot]\n",
    "\n",
    "x_vals = np.linspace(a, b, 100)\n",
    "y_vals = f(x_vals)\n",
    "\n",
    "\n",
    "plt.figure()\n",
    "plt.plot(x_vals, y_vals)\n",
    "plt.axhline(0, linewidth= 0.8)\n",
    "for p in midpoints:\n",
    "    plt.scatter(p, f(p))\n"
   ],
   "outputs": [
    {
     "name": "stdout",
     "output_type": "stream",
     "text": [
      "Bisection intervals tol =0.005(absolute)\n",
      "[1.0, 2.0 -> p = 1.5]\n",
      "[1.0, 1.5 -> p = 1.25]\n",
      "[1.25, 1.5 -> p = 1.375]\n",
      "[1.25, 1.375 -> p = 1.3125]\n",
      "[1.3125, 1.375 -> p = 1.34375]\n",
      "[1.34375, 1.375 -> p = 1.359375]\n",
      "[1.359375, 1.375 -> p = 1.3671875]\n",
      "[1.359375, 1.3671875 -> p = 1.36328125]\n",
      "[1.36328125, 1.3671875 -> p = 1.365234375]\n",
      "\n",
      "Estimated root: 1.365234375\n"
     ]
    },
    {
     "data": {
      "text/plain": [
       "<Figure size 640x480 with 1 Axes>"
      ],
      "image/png": "[encoded data removed]"
     },
     "metadata": {},
     "output_type": "display_data"
    }
   ],
   "execution_count": 15
  },
  {
   "metadata": {
    "ExecuteTime": {
     "end_time": "2025-06-15T00:00:05.707274Z",
     "start_time": "2025-06-15T00:00:05.702241Z"
    }
   },
   "cell_type": "code",
   "source": [
    "def f(x):\n",
    "    return 4 * (x+1)*(x -1/2)*(x-1)\n",
    "a0, b0 = -2, 1.5\n",
    "fa0, fb0 = f(a0), f(b0)\n",
    "p = (a0 + b0) / 2\n",
    "fp = f(p)\n",
    "fp * fa0"
   ],
   "id": "80c971e140ea2b9",
   "outputs": [
    {
     "data": {
      "text/plain": [
       "-84.375"
      ]
     },
     "execution_count": 25,
     "metadata": {},
     "output_type": "execute_result"
    }
   ],
   "execution_count": 25
  },
  {
   "metadata": {
    "ExecuteTime": {
     "end_time": "2025-06-15T00:18:57.507550Z",
     "start_time": "2025-06-15T00:18:57.504005Z"
    }
   },
   "cell_type": "code",
   "source": [
    "def f(x):\n",
    "    return x - 2**-x"
   ],
   "id": "b683044198f5ae06",
   "outputs": [],
   "execution_count": 26
  },
  {
   "metadata": {
    "ExecuteTime": {
     "end_time": "2025-06-15T00:22:22.664722Z",
     "start_time": "2025-06-15T00:22:22.659206Z"
    }
   },
   "cell_type": "code",
   "source": "bisection(f, 1, 2, tol = 1e-5)",
   "id": "cbb37d52d14417a1",
   "outputs": [
    {
     "data": {
      "text/plain": [
       "(1.2397117614746094,\n",
       " [(1, 2, 1.5),\n",
       "  (1, 1.5, 1.25),\n",
       "  (1, 1.25, 1.125),\n",
       "  (1.125, 1.25, 1.1875),\n",
       "  (1.1875, 1.25, 1.21875),\n",
       "  (1.21875, 1.25, 1.234375),\n",
       "  (1.234375, 1.25, 1.2421875),\n",
       "  (1.234375, 1.2421875, 1.23828125),\n",
       "  (1.23828125, 1.2421875, 1.240234375),\n",
       "  (1.23828125, 1.240234375, 1.2392578125),\n",
       "  (1.2392578125, 1.240234375, 1.23974609375),\n",
       "  (1.2392578125, 1.23974609375, 1.239501953125),\n",
       "  (1.239501953125, 1.23974609375, 1.2396240234375),\n",
       "  (1.2396240234375, 1.23974609375, 1.23968505859375),\n",
       "  (1.23968505859375, 1.23974609375, 1.239715576171875),\n",
       "  (1.23968505859375, 1.239715576171875, 1.2397003173828125),\n",
       "  (1.2397003173828125, 1.239715576171875, 1.2397079467773438),\n",
       "  (1.2397079467773438, 1.239715576171875, 1.2397117614746094)])"
      ]
     },
     "execution_count": 31,
     "metadata": {},
     "output_type": "execute_result"
    }
   ],
   "execution_count": 31
  },
  {
   "metadata": {
    "ExecuteTime": {
     "end_time": "2025-06-15T00:21:43.672056Z",
     "start_time": "2025-06-15T00:21:43.666426Z"
    }
   },
   "cell_type": "code",
   "source": [
    "a, b = 0, 1\n",
    "def f(x):\n",
    "    return 2*x + 3 * np.cos(x) - np.exp(x)\n",
    "bisection(f, a, b, tol = 1e-5)"
   ],
   "id": "7b884ba032ba36ff",
   "outputs": [
    {
     "data": {
      "text/plain": [
       "(0.9999961853027344,\n",
       " [(0, 1, 0.5),\n",
       "  (0.5, 1, 0.75),\n",
       "  (0.75, 1, 0.875),\n",
       "  (0.875, 1, 0.9375),\n",
       "  (0.9375, 1, 0.96875),\n",
       "  (0.96875, 1, 0.984375),\n",
       "  (0.984375, 1, 0.9921875),\n",
       "  (0.9921875, 1, 0.99609375),\n",
       "  (0.99609375, 1, 0.998046875),\n",
       "  (0.998046875, 1, 0.9990234375),\n",
       "  (0.9990234375, 1, 0.99951171875),\n",
       "  (0.99951171875, 1, 0.999755859375),\n",
       "  (0.999755859375, 1, 0.9998779296875),\n",
       "  (0.9998779296875, 1, 0.99993896484375),\n",
       "  (0.99993896484375, 1, 0.999969482421875),\n",
       "  (0.999969482421875, 1, 0.9999847412109375),\n",
       "  (0.9999847412109375, 1, 0.9999923706054688),\n",
       "  (0.9999923706054688, 1, 0.9999961853027344)])"
      ]
     },
     "execution_count": 30,
     "metadata": {},
     "output_type": "execute_result"
    }
   ],
   "execution_count": 30
  },
  {
   "metadata": {
    "ExecuteTime": {
     "end_time": "2025-06-15T00:27:35.559891Z",
     "start_time": "2025-06-15T00:27:35.555590Z"
    }
   },
   "cell_type": "code",
   "source": [
    "def f(x):\n",
    "    return (x + 2) * (x + 1)**2 * x * (x - 1)**3 * (x - 2)\n",
    "\n",
    "tup = ([-1.5, 2.5], [-5, 2.4], [-0.5, 3], [-3, -0.5])\n",
    "\n",
    "for interval in tup:\n",
    "    fa = f(interval[0])\n",
    "    fb = f(interval[1])\n",
    "    converge = fa * fb <= 0\n",
    "    print(converge)\n"
   ],
   "id": "7c4e78e855fb3a68",
   "outputs": [
    {
     "name": "stdout",
     "output_type": "stream",
     "text": [
      "True\n",
      "False\n",
      "True\n",
      "True\n"
     ]
    }
   ],
   "execution_count": 37
  },
  {
   "metadata": {
    "ExecuteTime": {
     "end_time": "2025-06-15T01:22:21.342223Z",
     "start_time": "2025-06-15T01:22:21.337384Z"
    }
   },
   "cell_type": "code",
   "source": [
    "V = 12.4\n",
    "L = 10\n",
    "def f(h):\n",
    "    return -V + L*(0.5*np.pi - np.arcsin(h) - h**2*(1 - h**2)**0.5)\n",
    "bisection(f, 0, 1, 1e-6, )"
   ],
   "id": "bff8dda4266678aa",
   "outputs": [
    {
     "data": {
      "text/plain": [
       "0.2616431283950805"
      ]
     },
     "execution_count": 62,
     "metadata": {},
     "output_type": "execute_result"
    }
   ],
   "execution_count": 62
  },
  {
   "metadata": {
    "ExecuteTime": {
     "end_time": "2025-06-15T01:24:34.921870Z",
     "start_time": "2025-06-15T01:24:34.916181Z"
    }
   },
   "cell_type": "code",
   "source": [
    "from scipy.integrate import solve_ivp\n",
    "\n",
    "x = 1.7\n",
    "g = 32.17\n",
    "t = 1\n",
    "def f(om):\n",
    "    return g/(2*om**2)*(np.sinh(om) - np.sin(om))\n",
    "\n",
    "om = bisection(f, -100, -0.1, 10e-5)\n",
    "om"
   ],
   "id": "f6d0bb9a28662ad7",
   "outputs": [
    {
     "data": {
      "text/plain": [
       "-0.10009527206420898"
      ]
     },
     "execution_count": 70,
     "metadata": {},
     "output_type": "execute_result"
    }
   ],
   "execution_count": 70
  },
  {
   "metadata": {
    "ExecuteTime": {
     "end_time": "2025-06-15T01:14:01.993503Z",
     "start_time": "2025-06-15T01:14:01.988084Z"
    }
   },
   "cell_type": "code",
   "source": "bisection(f, 0.0000001, 100, 10e-5)",
   "id": "b5381f9c7bbeae63",
   "outputs": [
    {
     "data": {
      "text/plain": [
       "(0.7961751022555827,\n",
       " [(1e-07, 100, 50.00000005),\n",
       "  (1e-07, 50.00000005, 25.000000075),\n",
       "  (1e-07, 25.000000075, 12.5000000875),\n",
       "  (1e-07, 12.5000000875, 6.25000009375),\n",
       "  (1e-07, 6.25000009375, 3.125000096875),\n",
       "  (1e-07, 3.125000096875, 1.5625000984375),\n",
       "  (1e-07, 1.5625000984375, 0.78125009921875),\n",
       "  (0.78125009921875, 1.5625000984375, 1.171875098828125),\n",
       "  (0.78125009921875, 1.171875098828125, 0.9765625990234374),\n",
       "  (0.78125009921875, 0.9765625990234374, 0.8789063491210938),\n",
       "  (0.78125009921875, 0.8789063491210938, 0.8300782241699218),\n",
       "  (0.78125009921875, 0.8300782241699218, 0.8056641616943359),\n",
       "  (0.78125009921875, 0.8056641616943359, 0.793457130456543),\n",
       "  (0.793457130456543, 0.8056641616943359, 0.7995606460754394),\n",
       "  (0.793457130456543, 0.7995606460754394, 0.7965088882659912),\n",
       "  (0.793457130456543, 0.7965088882659912, 0.7949830093612671),\n",
       "  (0.7949830093612671, 0.7965088882659912, 0.7957459488136291),\n",
       "  (0.7957459488136291, 0.7965088882659912, 0.7961274185398102),\n",
       "  (0.7961274185398102, 0.7965088882659912, 0.7963181534029007),\n",
       "  (0.7961274185398102, 0.7963181534029007, 0.7962227859713554),\n",
       "  (0.7961274185398102, 0.7962227859713554, 0.7961751022555827)])"
      ]
     },
     "execution_count": 52,
     "metadata": {},
     "output_type": "execute_result"
    }
   ],
   "execution_count": 52
  },
  {
   "metadata": {},
   "cell_type": "code",
   "outputs": [],
   "execution_count": null,
   "source": "",
   "id": "40fe5bda3d36438f"
  }
 ],
 "metadata": {
  "kernelspec": {
   "display_name": "Python 3",
   "language": "python",
   "name": "python3"
  },
  "language_info": {
   "codemirror_mode": {
    "name": "ipython",
    "version": 2
   },
   "file_extension": ".py",
   "mimetype": "text/x-python",
   "name": "python",
   "nbconvert_exporter": "python",
   "pygments_lexer": "ipython2",
   "version": "2.7.6"
  }
 },
 "nbformat": 4,
 "nbformat_minor": 5
}
