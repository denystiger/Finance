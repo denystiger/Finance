{
 "cells": [
  {
   "cell_type": "code",
   "id": "initial_id",
   "metadata": {
    "collapsed": true,
    "ExecuteTime": {
     "end_time": "2025-06-29T12:26:09.783081Z",
     "start_time": "2025-06-29T12:26:09.774913Z"
    }
   },
   "source": [
    "from empiricaldist import Pmf\n",
    "import numpy as np\n",
    "hypos = np.linspace(0, 1, 101)\n",
    "prior = Pmf(np.ones_like(hypos), hypos)\n"
   ],
   "outputs": [],
   "execution_count": 5
  },
  {
   "metadata": {
    "ExecuteTime": {
     "end_time": "2025-06-29T12:26:49.893794Z",
     "start_time": "2025-06-29T12:26:49.890653Z"
    }
   },
   "cell_type": "code",
   "source": [
    "likelihood_heads = hypos\n",
    "likelihood_tails = 1 - hypos"
   ],
   "id": "4a08734988983f96",
   "outputs": [],
   "execution_count": 8
  },
  {
   "metadata": {
    "ExecuteTime": {
     "end_time": "2025-06-29T12:32:56.115447Z",
     "start_time": "2025-06-29T12:32:56.031698Z"
    }
   },
   "cell_type": "code",
   "source": [
    "likelihood = {\n",
    "    'H': likelihood_heads,\n",
    "    'T': likelihood_tails\n",
    "}\n",
    "dataset = 'H' * 140 + 'T' * 110\n",
    "\n",
    "def update_euro(pmf, dataset):\n",
    "    for data in dataset:\n",
    "        for hypo in pmf.qs:\n",
    "            pmf[hypo] *= likelihood[data][hypo]\n",
    "        pmf.normalize()\n",
    "\n",
    "\n",
    "\n",
    "hypos = [6, 8, 12]\n",
    "prior = Pmf(1/3, hypos)\n",
    "posterior = prior.copy()\n",
    "update_euro(posterior,dataset)"
   ],
   "id": "90d95fa0018b65c1",
   "outputs": [],
   "execution_count": 21
  },
  {
   "metadata": {
    "ExecuteTime": {
     "end_time": "2025-06-29T12:33:10.909514Z",
     "start_time": "2025-06-29T12:33:10.904520Z"
    }
   },
   "cell_type": "code",
   "source": "unifor = Pmf(1, hypos, name = 'un')",
   "id": "c2bb240533a85ff6",
   "outputs": [
    {
     "data": {
      "text/plain": [
       "array([1.  , 0.99, 0.98, 0.97, 0.96, 0.95, 0.94, 0.93, 0.92, 0.91, 0.9 ,\n",
       "       0.89, 0.88, 0.87, 0.86, 0.85, 0.84, 0.83, 0.82, 0.81, 0.8 , 0.79,\n",
       "       0.78, 0.77, 0.76, 0.75, 0.74, 0.73, 0.72, 0.71, 0.7 , 0.69, 0.68,\n",
       "       0.67, 0.66, 0.65, 0.64, 0.63, 0.62, 0.61, 0.6 , 0.59, 0.58, 0.57,\n",
       "       0.56, 0.55, 0.54, 0.53, 0.52, 0.51, 0.5 , 0.49, 0.48, 0.47, 0.46,\n",
       "       0.45, 0.44, 0.43, 0.42, 0.41, 0.4 , 0.39, 0.38, 0.37, 0.36, 0.35,\n",
       "       0.34, 0.33, 0.32, 0.31, 0.3 , 0.29, 0.28, 0.27, 0.26, 0.25, 0.24,\n",
       "       0.23, 0.22, 0.21, 0.2 , 0.19, 0.18, 0.17, 0.16, 0.15, 0.14, 0.13,\n",
       "       0.12, 0.11, 0.1 , 0.09, 0.08, 0.07, 0.06, 0.05, 0.04, 0.03, 0.02,\n",
       "       0.01, 0.  ])"
      ]
     },
     "execution_count": 22,
     "metadata": {},
     "output_type": "execute_result"
    }
   ],
   "execution_count": 22
  },
  {
   "metadata": {
    "ExecuteTime": {
     "end_time": "2025-06-29T12:40:25.316288Z",
     "start_time": "2025-06-29T12:40:25.309946Z"
    }
   },
   "cell_type": "code",
   "source": [
    "from empiricaldist import Pmf\n",
    "import numpy as np\n",
    "\n",
    "# Create a triangular shape from 0 up to 50 and back to 0 at 100\n",
    "ramp_up = np.arange(51)       # 0 to 50\n",
    "ramp_down = np.arange(49, -1, -1)  # 49 to 0\n",
    "triangle_values = np.concatenate([ramp_up, ramp_down])  # total 100 values\n",
    "\n",
    "# Hypotheses from 0 to 100 (length 100)\n",
    "hypos = np.arange(101)\n",
    "\n",
    "# Create PMF\n",
    "triangle = Pmf(triangle_values, hypos)\n",
    "triangle.normalize()\n"
   ],
   "id": "d6ed9c0665ed0586",
   "outputs": [
    {
     "data": {
      "text/plain": [
       "2500"
      ]
     },
     "execution_count": 36,
     "metadata": {},
     "output_type": "execute_result"
    }
   ],
   "execution_count": 36
  },
  {
   "metadata": {
    "ExecuteTime": {
     "end_time": "2025-06-29T12:40:49.928716Z",
     "start_time": "2025-06-29T12:40:49.834670Z"
    }
   },
   "cell_type": "code",
   "source": "update_euro(uniform, dataset)\n",
   "id": "6f648dc55f70169f",
   "outputs": [],
   "execution_count": 37
  },
  {
   "metadata": {
    "ExecuteTime": {
     "end_time": "2025-06-29T12:40:57.620736Z",
     "start_time": "2025-06-29T12:40:57.270574Z"
    }
   },
   "cell_type": "code",
   "source": "update_euro(triangle, dataset)",
   "id": "9272735394303ff6",
   "outputs": [],
   "execution_count": 38
  },
  {
   "metadata": {
    "ExecuteTime": {
     "end_time": "2025-06-29T12:43:46.767419Z",
     "start_time": "2025-06-29T12:43:46.763354Z"
    }
   },
   "cell_type": "code",
   "source": [
    "from scipy.stats import binom\n",
    "def update_binomial(pmf, data):\n",
    "    '''Update pmf using the binomial distribution'''\n",
    "    k, n = data\n",
    "    xs = pmf.qs\n",
    "    likelihood = binom.pmf(k, n, xs)\n",
    "    pmf *= likelihood\n",
    "    pmf.normalize()"
   ],
   "id": "1fceba9256144593",
   "outputs": [],
   "execution_count": 40
  },
  {
   "metadata": {
    "ExecuteTime": {
     "end_time": "2025-06-29T12:44:29.494817Z",
     "start_time": "2025-06-29T12:44:29.487934Z"
    }
   },
   "cell_type": "code",
   "source": [
    "uniform2 = Pmf(1, hypos, name = 'uniform2')\n",
    "data = 140, 250\n",
    "update_binomial(uniform2, data)"
   ],
   "id": "859f887adb55101a",
   "outputs": [],
   "execution_count": 41
  },
  {
   "metadata": {
    "ExecuteTime": {
     "end_time": "2025-06-29T12:53:34.097458Z",
     "start_time": "2025-06-29T12:53:34.089314Z"
    }
   },
   "cell_type": "code",
   "source": [
    "import numpy as np\n",
    "from empiricaldist import Pmf\n",
    "\n",
    "hypos = np.arange(1, 1001)\n",
    "prior = Pmf(1, hypos)\n",
    "def update_train(pmf, data):\n",
    "    hypos = pmf.qs\n",
    "    likelihood = 1/ hypos\n",
    "    impossible = (data > hypos)\n",
    "    likelihood[impossible] = 0\n",
    "    pmf *= likelihood\n",
    "    pmf.normalize()\n",
    "data = 60\n",
    "posterior = prior.copy()\n",
    "update_train(posterior, data)\n",
    "\n",
    "np.sum(posterior.ps * posterior.qs)"
   ],
   "id": "6ccae4ac3a4a8f6a",
   "outputs": [
    {
     "data": {
      "text/plain": [
       "333.41989326370776"
      ]
     },
     "execution_count": 44,
     "metadata": {},
     "output_type": "execute_result"
    }
   ],
   "execution_count": 44
  },
  {
   "metadata": {
    "ExecuteTime": {
     "end_time": "2025-06-29T12:54:25.182224Z",
     "start_time": "2025-06-29T12:54:25.177538Z"
    }
   },
   "cell_type": "code",
   "source": "posterior.mean()",
   "id": "8cfd503e167edecb",
   "outputs": [
    {
     "data": {
      "text/plain": [
       "333.41989326370776"
      ]
     },
     "execution_count": 45,
     "metadata": {},
     "output_type": "execute_result"
    }
   ],
   "execution_count": 45
  },
  {
   "metadata": {
    "ExecuteTime": {
     "end_time": "2025-06-29T13:24:00.354717Z",
     "start_time": "2025-06-29T13:24:00.347213Z"
    }
   },
   "cell_type": "code",
   "source": [
    "alpha = 1.0\n",
    "ps = hypos **(-alpha)\n",
    "power = Pmf(ps, hypos, name ='power law')\n",
    "power.normalize()\n",
    "\n",
    "hypos = np.arange(1, 1001)\n",
    "uniform = Pmf(1, hypos, name = 'uniform')\n",
    "uniform.normalize()"
   ],
   "id": "cd7b5690f3cabfb7",
   "outputs": [
    {
     "data": {
      "text/plain": [
       "1000"
      ]
     },
     "execution_count": 46,
     "metadata": {},
     "output_type": "execute_result"
    }
   ],
   "execution_count": 46
  },
  {
   "metadata": {},
   "cell_type": "code",
   "outputs": [],
   "execution_count": null,
   "source": [
    "def quantile(pmf, prob):\n",
    "    total = 0\n",
    "    for q, p in pmf.items():\n",
    "        total += p\n",
    "        if total >= prob\n",
    "            return q\n",
    "        return np.nan"
   ],
   "id": "af545191e8515fe"
  },
  {
   "metadata": {},
   "cell_type": "code",
   "outputs": [],
   "execution_count": null,
   "source": [
    "import numpy as np\n",
    "from empiricaldist import Pmf\n",
    "\n",
    "hypos = np.arange(1, 1200)\n",
    "prior = Pmf(1, hypos)\n",
    "def update_train(pmf, data):\n",
    "    hypos = pmf.qs\n",
    "    likelihood = 1/ hypos\n",
    "    impossible = (data > hypos)\n",
    "    likelihood[impossible] = 0\n",
    "    pmf *= likelihood\n",
    "    pmf.normalize()\n",
    "data = 60, 60\n",
    "posterior = prior.copy()\n",
    "update_train(posterior, data)\n",
    "\n",
    "np.sum(posterior.ps * posterior.qs)"
   ],
   "id": "8efcf109ac4e8f1"
  },
  {
   "metadata": {
    "ExecuteTime": {
     "end_time": "2025-06-29T13:59:20.694122Z",
     "start_time": "2025-06-29T13:59:20.436254Z"
    }
   },
   "cell_type": "code",
   "source": [
    "import numpy as np\n",
    "from empiricaldist import Pmf\n",
    "from scipy.stats import binom\n",
    "hypos = np.arange(1, 2001)\n",
    "uniform = Pmf(1, hypos, name = 'uniform')\n",
    "\n",
    "def update_binomial(pmf, k):\n",
    "    \"\"\"Update a PMF using the binomial likelihood for one birthday observation.\"\"\"\n",
    "    xs = pmf.qs  # hypotheses: number of people\n",
    "    p = 1 / 365  # birthday probability\n",
    "    likelihood = binom.pmf(k, xs, p)  # vectorized over all hypotheses\n",
    "    pmf *= likelihood\n",
    "    pmf.normalize()\n",
    "\n",
    "\n",
    "data_points = [2, 1, 0]\n",
    "posterior = uniform.copy()\n",
    "\n",
    "for k in data_points:\n",
    "    update_binomial(posterior, k)\n",
    "\n",
    "posterior.mean(), posterior.credible_interval(0.9)\n",
    "posterior.plot(label = \"Posteriory PMF\")\n",
    "print(f\"Mean estimate: {posterior.mean():.1f}\")\n",
    "print(f\"P(n > 1200):{posterior[posterior.qs > 1200].sum():.4f}\")\n"
   ],
   "id": "5cf90152ec0b61fe",
   "outputs": [
    {
     "name": "stdout",
     "output_type": "stream",
     "text": [
      "Mean estimate: 486.2\n",
      "P(n > 1200):0.0112\n"
     ]
    },
    {
     "data": {
      "text/plain": [
       "<Figure size 640x480 with 1 Axes>"
      ],
      "image/png": "[encoded data removed]"
     },
     "metadata": {},
     "output_type": "display_data"
    }
   ],
   "execution_count": 64
  },
  {
   "metadata": {
    "ExecuteTime": {
     "end_time": "2025-06-29T14:36:37.462978Z",
     "start_time": "2025-06-29T14:36:36.997981Z"
    }
   },
   "cell_type": "code",
   "source": [
    "from empiricaldist import Pmf\n",
    "from scipy.stats import binom\n",
    "import numpy as np\n",
    "from scipy.special import comb\n",
    "from sympy import S\n",
    "from sympy.functions.combinatorial.numbers import stirling\n",
    "\n",
    "def prob_unique(q, n, N):\n",
    "    \"\"\"Compute P(q unique rabbits in n sightings | N total rabbits).\"\"\"\n",
    "    from scipy.special import comb\n",
    "    return float(stirling(n, q, kind=2)) * comb(N, q) * np.math.factorial(q) / (N**n)\n",
    "\n",
    "\n",
    "# Hypotheses: total number of rabbits (between 4 and 10)\n",
    "hypos = np.arange(4, 11)\n",
    "dist = Pmf(1, hypos, name='Uniform')\n",
    "dist.normalize()\n",
    "\n",
    "def prob_unique(q, n, N):\n",
    "    \"\"\"Compute P(q unique rabbits in n sightings | N total rabbits).\"\"\"\n",
    "    from scipy.special import comb\n",
    "    return float(stirling(n, q, kind=2)) * comb(N, q) * np.math.factorial(q) / (N**n)\n",
    "\n",
    "def update_rabbits(pmf, q, n):\n",
    "    '''Update based on q distinct rabbits observed in n sightings.'''\n",
    "    xs = pmf.qs\n",
    "    likelihood = np.array([prob_unique(q, n, N) if N >= q else 0 for N in xs])\n",
    "    pmf *= likelihood\n",
    "    pmf.normalize()\n",
    "\n",
    "update_rabbits(dist, 2, 3)"
   ],
   "id": "960104ab6ef81bc5",
   "outputs": [],
   "execution_count": 108
  },
  {
   "metadata": {
    "ExecuteTime": {
     "end_time": "2025-06-29T14:36:41.290346Z",
     "start_time": "2025-06-29T14:36:41.282875Z"
    }
   },
   "cell_type": "code",
   "source": "dist",
   "id": "b8117f425fe17106",
   "outputs": [
    {
     "data": {
      "text/plain": [
       "4     0.206730\n",
       "5     0.176410\n",
       "6     0.153134\n",
       "7     0.135008\n",
       "8     0.120593\n",
       "9     0.108895\n",
       "10    0.099231\n",
       "Name: Uniform, dtype: float64"
      ],
      "text/html": [
       "<div>\n",
       "<style scoped>\n",
       "    .dataframe tbody tr th:only-of-type {\n",
       "        vertical-align: middle;\n",
       "    }\n",
       "\n",
       "    .dataframe tbody tr th {\n",
       "        vertical-align: top;\n",
       "    }\n",
       "\n",
       "    .dataframe thead th {\n",
       "        text-align: right;\n",
       "    }\n",
       "</style>\n",
       "<table border=\"1\" class=\"dataframe\">\n",
       "  <thead>\n",
       "    <tr style=\"text-align: right;\">\n",
       "      <th></th>\n",
       "      <th>probs</th>\n",
       "    </tr>\n",
       "  </thead>\n",
       "  <tbody>\n",
       "    <tr>\n",
       "      <th>4</th>\n",
       "      <td>0.206730</td>\n",
       "    </tr>\n",
       "    <tr>\n",
       "      <th>5</th>\n",
       "      <td>0.176410</td>\n",
       "    </tr>\n",
       "    <tr>\n",
       "      <th>6</th>\n",
       "      <td>0.153134</td>\n",
       "    </tr>\n",
       "    <tr>\n",
       "      <th>7</th>\n",
       "      <td>0.135008</td>\n",
       "    </tr>\n",
       "    <tr>\n",
       "      <th>8</th>\n",
       "      <td>0.120593</td>\n",
       "    </tr>\n",
       "    <tr>\n",
       "      <th>9</th>\n",
       "      <td>0.108895</td>\n",
       "    </tr>\n",
       "    <tr>\n",
       "      <th>10</th>\n",
       "      <td>0.099231</td>\n",
       "    </tr>\n",
       "  </tbody>\n",
       "</table>\n",
       "</div>"
      ]
     },
     "execution_count": 110,
     "metadata": {},
     "output_type": "execute_result"
    }
   ],
   "execution_count": 110
  },
  {
   "metadata": {
    "ExecuteTime": {
     "end_time": "2025-06-29T14:48:06.201729Z",
     "start_time": "2025-06-29T14:48:06.194447Z"
    }
   },
   "cell_type": "code",
   "source": [
    "import numpy as np\n",
    "from empiricaldist import Pmf\n",
    "\n",
    "# 1. Actual sentence lengths and their equal prior probability\n",
    "sentences = np.array([1, 2, 3])\n",
    "prior = Pmf(1, sentences)\n",
    "prior.normalize()\n",
    "\n",
    "# 2. Construct observed distribution by weighting by sentence length (length bias)\n",
    "# P(observed) ∝ sentence_length × P(length)\n",
    "biased = prior * sentences\n",
    "biased.normalize()\n",
    "\n",
    "# 3. What's the probability the observed prisoner has a 3-year sentence?\n",
    "prob_3_years = biased[3]\n",
    "\n",
    "# 4. What's the expected remaining sentence length?\n",
    "expected_remaining = biased.mean()\n",
    "\n",
    "# Display results\n",
    "print(\"Observed distribution:\", biased)\n",
    "print(\"P(3-year sentence | observed):\", prob_3_years)\n",
    "print(\"Expected remaining sentence length:\", expected_remaining)\n"
   ],
   "id": "1bf638804029477e",
   "outputs": [
    {
     "name": "stdout",
     "output_type": "stream",
     "text": [
      "Observed distribution: 1    0.166667\n",
      "2    0.333333\n",
      "3    0.500000\n",
      "dtype: float64\n",
      "P(3-year sentence | observed): 0.5\n",
      "Expected remaining sentence length: 2.333333333333333\n"
     ]
    }
   ],
   "execution_count": 119
  },
  {
   "metadata": {
    "ExecuteTime": {
     "end_time": "2025-06-29T14:57:21.544200Z",
     "start_time": "2025-06-29T14:57:21.539672Z"
    }
   },
   "cell_type": "code",
   "source": [
    "import numpy as np\n",
    "\n",
    "# Family sizes: assume 4+ as 4.5\n",
    "children = np.array([1, 2, 3, 4.5])\n",
    "frequencies = np.array([22, 41, 24, 14])  # from 2014 data\n",
    "\n",
    "# Convert to probabilities\n",
    "prob = frequencies / frequencies.sum()\n",
    "\n",
    "# Expected number of children\n",
    "expected_children = np.sum(children * prob)\n",
    "print(f\"Expected number of children: {expected_children:.2f}\")\n"
   ],
   "id": "4945c157e4053a1",
   "outputs": [
    {
     "name": "stdout",
     "output_type": "stream",
     "text": [
      "Expected number of children: 2.37\n"
     ]
    }
   ],
   "execution_count": 124
  },
  {
   "metadata": {
    "ExecuteTime": {
     "end_time": "2025-06-29T14:57:35.444144Z",
     "start_time": "2025-06-29T14:57:35.440165Z"
    }
   },
   "cell_type": "code",
   "source": "prob",
   "id": "75c78a6f9d7bd14e",
   "outputs": [
    {
     "data": {
      "text/plain": [
       "array([0.21782178, 0.40594059, 0.23762376, 0.13861386])"
      ]
     },
     "execution_count": 125,
     "metadata": {},
     "output_type": "execute_result"
    }
   ],
   "execution_count": 125
  },
  {
   "metadata": {
    "ExecuteTime": {
     "end_time": "2025-06-29T15:03:31.949159Z",
     "start_time": "2025-06-29T15:03:31.943380Z"
    }
   },
   "cell_type": "code",
   "source": [
    "from empiricaldist import Pmf\n",
    "import numpy as np\n",
    "\n",
    "# Total possible population sizes (in billions)\n",
    "lengths = np.array([200e9, 2000e9])\n",
    "prior = Pmf(1, lengths)\n",
    "prior.normalize()\n"
   ],
   "id": "199f283b29e7f9d5",
   "outputs": [
    {
     "data": {
      "text/plain": [
       "2"
      ]
     },
     "execution_count": 141,
     "metadata": {},
     "output_type": "execute_result"
    }
   ],
   "execution_count": 141
  },
  {
   "metadata": {
    "ExecuteTime": {
     "end_time": "2025-06-29T15:03:37.044632Z",
     "start_time": "2025-06-29T15:03:37.037344Z"
    }
   },
   "cell_type": "code",
   "source": [
    "# Data: you are the 108-billionth person\n",
    "d = 108e9\n",
    "\n",
    "# Likelihood: P(d | N) = 1 / N for each hypothesis\n",
    "likelihood = 1 / lengths\n",
    "\n",
    "# Bayesian update: multiply prior by likelihood\n",
    "posterior = prior * likelihood\n",
    "posterior.normalize()\n",
    "\n",
    "# Results\n",
    "print(posterior)\n",
    "print(f\"P(short-lived civilization): {posterior[200e9]:.3f}\")\n",
    "print(f\"P(long-lived civilization):  {posterior[2000e9]:.3f}\")\n"
   ],
   "id": "6153955a52169394",
   "outputs": [
    {
     "name": "stdout",
     "output_type": "stream",
     "text": [
      "2.000000e+11    0.909091\n",
      "2.000000e+12    0.090909\n",
      "dtype: float64\n",
      "P(short-lived civilization): 0.909\n",
      "P(long-lived civilization):  0.091\n"
     ]
    }
   ],
   "execution_count": 142
  },
  {
   "metadata": {
    "ExecuteTime": {
     "end_time": "2025-06-29T15:03:19.522674Z",
     "start_time": "2025-06-29T15:03:19.515943Z"
    }
   },
   "cell_type": "code",
   "source": "posterior",
   "id": "80b751e03293f08c",
   "outputs": [
    {
     "data": {
      "text/plain": [
       "0    0.5\n",
       "1    0.5\n",
       "dtype: float64"
      ],
      "text/html": [
       "<div>\n",
       "<style scoped>\n",
       "    .dataframe tbody tr th:only-of-type {\n",
       "        vertical-align: middle;\n",
       "    }\n",
       "\n",
       "    .dataframe tbody tr th {\n",
       "        vertical-align: top;\n",
       "    }\n",
       "\n",
       "    .dataframe thead th {\n",
       "        text-align: right;\n",
       "    }\n",
       "</style>\n",
       "<table border=\"1\" class=\"dataframe\">\n",
       "  <thead>\n",
       "    <tr style=\"text-align: right;\">\n",
       "      <th></th>\n",
       "      <th>probs</th>\n",
       "    </tr>\n",
       "  </thead>\n",
       "  <tbody>\n",
       "    <tr>\n",
       "      <th>0</th>\n",
       "      <td>0.5</td>\n",
       "    </tr>\n",
       "    <tr>\n",
       "      <th>1</th>\n",
       "      <td>0.5</td>\n",
       "    </tr>\n",
       "  </tbody>\n",
       "</table>\n",
       "</div>"
      ]
     },
     "execution_count": 140,
     "metadata": {},
     "output_type": "execute_result"
    }
   ],
   "execution_count": 140
  },
  {
   "metadata": {
    "ExecuteTime": {
     "end_time": "2025-06-29T15:08:04.516991Z",
     "start_time": "2025-06-29T15:08:04.513279Z"
    }
   },
   "cell_type": "code",
   "source": [
    "def odds(p):\n",
    "    return p/ (1 - p)\n",
    "def prob(o):\n",
    "    return o / (o + 1)\n",
    "\n",
    "def prob2(yes, no):\n",
    "    return yes / (yes + no)"
   ],
   "id": "308a9d665eea4124",
   "outputs": [],
   "execution_count": 148
  },
  {
   "metadata": {
    "ExecuteTime": {
     "end_time": "2025-06-29T15:08:04.759433Z",
     "start_time": "2025-06-29T15:08:04.754475Z"
    }
   },
   "cell_type": "code",
   "source": "odds(0.9)",
   "id": "1bf68b091ea357a0",
   "outputs": [
    {
     "data": {
      "text/plain": [
       "9.000000000000002"
      ]
     },
     "execution_count": 149,
     "metadata": {},
     "output_type": "execute_result"
    }
   ],
   "execution_count": 149
  },
  {
   "metadata": {
    "ExecuteTime": {
     "end_time": "2025-06-29T15:08:05.185078Z",
     "start_time": "2025-06-29T15:08:05.180560Z"
    }
   },
   "cell_type": "code",
   "source": "prob2(3, 2)",
   "id": "f1cf4e241dff1e03",
   "outputs": [
    {
     "data": {
      "text/plain": [
       "0.6"
      ]
     },
     "execution_count": 150,
     "metadata": {},
     "output_type": "execute_result"
    }
   ],
   "execution_count": 150
  },
  {
   "metadata": {
    "ExecuteTime": {
     "end_time": "2025-06-29T15:11:14.463455Z",
     "start_time": "2025-06-29T15:11:14.458629Z"
    }
   },
   "cell_type": "code",
   "source": [
    "prior_odds = 1\n",
    "likelihood_ratio = (3/4) / (1/2)\n",
    "post_odds = prior_odds * likelihood_ratio\n",
    "post_odds\n",
    "post_prob = prob(post_odds)\n",
    "post_prob"
   ],
   "id": "6d5d1ce911ade5c5",
   "outputs": [
    {
     "data": {
      "text/plain": [
       "0.6"
      ]
     },
     "execution_count": 155,
     "metadata": {},
     "output_type": "execute_result"
    }
   ],
   "execution_count": 155
  },
  {
   "metadata": {
    "ExecuteTime": {
     "end_time": "2025-06-29T15:12:00.849262Z",
     "start_time": "2025-06-29T15:12:00.844727Z"
    }
   },
   "cell_type": "code",
   "source": [
    "likelihood_ratio = (1/4) / (1/2)\n",
    "post_odds *= likelihood_ratio\n",
    "post_odds"
   ],
   "id": "985d7757a5cf9ea5",
   "outputs": [
    {
     "data": {
      "text/plain": [
       "0.75"
      ]
     },
     "execution_count": 156,
     "metadata": {},
     "output_type": "execute_result"
    }
   ],
   "execution_count": 156
  },
  {
   "metadata": {
    "ExecuteTime": {
     "end_time": "2025-06-29T15:12:25.375614Z",
     "start_time": "2025-06-29T15:12:25.371532Z"
    }
   },
   "cell_type": "code",
   "source": [
    "post_prob = prob(post_odds)\n",
    "post_prob"
   ],
   "id": "cde2a7d7b9e7922a",
   "outputs": [
    {
     "data": {
      "text/plain": [
       "0.42857142857142855"
      ]
     },
     "execution_count": 157,
     "metadata": {},
     "output_type": "execute_result"
    }
   ],
   "execution_count": 157
  },
  {
   "metadata": {
    "ExecuteTime": {
     "end_time": "2025-07-04T11:57:42.569622Z",
     "start_time": "2025-07-04T11:57:42.566079Z"
    }
   },
   "cell_type": "code",
   "source": [
    "\n",
    "# Prob of AB blud\n",
    "like1 =0.01\n",
    "# Prob of O and AB blood\n",
    "like2 = 2* 0.6 * 0.01\n",
    "\n",
    "likelihood_ratio = like1 / like2\n",
    "prior = 0.1\n",
    "posterior = (0.1 * like1) / (like1 * 0.1 + like2 * 0.9)"
   ],
   "id": "3d2d7463f51b7d22",
   "outputs": [],
   "execution_count": 10
  },
  {
   "metadata": {
    "ExecuteTime": {
     "end_time": "2025-07-04T11:57:43.172056Z",
     "start_time": "2025-07-04T11:57:43.168330Z"
    }
   },
   "cell_type": "code",
   "source": "posterior",
   "id": "95402522f02adca",
   "outputs": [
    {
     "data": {
      "text/plain": [
       "0.0847457627118644"
      ]
     },
     "execution_count": 11,
     "metadata": {},
     "output_type": "execute_result"
    }
   ],
   "execution_count": 11
  },
  {
   "metadata": {
    "ExecuteTime": {
     "end_time": "2025-07-04T12:04:31.130876Z",
     "start_time": "2025-07-04T12:04:31.125690Z"
    }
   },
   "cell_type": "code",
   "source": [
    "import numpy as np\n",
    "from empiricaldist import Pmf\n",
    "def make_die(sides):\n",
    "    outcomes = np.arange(1, sides+1)\n",
    "    die = Pmf(1/ sides, outcomes)\n",
    "    return die\n",
    "\n",
    "die1 = make_die(6)\n",
    "die2 = make_die(6)\n",
    "def add_dist(pmf1, pmf2):\n",
    "    '''Compute dist sum'''\n",
    "    res = Pmf()\n",
    "    for q1, p1 in pmf1.items():\n",
    "        for q2, p2 in pmf2.items():\n",
    "            q = q1 + q2\n",
    "            p = p1 * p2\n",
    "            res[q] = res(q) + p\n",
    "    return res"
   ],
   "id": "55b1d9f7c75b26bf",
   "outputs": [],
   "execution_count": 23
  },
  {
   "metadata": {
    "ExecuteTime": {
     "end_time": "2025-07-04T12:04:31.728491Z",
     "start_time": "2025-07-04T12:04:31.715796Z"
    }
   },
   "cell_type": "code",
   "source": "add_dist(die1, die2)",
   "id": "71bc75a6c828d5da",
   "outputs": [
    {
     "data": {
      "text/plain": [
       "2     0.027778\n",
       "3     0.055556\n",
       "4     0.083333\n",
       "5     0.111111\n",
       "6     0.138889\n",
       "7     0.166667\n",
       "8     0.138889\n",
       "9     0.111111\n",
       "10    0.083333\n",
       "11    0.055556\n",
       "12    0.027778\n",
       "dtype: float64"
      ],
      "text/html": [
       "<div>\n",
       "<style scoped>\n",
       "    .dataframe tbody tr th:only-of-type {\n",
       "        vertical-align: middle;\n",
       "    }\n",
       "\n",
       "    .dataframe tbody tr th {\n",
       "        vertical-align: top;\n",
       "    }\n",
       "\n",
       "    .dataframe thead th {\n",
       "        text-align: right;\n",
       "    }\n",
       "</style>\n",
       "<table border=\"1\" class=\"dataframe\">\n",
       "  <thead>\n",
       "    <tr style=\"text-align: right;\">\n",
       "      <th></th>\n",
       "      <th>probs</th>\n",
       "    </tr>\n",
       "  </thead>\n",
       "  <tbody>\n",
       "    <tr>\n",
       "      <th>2</th>\n",
       "      <td>0.027778</td>\n",
       "    </tr>\n",
       "    <tr>\n",
       "      <th>3</th>\n",
       "      <td>0.055556</td>\n",
       "    </tr>\n",
       "    <tr>\n",
       "      <th>4</th>\n",
       "      <td>0.083333</td>\n",
       "    </tr>\n",
       "    <tr>\n",
       "      <th>5</th>\n",
       "      <td>0.111111</td>\n",
       "    </tr>\n",
       "    <tr>\n",
       "      <th>6</th>\n",
       "      <td>0.138889</td>\n",
       "    </tr>\n",
       "    <tr>\n",
       "      <th>7</th>\n",
       "      <td>0.166667</td>\n",
       "    </tr>\n",
       "    <tr>\n",
       "      <th>8</th>\n",
       "      <td>0.138889</td>\n",
       "    </tr>\n",
       "    <tr>\n",
       "      <th>9</th>\n",
       "      <td>0.111111</td>\n",
       "    </tr>\n",
       "    <tr>\n",
       "      <th>10</th>\n",
       "      <td>0.083333</td>\n",
       "    </tr>\n",
       "    <tr>\n",
       "      <th>11</th>\n",
       "      <td>0.055556</td>\n",
       "    </tr>\n",
       "    <tr>\n",
       "      <th>12</th>\n",
       "      <td>0.027778</td>\n",
       "    </tr>\n",
       "  </tbody>\n",
       "</table>\n",
       "</div>"
      ]
     },
     "execution_count": 24,
     "metadata": {},
     "output_type": "execute_result"
    }
   ],
   "execution_count": 24
  },
  {
   "metadata": {
    "ExecuteTime": {
     "end_time": "2025-07-04T12:06:47.544335Z",
     "start_time": "2025-07-04T12:06:47.535921Z"
    }
   },
   "cell_type": "code",
   "source": "twice = die.add_dist(die)",
   "id": "55a6ea210c3f61eb",
   "outputs": [],
   "execution_count": 25
  },
  {
   "metadata": {
    "ExecuteTime": {
     "end_time": "2025-07-04T12:07:16.113830Z",
     "start_time": "2025-07-04T12:07:16.110357Z"
    }
   },
   "cell_type": "code",
   "source": "third = die.add_dist(twice)",
   "id": "67ba4f127f8f4587",
   "outputs": [],
   "execution_count": 28
  },
  {
   "metadata": {
    "ExecuteTime": {
     "end_time": "2025-07-04T12:10:29.865760Z",
     "start_time": "2025-07-04T12:10:29.852742Z"
    }
   },
   "cell_type": "code",
   "source": [
    "def add_dist_seq(seq):\n",
    "    '''Compute PMF of the sum of values from seq'''\n",
    "    total = seq[0]\n",
    "    for other in seq[1:]:\n",
    "        total = total.add_dist(other)\n",
    "    return total\n",
    "dice = [die] * 3\n",
    "thrice = add_dist_seq(dice)\n",
    "thrice"
   ],
   "id": "896e9909a1d01329",
   "outputs": [
    {
     "data": {
      "text/plain": [
       "3     0.004630\n",
       "4     0.013889\n",
       "5     0.027778\n",
       "6     0.046296\n",
       "7     0.069444\n",
       "8     0.097222\n",
       "9     0.115741\n",
       "10    0.125000\n",
       "11    0.125000\n",
       "12    0.115741\n",
       "13    0.097222\n",
       "14    0.069444\n",
       "15    0.046296\n",
       "16    0.027778\n",
       "17    0.013889\n",
       "18    0.004630\n",
       "dtype: float64"
      ],
      "text/html": [
       "<div>\n",
       "<style scoped>\n",
       "    .dataframe tbody tr th:only-of-type {\n",
       "        vertical-align: middle;\n",
       "    }\n",
       "\n",
       "    .dataframe tbody tr th {\n",
       "        vertical-align: top;\n",
       "    }\n",
       "\n",
       "    .dataframe thead th {\n",
       "        text-align: right;\n",
       "    }\n",
       "</style>\n",
       "<table border=\"1\" class=\"dataframe\">\n",
       "  <thead>\n",
       "    <tr style=\"text-align: right;\">\n",
       "      <th></th>\n",
       "      <th>probs</th>\n",
       "    </tr>\n",
       "  </thead>\n",
       "  <tbody>\n",
       "    <tr>\n",
       "      <th>3</th>\n",
       "      <td>0.004630</td>\n",
       "    </tr>\n",
       "    <tr>\n",
       "      <th>4</th>\n",
       "      <td>0.013889</td>\n",
       "    </tr>\n",
       "    <tr>\n",
       "      <th>5</th>\n",
       "      <td>0.027778</td>\n",
       "    </tr>\n",
       "    <tr>\n",
       "      <th>6</th>\n",
       "      <td>0.046296</td>\n",
       "    </tr>\n",
       "    <tr>\n",
       "      <th>7</th>\n",
       "      <td>0.069444</td>\n",
       "    </tr>\n",
       "    <tr>\n",
       "      <th>8</th>\n",
       "      <td>0.097222</td>\n",
       "    </tr>\n",
       "    <tr>\n",
       "      <th>9</th>\n",
       "      <td>0.115741</td>\n",
       "    </tr>\n",
       "    <tr>\n",
       "      <th>10</th>\n",
       "      <td>0.125000</td>\n",
       "    </tr>\n",
       "    <tr>\n",
       "      <th>11</th>\n",
       "      <td>0.125000</td>\n",
       "    </tr>\n",
       "    <tr>\n",
       "      <th>12</th>\n",
       "      <td>0.115741</td>\n",
       "    </tr>\n",
       "    <tr>\n",
       "      <th>13</th>\n",
       "      <td>0.097222</td>\n",
       "    </tr>\n",
       "    <tr>\n",
       "      <th>14</th>\n",
       "      <td>0.069444</td>\n",
       "    </tr>\n",
       "    <tr>\n",
       "      <th>15</th>\n",
       "      <td>0.046296</td>\n",
       "    </tr>\n",
       "    <tr>\n",
       "      <th>16</th>\n",
       "      <td>0.027778</td>\n",
       "    </tr>\n",
       "    <tr>\n",
       "      <th>17</th>\n",
       "      <td>0.013889</td>\n",
       "    </tr>\n",
       "    <tr>\n",
       "      <th>18</th>\n",
       "      <td>0.004630</td>\n",
       "    </tr>\n",
       "  </tbody>\n",
       "</table>\n",
       "</div>"
      ]
     },
     "execution_count": 35,
     "metadata": {},
     "output_type": "execute_result"
    }
   ],
   "execution_count": 35
  },
  {
   "metadata": {
    "ExecuteTime": {
     "end_time": "2025-07-04T12:18:24.156765Z",
     "start_time": "2025-07-04T12:18:23.645900Z"
    }
   },
   "cell_type": "code",
   "source": [
    "from scipy.stats import binom\n",
    "# Gluten problem\n",
    "n = 35\n",
    "num_sensitive = 10\n",
    "num_insensitive = n - num_sensitive\n",
    "\n",
    "def make_binomial(n, p):\n",
    "    ks = np.arange(n+1)\n",
    "    ps = binom.pmf(ks, n, p)\n",
    "    return Pmf(ps, ks)\n",
    "\n",
    "dist_sensitive = make_binomial(num_sensitive, 0.95)\n",
    "dist_insensitive =  make_binomial(num_insensitive, 0.4)\n",
    "\n",
    "dist_total = Pmf.add_dist(dist_sensitive, dist_insensitive)\n",
    "dist_total.plot()"
   ],
   "id": "957a20be3efd8776",
   "outputs": [
    {
     "data": {
      "text/plain": [
       "<Axes: >"
      ]
     },
     "execution_count": 40,
     "metadata": {},
     "output_type": "execute_result"
    },
    {
     "data": {
      "text/plain": [
       "<Figure size 640x480 with 1 Axes>"
      ],
      "image/png": "[encoded data removed]"
     },
     "metadata": {},
     "output_type": "display_data"
    }
   ],
   "execution_count": 40
  },
  {
   "metadata": {
    "ExecuteTime": {
     "end_time": "2025-07-04T12:21:35.557966Z",
     "start_time": "2025-07-04T12:21:35.470943Z"
    }
   },
   "cell_type": "code",
   "source": [
    "import pandas as pd\n",
    "\n",
    "table = pd.DataFrame()\n",
    "for num_sensitive in range(0, n+1):\n",
    "    num_insensitive = n - num_sensitive\n",
    "    dist_sensitive = make_binomial(num_sensitive, 0.95)\n",
    "    dist_insensitive = make_binomial(num_insensitive, 0.4)\n",
    "    dist_total = Pmf.add_dist(dist_sensitive, dist_insensitive)\n",
    "    table[num_sensitive]= dist_total"
   ],
   "id": "e77d8f94a2cccaa",
   "outputs": [],
   "execution_count": 41
  },
  {
   "metadata": {
    "ExecuteTime": {
     "end_time": "2025-07-04T12:21:39.063860Z",
     "start_time": "2025-07-04T12:21:38.978267Z"
    }
   },
   "cell_type": "code",
   "source": "table",
   "id": "22a573167a9bef38",
   "outputs": [
    {
     "data": {
      "text/plain": [
       "              0             1             2             3             4   \\\n",
       "0   1.719071e-08  1.432559e-09  1.193799e-10  9.948326e-12  8.290272e-13   \n",
       "1   4.011165e-07  5.968996e-08  7.162795e-09  7.792856e-10  8.013930e-11   \n",
       "2   4.545987e-06  9.741401e-07  1.709122e-07  2.506426e-08  3.269131e-09   \n",
       "3   3.333724e-05  9.326490e-06  2.205654e-06  4.377061e-07  7.398116e-08   \n",
       "4   1.777986e-04  6.138285e-05  1.841174e-05  4.734794e-06  1.038280e-06   \n",
       "5   7.349009e-04  3.018343e-04  1.100679e-04  3.516772e-05  9.735214e-06   \n",
       "6   2.449670e-03  1.166509e-03  5.017349e-04  1.926402e-04  6.524544e-05   \n",
       "7   6.765755e-03  3.664784e-03  1.817882e-03  8.174769e-04  3.296398e-04   \n",
       "8   1.578676e-02  9.584819e-03  5.389388e-03  2.782444e-03  1.306449e-03   \n",
       "9   3.157352e-02  2.123695e-02  1.335278e-02  7.790967e-03  4.183818e-03   \n",
       "10  5.472744e-02  4.039406e-02  2.808949e-02  1.828872e-02  1.107055e-02   \n",
       "11  8.292036e-02  6.663243e-02  5.078364e-02  3.651451e-02  2.461965e-02   \n",
       "12  1.105605e-01  9.608232e-02  7.965245e-02  6.270212e-02  4.662672e-02   \n",
       "13  1.304047e-01  1.218663e-01  1.091842e-01  9.341365e-02  7.597835e-02   \n",
       "14  1.366144e-01  1.366144e-01  1.315500e-01  1.215618e-01  1.073829e-01   \n",
       "15  1.275068e-01  1.358554e-01  1.399275e-01  1.389069e-01  1.324598e-01   \n",
       "16  1.062557e-01  1.201701e-01  1.318337e-01  1.399334e-01  1.432905e-01   \n",
       "17  7.917088e-02  9.472230e-02  1.102737e-01  1.246372e-01  1.364206e-01   \n",
       "18  5.278059e-02  6.660407e-02  8.201150e-02  9.834290e-02  1.145904e-01   \n",
       "19  3.148316e-02  4.179014e-02  5.426463e-02  6.881167e-02  8.505028e-02   \n",
       "20  1.679102e-02  2.338749e-02  3.194027e-02  4.270624e-02  5.581047e-02   \n",
       "21  7.995722e-03  1.166043e-02  1.670838e-02  2.349363e-02  3.236903e-02   \n",
       "22  3.392125e-03  5.168952e-03  7.754170e-03  1.143870e-02  1.657211e-02   \n",
       "23  1.278192e-03  2.031412e-03  3.184011e-03  4.916970e-03  7.472947e-03   \n",
       "24  4.260640e-04  7.050344e-04  1.152481e-03  1.859411e-03  2.958189e-03   \n",
       "25  1.249788e-04  2.149932e-04  3.658998e-04  6.156459e-04  1.023246e-03   \n",
       "26  3.204584e-05  5.722471e-05  1.012414e-04  1.773476e-04  3.073875e-04   \n",
       "27  7.121297e-06  1.318288e-05  2.421006e-05  4.408472e-05  7.954913e-05   \n",
       "28  1.356438e-06  2.599839e-06  4.949501e-06  9.355245e-06  1.754765e-05   \n",
       "29  2.182773e-07  4.326568e-07  8.527986e-07  1.670947e-06  3.253282e-06   \n",
       "30  2.910364e-08  5.959317e-08  1.214736e-07  2.464229e-07  4.973457e-07   \n",
       "31  3.129424e-09  6.612770e-09  1.392448e-08  2.921173e-08  6.104006e-08   \n",
       "32  2.607853e-10  5.681394e-10  1.234576e-09  2.675493e-09  5.781488e-09   \n",
       "33  1.580517e-11  3.546755e-11  7.945935e-11  1.777041e-10  3.966808e-10   \n",
       "34  6.198106e-13  1.431467e-12  3.303351e-12  7.616545e-12  1.754563e-11   \n",
       "35  1.180592e-14  2.803905e-14  6.659275e-14  1.581578e-13  3.756247e-13   \n",
       "\n",
       "              5             6             7             8             9   ...  \\\n",
       "0   6.908560e-14  5.757133e-15  4.797611e-16  3.998009e-17  3.331674e-18  ...   \n",
       "1   7.944844e-12  7.676178e-13  7.276377e-14  6.796616e-15  6.274653e-16  ...   \n",
       "2   3.940182e-10  4.490244e-11  4.908756e-12  5.197412e-13  5.365476e-14  ...   \n",
       "3   1.107854e-08  1.517139e-09  1.942513e-10  2.361331e-11  2.754929e-12  ...   \n",
       "4   1.962745e-07  3.288580e-08  5.013120e-09  7.095823e-10  9.468298e-11  ...   \n",
       "5   2.324362e-06  4.825409e-07  8.893885e-08  1.487596e-08  2.300046e-09  ...   \n",
       "6   1.930163e-05  4.967015e-06  1.118648e-06  2.241232e-07  4.069717e-08  ...   \n",
       "7   1.179075e-04  3.707520e-05  1.020827e-05  2.472467e-06  5.337693e-07  ...   \n",
       "8   5.521955e-04  2.079864e-04  6.922909e-05  2.028388e-05  5.249217e-06  ...   \n",
       "9   2.049065e-03  9.064073e-04  3.586930e-04  1.259812e-04  3.911510e-05  ...   \n",
       "10  6.180880e-03  3.155155e-03  1.458946e-03  6.055219e-04  2.238537e-04  ...   \n",
       "11  1.545941e-02  8.971242e-03  4.770635e-03  2.303869e-03  1.001496e-03  ...   \n",
       "12  3.256040e-02  2.120994e-02  1.279154e-02  7.083554e-03  3.570425e-03  ...   \n",
       "13  5.845023e-02  4.228486e-02  2.857846e-02  1.791244e-02  1.032805e-02  ...   \n",
       "14  9.028081e-02  7.187970e-02  5.388870e-02  3.779833e-02  2.462586e-02  ...   \n",
       "15  1.208740e-01  1.050976e-01  8.664186e-02  6.734505e-02  4.904220e-02  ...   \n",
       "16  1.410862e-01  1.330759e-01  1.197330e-01  1.022640e-01  8.245686e-02  ...   \n",
       "17  1.441875e-01  1.466849e-01  1.431052e-01  1.333267e-01  1.180573e-01  ...   \n",
       "18  1.294234e-01  1.412923e-01  1.486220e-01  1.500839e-01  1.449028e-01  ...   \n",
       "19  1.022401e-01  1.192456e-01  1.345686e-01  1.464763e-01  1.532374e-01  ...   \n",
       "20  7.115376e-02  8.831256e-02  1.064525e-01  1.242871e-01  1.401197e-01  ...   \n",
       "21  4.362816e-02  5.742077e-02  7.364496e-02  9.182879e-02  1.110271e-01  ...   \n",
       "22  2.354654e-02  3.275962e-02  4.454954e-02  5.909779e-02  7.630230e-02  ...   \n",
       "23  1.116424e-02  1.637262e-02  2.353408e-02  3.309943e-02  4.546158e-02  ...   \n",
       "24  4.635858e-03  7.147947e-03  1.082959e-02  1.609848e-02  2.344125e-02  ...   \n",
       "25  1.678497e-03  2.714686e-03  4.324079e-03  6.774871e-03  1.042633e-02  ...   \n",
       "26  5.267573e-04  8.917263e-04  1.489843e-03  2.454032e-03  3.980492e-03  ...   \n",
       "27  1.421545e-04  2.513943e-04  4.396207e-04  7.595322e-04  1.295184e-03  ...   \n",
       "28  3.264546e-05  6.020213e-05  1.099774e-04  1.988760e-04  3.557099e-04  ...   \n",
       "29  6.291248e-06  1.207816e-05  2.300829e-05  4.346425e-05  8.136908e-05  ...   \n",
       "30  9.983106e-07  1.992228e-06  3.950914e-06  7.782866e-06  1.522091e-05  ...   \n",
       "31  1.270103e-07  2.630903e-07  5.423435e-07  1.112231e-06  2.268282e-06  ...   \n",
       "32  1.245501e-08  2.674410e-08  5.722594e-08  1.219917e-07  2.590112e-07  ...   \n",
       "33  8.837405e-10  1.964679e-09  4.357916e-09  9.643122e-09  2.128292e-08  ...   \n",
       "34  4.037966e-11  9.283506e-11  2.132000e-10  4.890524e-10  1.120418e-09  ...   \n",
       "35  8.921087e-13  2.118758e-12  5.032051e-12  1.195112e-11  2.838391e-11  ...   \n",
       "\n",
       "              26            27            28            29            30  \\\n",
       "0   1.501694e-36  1.251411e-37  1.042843e-38  8.690357e-40  7.241964e-41   \n",
       "1   7.508469e-34  6.486483e-35  5.596590e-36  4.823148e-37  4.152060e-38   \n",
       "2   1.806613e-31  1.620070e-32  1.449030e-33  1.292922e-34  1.151034e-35   \n",
       "3   2.784933e-29  2.596024e-30  2.410204e-31  2.229314e-32  2.054801e-33   \n",
       "4   3.089268e-27  2.998031e-28  2.893328e-29  2.777860e-30  2.654159e-31   \n",
       "5   2.625799e-25  2.657313e-26  2.669827e-27  2.664447e-28  2.642506e-29   \n",
       "6   1.778044e-23  1.879740e-24  1.969392e-25  2.046120e-26  2.109354e-27   \n",
       "7   9.845585e-22  1.089458e-22  1.192377e-23  1.291828e-24  1.386430e-25   \n",
       "8   4.540872e-20  5.270313e-21  6.037411e-22  6.832985e-23  7.647119e-24   \n",
       "9   1.767694e-18  2.156914e-19  2.591645e-20  3.070074e-21  3.589304e-22   \n",
       "10  5.864948e-17  7.542511e-18  9.527763e-19  1.183857e-19  1.448714e-20   \n",
       "11  1.670228e-15  2.270190e-16  3.022537e-17  3.948420e-18  5.068209e-19   \n",
       "12  4.103002e-14  5.912350e-15  8.319923e-16  1.145573e-16  1.546022e-17   \n",
       "13  8.722827e-13  1.337129e-13  1.994930e-14  2.903391e-15  4.130247e-16   \n",
       "14  1.607722e-11  2.631741e-12  4.177242e-13  6.446115e-14  9.693448e-15   \n",
       "15  2.570062e-10  4.511829e-11  7.648298e-12  1.255781e-12  2.002496e-13   \n",
       "16  3.560175e-09  6.735289e-10  1.224658e-10  2.147810e-11  3.644662e-12   \n",
       "17  4.264279e-08  8.741491e-09  1.713234e-09  3.223550e-10  5.844014e-11   \n",
       "18  4.400725e-07  9.836279e-08  2.089544e-08  4.239004e-09  8.246857e-10   \n",
       "19  3.893323e-06  9.556498e-07  2.214483e-07  4.871246e-08  1.022134e-08   \n",
       "20  2.933094e-05  7.971573e-06  2.029778e-06  4.872996e-07  1.109221e-07   \n",
       "21  1.865562e-04  5.667262e-05  1.599119e-05  4.221547e-06  1.049405e-06   \n",
       "22  9.910576e-04  3.401870e-04  1.074198e-04  3.145667e-05  8.605902e-06   \n",
       "23  4.339732e-03  1.704027e-03  6.090186e-04  1.998617e-04  6.072426e-05   \n",
       "24  1.541895e-02  7.020136e-03  2.877042e-03  1.070792e-03  3.651975e-04   \n",
       "25  4.365479e-02  2.337114e-02  1.114478e-02  4.770188e-03  1.849471e-03   \n",
       "26  9.662166e-02  6.159113e-02  3.470704e-02  1.735803e-02  7.766320e-03   \n",
       "27  1.642430e-01  1.256105e-01  8.484880e-02  5.045153e-02  2.651030e-02   \n",
       "28  2.115477e-01  1.939401e-01  1.584790e-01  1.139162e-01  7.170107e-02   \n",
       "29  2.043061e-01  2.226826e-01  2.199760e-01  1.933124e-01  1.486759e-01   \n",
       "30  1.462568e-01  1.872176e-01  2.215316e-01  2.378815e-01  2.267841e-01   \n",
       "31  7.626296e-02  1.131167e-01  1.581665e-01  2.053512e-01  2.425689e-01   \n",
       "32  2.810700e-02  4.768077e-02  7.763056e-02  1.199987e-01  1.734268e-01   \n",
       "33  6.933854e-03  1.329340e-02  2.484864e-02  4.498663e-02  7.812899e-02   \n",
       "34  1.027114e-03  2.201932e-03  4.665613e-03  9.741389e-03  1.995463e-02   \n",
       "35  6.908021e-05  1.640655e-04  3.896556e-04  9.254320e-04  2.197901e-03   \n",
       "\n",
       "              31            32            33            34            35  \n",
       "0   6.034970e-42  5.029142e-43  4.190952e-44  3.492460e-45  2.910383e-46  \n",
       "1   3.570691e-39  3.067777e-40  2.633315e-41  2.258457e-42  1.935405e-43  \n",
       "2   1.022555e-36  9.066202e-38  8.023344e-39  7.088005e-40  6.251357e-41  \n",
       "3   1.887764e-34  1.728997e-35  1.579030e-36  1.438169e-37  1.306534e-38  \n",
       "4   2.524558e-32  2.391168e-33  2.255871e-34  2.120317e-35  1.985931e-36  \n",
       "5   2.605500e-30  2.555030e-31  2.492754e-32  2.420339e-33  2.339427e-34  \n",
       "6   2.158822e-28  2.194522e-29  2.216697e-30  2.225798e-31  2.222456e-32  \n",
       "7   1.474947e-26  1.556306e-27  1.629609e-28  1.694146e-29  1.749390e-30  \n",
       "8   8.469449e-25  9.289453e-26  1.009672e-26  1.088121e-27  1.163344e-28  \n",
       "9   4.145417e-23  4.733581e-24  5.348169e-25  5.982914e-26  6.631063e-27  \n",
       "10  1.747932e-21  2.081410e-22  2.448338e-23  2.847189e-24  3.275745e-25  \n",
       "11  6.400776e-20  7.962778e-21  9.767992e-22  1.182672e-22  1.414526e-23  \n",
       "12  2.048146e-18  2.667160e-19  3.418286e-20  4.316326e-21  5.375200e-22  \n",
       "13  5.753198e-17  7.859420e-18  1.054463e-18  1.391173e-19  1.806894e-20  \n",
       "14  1.423389e-15  2.044684e-16  2.878014e-17  3.975167e-18  5.394870e-19  \n",
       "15  3.108650e-14  4.707928e-15  6.968822e-16  1.009920e-16  1.435035e-17  \n",
       "16  6.000593e-13  9.608662e-14  1.499685e-14  2.285806e-15  3.408209e-16  \n",
       "17  1.024069e-11  1.739427e-12  2.870915e-13  4.614543e-14  7.237432e-15  \n",
       "18  1.544269e-10  2.792371e-11  4.889674e-12  8.312707e-13  1.375112e-13  \n",
       "19  2.054579e-09  3.971084e-10  7.404513e-11  1.335823e-11  2.337690e-12  \n",
       "20  2.405758e-08  4.993143e-09  9.954868e-10  1.912899e-10  3.553289e-11  \n",
       "21  2.470388e-07  5.534897e-08  1.185457e-08  2.436541e-09  4.822321e-10  \n",
       "22  2.214024e-06  5.387474e-07  1.246284e-07  2.753107e-08  5.830625e-09  \n",
       "23  1.721035e-05  4.580569e-06  1.151645e-06  2.749448e-07  6.261584e-08  \n",
       "24  1.151063e-04  3.378820e-05  9.300488e-06  2.415183e-06  5.948505e-07  \n",
       "25  6.556145e-04  2.143607e-04  6.516106e-05  1.854574e-05  4.972950e-06  \n",
       "26  3.138446e-03  1.156686e-03  3.923543e-04  1.235040e-04  3.634079e-05  \n",
       "27  1.241357e-02  5.232546e-03  2.005896e-03  7.060496e-04  2.301583e-04  \n",
       "28  3.967402e-02  1.947262e-02  8.570319e-03  3.419495e-03  1.249431e-03  \n",
       "29  9.946700e-02  5.812437e-02  2.996180e-02  1.378682e-02  5.730149e-03  \n",
       "30  1.879909e-01  1.344057e-01  8.325620e-02  4.518632e-02  2.177457e-02  \n",
       "31  2.539616e-01  2.292118e-01  1.764060e-01  1.163986e-01  6.672851e-02  \n",
       "32  2.292118e-01  2.683990e-01  2.676814e-01  2.240171e-01  1.584802e-01  \n",
       "33  1.282952e-01  1.946774e-01  2.627339e-01  2.963786e-01  2.737385e-01  \n",
       "34  3.983695e-02  7.666897e-02  1.394723e-01  2.300324e-01  3.059431e-01  \n",
       "35  5.220015e-03  1.239754e-02  2.944415e-02  6.992985e-02  1.660834e-01  \n",
       "\n",
       "[36 rows x 36 columns]"
      ],
      "text/html": [
       "<div>\n",
       "<style scoped>\n",
       "    .dataframe tbody tr th:only-of-type {\n",
       "        vertical-align: middle;\n",
       "    }\n",
       "\n",
       "    .dataframe tbody tr th {\n",
       "        vertical-align: top;\n",
       "    }\n",
       "\n",
       "    .dataframe thead th {\n",
       "        text-align: right;\n",
       "    }\n",
       "</style>\n",
       "<table border=\"1\" class=\"dataframe\">\n",
       "  <thead>\n",
       "    <tr style=\"text-align: right;\">\n",
       "      <th></th>\n",
       "      <th>0</th>\n",
       "      <th>1</th>\n",
       "      <th>2</th>\n",
       "      <th>3</th>\n",
       "      <th>4</th>\n",
       "      <th>5</th>\n",
       "      <th>6</th>\n",
       "      <th>7</th>\n",
       "      <th>8</th>\n",
       "      <th>9</th>\n",
       "      <th>...</th>\n",
       "      <th>26</th>\n",
       "      <th>27</th>\n",
       "      <th>28</th>\n",
       "      <th>29</th>\n",
       "      <th>30</th>\n",
       "      <th>31</th>\n",
       "      <th>32</th>\n",
       "      <th>33</th>\n",
       "      <th>34</th>\n",
       "      <th>35</th>\n",
       "    </tr>\n",
       "  </thead>\n",
       "  <tbody>\n",
       "    <tr>\n",
       "      <th>0</th>\n",
       "      <td>1.719071e-08</td>\n",
       "      <td>1.432559e-09</td>\n",
       "      <td>1.193799e-10</td>\n",
       "      <td>9.948326e-12</td>\n",
       "      <td>8.290272e-13</td>\n",
       "      <td>6.908560e-14</td>\n",
       "      <td>5.757133e-15</td>\n",
       "      <td>4.797611e-16</td>\n",
       "      <td>3.998009e-17</td>\n",
       "      <td>3.331674e-18</td>\n",
       "      <td>...</td>\n",
       "      <td>1.501694e-36</td>\n",
       "      <td>1.251411e-37</td>\n",
       "      <td>1.042843e-38</td>\n",
       "      <td>8.690357e-40</td>\n",
       "      <td>7.241964e-41</td>\n",
       "      <td>6.034970e-42</td>\n",
       "      <td>5.029142e-43</td>\n",
       "      <td>4.190952e-44</td>\n",
       "      <td>3.492460e-45</td>\n",
       "      <td>2.910383e-46</td>\n",
       "    </tr>\n",
       "    <tr>\n",
       "      <th>1</th>\n",
       "      <td>4.011165e-07</td>\n",
       "      <td>5.968996e-08</td>\n",
       "      <td>7.162795e-09</td>\n",
       "      <td>7.792856e-10</td>\n",
       "      <td>8.013930e-11</td>\n",
       "      <td>7.944844e-12</td>\n",
       "      <td>7.676178e-13</td>\n",
       "      <td>7.276377e-14</td>\n",
       "      <td>6.796616e-15</td>\n",
       "      <td>6.274653e-16</td>\n",
       "      <td>...</td>\n",
       "      <td>7.508469e-34</td>\n",
       "      <td>6.486483e-35</td>\n",
       "      <td>5.596590e-36</td>\n",
       "      <td>4.823148e-37</td>\n",
       "      <td>4.152060e-38</td>\n",
       "      <td>3.570691e-39</td>\n",
       "      <td>3.067777e-40</td>\n",
       "      <td>2.633315e-41</td>\n",
       "      <td>2.258457e-42</td>\n",
       "      <td>1.935405e-43</td>\n",
       "    </tr>\n",
       "    <tr>\n",
       "      <th>2</th>\n",
       "      <td>4.545987e-06</td>\n",
       "      <td>9.741401e-07</td>\n",
       "      <td>1.709122e-07</td>\n",
       "      <td>2.506426e-08</td>\n",
       "      <td>3.269131e-09</td>\n",
       "      <td>3.940182e-10</td>\n",
       "      <td>4.490244e-11</td>\n",
       "      <td>4.908756e-12</td>\n",
       "      <td>5.197412e-13</td>\n",
       "      <td>5.365476e-14</td>\n",
       "      <td>...</td>\n",
       "      <td>1.806613e-31</td>\n",
       "      <td>1.620070e-32</td>\n",
       "      <td>1.449030e-33</td>\n",
       "      <td>1.292922e-34</td>\n",
       "      <td>1.151034e-35</td>\n",
       "      <td>1.022555e-36</td>\n",
       "      <td>9.066202e-38</td>\n",
       "      <td>8.023344e-39</td>\n",
       "      <td>7.088005e-40</td>\n",
       "      <td>6.251357e-41</td>\n",
       "    </tr>\n",
       "    <tr>\n",
       "      <th>3</th>\n",
       "      <td>3.333724e-05</td>\n",
       "      <td>9.326490e-06</td>\n",
       "      <td>2.205654e-06</td>\n",
       "      <td>4.377061e-07</td>\n",
       "      <td>7.398116e-08</td>\n",
       "      <td>1.107854e-08</td>\n",
       "      <td>1.517139e-09</td>\n",
       "      <td>1.942513e-10</td>\n",
       "      <td>2.361331e-11</td>\n",
       "      <td>2.754929e-12</td>\n",
       "      <td>...</td>\n",
       "      <td>2.784933e-29</td>\n",
       "      <td>2.596024e-30</td>\n",
       "      <td>2.410204e-31</td>\n",
       "      <td>2.229314e-32</td>\n",
       "      <td>2.054801e-33</td>\n",
       "      <td>1.887764e-34</td>\n",
       "      <td>1.728997e-35</td>\n",
       "      <td>1.579030e-36</td>\n",
       "      <td>1.438169e-37</td>\n",
       "      <td>1.306534e-38</td>\n",
       "    </tr>\n",
       "    <tr>\n",
       "      <th>4</th>\n",
       "      <td>1.777986e-04</td>\n",
       "      <td>6.138285e-05</td>\n",
       "      <td>1.841174e-05</td>\n",
       "      <td>4.734794e-06</td>\n",
       "      <td>1.038280e-06</td>\n",
       "      <td>1.962745e-07</td>\n",
       "      <td>3.288580e-08</td>\n",
       "      <td>5.013120e-09</td>\n",
       "      <td>7.095823e-10</td>\n",
       "      <td>9.468298e-11</td>\n",
       "      <td>...</td>\n",
       "      <td>3.089268e-27</td>\n",
       "      <td>2.998031e-28</td>\n",
       "      <td>2.893328e-29</td>\n",
       "      <td>2.777860e-30</td>\n",
       "      <td>2.654159e-31</td>\n",
       "      <td>2.524558e-32</td>\n",
       "      <td>2.391168e-33</td>\n",
       "      <td>2.255871e-34</td>\n",
       "      <td>2.120317e-35</td>\n",
       "      <td>1.985931e-36</td>\n",
       "    </tr>\n",
       "    <tr>\n",
       "      <th>5</th>\n",
       "      <td>7.349009e-04</td>\n",
       "      <td>3.018343e-04</td>\n",
       "      <td>1.100679e-04</td>\n",
       "      <td>3.516772e-05</td>\n",
       "      <td>9.735214e-06</td>\n",
       "      <td>2.324362e-06</td>\n",
       "      <td>4.825409e-07</td>\n",
       "      <td>8.893885e-08</td>\n",
       "      <td>1.487596e-08</td>\n",
       "      <td>2.300046e-09</td>\n",
       "      <td>...</td>\n",
       "      <td>2.625799e-25</td>\n",
       "      <td>2.657313e-26</td>\n",
       "      <td>2.669827e-27</td>\n",
       "      <td>2.664447e-28</td>\n",
       "      <td>2.642506e-29</td>\n",
       "      <td>2.605500e-30</td>\n",
       "      <td>2.555030e-31</td>\n",
       "      <td>2.492754e-32</td>\n",
       "      <td>2.420339e-33</td>\n",
       "      <td>2.339427e-34</td>\n",
       "    </tr>\n",
       "    <tr>\n",
       "      <th>6</th>\n",
       "      <td>2.449670e-03</td>\n",
       "      <td>1.166509e-03</td>\n",
       "      <td>5.017349e-04</td>\n",
       "      <td>1.926402e-04</td>\n",
       "      <td>6.524544e-05</td>\n",
       "      <td>1.930163e-05</td>\n",
       "      <td>4.967015e-06</td>\n",
       "      <td>1.118648e-06</td>\n",
       "      <td>2.241232e-07</td>\n",
       "      <td>4.069717e-08</td>\n",
       "      <td>...</td>\n",
       "      <td>1.778044e-23</td>\n",
       "      <td>1.879740e-24</td>\n",
       "      <td>1.969392e-25</td>\n",
       "      <td>2.046120e-26</td>\n",
       "      <td>2.109354e-27</td>\n",
       "      <td>2.158822e-28</td>\n",
       "      <td>2.194522e-29</td>\n",
       "      <td>2.216697e-30</td>\n",
       "      <td>2.225798e-31</td>\n",
       "      <td>2.222456e-32</td>\n",
       "    </tr>\n",
       "    <tr>\n",
       "      <th>7</th>\n",
       "      <td>6.765755e-03</td>\n",
       "      <td>3.664784e-03</td>\n",
       "      <td>1.817882e-03</td>\n",
       "      <td>8.174769e-04</td>\n",
       "      <td>3.296398e-04</td>\n",
       "      <td>1.179075e-04</td>\n",
       "      <td>3.707520e-05</td>\n",
       "      <td>1.020827e-05</td>\n",
       "      <td>2.472467e-06</td>\n",
       "      <td>5.337693e-07</td>\n",
       "      <td>...</td>\n",
       "      <td>9.845585e-22</td>\n",
       "      <td>1.089458e-22</td>\n",
       "      <td>1.192377e-23</td>\n",
       "      <td>1.291828e-24</td>\n",
       "      <td>1.386430e-25</td>\n",
       "      <td>1.474947e-26</td>\n",
       "      <td>1.556306e-27</td>\n",
       "      <td>1.629609e-28</td>\n",
       "      <td>1.694146e-29</td>\n",
       "      <td>1.749390e-30</td>\n",
       "    </tr>\n",
       "    <tr>\n",
       "      <th>8</th>\n",
       "      <td>1.578676e-02</td>\n",
       "      <td>9.584819e-03</td>\n",
       "      <td>5.389388e-03</td>\n",
       "      <td>2.782444e-03</td>\n",
       "      <td>1.306449e-03</td>\n",
       "      <td>5.521955e-04</td>\n",
       "      <td>2.079864e-04</td>\n",
       "      <td>6.922909e-05</td>\n",
       "      <td>2.028388e-05</td>\n",
       "      <td>5.249217e-06</td>\n",
       "      <td>...</td>\n",
       "      <td>4.540872e-20</td>\n",
       "      <td>5.270313e-21</td>\n",
       "      <td>6.037411e-22</td>\n",
       "      <td>6.832985e-23</td>\n",
       "      <td>7.647119e-24</td>\n",
       "      <td>8.469449e-25</td>\n",
       "      <td>9.289453e-26</td>\n",
       "      <td>1.009672e-26</td>\n",
       "      <td>1.088121e-27</td>\n",
       "      <td>1.163344e-28</td>\n",
       "    </tr>\n",
       "    <tr>\n",
       "      <th>9</th>\n",
       "      <td>3.157352e-02</td>\n",
       "      <td>2.123695e-02</td>\n",
       "      <td>1.335278e-02</td>\n",
       "      <td>7.790967e-03</td>\n",
       "      <td>4.183818e-03</td>\n",
       "      <td>2.049065e-03</td>\n",
       "      <td>9.064073e-04</td>\n",
       "      <td>3.586930e-04</td>\n",
       "      <td>1.259812e-04</td>\n",
       "      <td>3.911510e-05</td>\n",
       "      <td>...</td>\n",
       "      <td>1.767694e-18</td>\n",
       "      <td>2.156914e-19</td>\n",
       "      <td>2.591645e-20</td>\n",
       "      <td>3.070074e-21</td>\n",
       "      <td>3.589304e-22</td>\n",
       "      <td>4.145417e-23</td>\n",
       "      <td>4.733581e-24</td>\n",
       "      <td>5.348169e-25</td>\n",
       "      <td>5.982914e-26</td>\n",
       "      <td>6.631063e-27</td>\n",
       "    </tr>\n",
       "    <tr>\n",
       "      <th>10</th>\n",
       "      <td>5.472744e-02</td>\n",
       "      <td>4.039406e-02</td>\n",
       "      <td>2.808949e-02</td>\n",
       "      <td>1.828872e-02</td>\n",
       "      <td>1.107055e-02</td>\n",
       "      <td>6.180880e-03</td>\n",
       "      <td>3.155155e-03</td>\n",
       "      <td>1.458946e-03</td>\n",
       "      <td>6.055219e-04</td>\n",
       "      <td>2.238537e-04</td>\n",
       "      <td>...</td>\n",
       "      <td>5.864948e-17</td>\n",
       "      <td>7.542511e-18</td>\n",
       "      <td>9.527763e-19</td>\n",
       "      <td>1.183857e-19</td>\n",
       "      <td>1.448714e-20</td>\n",
       "      <td>1.747932e-21</td>\n",
       "      <td>2.081410e-22</td>\n",
       "      <td>2.448338e-23</td>\n",
       "      <td>2.847189e-24</td>\n",
       "      <td>3.275745e-25</td>\n",
       "    </tr>\n",
       "    <tr>\n",
       "      <th>11</th>\n",
       "      <td>8.292036e-02</td>\n",
       "      <td>6.663243e-02</td>\n",
       "      <td>5.078364e-02</td>\n",
       "      <td>3.651451e-02</td>\n",
       "      <td>2.461965e-02</td>\n",
       "      <td>1.545941e-02</td>\n",
       "      <td>8.971242e-03</td>\n",
       "      <td>4.770635e-03</td>\n",
       "      <td>2.303869e-03</td>\n",
       "      <td>1.001496e-03</td>\n",
       "      <td>...</td>\n",
       "      <td>1.670228e-15</td>\n",
       "      <td>2.270190e-16</td>\n",
       "      <td>3.022537e-17</td>\n",
       "      <td>3.948420e-18</td>\n",
       "      <td>5.068209e-19</td>\n",
       "      <td>6.400776e-20</td>\n",
       "      <td>7.962778e-21</td>\n",
       "      <td>9.767992e-22</td>\n",
       "      <td>1.182672e-22</td>\n",
       "      <td>1.414526e-23</td>\n",
       "    </tr>\n",
       "    <tr>\n",
       "      <th>12</th>\n",
       "      <td>1.105605e-01</td>\n",
       "      <td>9.608232e-02</td>\n",
       "      <td>7.965245e-02</td>\n",
       "      <td>6.270212e-02</td>\n",
       "      <td>4.662672e-02</td>\n",
       "      <td>3.256040e-02</td>\n",
       "      <td>2.120994e-02</td>\n",
       "      <td>1.279154e-02</td>\n",
       "      <td>7.083554e-03</td>\n",
       "      <td>3.570425e-03</td>\n",
       "      <td>...</td>\n",
       "      <td>4.103002e-14</td>\n",
       "      <td>5.912350e-15</td>\n",
       "      <td>8.319923e-16</td>\n",
       "      <td>1.145573e-16</td>\n",
       "      <td>1.546022e-17</td>\n",
       "      <td>2.048146e-18</td>\n",
       "      <td>2.667160e-19</td>\n",
       "      <td>3.418286e-20</td>\n",
       "      <td>4.316326e-21</td>\n",
       "      <td>5.375200e-22</td>\n",
       "    </tr>\n",
       "    <tr>\n",
       "      <th>13</th>\n",
       "      <td>1.304047e-01</td>\n",
       "      <td>1.218663e-01</td>\n",
       "      <td>1.091842e-01</td>\n",
       "      <td>9.341365e-02</td>\n",
       "      <td>7.597835e-02</td>\n",
       "      <td>5.845023e-02</td>\n",
       "      <td>4.228486e-02</td>\n",
       "      <td>2.857846e-02</td>\n",
       "      <td>1.791244e-02</td>\n",
       "      <td>1.032805e-02</td>\n",
       "      <td>...</td>\n",
       "      <td>8.722827e-13</td>\n",
       "      <td>1.337129e-13</td>\n",
       "      <td>1.994930e-14</td>\n",
       "      <td>2.903391e-15</td>\n",
       "      <td>4.130247e-16</td>\n",
       "      <td>5.753198e-17</td>\n",
       "      <td>7.859420e-18</td>\n",
       "      <td>1.054463e-18</td>\n",
       "      <td>1.391173e-19</td>\n",
       "      <td>1.806894e-20</td>\n",
       "    </tr>\n",
       "    <tr>\n",
       "      <th>14</th>\n",
       "      <td>1.366144e-01</td>\n",
       "      <td>1.366144e-01</td>\n",
       "      <td>1.315500e-01</td>\n",
       "      <td>1.215618e-01</td>\n",
       "      <td>1.073829e-01</td>\n",
       "      <td>9.028081e-02</td>\n",
       "      <td>7.187970e-02</td>\n",
       "      <td>5.388870e-02</td>\n",
       "      <td>3.779833e-02</td>\n",
       "      <td>2.462586e-02</td>\n",
       "      <td>...</td>\n",
       "      <td>1.607722e-11</td>\n",
       "      <td>2.631741e-12</td>\n",
       "      <td>4.177242e-13</td>\n",
       "      <td>6.446115e-14</td>\n",
       "      <td>9.693448e-15</td>\n",
       "      <td>1.423389e-15</td>\n",
       "      <td>2.044684e-16</td>\n",
       "      <td>2.878014e-17</td>\n",
       "      <td>3.975167e-18</td>\n",
       "      <td>5.394870e-19</td>\n",
       "    </tr>\n",
       "    <tr>\n",
       "      <th>15</th>\n",
       "      <td>1.275068e-01</td>\n",
       "      <td>1.358554e-01</td>\n",
       "      <td>1.399275e-01</td>\n",
       "      <td>1.389069e-01</td>\n",
       "      <td>1.324598e-01</td>\n",
       "      <td>1.208740e-01</td>\n",
       "      <td>1.050976e-01</td>\n",
       "      <td>8.664186e-02</td>\n",
       "      <td>6.734505e-02</td>\n",
       "      <td>4.904220e-02</td>\n",
       "      <td>...</td>\n",
       "      <td>2.570062e-10</td>\n",
       "      <td>4.511829e-11</td>\n",
       "      <td>7.648298e-12</td>\n",
       "      <td>1.255781e-12</td>\n",
       "      <td>2.002496e-13</td>\n",
       "      <td>3.108650e-14</td>\n",
       "      <td>4.707928e-15</td>\n",
       "      <td>6.968822e-16</td>\n",
       "      <td>1.009920e-16</td>\n",
       "      <td>1.435035e-17</td>\n",
       "    </tr>\n",
       "    <tr>\n",
       "      <th>16</th>\n",
       "      <td>1.062557e-01</td>\n",
       "      <td>1.201701e-01</td>\n",
       "      <td>1.318337e-01</td>\n",
       "      <td>1.399334e-01</td>\n",
       "      <td>1.432905e-01</td>\n",
       "      <td>1.410862e-01</td>\n",
       "      <td>1.330759e-01</td>\n",
       "      <td>1.197330e-01</td>\n",
       "      <td>1.022640e-01</td>\n",
       "      <td>8.245686e-02</td>\n",
       "      <td>...</td>\n",
       "      <td>3.560175e-09</td>\n",
       "      <td>6.735289e-10</td>\n",
       "      <td>1.224658e-10</td>\n",
       "      <td>2.147810e-11</td>\n",
       "      <td>3.644662e-12</td>\n",
       "      <td>6.000593e-13</td>\n",
       "      <td>9.608662e-14</td>\n",
       "      <td>1.499685e-14</td>\n",
       "      <td>2.285806e-15</td>\n",
       "      <td>3.408209e-16</td>\n",
       "    </tr>\n",
       "    <tr>\n",
       "      <th>17</th>\n",
       "      <td>7.917088e-02</td>\n",
       "      <td>9.472230e-02</td>\n",
       "      <td>1.102737e-01</td>\n",
       "      <td>1.246372e-01</td>\n",
       "      <td>1.364206e-01</td>\n",
       "      <td>1.441875e-01</td>\n",
       "      <td>1.466849e-01</td>\n",
       "      <td>1.431052e-01</td>\n",
       "      <td>1.333267e-01</td>\n",
       "      <td>1.180573e-01</td>\n",
       "      <td>...</td>\n",
       "      <td>4.264279e-08</td>\n",
       "      <td>8.741491e-09</td>\n",
       "      <td>1.713234e-09</td>\n",
       "      <td>3.223550e-10</td>\n",
       "      <td>5.844014e-11</td>\n",
       "      <td>1.024069e-11</td>\n",
       "      <td>1.739427e-12</td>\n",
       "      <td>2.870915e-13</td>\n",
       "      <td>4.614543e-14</td>\n",
       "      <td>7.237432e-15</td>\n",
       "    </tr>\n",
       "    <tr>\n",
       "      <th>18</th>\n",
       "      <td>5.278059e-02</td>\n",
       "      <td>6.660407e-02</td>\n",
       "      <td>8.201150e-02</td>\n",
       "      <td>9.834290e-02</td>\n",
       "      <td>1.145904e-01</td>\n",
       "      <td>1.294234e-01</td>\n",
       "      <td>1.412923e-01</td>\n",
       "      <td>1.486220e-01</td>\n",
       "      <td>1.500839e-01</td>\n",
       "      <td>1.449028e-01</td>\n",
       "      <td>...</td>\n",
       "      <td>4.400725e-07</td>\n",
       "      <td>9.836279e-08</td>\n",
       "      <td>2.089544e-08</td>\n",
       "      <td>4.239004e-09</td>\n",
       "      <td>8.246857e-10</td>\n",
       "      <td>1.544269e-10</td>\n",
       "      <td>2.792371e-11</td>\n",
       "      <td>4.889674e-12</td>\n",
       "      <td>8.312707e-13</td>\n",
       "      <td>1.375112e-13</td>\n",
       "    </tr>\n",
       "    <tr>\n",
       "      <th>19</th>\n",
       "      <td>3.148316e-02</td>\n",
       "      <td>4.179014e-02</td>\n",
       "      <td>5.426463e-02</td>\n",
       "      <td>6.881167e-02</td>\n",
       "      <td>8.505028e-02</td>\n",
       "      <td>1.022401e-01</td>\n",
       "      <td>1.192456e-01</td>\n",
       "      <td>1.345686e-01</td>\n",
       "      <td>1.464763e-01</td>\n",
       "      <td>1.532374e-01</td>\n",
       "      <td>...</td>\n",
       "      <td>3.893323e-06</td>\n",
       "      <td>9.556498e-07</td>\n",
       "      <td>2.214483e-07</td>\n",
       "      <td>4.871246e-08</td>\n",
       "      <td>1.022134e-08</td>\n",
       "      <td>2.054579e-09</td>\n",
       "      <td>3.971084e-10</td>\n",
       "      <td>7.404513e-11</td>\n",
       "      <td>1.335823e-11</td>\n",
       "      <td>2.337690e-12</td>\n",
       "    </tr>\n",
       "    <tr>\n",
       "      <th>20</th>\n",
       "      <td>1.679102e-02</td>\n",
       "      <td>2.338749e-02</td>\n",
       "      <td>3.194027e-02</td>\n",
       "      <td>4.270624e-02</td>\n",
       "      <td>5.581047e-02</td>\n",
       "      <td>7.115376e-02</td>\n",
       "      <td>8.831256e-02</td>\n",
       "      <td>1.064525e-01</td>\n",
       "      <td>1.242871e-01</td>\n",
       "      <td>1.401197e-01</td>\n",
       "      <td>...</td>\n",
       "      <td>2.933094e-05</td>\n",
       "      <td>7.971573e-06</td>\n",
       "      <td>2.029778e-06</td>\n",
       "      <td>4.872996e-07</td>\n",
       "      <td>1.109221e-07</td>\n",
       "      <td>2.405758e-08</td>\n",
       "      <td>4.993143e-09</td>\n",
       "      <td>9.954868e-10</td>\n",
       "      <td>1.912899e-10</td>\n",
       "      <td>3.553289e-11</td>\n",
       "    </tr>\n",
       "    <tr>\n",
       "      <th>21</th>\n",
       "      <td>7.995722e-03</td>\n",
       "      <td>1.166043e-02</td>\n",
       "      <td>1.670838e-02</td>\n",
       "      <td>2.349363e-02</td>\n",
       "      <td>3.236903e-02</td>\n",
       "      <td>4.362816e-02</td>\n",
       "      <td>5.742077e-02</td>\n",
       "      <td>7.364496e-02</td>\n",
       "      <td>9.182879e-02</td>\n",
       "      <td>1.110271e-01</td>\n",
       "      <td>...</td>\n",
       "      <td>1.865562e-04</td>\n",
       "      <td>5.667262e-05</td>\n",
       "      <td>1.599119e-05</td>\n",
       "      <td>4.221547e-06</td>\n",
       "      <td>1.049405e-06</td>\n",
       "      <td>2.470388e-07</td>\n",
       "      <td>5.534897e-08</td>\n",
       "      <td>1.185457e-08</td>\n",
       "      <td>2.436541e-09</td>\n",
       "      <td>4.822321e-10</td>\n",
       "    </tr>\n",
       "    <tr>\n",
       "      <th>22</th>\n",
       "      <td>3.392125e-03</td>\n",
       "      <td>5.168952e-03</td>\n",
       "      <td>7.754170e-03</td>\n",
       "      <td>1.143870e-02</td>\n",
       "      <td>1.657211e-02</td>\n",
       "      <td>2.354654e-02</td>\n",
       "      <td>3.275962e-02</td>\n",
       "      <td>4.454954e-02</td>\n",
       "      <td>5.909779e-02</td>\n",
       "      <td>7.630230e-02</td>\n",
       "      <td>...</td>\n",
       "      <td>9.910576e-04</td>\n",
       "      <td>3.401870e-04</td>\n",
       "      <td>1.074198e-04</td>\n",
       "      <td>3.145667e-05</td>\n",
       "      <td>8.605902e-06</td>\n",
       "      <td>2.214024e-06</td>\n",
       "      <td>5.387474e-07</td>\n",
       "      <td>1.246284e-07</td>\n",
       "      <td>2.753107e-08</td>\n",
       "      <td>5.830625e-09</td>\n",
       "    </tr>\n",
       "    <tr>\n",
       "      <th>23</th>\n",
       "      <td>1.278192e-03</td>\n",
       "      <td>2.031412e-03</td>\n",
       "      <td>3.184011e-03</td>\n",
       "      <td>4.916970e-03</td>\n",
       "      <td>7.472947e-03</td>\n",
       "      <td>1.116424e-02</td>\n",
       "      <td>1.637262e-02</td>\n",
       "      <td>2.353408e-02</td>\n",
       "      <td>3.309943e-02</td>\n",
       "      <td>4.546158e-02</td>\n",
       "      <td>...</td>\n",
       "      <td>4.339732e-03</td>\n",
       "      <td>1.704027e-03</td>\n",
       "      <td>6.090186e-04</td>\n",
       "      <td>1.998617e-04</td>\n",
       "      <td>6.072426e-05</td>\n",
       "      <td>1.721035e-05</td>\n",
       "      <td>4.580569e-06</td>\n",
       "      <td>1.151645e-06</td>\n",
       "      <td>2.749448e-07</td>\n",
       "      <td>6.261584e-08</td>\n",
       "    </tr>\n",
       "    <tr>\n",
       "      <th>24</th>\n",
       "      <td>4.260640e-04</td>\n",
       "      <td>7.050344e-04</td>\n",
       "      <td>1.152481e-03</td>\n",
       "      <td>1.859411e-03</td>\n",
       "      <td>2.958189e-03</td>\n",
       "      <td>4.635858e-03</td>\n",
       "      <td>7.147947e-03</td>\n",
       "      <td>1.082959e-02</td>\n",
       "      <td>1.609848e-02</td>\n",
       "      <td>2.344125e-02</td>\n",
       "      <td>...</td>\n",
       "      <td>1.541895e-02</td>\n",
       "      <td>7.020136e-03</td>\n",
       "      <td>2.877042e-03</td>\n",
       "      <td>1.070792e-03</td>\n",
       "      <td>3.651975e-04</td>\n",
       "      <td>1.151063e-04</td>\n",
       "      <td>3.378820e-05</td>\n",
       "      <td>9.300488e-06</td>\n",
       "      <td>2.415183e-06</td>\n",
       "      <td>5.948505e-07</td>\n",
       "    </tr>\n",
       "    <tr>\n",
       "      <th>25</th>\n",
       "      <td>1.249788e-04</td>\n",
       "      <td>2.149932e-04</td>\n",
       "      <td>3.658998e-04</td>\n",
       "      <td>6.156459e-04</td>\n",
       "      <td>1.023246e-03</td>\n",
       "      <td>1.678497e-03</td>\n",
       "      <td>2.714686e-03</td>\n",
       "      <td>4.324079e-03</td>\n",
       "      <td>6.774871e-03</td>\n",
       "      <td>1.042633e-02</td>\n",
       "      <td>...</td>\n",
       "      <td>4.365479e-02</td>\n",
       "      <td>2.337114e-02</td>\n",
       "      <td>1.114478e-02</td>\n",
       "      <td>4.770188e-03</td>\n",
       "      <td>1.849471e-03</td>\n",
       "      <td>6.556145e-04</td>\n",
       "      <td>2.143607e-04</td>\n",
       "      <td>6.516106e-05</td>\n",
       "      <td>1.854574e-05</td>\n",
       "      <td>4.972950e-06</td>\n",
       "    </tr>\n",
       "    <tr>\n",
       "      <th>26</th>\n",
       "      <td>3.204584e-05</td>\n",
       "      <td>5.722471e-05</td>\n",
       "      <td>1.012414e-04</td>\n",
       "      <td>1.773476e-04</td>\n",
       "      <td>3.073875e-04</td>\n",
       "      <td>5.267573e-04</td>\n",
       "      <td>8.917263e-04</td>\n",
       "      <td>1.489843e-03</td>\n",
       "      <td>2.454032e-03</td>\n",
       "      <td>3.980492e-03</td>\n",
       "      <td>...</td>\n",
       "      <td>9.662166e-02</td>\n",
       "      <td>6.159113e-02</td>\n",
       "      <td>3.470704e-02</td>\n",
       "      <td>1.735803e-02</td>\n",
       "      <td>7.766320e-03</td>\n",
       "      <td>3.138446e-03</td>\n",
       "      <td>1.156686e-03</td>\n",
       "      <td>3.923543e-04</td>\n",
       "      <td>1.235040e-04</td>\n",
       "      <td>3.634079e-05</td>\n",
       "    </tr>\n",
       "    <tr>\n",
       "      <th>27</th>\n",
       "      <td>7.121297e-06</td>\n",
       "      <td>1.318288e-05</td>\n",
       "      <td>2.421006e-05</td>\n",
       "      <td>4.408472e-05</td>\n",
       "      <td>7.954913e-05</td>\n",
       "      <td>1.421545e-04</td>\n",
       "      <td>2.513943e-04</td>\n",
       "      <td>4.396207e-04</td>\n",
       "      <td>7.595322e-04</td>\n",
       "      <td>1.295184e-03</td>\n",
       "      <td>...</td>\n",
       "      <td>1.642430e-01</td>\n",
       "      <td>1.256105e-01</td>\n",
       "      <td>8.484880e-02</td>\n",
       "      <td>5.045153e-02</td>\n",
       "      <td>2.651030e-02</td>\n",
       "      <td>1.241357e-02</td>\n",
       "      <td>5.232546e-03</td>\n",
       "      <td>2.005896e-03</td>\n",
       "      <td>7.060496e-04</td>\n",
       "      <td>2.301583e-04</td>\n",
       "    </tr>\n",
       "    <tr>\n",
       "      <th>28</th>\n",
       "      <td>1.356438e-06</td>\n",
       "      <td>2.599839e-06</td>\n",
       "      <td>4.949501e-06</td>\n",
       "      <td>9.355245e-06</td>\n",
       "      <td>1.754765e-05</td>\n",
       "      <td>3.264546e-05</td>\n",
       "      <td>6.020213e-05</td>\n",
       "      <td>1.099774e-04</td>\n",
       "      <td>1.988760e-04</td>\n",
       "      <td>3.557099e-04</td>\n",
       "      <td>...</td>\n",
       "      <td>2.115477e-01</td>\n",
       "      <td>1.939401e-01</td>\n",
       "      <td>1.584790e-01</td>\n",
       "      <td>1.139162e-01</td>\n",
       "      <td>7.170107e-02</td>\n",
       "      <td>3.967402e-02</td>\n",
       "      <td>1.947262e-02</td>\n",
       "      <td>8.570319e-03</td>\n",
       "      <td>3.419495e-03</td>\n",
       "      <td>1.249431e-03</td>\n",
       "    </tr>\n",
       "    <tr>\n",
       "      <th>29</th>\n",
       "      <td>2.182773e-07</td>\n",
       "      <td>4.326568e-07</td>\n",
       "      <td>8.527986e-07</td>\n",
       "      <td>1.670947e-06</td>\n",
       "      <td>3.253282e-06</td>\n",
       "      <td>6.291248e-06</td>\n",
       "      <td>1.207816e-05</td>\n",
       "      <td>2.300829e-05</td>\n",
       "      <td>4.346425e-05</td>\n",
       "      <td>8.136908e-05</td>\n",
       "      <td>...</td>\n",
       "      <td>2.043061e-01</td>\n",
       "      <td>2.226826e-01</td>\n",
       "      <td>2.199760e-01</td>\n",
       "      <td>1.933124e-01</td>\n",
       "      <td>1.486759e-01</td>\n",
       "      <td>9.946700e-02</td>\n",
       "      <td>5.812437e-02</td>\n",
       "      <td>2.996180e-02</td>\n",
       "      <td>1.378682e-02</td>\n",
       "      <td>5.730149e-03</td>\n",
       "    </tr>\n",
       "    <tr>\n",
       "      <th>30</th>\n",
       "      <td>2.910364e-08</td>\n",
       "      <td>5.959317e-08</td>\n",
       "      <td>1.214736e-07</td>\n",
       "      <td>2.464229e-07</td>\n",
       "      <td>4.973457e-07</td>\n",
       "      <td>9.983106e-07</td>\n",
       "      <td>1.992228e-06</td>\n",
       "      <td>3.950914e-06</td>\n",
       "      <td>7.782866e-06</td>\n",
       "      <td>1.522091e-05</td>\n",
       "      <td>...</td>\n",
       "      <td>1.462568e-01</td>\n",
       "      <td>1.872176e-01</td>\n",
       "      <td>2.215316e-01</td>\n",
       "      <td>2.378815e-01</td>\n",
       "      <td>2.267841e-01</td>\n",
       "      <td>1.879909e-01</td>\n",
       "      <td>1.344057e-01</td>\n",
       "      <td>8.325620e-02</td>\n",
       "      <td>4.518632e-02</td>\n",
       "      <td>2.177457e-02</td>\n",
       "    </tr>\n",
       "    <tr>\n",
       "      <th>31</th>\n",
       "      <td>3.129424e-09</td>\n",
       "      <td>6.612770e-09</td>\n",
       "      <td>1.392448e-08</td>\n",
       "      <td>2.921173e-08</td>\n",
       "      <td>6.104006e-08</td>\n",
       "      <td>1.270103e-07</td>\n",
       "      <td>2.630903e-07</td>\n",
       "      <td>5.423435e-07</td>\n",
       "      <td>1.112231e-06</td>\n",
       "      <td>2.268282e-06</td>\n",
       "      <td>...</td>\n",
       "      <td>7.626296e-02</td>\n",
       "      <td>1.131167e-01</td>\n",
       "      <td>1.581665e-01</td>\n",
       "      <td>2.053512e-01</td>\n",
       "      <td>2.425689e-01</td>\n",
       "      <td>2.539616e-01</td>\n",
       "      <td>2.292118e-01</td>\n",
       "      <td>1.764060e-01</td>\n",
       "      <td>1.163986e-01</td>\n",
       "      <td>6.672851e-02</td>\n",
       "    </tr>\n",
       "    <tr>\n",
       "      <th>32</th>\n",
       "      <td>2.607853e-10</td>\n",
       "      <td>5.681394e-10</td>\n",
       "      <td>1.234576e-09</td>\n",
       "      <td>2.675493e-09</td>\n",
       "      <td>5.781488e-09</td>\n",
       "      <td>1.245501e-08</td>\n",
       "      <td>2.674410e-08</td>\n",
       "      <td>5.722594e-08</td>\n",
       "      <td>1.219917e-07</td>\n",
       "      <td>2.590112e-07</td>\n",
       "      <td>...</td>\n",
       "      <td>2.810700e-02</td>\n",
       "      <td>4.768077e-02</td>\n",
       "      <td>7.763056e-02</td>\n",
       "      <td>1.199987e-01</td>\n",
       "      <td>1.734268e-01</td>\n",
       "      <td>2.292118e-01</td>\n",
       "      <td>2.683990e-01</td>\n",
       "      <td>2.676814e-01</td>\n",
       "      <td>2.240171e-01</td>\n",
       "      <td>1.584802e-01</td>\n",
       "    </tr>\n",
       "    <tr>\n",
       "      <th>33</th>\n",
       "      <td>1.580517e-11</td>\n",
       "      <td>3.546755e-11</td>\n",
       "      <td>7.945935e-11</td>\n",
       "      <td>1.777041e-10</td>\n",
       "      <td>3.966808e-10</td>\n",
       "      <td>8.837405e-10</td>\n",
       "      <td>1.964679e-09</td>\n",
       "      <td>4.357916e-09</td>\n",
       "      <td>9.643122e-09</td>\n",
       "      <td>2.128292e-08</td>\n",
       "      <td>...</td>\n",
       "      <td>6.933854e-03</td>\n",
       "      <td>1.329340e-02</td>\n",
       "      <td>2.484864e-02</td>\n",
       "      <td>4.498663e-02</td>\n",
       "      <td>7.812899e-02</td>\n",
       "      <td>1.282952e-01</td>\n",
       "      <td>1.946774e-01</td>\n",
       "      <td>2.627339e-01</td>\n",
       "      <td>2.963786e-01</td>\n",
       "      <td>2.737385e-01</td>\n",
       "    </tr>\n",
       "    <tr>\n",
       "      <th>34</th>\n",
       "      <td>6.198106e-13</td>\n",
       "      <td>1.431467e-12</td>\n",
       "      <td>3.303351e-12</td>\n",
       "      <td>7.616545e-12</td>\n",
       "      <td>1.754563e-11</td>\n",
       "      <td>4.037966e-11</td>\n",
       "      <td>9.283506e-11</td>\n",
       "      <td>2.132000e-10</td>\n",
       "      <td>4.890524e-10</td>\n",
       "      <td>1.120418e-09</td>\n",
       "      <td>...</td>\n",
       "      <td>1.027114e-03</td>\n",
       "      <td>2.201932e-03</td>\n",
       "      <td>4.665613e-03</td>\n",
       "      <td>9.741389e-03</td>\n",
       "      <td>1.995463e-02</td>\n",
       "      <td>3.983695e-02</td>\n",
       "      <td>7.666897e-02</td>\n",
       "      <td>1.394723e-01</td>\n",
       "      <td>2.300324e-01</td>\n",
       "      <td>3.059431e-01</td>\n",
       "    </tr>\n",
       "    <tr>\n",
       "      <th>35</th>\n",
       "      <td>1.180592e-14</td>\n",
       "      <td>2.803905e-14</td>\n",
       "      <td>6.659275e-14</td>\n",
       "      <td>1.581578e-13</td>\n",
       "      <td>3.756247e-13</td>\n",
       "      <td>8.921087e-13</td>\n",
       "      <td>2.118758e-12</td>\n",
       "      <td>5.032051e-12</td>\n",
       "      <td>1.195112e-11</td>\n",
       "      <td>2.838391e-11</td>\n",
       "      <td>...</td>\n",
       "      <td>6.908021e-05</td>\n",
       "      <td>1.640655e-04</td>\n",
       "      <td>3.896556e-04</td>\n",
       "      <td>9.254320e-04</td>\n",
       "      <td>2.197901e-03</td>\n",
       "      <td>5.220015e-03</td>\n",
       "      <td>1.239754e-02</td>\n",
       "      <td>2.944415e-02</td>\n",
       "      <td>6.992985e-02</td>\n",
       "      <td>1.660834e-01</td>\n",
       "    </tr>\n",
       "  </tbody>\n",
       "</table>\n",
       "<p>36 rows × 36 columns</p>\n",
       "</div>"
      ]
     },
     "execution_count": 42,
     "metadata": {},
     "output_type": "execute_result"
    }
   ],
   "execution_count": 42
  },
  {
   "metadata": {
    "ExecuteTime": {
     "end_time": "2025-07-04T12:25:36.226821Z",
     "start_time": "2025-07-04T12:25:36.216575Z"
    }
   },
   "cell_type": "code",
   "source": [
    "likelihood1 = table.loc[12]\n",
    "\n",
    "hypos = np.arange(n+1)\n",
    "prior = Pmf(1, hypos)\n",
    "\n",
    "posterior1 = prior * likelihood1\n",
    "posterior1.normalize()\n",
    "\n"
   ],
   "id": "a8da666bd72bcbc2",
   "outputs": [
    {
     "data": {
      "text/plain": [
       "0.47547416486151317"
      ]
     },
     "execution_count": 46,
     "metadata": {},
     "output_type": "execute_result"
    }
   ],
   "execution_count": 46
  },
  {
   "metadata": {
    "ExecuteTime": {
     "end_time": "2025-07-04T12:25:37.591880Z",
     "start_time": "2025-07-04T12:25:37.582593Z"
    }
   },
   "cell_type": "code",
   "source": [
    "likelihood2 = table.loc[20]\n",
    "posterior2 = prior * likelihood2\n",
    "posterior2.normalize()"
   ],
   "id": "91ca68d38fcb148",
   "outputs": [
    {
     "data": {
      "text/plain": [
       "1.7818649765887378"
      ]
     },
     "execution_count": 47,
     "metadata": {},
     "output_type": "execute_result"
    }
   ],
   "execution_count": 47
  },
  {
   "metadata": {
    "ExecuteTime": {
     "end_time": "2025-07-04T12:28:15.724457Z",
     "start_time": "2025-07-04T12:28:15.253749Z"
    }
   },
   "cell_type": "code",
   "source": [
    "import matplotlib.pyplot as plt\n",
    "plt.figure()\n",
    "posterior1.plot()\n",
    "posterior2.plot(title = 'Posteriory dist ')\n",
    "\n",
    "\n"
   ],
   "id": "e608f8f9f30fa2b5",
   "outputs": [
    {
     "data": {
      "text/plain": [
       "<Axes: title={'center': 'Posteriory dist '}>"
      ]
     },
     "execution_count": 53,
     "metadata": {},
     "output_type": "execute_result"
    },
    {
     "data": {
      "text/plain": [
       "<Figure size 640x480 with 1 Axes>"
      ],
      "image/png": "[encoded data removed]"
     },
     "metadata": {},
     "output_type": "display_data"
    }
   ],
   "execution_count": 53
  },
  {
   "metadata": {
    "ExecuteTime": {
     "end_time": "2025-07-04T12:36:16.657045Z",
     "start_time": "2025-07-04T12:36:16.645373Z"
    }
   },
   "cell_type": "code",
   "source": [
    "prior = [1/3, 2/3]\n",
    "title = ['Identical', \"Not_Identical\"]\n",
    "post0 = Pmf(prior, title)\n",
    "likelihoods1 = [2, 1]\n",
    "likelihoods2 = [1.25, 1]\n",
    "\n",
    "post1 = post0 * likelihoods1\n",
    "post1.normalize()\n",
    "\n",
    "post2 = post1 * likelihoods2\n",
    "post2.normalize()\n",
    "post2"
   ],
   "id": "955ae3a077a75698",
   "outputs": [
    {
     "data": {
      "text/plain": [
       "Identical        0.555556\n",
       "Not_Identical    0.444444\n",
       "dtype: float64"
      ],
      "text/html": [
       "<div>\n",
       "<style scoped>\n",
       "    .dataframe tbody tr th:only-of-type {\n",
       "        vertical-align: middle;\n",
       "    }\n",
       "\n",
       "    .dataframe tbody tr th {\n",
       "        vertical-align: top;\n",
       "    }\n",
       "\n",
       "    .dataframe thead th {\n",
       "        text-align: right;\n",
       "    }\n",
       "</style>\n",
       "<table border=\"1\" class=\"dataframe\">\n",
       "  <thead>\n",
       "    <tr style=\"text-align: right;\">\n",
       "      <th></th>\n",
       "      <th>probs</th>\n",
       "    </tr>\n",
       "  </thead>\n",
       "  <tbody>\n",
       "    <tr>\n",
       "      <th>Identical</th>\n",
       "      <td>0.555556</td>\n",
       "    </tr>\n",
       "    <tr>\n",
       "      <th>Not_Identical</th>\n",
       "      <td>0.444444</td>\n",
       "    </tr>\n",
       "  </tbody>\n",
       "</table>\n",
       "</div>"
      ]
     },
     "execution_count": 69,
     "metadata": {},
     "output_type": "execute_result"
    }
   ],
   "execution_count": 69
  },
  {
   "metadata": {
    "ExecuteTime": {
     "end_time": "2025-07-04T12:43:00.911534Z",
     "start_time": "2025-07-04T12:43:00.898165Z"
    }
   },
   "cell_type": "code",
   "source": [
    "prior = [0.1, 0.9]\n",
    "title = [\"Rain\", \"No_Rain\"]\n",
    "\n",
    "post0 = Pmf(prior, title)\n",
    "likelihood1 =likelihood2 = likelihood3 = [2/3, 1/3]\n",
    "post1 = (post0 * likelihood1)\n",
    "post1.normalize()\n",
    "post2 = (post1 * likelihood2)\n",
    "post2.normalize()\n",
    "post3 = (post2 * likelihood3)\n",
    "post3.normalize()"
   ],
   "id": "14d06ab386529ad6",
   "outputs": [
    {
     "data": {
      "text/plain": [
       "0.4358974358974359"
      ]
     },
     "execution_count": 75,
     "metadata": {},
     "output_type": "execute_result"
    }
   ],
   "execution_count": 75
  },
  {
   "metadata": {
    "ExecuteTime": {
     "end_time": "2025-07-04T12:43:03.680940Z",
     "start_time": "2025-07-04T12:43:03.671170Z"
    }
   },
   "cell_type": "code",
   "source": "post3",
   "id": "4ec7d041f2e73852",
   "outputs": [
    {
     "data": {
      "text/plain": [
       "Rain       0.470588\n",
       "No_Rain    0.529412\n",
       "dtype: float64"
      ],
      "text/html": [
       "<div>\n",
       "<style scoped>\n",
       "    .dataframe tbody tr th:only-of-type {\n",
       "        vertical-align: middle;\n",
       "    }\n",
       "\n",
       "    .dataframe tbody tr th {\n",
       "        vertical-align: top;\n",
       "    }\n",
       "\n",
       "    .dataframe thead th {\n",
       "        text-align: right;\n",
       "    }\n",
       "</style>\n",
       "<table border=\"1\" class=\"dataframe\">\n",
       "  <thead>\n",
       "    <tr style=\"text-align: right;\">\n",
       "      <th></th>\n",
       "      <th>probs</th>\n",
       "    </tr>\n",
       "  </thead>\n",
       "  <tbody>\n",
       "    <tr>\n",
       "      <th>Rain</th>\n",
       "      <td>0.470588</td>\n",
       "    </tr>\n",
       "    <tr>\n",
       "      <th>No_Rain</th>\n",
       "      <td>0.529412</td>\n",
       "    </tr>\n",
       "  </tbody>\n",
       "</table>\n",
       "</div>"
      ]
     },
     "execution_count": 76,
     "metadata": {},
     "output_type": "execute_result"
    }
   ],
   "execution_count": 76
  },
  {
   "metadata": {
    "ExecuteTime": {
     "end_time": "2025-07-04T12:44:27.071477Z",
     "start_time": "2025-07-04T12:44:27.054579Z"
    }
   },
   "cell_type": "code",
   "source": [
    "combined_likelihood =  [(2/3)**3, (1/3)**3 ]\n",
    "post = Pmf(prior, title)\n",
    "post *= combined_likelihood\n",
    "post.normalize()\n",
    "post"
   ],
   "id": "4705cf37533a7f60",
   "outputs": [
    {
     "data": {
      "text/plain": [
       "Rain       0.470588\n",
       "No_Rain    0.529412\n",
       "dtype: float64"
      ],
      "text/html": [
       "<div>\n",
       "<style scoped>\n",
       "    .dataframe tbody tr th:only-of-type {\n",
       "        vertical-align: middle;\n",
       "    }\n",
       "\n",
       "    .dataframe tbody tr th {\n",
       "        vertical-align: top;\n",
       "    }\n",
       "\n",
       "    .dataframe thead th {\n",
       "        text-align: right;\n",
       "    }\n",
       "</style>\n",
       "<table border=\"1\" class=\"dataframe\">\n",
       "  <thead>\n",
       "    <tr style=\"text-align: right;\">\n",
       "      <th></th>\n",
       "      <th>probs</th>\n",
       "    </tr>\n",
       "  </thead>\n",
       "  <tbody>\n",
       "    <tr>\n",
       "      <th>Rain</th>\n",
       "      <td>0.470588</td>\n",
       "    </tr>\n",
       "    <tr>\n",
       "      <th>No_Rain</th>\n",
       "      <td>0.529412</td>\n",
       "    </tr>\n",
       "  </tbody>\n",
       "</table>\n",
       "</div>"
      ]
     },
     "execution_count": 78,
     "metadata": {},
     "output_type": "execute_result"
    }
   ],
   "execution_count": 78
  },
  {
   "metadata": {
    "ExecuteTime": {
     "end_time": "2025-07-04T12:46:45.977108Z",
     "start_time": "2025-07-04T12:46:45.962341Z"
    }
   },
   "cell_type": "code",
   "source": [
    "prior = [0.14, 0.86]\n",
    "title = ['Smoker', 'Not_Smoker']\n",
    "prior0 = Pmf(prior, title)\n",
    "likelihood = [25, 1]\n",
    "\n",
    "post = prior0 * likelihood\n",
    "post.normalize()\n",
    "post"
   ],
   "id": "e81fe5d13576f90a",
   "outputs": [
    {
     "data": {
      "text/plain": [
       "Smoker        0.802752\n",
       "Not_Smoker    0.197248\n",
       "dtype: float64"
      ],
      "text/html": [
       "<div>\n",
       "<style scoped>\n",
       "    .dataframe tbody tr th:only-of-type {\n",
       "        vertical-align: middle;\n",
       "    }\n",
       "\n",
       "    .dataframe tbody tr th {\n",
       "        vertical-align: top;\n",
       "    }\n",
       "\n",
       "    .dataframe thead th {\n",
       "        text-align: right;\n",
       "    }\n",
       "</style>\n",
       "<table border=\"1\" class=\"dataframe\">\n",
       "  <thead>\n",
       "    <tr style=\"text-align: right;\">\n",
       "      <th></th>\n",
       "      <th>probs</th>\n",
       "    </tr>\n",
       "  </thead>\n",
       "  <tbody>\n",
       "    <tr>\n",
       "      <th>Smoker</th>\n",
       "      <td>0.802752</td>\n",
       "    </tr>\n",
       "    <tr>\n",
       "      <th>Not_Smoker</th>\n",
       "      <td>0.197248</td>\n",
       "    </tr>\n",
       "  </tbody>\n",
       "</table>\n",
       "</div>"
      ]
     },
     "execution_count": 82,
     "metadata": {},
     "output_type": "execute_result"
    }
   ],
   "execution_count": 82
  },
  {
   "metadata": {
    "ExecuteTime": {
     "end_time": "2025-07-04T12:53:51.367299Z",
     "start_time": "2025-07-04T12:53:51.355999Z"
    }
   },
   "cell_type": "code",
   "source": [
    "die  = make_die(6)\n",
    "\n",
    "goblin_hp = Pmf.add_dist(die, die)\n",
    "\n",
    "goblin_remaining = Pmf.sub_dist(goblin_hp, 3)\n",
    "\n",
    "attack = die\n",
    "\n",
    "total = 0\n",
    "for rem_hp, prob_hp in goblin_remaining.items():\n",
    "    prob_kill = attack.prob_ge(rem_hp)\n",
    "    total += prob_kill * prob_hp\n",
    "print(f\"Probability of defeating:{total:.4f}\")"
   ],
   "id": "b323ee24708670f1",
   "outputs": [
    {
     "name": "stdout",
     "output_type": "stream",
     "text": [
      "Probability of defeating:0.5000\n"
     ]
    }
   ],
   "execution_count": 89
  },
  {
   "metadata": {
    "ExecuteTime": {
     "end_time": "2025-07-04T12:56:03.741875Z",
     "start_time": "2025-07-04T12:56:03.735423Z"
    }
   },
   "cell_type": "code",
   "source": [
    "die6 = Pmf([1/6]*6, range(1, 7))\n",
    "die8 = Pmf([1/8]*8, range(1, 9))\n",
    "die12 = Pmf([1/12]*12, range(1, 13))"
   ],
   "id": "14fc62f6c1158007",
   "outputs": [],
   "execution_count": 94
  },
  {
   "metadata": {
    "ExecuteTime": {
     "end_time": "2025-07-04T13:17:22.201747Z",
     "start_time": "2025-07-04T13:17:22.188678Z"
    }
   },
   "cell_type": "code",
   "source": [
    "die66 = Pmf.mul_dist(die6, die6)\n",
    "die88 = Pmf.mul_dist(die8, die8)\n",
    "die1212 = Pmf.mul_dist(die12, die12)\n",
    "\n",
    "prior = [1/3, 1/3, 1/3]  # uniform over models\n",
    "likelihood = [die66[12], die88[12], die1212[12]]  # P(data | model)\n",
    "\n",
    "post = Pmf(prior, ['2d6', '2d8', '2d12']) * likelihood\n",
    "post.normalize()\n",
    "post\n"
   ],
   "id": "3df7387f32565129",
   "outputs": [
    {
     "data": {
      "text/plain": [
       "2d6     0.516129\n",
       "2d8     0.290323\n",
       "2d12    0.193548\n",
       "dtype: float64"
      ],
      "text/html": [
       "<div>\n",
       "<style scoped>\n",
       "    .dataframe tbody tr th:only-of-type {\n",
       "        vertical-align: middle;\n",
       "    }\n",
       "\n",
       "    .dataframe tbody tr th {\n",
       "        vertical-align: top;\n",
       "    }\n",
       "\n",
       "    .dataframe thead th {\n",
       "        text-align: right;\n",
       "    }\n",
       "</style>\n",
       "<table border=\"1\" class=\"dataframe\">\n",
       "  <thead>\n",
       "    <tr style=\"text-align: right;\">\n",
       "      <th></th>\n",
       "      <th>probs</th>\n",
       "    </tr>\n",
       "  </thead>\n",
       "  <tbody>\n",
       "    <tr>\n",
       "      <th>2d6</th>\n",
       "      <td>0.516129</td>\n",
       "    </tr>\n",
       "    <tr>\n",
       "      <th>2d8</th>\n",
       "      <td>0.290323</td>\n",
       "    </tr>\n",
       "    <tr>\n",
       "      <th>2d12</th>\n",
       "      <td>0.193548</td>\n",
       "    </tr>\n",
       "  </tbody>\n",
       "</table>\n",
       "</div>"
      ]
     },
     "execution_count": 116,
     "metadata": {},
     "output_type": "execute_result"
    }
   ],
   "execution_count": 116
  },
  {
   "metadata": {
    "ExecuteTime": {
     "end_time": "2025-07-04T13:35:10.448101Z",
     "start_time": "2025-07-04T13:35:10.419911Z"
    }
   },
   "cell_type": "code",
   "source": [
    "die = Pmf(1/3, [0, 1, 2])\n",
    "def add_dist_seq(seq):\n",
    "    total = seq[0]\n",
    "    for other in seq[1:]:\n",
    "        total = total.add_dist(other)\n",
    "    return total\n",
    "\n",
    "\n",
    "prof_dist = add_dist_seq([die, die, die, die, die])\n",
    "mad_dist = add_dist_seq([die, die, die, die])\n",
    "ox_dist = add_dist_seq([die, die, die])\n",
    "\n",
    "prior = Pmf(1/3, ['prof', 'mad', 'ox'])\n",
    "observations = [5, 4, 3]\n",
    "for observation in observations:\n",
    "    likelihood = [prof_dist[observation],\n",
    "                  mad_dist[observation],\n",
    "                  ox_dist[observation]]\n",
    "    posterior = prior * likelihood\n",
    "    posterior.normalize()\n",
    "    prior = posterior\n",
    "\n",
    "posterior"
   ],
   "id": "6b3036a2c3854757",
   "outputs": [
    {
     "data": {
      "text/plain": [
       "prof    0.235762\n",
       "mad     0.449704\n",
       "ox      0.314534\n",
       "dtype: float64"
      ],
      "text/html": [
       "<div>\n",
       "<style scoped>\n",
       "    .dataframe tbody tr th:only-of-type {\n",
       "        vertical-align: middle;\n",
       "    }\n",
       "\n",
       "    .dataframe tbody tr th {\n",
       "        vertical-align: top;\n",
       "    }\n",
       "\n",
       "    .dataframe thead th {\n",
       "        text-align: right;\n",
       "    }\n",
       "</style>\n",
       "<table border=\"1\" class=\"dataframe\">\n",
       "  <thead>\n",
       "    <tr style=\"text-align: right;\">\n",
       "      <th></th>\n",
       "      <th>probs</th>\n",
       "    </tr>\n",
       "  </thead>\n",
       "  <tbody>\n",
       "    <tr>\n",
       "      <th>prof</th>\n",
       "      <td>0.235762</td>\n",
       "    </tr>\n",
       "    <tr>\n",
       "      <th>mad</th>\n",
       "      <td>0.449704</td>\n",
       "    </tr>\n",
       "    <tr>\n",
       "      <th>ox</th>\n",
       "      <td>0.314534</td>\n",
       "    </tr>\n",
       "  </tbody>\n",
       "</table>\n",
       "</div>"
      ]
     },
     "execution_count": 147,
     "metadata": {},
     "output_type": "execute_result"
    }
   ],
   "execution_count": 147
  },
  {
   "metadata": {
    "ExecuteTime": {
     "end_time": "2025-07-04T13:24:44.982926Z",
     "start_time": "2025-07-04T13:24:44.974994Z"
    }
   },
   "cell_type": "code",
   "source": "prof_dice",
   "id": "c86bdab12dd2639e",
   "outputs": [
    {
     "data": {
      "text/plain": [
       "[0    0.111111\n",
       " 1    0.222222\n",
       " 2    0.333333\n",
       " 3    0.222222\n",
       " 4    0.111111\n",
       " dtype: float64,\n",
       " 0    0.111111\n",
       " 1    0.222222\n",
       " 2    0.333333\n",
       " 3    0.222222\n",
       " 4    0.111111\n",
       " dtype: float64,\n",
       " 0    0.111111\n",
       " 1    0.222222\n",
       " 2    0.333333\n",
       " 3    0.222222\n",
       " 4    0.111111\n",
       " dtype: float64,\n",
       " 0    0.111111\n",
       " 1    0.222222\n",
       " 2    0.333333\n",
       " 3    0.222222\n",
       " 4    0.111111\n",
       " dtype: float64]"
      ]
     },
     "execution_count": 136,
     "metadata": {},
     "output_type": "execute_result"
    }
   ],
   "execution_count": 136
  },
  {
   "metadata": {
    "ExecuteTime": {
     "end_time": "2025-07-04T13:46:47.448643Z",
     "start_time": "2025-07-04T13:45:49.690407Z"
    }
   },
   "cell_type": "code",
   "source": [
    "N = 538\n",
    "observed_outperform = 312\n",
    "\n",
    "prior = Pmf(1, range(N + 1))\n",
    "\n",
    "for h in prior.qs:\n",
    "    d = N - h # dishonest\n",
    "    total_prob = 0\n",
    "  # Go over all ways k honest members could have contributed to 312 outperformers\n",
    "    for k in range(max(0, observed_outperform - d), min(observed_outperform, h) + 1):\n",
    "        prob_honest = binom.pmf(k, h, 0.5)\n",
    "        prob_dishonest = binom.pmf(observed_outperform - k,d, 0.9)\n",
    "        total_prob += prob_honest * prob_dishonest\n",
    "    prior[h]*= total_prob\n",
    "prior.normalize()\n",
    "prior"
   ],
   "id": "1b21a4e489aa88b4",
   "outputs": [
    {
     "data": {
      "text/plain": [
       "0      6.665799e-84\n",
       "1      1.614825e-83\n",
       "2      3.906025e-83\n",
       "3      9.433626e-83\n",
       "4      2.274857e-82\n",
       "           ...     \n",
       "534    2.252782e-05\n",
       "535    2.002858e-05\n",
       "536    1.779023e-05\n",
       "537    1.578756e-05\n",
       "538    1.399754e-05\n",
       "Length: 539, dtype: float64"
      ],
      "text/html": [
       "<div>\n",
       "<style scoped>\n",
       "    .dataframe tbody tr th:only-of-type {\n",
       "        vertical-align: middle;\n",
       "    }\n",
       "\n",
       "    .dataframe tbody tr th {\n",
       "        vertical-align: top;\n",
       "    }\n",
       "\n",
       "    .dataframe thead th {\n",
       "        text-align: right;\n",
       "    }\n",
       "</style>\n",
       "<table border=\"1\" class=\"dataframe\">\n",
       "  <thead>\n",
       "    <tr style=\"text-align: right;\">\n",
       "      <th></th>\n",
       "      <th>probs</th>\n",
       "    </tr>\n",
       "  </thead>\n",
       "  <tbody>\n",
       "    <tr>\n",
       "      <th>0</th>\n",
       "      <td>6.665799e-84</td>\n",
       "    </tr>\n",
       "    <tr>\n",
       "      <th>1</th>\n",
       "      <td>1.614825e-83</td>\n",
       "    </tr>\n",
       "    <tr>\n",
       "      <th>2</th>\n",
       "      <td>3.906025e-83</td>\n",
       "    </tr>\n",
       "    <tr>\n",
       "      <th>3</th>\n",
       "      <td>9.433626e-83</td>\n",
       "    </tr>\n",
       "    <tr>\n",
       "      <th>4</th>\n",
       "      <td>2.274857e-82</td>\n",
       "    </tr>\n",
       "    <tr>\n",
       "      <th>...</th>\n",
       "      <td>...</td>\n",
       "    </tr>\n",
       "    <tr>\n",
       "      <th>534</th>\n",
       "      <td>2.252782e-05</td>\n",
       "    </tr>\n",
       "    <tr>\n",
       "      <th>535</th>\n",
       "      <td>2.002858e-05</td>\n",
       "    </tr>\n",
       "    <tr>\n",
       "      <th>536</th>\n",
       "      <td>1.779023e-05</td>\n",
       "    </tr>\n",
       "    <tr>\n",
       "      <th>537</th>\n",
       "      <td>1.578756e-05</td>\n",
       "    </tr>\n",
       "    <tr>\n",
       "      <th>538</th>\n",
       "      <td>1.399754e-05</td>\n",
       "    </tr>\n",
       "  </tbody>\n",
       "</table>\n",
       "<p>539 rows × 1 columns</p>\n",
       "</div>"
      ]
     },
     "execution_count": 150,
     "metadata": {},
     "output_type": "execute_result"
    }
   ],
   "execution_count": 150
  },
  {
   "metadata": {
    "ExecuteTime": {
     "end_time": "2025-07-04T13:46:59.469072Z",
     "start_time": "2025-07-04T13:46:58.124530Z"
    }
   },
   "cell_type": "code",
   "source": "prior.plot()",
   "id": "4390b06f1f782224",
   "outputs": [
    {
     "data": {
      "text/plain": [
       "<Axes: >"
      ]
     },
     "execution_count": 151,
     "metadata": {},
     "output_type": "execute_result"
    },
    {
     "data": {
      "text/plain": [
       "<Figure size 640x480 with 1 Axes>"
      ],
      "image/png": "[encoded data removed]"
     },
     "metadata": {},
     "output_type": "display_data"
    }
   ],
   "execution_count": 151
  },
  {
   "metadata": {
    "ExecuteTime": {
     "end_time": "2025-07-04T13:47:31.055507Z",
     "start_time": "2025-07-04T13:47:31.045147Z"
    }
   },
   "cell_type": "code",
   "source": "print(\"Most likely number of honest members:\", prior.idxmax())\n",
   "id": "518236e4d207cef0",
   "outputs": [
    {
     "name": "stdout",
     "output_type": "stream",
     "text": [
      "Most likely number of honest members: 430\n"
     ]
    }
   ],
   "execution_count": 152
  },
  {
   "metadata": {
    "ExecuteTime": {
     "end_time": "2025-07-04T14:12:55.395116Z",
     "start_time": "2025-07-04T14:12:55.085499Z"
    }
   },
   "cell_type": "code",
   "source": [
    "hypos = np.linspace(0, 1, 101)\n",
    "pmf = Pmf(1, hypos)\n",
    "data = 140, 250\n",
    "from scipy.stats import binom\n",
    "\n",
    "def update_binomial(pmf, data):\n",
    "    '''Update pmf using the binomial dist'''\n",
    "    k, n = data\n",
    "    xs = pmf.qs\n",
    "    likelihood = binom.pmf(k, n, xs)\n",
    "    pmf *= likelihood\n",
    "    pmf.normalize()\n",
    "update_binomial(pmf, data)\n",
    "\n",
    "cumulative = pmf.cumsum()\n",
    "cumulative[0.61]\n",
    "cumulative.plot()"
   ],
   "id": "231ec5b0c54e781e",
   "outputs": [
    {
     "data": {
      "text/plain": [
       "<Axes: >"
      ]
     },
     "execution_count": 191,
     "metadata": {},
     "output_type": "execute_result"
    },
    {
     "data": {
      "text/plain": [
       "<Figure size 640x480 with 1 Axes>"
      ],
      "image/png": "[encoded data removed]"
     },
     "metadata": {},
     "output_type": "display_data"
    }
   ],
   "execution_count": 191
  },
  {
   "metadata": {
    "ExecuteTime": {
     "end_time": "2025-07-04T14:13:16.894405Z",
     "start_time": "2025-07-04T14:13:16.595284Z"
    }
   },
   "cell_type": "code",
   "source": [
    "\n",
    "\n",
    "\n",
    "from scipy.interpolate import interp1d\n",
    "\n",
    "ps = cumulative.values\n",
    "qs = cumulative.index\n",
    "interp = interp1d(ps, qs)\n",
    "interp(0.96)"
   ],
   "id": "520f43a91e880a73",
   "outputs": [
    {
     "data": {
      "text/plain": [
       "array(0.60890171)"
      ]
     },
     "execution_count": 194,
     "metadata": {},
     "output_type": "execute_result"
    },
    {
     "data": {
      "text/plain": [
       "<Figure size 640x480 with 1 Axes>"
      ],
      "image/png": "[encoded data removed]"
     },
     "metadata": {},
     "output_type": "display_data"
    }
   ],
   "execution_count": 194
  },
  {
   "metadata": {
    "ExecuteTime": {
     "end_time": "2025-07-04T14:14:31.905580Z",
     "start_time": "2025-07-04T14:14:31.898465Z"
    }
   },
   "cell_type": "code",
   "source": [
    "cdf = pmf.make_cdf()\n",
    "cdf(0.615)\n",
    "\n",
    "cdf.quantile(0.9638303)"
   ],
   "id": "b9a3bd643423f01a",
   "outputs": [
    {
     "data": {
      "text/plain": [
       "array(0.61)"
      ]
     },
     "execution_count": 200,
     "metadata": {},
     "output_type": "execute_result"
    }
   ],
   "execution_count": 200
  },
  {
   "metadata": {
    "ExecuteTime": {
     "end_time": "2025-07-04T14:14:46.483771Z",
     "start_time": "2025-07-04T14:14:46.475594Z"
    }
   },
   "cell_type": "code",
   "source": "cdf.credible_interval(0.9)",
   "id": "7875b14d246c40d9",
   "outputs": [
    {
     "data": {
      "text/plain": [
       "array([0.51, 0.61])"
      ]
     },
     "execution_count": 201,
     "metadata": {},
     "output_type": "execute_result"
    }
   ],
   "execution_count": 201
  },
  {
   "metadata": {
    "ExecuteTime": {
     "end_time": "2025-07-04T14:15:00.843148Z",
     "start_time": "2025-07-04T14:15:00.837865Z"
    }
   },
   "cell_type": "code",
   "source": "pmf = cdf.make_pmf()",
   "id": "f47e58ffb2470dac",
   "outputs": [],
   "execution_count": 202
  },
  {
   "metadata": {
    "ExecuteTime": {
     "end_time": "2025-07-04T14:15:06.672070Z",
     "start_time": "2025-07-04T14:15:06.659103Z"
    }
   },
   "cell_type": "code",
   "source": "pmf",
   "id": "2695c92cbdc23fc1",
   "outputs": [
    {
     "data": {
      "text/plain": [
       "0.00     0.000000e+00\n",
       "0.01    1.256330e-207\n",
       "0.02    5.731921e-166\n",
       "0.03    8.338711e-142\n",
       "0.04    8.269265e-125\n",
       "            ...      \n",
       "0.96     0.000000e+00\n",
       "0.97     0.000000e+00\n",
       "0.98     0.000000e+00\n",
       "0.99     0.000000e+00\n",
       "1.00     0.000000e+00\n",
       "Length: 101, dtype: float64"
      ],
      "text/html": [
       "<div>\n",
       "<style scoped>\n",
       "    .dataframe tbody tr th:only-of-type {\n",
       "        vertical-align: middle;\n",
       "    }\n",
       "\n",
       "    .dataframe tbody tr th {\n",
       "        vertical-align: top;\n",
       "    }\n",
       "\n",
       "    .dataframe thead th {\n",
       "        text-align: right;\n",
       "    }\n",
       "</style>\n",
       "<table border=\"1\" class=\"dataframe\">\n",
       "  <thead>\n",
       "    <tr style=\"text-align: right;\">\n",
       "      <th></th>\n",
       "      <th>probs</th>\n",
       "    </tr>\n",
       "  </thead>\n",
       "  <tbody>\n",
       "    <tr>\n",
       "      <th>0.00</th>\n",
       "      <td>0.000000e+00</td>\n",
       "    </tr>\n",
       "    <tr>\n",
       "      <th>0.01</th>\n",
       "      <td>1.256330e-207</td>\n",
       "    </tr>\n",
       "    <tr>\n",
       "      <th>0.02</th>\n",
       "      <td>5.731921e-166</td>\n",
       "    </tr>\n",
       "    <tr>\n",
       "      <th>0.03</th>\n",
       "      <td>8.338711e-142</td>\n",
       "    </tr>\n",
       "    <tr>\n",
       "      <th>0.04</th>\n",
       "      <td>8.269265e-125</td>\n",
       "    </tr>\n",
       "    <tr>\n",
       "      <th>...</th>\n",
       "      <td>...</td>\n",
       "    </tr>\n",
       "    <tr>\n",
       "      <th>0.96</th>\n",
       "      <td>0.000000e+00</td>\n",
       "    </tr>\n",
       "    <tr>\n",
       "      <th>0.97</th>\n",
       "      <td>0.000000e+00</td>\n",
       "    </tr>\n",
       "    <tr>\n",
       "      <th>0.98</th>\n",
       "      <td>0.000000e+00</td>\n",
       "    </tr>\n",
       "    <tr>\n",
       "      <th>0.99</th>\n",
       "      <td>0.000000e+00</td>\n",
       "    </tr>\n",
       "    <tr>\n",
       "      <th>1.00</th>\n",
       "      <td>0.000000e+00</td>\n",
       "    </tr>\n",
       "  </tbody>\n",
       "</table>\n",
       "<p>101 rows × 1 columns</p>\n",
       "</div>"
      ]
     },
     "execution_count": 203,
     "metadata": {},
     "output_type": "execute_result"
    }
   ],
   "execution_count": 203
  },
  {
   "metadata": {
    "ExecuteTime": {
     "end_time": "2025-07-04T14:16:39.311007Z",
     "start_time": "2025-07-04T14:16:39.304688Z"
    }
   },
   "cell_type": "code",
   "source": [
    "die = make_die(6)\n",
    "dice =[die] * 3\n",
    "\n",
    "pmf_3d6 = add_dist_seq(dice)"
   ],
   "id": "3489772a33fffe72",
   "outputs": [],
   "execution_count": 206
  },
  {
   "metadata": {
    "ExecuteTime": {
     "end_time": "2025-07-04T14:17:16.994839Z",
     "start_time": "2025-07-04T14:17:16.660623Z"
    }
   },
   "cell_type": "code",
   "source": "pmf_3d6.plot()",
   "id": "815335b7b4310463",
   "outputs": [
    {
     "data": {
      "text/plain": [
       "<Axes: >"
      ]
     },
     "execution_count": 207,
     "metadata": {},
     "output_type": "execute_result"
    },
    {
     "data": {
      "text/plain": [
       "<Figure size 640x480 with 1 Axes>"
      ],
      "image/png": "[encoded data removed]"
     },
     "metadata": {},
     "output_type": "display_data"
    }
   ],
   "execution_count": 207
  },
  {
   "metadata": {
    "ExecuteTime": {
     "end_time": "2025-07-04T14:20:05.163424Z",
     "start_time": "2025-07-04T14:20:05.151268Z"
    }
   },
   "cell_type": "code",
   "source": [
    "n = 10000\n",
    "a = np.random.randint(1, 7, size = (n, 4))\n",
    "a.sort(axis = 1)\n",
    "t = a[:, 1:].sum(axis = 1)\n",
    "pmf_best3 = Pmf.from_seq(t)\n",
    "pmf_best3"
   ],
   "id": "b83e8fd84137850",
   "outputs": [
    {
     "data": {
      "text/plain": [
       "3     0.0015\n",
       "4     0.0031\n",
       "5     0.0068\n",
       "6     0.0161\n",
       "7     0.0287\n",
       "8     0.0490\n",
       "9     0.0697\n",
       "10    0.0983\n",
       "11    0.1193\n",
       "12    0.1306\n",
       "13    0.1275\n",
       "14    0.1132\n",
       "15    0.1023\n",
       "16    0.0723\n",
       "17    0.0444\n",
       "18    0.0172\n",
       "Name: , dtype: float64"
      ],
      "text/html": [
       "<div>\n",
       "<style scoped>\n",
       "    .dataframe tbody tr th:only-of-type {\n",
       "        vertical-align: middle;\n",
       "    }\n",
       "\n",
       "    .dataframe tbody tr th {\n",
       "        vertical-align: top;\n",
       "    }\n",
       "\n",
       "    .dataframe thead th {\n",
       "        text-align: right;\n",
       "    }\n",
       "</style>\n",
       "<table border=\"1\" class=\"dataframe\">\n",
       "  <thead>\n",
       "    <tr style=\"text-align: right;\">\n",
       "      <th></th>\n",
       "      <th>probs</th>\n",
       "    </tr>\n",
       "  </thead>\n",
       "  <tbody>\n",
       "    <tr>\n",
       "      <th>3</th>\n",
       "      <td>0.0015</td>\n",
       "    </tr>\n",
       "    <tr>\n",
       "      <th>4</th>\n",
       "      <td>0.0031</td>\n",
       "    </tr>\n",
       "    <tr>\n",
       "      <th>5</th>\n",
       "      <td>0.0068</td>\n",
       "    </tr>\n",
       "    <tr>\n",
       "      <th>6</th>\n",
       "      <td>0.0161</td>\n",
       "    </tr>\n",
       "    <tr>\n",
       "      <th>7</th>\n",
       "      <td>0.0287</td>\n",
       "    </tr>\n",
       "    <tr>\n",
       "      <th>8</th>\n",
       "      <td>0.0490</td>\n",
       "    </tr>\n",
       "    <tr>\n",
       "      <th>9</th>\n",
       "      <td>0.0697</td>\n",
       "    </tr>\n",
       "    <tr>\n",
       "      <th>10</th>\n",
       "      <td>0.0983</td>\n",
       "    </tr>\n",
       "    <tr>\n",
       "      <th>11</th>\n",
       "      <td>0.1193</td>\n",
       "    </tr>\n",
       "    <tr>\n",
       "      <th>12</th>\n",
       "      <td>0.1306</td>\n",
       "    </tr>\n",
       "    <tr>\n",
       "      <th>13</th>\n",
       "      <td>0.1275</td>\n",
       "    </tr>\n",
       "    <tr>\n",
       "      <th>14</th>\n",
       "      <td>0.1132</td>\n",
       "    </tr>\n",
       "    <tr>\n",
       "      <th>15</th>\n",
       "      <td>0.1023</td>\n",
       "    </tr>\n",
       "    <tr>\n",
       "      <th>16</th>\n",
       "      <td>0.0723</td>\n",
       "    </tr>\n",
       "    <tr>\n",
       "      <th>17</th>\n",
       "      <td>0.0444</td>\n",
       "    </tr>\n",
       "    <tr>\n",
       "      <th>18</th>\n",
       "      <td>0.0172</td>\n",
       "    </tr>\n",
       "  </tbody>\n",
       "</table>\n",
       "</div>"
      ]
     },
     "execution_count": 212,
     "metadata": {},
     "output_type": "execute_result"
    }
   ],
   "execution_count": 212
  },
  {
   "metadata": {},
   "cell_type": "code",
   "outputs": [],
   "execution_count": null,
   "source": "",
   "id": "6c6d9bd09ae88010"
  }
 ],
 "metadata": {
  "kernelspec": {
   "display_name": "Python 3",
   "language": "python",
   "name": "python3"
  },
  "language_info": {
   "codemirror_mode": {
    "name": "ipython",
    "version": 2
   },
   "file_extension": ".py",
   "mimetype": "text/x-python",
   "name": "python",
   "nbconvert_exporter": "python",
   "pygments_lexer": "ipython2",
   "version": "2.7.6"
  }
 },
 "nbformat": 4,
 "nbformat_minor": 5
}
