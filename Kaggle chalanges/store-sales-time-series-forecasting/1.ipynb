{
 "cells": [
  {
   "cell_type": "code",
   "id": "initial_id",
   "metadata": {
    "collapsed": true
   },
   "source": [
    "import numpy as np\n",
    "import pandas as pd\n",
    "import os\n",
    "import gc\n",
    "import warnings\n",
    "# PACF\n",
    "import  statsmodels.api as sm\n",
    "\n",
    "import matplotlib.pyplot as plt\n",
    "import seaborn as sns\n",
    "import plotly.express as px\n",
    "from matplotlib.lines import lineStyles\n",
    "from numpy.ma.extras import corrcoef\n",
    "from pandas.tseries.holiday import holiday_calendars\n",
    "\n",
    "pd.set_option('display.max_columns', None)\n",
    "pd.options.display.float_format = '{:.2f}'.format\n",
    "warnings.filterwarnings('ignore')"
   ],
   "outputs": [],
   "execution_count": null
  },
  {
   "metadata": {},
   "cell_type": "code",
   "source": [
    "train = pd.read_csv('train.csv')\n",
    "test = pd.read_csv('test.csv')\n",
    "stores = pd.read_csv('stores.csv')\n",
    "transactions = pd.read_csv('transactions.csv').sort_values(['store_nbr', 'date'])\n",
    "oil_price =pd.read_csv('oil.csv')\n",
    "\n",
    "train['date'] = pd.to_datetime(train.date)\n",
    "test['date'] = pd.to_datetime(test.date)\n",
    "transactions['date'] = pd.to_datetime(transactions.date)\n",
    "\n",
    "#"
   ],
   "id": "de87c2117b50cd97",
   "outputs": [],
   "execution_count": null
  },
  {
   "metadata": {},
   "cell_type": "code",
   "source": [
    "train.onpromotion = train.onpromotion.astype(\"float16\")\n",
    "train.sales = train.sales.astype('float32')\n",
    "stores.cluster = stores.cluster.astype('int8')\n",
    "\n",
    "train.head()"
   ],
   "id": "a67eb4a5fb0f1000",
   "outputs": [],
   "execution_count": null
  },
  {
   "metadata": {},
   "cell_type": "code",
   "source": [
    "temp = pd.merge(train.groupby([\"date\", \"store_nbr\"]).sales.sum().reset_index(), transactions, how = \"left\")\n",
    "print(\"Spearman Correlation between Total Sales and Transactions: {:,.4f}\".format(temp[['sales', 'transactions']].corr(method = \"spearman\").sales.loc[\"transactions\",]))\n",
    "px.line(transactions.sort_values([\"store_nbr\", \"date\"]), x = 'date', y='transactions', color = 'store_nbr', title = \"Transactions\")"
   ],
   "id": "d7ae8a0258702a9c",
   "outputs": [],
   "execution_count": null
  },
  {
   "metadata": {},
   "cell_type": "code",
   "source": [
    "a = transactions.copy()\n",
    "\n",
    "\n",
    "a[\"year\"] = a.date.dt.year\n",
    "a[\"month\"] = a.date.dt.month\n",
    "px.box(a, x=\"year\", y=\"transactions\" , color = \"month\", title = \"Transactions\")"
   ],
   "id": "d7b354c995451be8",
   "outputs": [],
   "execution_count": null
  },
  {
   "metadata": {},
   "cell_type": "code",
   "source": [
    "a = transactions.set_index('date').resample(\"M\").transactions.mean().reset_index()\n",
    "a['year'] = a.date.dt.year\n",
    "px.line(a, x = 'date', y='transactions', color = 'year', title = 'Monthly Average Transactions')"
   ],
   "id": "794794aec6bdeead",
   "outputs": [],
   "execution_count": null
  },
  {
   "metadata": {},
   "cell_type": "code",
   "source": "a",
   "id": "4096b8e4a8f3aa93",
   "outputs": [],
   "execution_count": null
  },
  {
   "metadata": {},
   "cell_type": "code",
   "source": "px.scatter(temp, x = 'transactions', y = 'sales', trendline = 'ols', trendline_color_override = 'red')",
   "id": "4e979ecd17f2a9b5",
   "outputs": [],
   "execution_count": null
  },
  {
   "metadata": {},
   "cell_type": "code",
   "source": [
    "a=transactions.copy()\n",
    "a['year'] = a.date.dt.year\n",
    "a['dayofweek'] = a.date.dt.dayofweek + 1\n",
    "a = a.groupby([\"year\", \"dayofweek\"]).transactions.mean().reset_index()\n",
    "\n",
    "px.line(a,x = 'dayofweek', y = 'transactions', color = 'year', title = 'Transactions')"
   ],
   "id": "baafb4a82f871f55",
   "outputs": [],
   "execution_count": null
  },
  {
   "metadata": {},
   "cell_type": "code",
   "source": [
    "oil = (pd.read_csv(\"oil.csv\"))\n",
    "\n",
    "oil['date'] = pd.to_datetime(oil.date)\n",
    "oil = oil.set_index('date').dcoilwtico.resample(\"D\").sum().reset_index()\n",
    "\n",
    "oil['dcoilwtico'] = np.where(oil['dcoilwtico'] == 0, np.nan, oil['dcoilwtico'])\n",
    "oil['dcoilwtico_interpolated'] = oil.dcoilwtico.interpolate()\n",
    "\n",
    "p = oil.melt(id_vars = ['date'] + list(oil.keys()[5:]), var_name = 'Legend')\n",
    "px.line(p.sort_values(['Legend', 'date'], ascending = [False, True]), x = 'date', y = 'value', color = 'Legend', title = 'Daily Oil Price')"
   ],
   "id": "5b657b6eec38a98c",
   "outputs": [],
   "execution_count": null
  },
  {
   "metadata": {},
   "cell_type": "code",
   "source": [
    "temp = pd.merge(temp, oil, how = 'left')\n",
    "print(\"Correlation with Daily Oil Prices\")\n",
    "print(temp.drop([\"store_nbr\", \"dcoilwtico\"], axis = 1).corr(\"spearman\").dcoilwtico_interpolated.loc[[\"sales\", \"transactions\"]], \"\\n\")\n",
    "\n",
    "fig, axes = plt.subplots(1, 2, figsize = (15, 5))\n",
    "temp.plot.scatter(x = \"dcoilwtico_interpolated\", y = \"transactions\", ax = axes[0])\n",
    "temp.plot.scatter(x = 'dcoilwtico_interpolated', y = 'sales', ax = axes[1], color = 'red')\n",
    "\n",
    "axes[0].set_title(\"Daily oil price & Transactions\", fontsize = 15)\n",
    "axes[1].set_title(\"Daily oil price & Sales\", fontsize = 15)"
   ],
   "id": "ee1c3842b872f19b",
   "outputs": [],
   "execution_count": null
  },
  {
   "metadata": {},
   "cell_type": "code",
   "source": "a = pd.merge(train.groupby(['date', 'family']).sales.sum().reset_index(), oil.drop('dcoilwtico', axis = 1), how = 'left')",
   "id": "74fb0ecb2180f755",
   "outputs": [],
   "execution_count": null
  },
  {
   "metadata": {},
   "cell_type": "code",
   "source": [
    "c = a.groupby('family').corr(\"spearman\").reset_index()\n",
    "c = c[c.level_1 == \"dcoilwtico_interpolated\"][[\"family\", 'sales']].sort_values('sales')\n",
    "\n",
    "fig, axes = plt.subplots(7, 5, figsize = (20, 20))\n",
    "for i, fam in enumerate(c.family):\n",
    "    if i < 6:\n",
    "        a[a.family == fam].plot.scatter(x = 'dcoilwtico_interpolated', y ='sales', ax = axes[0, i-1])\n",
    "\n",
    "        axes[0, i-1].axvline(x = 70, color = 'r', linestyle = \"--\")\n",
    "\n",
    "        axes[0, i - 1].set_title(fam + '\\n Correlation:' + str(c[c.family == fam].sales.iloc[0])[:6], fontsize = 12)\n",
    "\n",
    "    if i >= 6 and i < 11:\n",
    "        a[a.family == fam].plot.scatter(x = 'dcoilwtico_interpolated', y = 'sales', ax = axes[1, i - 6])\n",
    "\n",
    "        axes[1, i-6].set_title(fam + \"\\n Correlation\" + str(c[c.family == fam].sales.iloc[0])[:6],\n",
    "                                   fontsize = 12)\n",
    "\n",
    "        axes[1, i-6].axvline(x=70, color = 'r', linestyle = '--')\n",
    "    if i >= 11 and i < 16:\n",
    "        a[a.family == fam].plot.scatter(x = 'dcoilwtico_interpolated', y = 'sales', ax = axes[2, i - 11])\n",
    "\n",
    "        axes[2, i - 11].set_title(fam + '\\n Correlations:' + str(c[c.family == fam].sales.iloc[0])[:6],\n",
    "                                                                 fontsize = 12)\n",
    "        axes[2, i - 11].axvline(x = 70, color = 'r', linestyle = '--')\n",
    "    if i >= 16 and i < 21:\n",
    "        a[a.family == fam].plot.scatter(x = 'dcoilwtico_interpolated', y = 'sales', ax = axes[3, i - 16])\n",
    "        axes[3, i - 16].set_title(fam + '\\n Correlation:' + str(c[c.family == fam].sales.iloc[0])[:6], fontsize = 12)\n",
    "        axes[3, i - 16].axvline(x = 70, color = 'r', linestyle = '--')\n",
    "    if i >= 21 and i < 26:\n",
    "        a[a.family == fam].plot.scatter(x = 'dcoilwtico_interpolated', y = 'sales', ax = axes[4, i - 21])\n",
    "        axes[4, i - 21].set_title(fam + '\\n Correlation' + str(c[c.family == fam].sales.iloc[0])[:6], fontsize = 12)\n",
    "        axes[4, i-21].axvline(x = 70, color = 'r', linestyle = '--')\n",
    "    if i >= 26 and i < 31:\n",
    "        a[a.family == fam].plot.scatter(x = 'dcoilwtico_interpolated', y = 'sales', ax = axes[5, i - 26])\n",
    "        axes[5, i-26].set_title(fam + '\\n Correlation' + str(c[c.family == fam].sales.iloc[0])[:6], fontsize = 12)\n",
    "        axes[5, i-26].axvline(x = 70, color = 'r', linestyle = '--')\n",
    "    if i >= 31:\n",
    "        a[a.family == fam].plot.scatter(x = 'dcoilwtico_interpolated', y = 'sales', ax = axes[6, i-31])\n",
    "        axes[6, i-31].set_title(fam + '\\n Correlation:' + str(c[c.family == fam].sales.iloc[0])[:6], fontsize = 12)\n",
    "plt.tight_layout(pad = 5)\n",
    "plt.suptitle(\"Daily Oil Product & Total Family Sales \\n\", fontsize = 20)\n",
    "plt.show()"
   ],
   "id": "119a3dc42122fe33",
   "outputs": [],
   "execution_count": null
  },
  {
   "metadata": {},
   "cell_type": "code",
   "source": "",
   "id": "fdac0fe27b118a3c",
   "outputs": [],
   "execution_count": null
  },
  {
   "metadata": {},
   "cell_type": "code",
   "source": [
    "a = train[[\"store_nbr\", \"sales\"]]\n",
    "\n",
    "a['ind'] =1\n",
    "a[\"ind\"] = a.groupby(\"store_nbr\").ind.cumsum().values\n",
    "\n",
    "a = pd.pivot(a, index = 'ind', columns = 'store_nbr', values = 'sales').corr()\n",
    "mask = np.triu(a.corr())\n",
    "\n",
    "plt.figure(figsize = (20, 20 ))\n",
    "sns.heatmap(a,\n",
    "           annot = True,\n",
    "           fmt = '.1f',\n",
    "           cmap = 'coolwarm',\n",
    "           square = True,\n",
    "           mask = mask,\n",
    "           linewidth = 1,\n",
    "           cbar = False)\n",
    "plt.title(\"Correlation among stores\", fontsize = 20)\n",
    "plt.show()"
   ],
   "id": "30fa5c62af036a4c",
   "outputs": [],
   "execution_count": null
  },
  {
   "metadata": {},
   "cell_type": "code",
   "source": [
    "a = train.set_index(\"date\").groupby(\"store_nbr\").resample(\"D\").sales.sum().reset_index()\n",
    "px.line(a, x='date', y = 'sales', color = 'store_nbr', title = \"Daily total sales of the stores\")"
   ],
   "id": "c00e0c7a2a2112bf",
   "outputs": [],
   "execution_count": null
  },
  {
   "metadata": {},
   "cell_type": "code",
   "source": [
    "train = train[~((train.store_nbr == 52) & (train.date <'2017-04-20' ))]\n",
    "train = train[~((train.store_nbr == 22) & (train.date < '2015-10-09'))]\n",
    "train = train[~((train.store_nbr== 42) & (train.date < '2015-08-21'))]\n",
    "train = train[~((train.store_nbr== 21) & (train.date < '2015-07-24'))]\n",
    "train = train[~((train.store_nbr== 29) & (train.date < '2015-03-20'))]\n",
    "train = train[~((train.store_nbr==20) & (train.date < '2015-02-13'))]\n",
    "train = train[~((train.store_nbr == 53) & (train.date < '2014-05-29'))]\n",
    "train = train[~((train.store_nbr == 36) & (train.date < '2013-05-09'))]\n",
    "train.shape"
   ],
   "id": "4964249feb10917",
   "outputs": [],
   "execution_count": null
  },
  {
   "metadata": {},
   "cell_type": "code",
   "source": [
    "c = train.groupby(['store_nbr', 'family']).sales.sum().reset_index().sort_values(['family','store_nbr'])\n",
    "c = c[c.sales == 0]\n",
    "c"
   ],
   "id": "dd7bbdb63b95c7d9",
   "outputs": [],
   "execution_count": null
  },
  {
   "metadata": {},
   "cell_type": "code",
   "source": [
    "print(train.shape)\n",
    "# Anti join\n",
    "outer_join = train.merge(c[c.sales == 0].drop('sales', axis = 1), how = 'outer', indicator = True)\n",
    "train = outer_join[~(outer_join._merge == 'both')].drop('_merge', axis = 1)\n",
    "del outer_join\n",
    "gc.collect()\n",
    "train.shape"
   ],
   "id": "bd8c3cffa3f81598",
   "outputs": [],
   "execution_count": null
  },
  {
   "metadata": {},
   "cell_type": "code",
   "source": [
    "zero_prediction = []\n",
    "for i in range(0, len(c)):\n",
    "    zero_prediction.append(\n",
    "        pd.DataFrame({\n",
    "            \"date\": pd.date_range(\"2017-08-16\", \"2017-08-31\").tolist(),\n",
    "            \"store_nbr\": c.store_nbr.iloc[i],\n",
    "            \"family\":c.family.iloc[i],\n",
    "            \"sales\":0\n",
    "\n",
    "        })\n",
    "    )\n",
    "zero_prediction = pd.concat(zero_prediction)\n",
    "del c\n",
    "gc.collect()\n",
    "zero_prediction"
   ],
   "id": "eac4c0de49a68788",
   "outputs": [],
   "execution_count": null
  },
  {
   "metadata": {},
   "cell_type": "code",
   "source": [
    "c = train.groupby([\"family\", \"store_nbr\"]).tail(60).groupby([\"family\", \"store_nbr\"]).sales.sum().reset_index()\n",
    "c[c.sales == 0]"
   ],
   "id": "8a965e38e7d5060f",
   "outputs": [],
   "execution_count": null
  },
  {
   "metadata": {},
   "cell_type": "code",
   "source": [
    "fig, ax = plt.subplots(1, 5, figsize = (20, 4))\n",
    "train[(train.store_nbr == 10) & (train.family == \"LAWN AND GARDEN\")].set_index(\"date\").sales.plot(ax = ax[0], title = \"STORE 10 - LAWN AND GARDEN\")\n",
    "\n",
    "train[(train.store_nbr == 36) & (train.family == \"LADIESWEAR\")].set_index('date').sales.plot(ax = ax[1], title = \"STORE 36 - LADIESWEAR\")\n",
    "\n",
    "train[(train.store_nbr == 6) & (train.family == \"SCHOOL AND OFFICE SUPPLIES\")].set_index('date').sales.plot(ax = ax[2], title = \"STORE 6 - SCHOOL AND OFFICE SUPLIES\")\n",
    "\n",
    "train[(train.store_nbr == 14) & (train.family =='BABY CARE')].set_index('date').sales.plot(ax = ax[3], title = \"STORE 14 - BABY CARE\")\n",
    "\n",
    "train[(train.store_nbr== 42) & (train.family == 'BOOKS')].set_index('date').sales.plot(ax = ax[4], title = \"STORE 42 - BOOKS\")\n"
   ],
   "id": "8e7abd1321419b38",
   "outputs": [],
   "execution_count": null
  },
  {
   "metadata": {},
   "cell_type": "code",
   "source": [
    "a = train.set_index('date').groupby(\"family\").resample(\"D\").sales.sum().reset_index()\n",
    "px.line(a, x = 'date', y = 'sales', color = 'family', title = \"Daily total sales of the family\")"
   ],
   "id": "4da26456f92ffb8d",
   "outputs": [],
   "execution_count": null
  },
  {
   "metadata": {},
   "cell_type": "code",
   "source": [
    "a = train.groupby('family').sales.mean().sort_values(ascending = False).reset_index()\n",
    "px.bar(a, y = 'family', x = 'sales', color = \"family\", title = \"Which product family preferred more?\")\n"
   ],
   "id": "4983e6926ea6e87c",
   "outputs": [],
   "execution_count": null
  },
  {
   "metadata": {},
   "cell_type": "code",
   "source": [
    "d = pd.merge(train, stores)\n",
    "d['store_nbr'] = d['store_nbr'].astype('int8')\n",
    "d['year'] = d.date.dt.year\n",
    "px.line(d.groupby([\"city\", \"year\"]).sales.mean().reset_index(), x = 'year', y = 'sales', color = 'city')"
   ],
   "id": "11e9c0c95ed4dab3",
   "outputs": [],
   "execution_count": null
  },
  {
   "metadata": {},
   "cell_type": "code",
   "source": [
    "import pandas as pd\n",
    "\n",
    "holidays = pd.read_csv('holidays_events.csv')\n",
    "holidays['date'] = pd.to_datetime(holidays.date)\n",
    "\n",
    "# Extract transferred holidays (original holidays that were moved)\n",
    "tr1 = holidays[(holidays.type == 'Holiday') & (holidays.transferred == True)].drop(\"transferred\", axis=1)\n",
    "\n",
    "# Extract transfer days (new dates replacing the transferred holidays)\n",
    "tr2 = holidays[(holidays.type == 'Transfer')].drop('transferred', axis=1)\n",
    "\n",
    "# Combine both into one DataFrame\n",
    "tr = pd.concat([tr1, tr2], axis=0).reset_index(drop=True)\n",
    "\n",
    "# Filter out the transferred and transfer types from original holidays\n",
    "holidays = holidays[(holidays.transferred == False) & (holidays.type != \"Transfer\")].drop('transferred', axis=1)\n",
    "\n",
    "# Append the transferred holidays and their transfer dates back\n",
    "holidays = pd.concat([holidays, tr], axis=0).reset_index(drop=True)\n",
    "\n"
   ],
   "id": "c461e2679cba4080",
   "outputs": [],
   "execution_count": null
  },
  {
   "metadata": {},
   "cell_type": "code",
   "source": "",
   "id": "c296d1850dcc51f9",
   "outputs": [],
   "execution_count": null
  },
  {
   "metadata": {},
   "cell_type": "code",
   "source": "",
   "id": "969d0d223edb0339",
   "outputs": [],
   "execution_count": null
  }
 ],
 "metadata": {
  "kernelspec": {
   "display_name": "Python 3",
   "language": "python",
   "name": "python3"
  },
  "language_info": {
   "codemirror_mode": {
    "name": "ipython",
    "version": 2
   },
   "file_extension": ".py",
   "mimetype": "text/x-python",
   "name": "python",
   "nbconvert_exporter": "python",
   "pygments_lexer": "ipython2",
   "version": "2.7.6"
  }
 },
 "nbformat": 4,
 "nbformat_minor": 5
}
