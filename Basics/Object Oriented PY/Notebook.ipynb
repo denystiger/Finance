{
 "cells": [
  {
   "cell_type": "code",
   "id": "initial_id",
   "metadata": {
    "collapsed": true,
    "ExecuteTime": {
     "end_time": "2025-06-22T13:47:50.709065Z",
     "start_time": "2025-06-22T13:47:50.704944Z"
    }
   },
   "source": "from TV import TV",
   "outputs": [],
   "execution_count": 1
  },
  {
   "metadata": {
    "ExecuteTime": {
     "end_time": "2025-06-22T13:48:09.291622Z",
     "start_time": "2025-06-22T13:48:09.288434Z"
    }
   },
   "cell_type": "code",
   "source": "oTV = TV()",
   "id": "853bac88b0daf0da",
   "outputs": [],
   "execution_count": 2
  },
  {
   "metadata": {
    "ExecuteTime": {
     "end_time": "2025-06-22T13:48:13.967205Z",
     "start_time": "2025-06-22T13:48:13.963804Z"
    }
   },
   "cell_type": "code",
   "source": "oTV.power()",
   "id": "9127efc61db0f44d",
   "outputs": [],
   "execution_count": 3
  },
  {
   "metadata": {
    "ExecuteTime": {
     "end_time": "2025-06-22T13:48:23.657780Z",
     "start_time": "2025-06-22T13:48:23.654222Z"
    }
   },
   "cell_type": "code",
   "source": "oTV.showInfo()",
   "id": "959a099a4c74b841",
   "outputs": [
    {
     "name": "stdout",
     "output_type": "stream",
     "text": [
      "\n",
      "TV Status:\n",
      "    TV is: ON\n",
      "    Channel is  0\n",
      "      Volume is 5\n"
     ]
    }
   ],
   "execution_count": 4
  },
  {
   "metadata": {},
   "cell_type": "code",
   "outputs": [],
   "execution_count": null,
   "source": "",
   "id": "c3108074b2c6e8b7"
  }
 ],
 "metadata": {
  "kernelspec": {
   "display_name": "Python 3",
   "language": "python",
   "name": "python3"
  },
  "language_info": {
   "codemirror_mode": {
    "name": "ipython",
    "version": 2
   },
   "file_extension": ".py",
   "mimetype": "text/x-python",
   "name": "python",
   "nbconvert_exporter": "python",
   "pygments_lexer": "ipython2",
   "version": "2.7.6"
  }
 },
 "nbformat": 4,
 "nbformat_minor": 5
}
