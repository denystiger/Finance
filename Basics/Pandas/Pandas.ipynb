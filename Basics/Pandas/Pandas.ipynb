{
 "cells": [
  {
   "cell_type": "code",
   "id": "initial_id",
   "metadata": {
    "collapsed": true,
    "ExecuteTime": {
     "end_time": "2025-06-14T04:04:45.943488Z",
     "start_time": "2025-06-14T04:04:45.253502Z"
    }
   },
   "source": [
    "from itertools import accumulate\n",
    "\n",
    "import numpy as np\n",
    "import requests\n",
    "from tensorflow.python.ops.numpy_ops.np_array_ops import newaxis\n",
    "\n",
    "url = 'https://api.github.com/repos/pandas-dev/pandas/issues'\n",
    "resp = requests.get(url)"
   ],
   "outputs": [],
   "execution_count": 1
  },
  {
   "metadata": {
    "ExecuteTime": {
     "end_time": "2025-06-14T04:04:49.102970Z",
     "start_time": "2025-06-14T04:04:49.094792Z"
    }
   },
   "cell_type": "code",
   "source": "",
   "id": "95695d9792453a67",
   "outputs": [
    {
     "data": {
      "text/plain": [
       "<Response [200]>"
      ]
     },
     "execution_count": 2,
     "metadata": {},
     "output_type": "execute_result"
    }
   ],
   "execution_count": 2
  },
  {
   "metadata": {
    "ExecuteTime": {
     "end_time": "2025-06-14T04:08:08.934579Z",
     "start_time": "2025-06-14T04:08:08.690448Z"
    }
   },
   "cell_type": "code",
   "source": "",
   "id": "6786ce7bbab55e57",
   "outputs": [
    {
     "ename": "NameError",
     "evalue": "name 'con' is not defined",
     "output_type": "error",
     "traceback": [
      "\u001B[0;31m---------------------------------------------------------------------------\u001B[0m",
      "\u001B[0;31mNameError\u001B[0m                                 Traceback (most recent call last)",
      "Cell \u001B[0;32mIn[3], line 1\u001B[0m\n\u001B[0;32m----> 1\u001B[0m cursor \u001B[38;5;241m=\u001B[39m \u001B[43mcon\u001B[49m\u001B[38;5;241m.\u001B[39mexecute(\u001B[38;5;124m'\u001B[39m\u001B[38;5;124mselect * from test\u001B[39m\u001B[38;5;124m'\u001B[39m)\n\u001B[1;32m      2\u001B[0m rows \u001B[38;5;241m=\u001B[39m cursor\u001B[38;5;241m.\u001B[39mfetchall()\n\u001B[1;32m      3\u001B[0m rows\n",
      "\u001B[0;31mNameError\u001B[0m: name 'con' is not defined"
     ]
    }
   ],
   "execution_count": 3
  },
  {
   "metadata": {
    "ExecuteTime": {
     "end_time": "2025-06-14T04:13:14.099333Z",
     "start_time": "2025-06-14T04:13:12.716071Z"
    }
   },
   "cell_type": "code",
   "source": [
    "import sqlalchemy as sqla\n",
    "import pandas as pd\n",
    "import numpy as np\n",
    "db = sqla.create_engine('sqlite:///mydata.sqlaite')\n",
    "\n",
    "pd.read_sql('select * from test', db)"
   ],
   "id": "8d84408129555103",
   "outputs": [
    {
     "ename": "OperationalError",
     "evalue": "(sqlite3.OperationalError) no such table: test\n[SQL: select * from test]\n(Background on this error at: https://sqlalche.me/e/20/e3q8)",
     "output_type": "error",
     "traceback": [
      "\u001B[0;31m---------------------------------------------------------------------------\u001B[0m",
      "\u001B[0;31mOperationalError\u001B[0m                          Traceback (most recent call last)",
      "File \u001B[0;32m~/Documents/MYSpace/FinPy/.venv/lib/python3.10/site-packages/sqlalchemy/engine/base.py:1963\u001B[0m, in \u001B[0;36mConnection._exec_single_context\u001B[0;34m(self, dialect, context, statement, parameters)\u001B[0m\n\u001B[1;32m   1962\u001B[0m     \u001B[38;5;28;01mif\u001B[39;00m \u001B[38;5;129;01mnot\u001B[39;00m evt_handled:\n\u001B[0;32m-> 1963\u001B[0m         \u001B[38;5;28;43mself\u001B[39;49m\u001B[38;5;241;43m.\u001B[39;49m\u001B[43mdialect\u001B[49m\u001B[38;5;241;43m.\u001B[39;49m\u001B[43mdo_execute\u001B[49m\u001B[43m(\u001B[49m\n\u001B[1;32m   1964\u001B[0m \u001B[43m            \u001B[49m\u001B[43mcursor\u001B[49m\u001B[43m,\u001B[49m\u001B[43m \u001B[49m\u001B[43mstr_statement\u001B[49m\u001B[43m,\u001B[49m\u001B[43m \u001B[49m\u001B[43meffective_parameters\u001B[49m\u001B[43m,\u001B[49m\u001B[43m \u001B[49m\u001B[43mcontext\u001B[49m\n\u001B[1;32m   1965\u001B[0m \u001B[43m        \u001B[49m\u001B[43m)\u001B[49m\n\u001B[1;32m   1967\u001B[0m \u001B[38;5;28;01mif\u001B[39;00m \u001B[38;5;28mself\u001B[39m\u001B[38;5;241m.\u001B[39m_has_events \u001B[38;5;129;01mor\u001B[39;00m \u001B[38;5;28mself\u001B[39m\u001B[38;5;241m.\u001B[39mengine\u001B[38;5;241m.\u001B[39m_has_events:\n",
      "File \u001B[0;32m~/Documents/MYSpace/FinPy/.venv/lib/python3.10/site-packages/sqlalchemy/engine/default.py:943\u001B[0m, in \u001B[0;36mDefaultDialect.do_execute\u001B[0;34m(self, cursor, statement, parameters, context)\u001B[0m\n\u001B[1;32m    942\u001B[0m \u001B[38;5;28;01mdef\u001B[39;00m\u001B[38;5;250m \u001B[39m\u001B[38;5;21mdo_execute\u001B[39m(\u001B[38;5;28mself\u001B[39m, cursor, statement, parameters, context\u001B[38;5;241m=\u001B[39m\u001B[38;5;28;01mNone\u001B[39;00m):\n\u001B[0;32m--> 943\u001B[0m     \u001B[43mcursor\u001B[49m\u001B[38;5;241;43m.\u001B[39;49m\u001B[43mexecute\u001B[49m\u001B[43m(\u001B[49m\u001B[43mstatement\u001B[49m\u001B[43m,\u001B[49m\u001B[43m \u001B[49m\u001B[43mparameters\u001B[49m\u001B[43m)\u001B[49m\n",
      "\u001B[0;31mOperationalError\u001B[0m: no such table: test",
      "\nThe above exception was the direct cause of the following exception:\n",
      "\u001B[0;31mOperationalError\u001B[0m                          Traceback (most recent call last)",
      "Cell \u001B[0;32mIn[7], line 6\u001B[0m\n\u001B[1;32m      3\u001B[0m \u001B[38;5;28;01mimport\u001B[39;00m\u001B[38;5;250m \u001B[39m\u001B[38;5;21;01mnumpy\u001B[39;00m\u001B[38;5;250m \u001B[39m\u001B[38;5;28;01mas\u001B[39;00m\u001B[38;5;250m \u001B[39m\u001B[38;5;21;01mnp\u001B[39;00m\n\u001B[1;32m      4\u001B[0m db \u001B[38;5;241m=\u001B[39m sqla\u001B[38;5;241m.\u001B[39mcreate_engine(\u001B[38;5;124m'\u001B[39m\u001B[38;5;124msqlite:///mydata.sqlaite\u001B[39m\u001B[38;5;124m'\u001B[39m)\n\u001B[0;32m----> 6\u001B[0m \u001B[43mpd\u001B[49m\u001B[38;5;241;43m.\u001B[39;49m\u001B[43mread_sql\u001B[49m\u001B[43m(\u001B[49m\u001B[38;5;124;43m'\u001B[39;49m\u001B[38;5;124;43mselect * from test\u001B[39;49m\u001B[38;5;124;43m'\u001B[39;49m\u001B[43m,\u001B[49m\u001B[43m \u001B[49m\u001B[43mdb\u001B[49m\u001B[43m)\u001B[49m\n",
      "File \u001B[0;32m~/Documents/MYSpace/FinPy/.venv/lib/python3.10/site-packages/pandas/io/sql.py:736\u001B[0m, in \u001B[0;36mread_sql\u001B[0;34m(sql, con, index_col, coerce_float, params, parse_dates, columns, chunksize, dtype_backend, dtype)\u001B[0m\n\u001B[1;32m    726\u001B[0m     \u001B[38;5;28;01mreturn\u001B[39;00m pandas_sql\u001B[38;5;241m.\u001B[39mread_table(\n\u001B[1;32m    727\u001B[0m         sql,\n\u001B[1;32m    728\u001B[0m         index_col\u001B[38;5;241m=\u001B[39mindex_col,\n\u001B[0;32m   (...)\u001B[0m\n\u001B[1;32m    733\u001B[0m         dtype_backend\u001B[38;5;241m=\u001B[39mdtype_backend,\n\u001B[1;32m    734\u001B[0m     )\n\u001B[1;32m    735\u001B[0m \u001B[38;5;28;01melse\u001B[39;00m:\n\u001B[0;32m--> 736\u001B[0m     \u001B[38;5;28;01mreturn\u001B[39;00m \u001B[43mpandas_sql\u001B[49m\u001B[38;5;241;43m.\u001B[39;49m\u001B[43mread_query\u001B[49m\u001B[43m(\u001B[49m\n\u001B[1;32m    737\u001B[0m \u001B[43m        \u001B[49m\u001B[43msql\u001B[49m\u001B[43m,\u001B[49m\n\u001B[1;32m    738\u001B[0m \u001B[43m        \u001B[49m\u001B[43mindex_col\u001B[49m\u001B[38;5;241;43m=\u001B[39;49m\u001B[43mindex_col\u001B[49m\u001B[43m,\u001B[49m\n\u001B[1;32m    739\u001B[0m \u001B[43m        \u001B[49m\u001B[43mparams\u001B[49m\u001B[38;5;241;43m=\u001B[39;49m\u001B[43mparams\u001B[49m\u001B[43m,\u001B[49m\n\u001B[1;32m    740\u001B[0m \u001B[43m        \u001B[49m\u001B[43mcoerce_float\u001B[49m\u001B[38;5;241;43m=\u001B[39;49m\u001B[43mcoerce_float\u001B[49m\u001B[43m,\u001B[49m\n\u001B[1;32m    741\u001B[0m \u001B[43m        \u001B[49m\u001B[43mparse_dates\u001B[49m\u001B[38;5;241;43m=\u001B[39;49m\u001B[43mparse_dates\u001B[49m\u001B[43m,\u001B[49m\n\u001B[1;32m    742\u001B[0m \u001B[43m        \u001B[49m\u001B[43mchunksize\u001B[49m\u001B[38;5;241;43m=\u001B[39;49m\u001B[43mchunksize\u001B[49m\u001B[43m,\u001B[49m\n\u001B[1;32m    743\u001B[0m \u001B[43m        \u001B[49m\u001B[43mdtype_backend\u001B[49m\u001B[38;5;241;43m=\u001B[39;49m\u001B[43mdtype_backend\u001B[49m\u001B[43m,\u001B[49m\n\u001B[1;32m    744\u001B[0m \u001B[43m        \u001B[49m\u001B[43mdtype\u001B[49m\u001B[38;5;241;43m=\u001B[39;49m\u001B[43mdtype\u001B[49m\u001B[43m,\u001B[49m\n\u001B[1;32m    745\u001B[0m \u001B[43m    \u001B[49m\u001B[43m)\u001B[49m\n",
      "File \u001B[0;32m~/Documents/MYSpace/FinPy/.venv/lib/python3.10/site-packages/pandas/io/sql.py:1848\u001B[0m, in \u001B[0;36mSQLDatabase.read_query\u001B[0;34m(self, sql, index_col, coerce_float, parse_dates, params, chunksize, dtype, dtype_backend)\u001B[0m\n\u001B[1;32m   1791\u001B[0m \u001B[38;5;28;01mdef\u001B[39;00m\u001B[38;5;250m \u001B[39m\u001B[38;5;21mread_query\u001B[39m(\n\u001B[1;32m   1792\u001B[0m     \u001B[38;5;28mself\u001B[39m,\n\u001B[1;32m   1793\u001B[0m     sql: \u001B[38;5;28mstr\u001B[39m,\n\u001B[0;32m   (...)\u001B[0m\n\u001B[1;32m   1800\u001B[0m     dtype_backend: DtypeBackend \u001B[38;5;241m|\u001B[39m Literal[\u001B[38;5;124m\"\u001B[39m\u001B[38;5;124mnumpy\u001B[39m\u001B[38;5;124m\"\u001B[39m] \u001B[38;5;241m=\u001B[39m \u001B[38;5;124m\"\u001B[39m\u001B[38;5;124mnumpy\u001B[39m\u001B[38;5;124m\"\u001B[39m,\n\u001B[1;32m   1801\u001B[0m ) \u001B[38;5;241m-\u001B[39m\u001B[38;5;241m>\u001B[39m DataFrame \u001B[38;5;241m|\u001B[39m Iterator[DataFrame]:\n\u001B[1;32m   1802\u001B[0m \u001B[38;5;250m    \u001B[39m\u001B[38;5;124;03m\"\"\"\u001B[39;00m\n\u001B[1;32m   1803\u001B[0m \u001B[38;5;124;03m    Read SQL query into a DataFrame.\u001B[39;00m\n\u001B[1;32m   1804\u001B[0m \n\u001B[0;32m   (...)\u001B[0m\n\u001B[1;32m   1846\u001B[0m \n\u001B[1;32m   1847\u001B[0m \u001B[38;5;124;03m    \"\"\"\u001B[39;00m\n\u001B[0;32m-> 1848\u001B[0m     result \u001B[38;5;241m=\u001B[39m \u001B[38;5;28;43mself\u001B[39;49m\u001B[38;5;241;43m.\u001B[39;49m\u001B[43mexecute\u001B[49m\u001B[43m(\u001B[49m\u001B[43msql\u001B[49m\u001B[43m,\u001B[49m\u001B[43m \u001B[49m\u001B[43mparams\u001B[49m\u001B[43m)\u001B[49m\n\u001B[1;32m   1849\u001B[0m     columns \u001B[38;5;241m=\u001B[39m result\u001B[38;5;241m.\u001B[39mkeys()\n\u001B[1;32m   1851\u001B[0m     \u001B[38;5;28;01mif\u001B[39;00m chunksize \u001B[38;5;129;01mis\u001B[39;00m \u001B[38;5;129;01mnot\u001B[39;00m \u001B[38;5;28;01mNone\u001B[39;00m:\n",
      "File \u001B[0;32m~/Documents/MYSpace/FinPy/.venv/lib/python3.10/site-packages/pandas/io/sql.py:1671\u001B[0m, in \u001B[0;36mSQLDatabase.execute\u001B[0;34m(self, sql, params)\u001B[0m\n\u001B[1;32m   1669\u001B[0m args \u001B[38;5;241m=\u001B[39m [] \u001B[38;5;28;01mif\u001B[39;00m params \u001B[38;5;129;01mis\u001B[39;00m \u001B[38;5;28;01mNone\u001B[39;00m \u001B[38;5;28;01melse\u001B[39;00m [params]\n\u001B[1;32m   1670\u001B[0m \u001B[38;5;28;01mif\u001B[39;00m \u001B[38;5;28misinstance\u001B[39m(sql, \u001B[38;5;28mstr\u001B[39m):\n\u001B[0;32m-> 1671\u001B[0m     \u001B[38;5;28;01mreturn\u001B[39;00m \u001B[38;5;28;43mself\u001B[39;49m\u001B[38;5;241;43m.\u001B[39;49m\u001B[43mcon\u001B[49m\u001B[38;5;241;43m.\u001B[39;49m\u001B[43mexec_driver_sql\u001B[49m\u001B[43m(\u001B[49m\u001B[43msql\u001B[49m\u001B[43m,\u001B[49m\u001B[43m \u001B[49m\u001B[38;5;241;43m*\u001B[39;49m\u001B[43margs\u001B[49m\u001B[43m)\u001B[49m\n\u001B[1;32m   1672\u001B[0m \u001B[38;5;28;01mreturn\u001B[39;00m \u001B[38;5;28mself\u001B[39m\u001B[38;5;241m.\u001B[39mcon\u001B[38;5;241m.\u001B[39mexecute(sql, \u001B[38;5;241m*\u001B[39margs)\n",
      "File \u001B[0;32m~/Documents/MYSpace/FinPy/.venv/lib/python3.10/site-packages/sqlalchemy/engine/base.py:1775\u001B[0m, in \u001B[0;36mConnection.exec_driver_sql\u001B[0;34m(self, statement, parameters, execution_options)\u001B[0m\n\u001B[1;32m   1770\u001B[0m execution_options \u001B[38;5;241m=\u001B[39m \u001B[38;5;28mself\u001B[39m\u001B[38;5;241m.\u001B[39m_execution_options\u001B[38;5;241m.\u001B[39mmerge_with(\n\u001B[1;32m   1771\u001B[0m     execution_options\n\u001B[1;32m   1772\u001B[0m )\n\u001B[1;32m   1774\u001B[0m dialect \u001B[38;5;241m=\u001B[39m \u001B[38;5;28mself\u001B[39m\u001B[38;5;241m.\u001B[39mdialect\n\u001B[0;32m-> 1775\u001B[0m ret \u001B[38;5;241m=\u001B[39m \u001B[38;5;28;43mself\u001B[39;49m\u001B[38;5;241;43m.\u001B[39;49m\u001B[43m_execute_context\u001B[49m\u001B[43m(\u001B[49m\n\u001B[1;32m   1776\u001B[0m \u001B[43m    \u001B[49m\u001B[43mdialect\u001B[49m\u001B[43m,\u001B[49m\n\u001B[1;32m   1777\u001B[0m \u001B[43m    \u001B[49m\u001B[43mdialect\u001B[49m\u001B[38;5;241;43m.\u001B[39;49m\u001B[43mexecution_ctx_cls\u001B[49m\u001B[38;5;241;43m.\u001B[39;49m\u001B[43m_init_statement\u001B[49m\u001B[43m,\u001B[49m\n\u001B[1;32m   1778\u001B[0m \u001B[43m    \u001B[49m\u001B[43mstatement\u001B[49m\u001B[43m,\u001B[49m\n\u001B[1;32m   1779\u001B[0m \u001B[43m    \u001B[49m\u001B[38;5;28;43;01mNone\u001B[39;49;00m\u001B[43m,\u001B[49m\n\u001B[1;32m   1780\u001B[0m \u001B[43m    \u001B[49m\u001B[43mexecution_options\u001B[49m\u001B[43m,\u001B[49m\n\u001B[1;32m   1781\u001B[0m \u001B[43m    \u001B[49m\u001B[43mstatement\u001B[49m\u001B[43m,\u001B[49m\n\u001B[1;32m   1782\u001B[0m \u001B[43m    \u001B[49m\u001B[43mdistilled_parameters\u001B[49m\u001B[43m,\u001B[49m\n\u001B[1;32m   1783\u001B[0m \u001B[43m\u001B[49m\u001B[43m)\u001B[49m\n\u001B[1;32m   1785\u001B[0m \u001B[38;5;28;01mreturn\u001B[39;00m ret\n",
      "File \u001B[0;32m~/Documents/MYSpace/FinPy/.venv/lib/python3.10/site-packages/sqlalchemy/engine/base.py:1842\u001B[0m, in \u001B[0;36mConnection._execute_context\u001B[0;34m(self, dialect, constructor, statement, parameters, execution_options, *args, **kw)\u001B[0m\n\u001B[1;32m   1840\u001B[0m     \u001B[38;5;28;01mreturn\u001B[39;00m \u001B[38;5;28mself\u001B[39m\u001B[38;5;241m.\u001B[39m_exec_insertmany_context(dialect, context)\n\u001B[1;32m   1841\u001B[0m \u001B[38;5;28;01melse\u001B[39;00m:\n\u001B[0;32m-> 1842\u001B[0m     \u001B[38;5;28;01mreturn\u001B[39;00m \u001B[38;5;28;43mself\u001B[39;49m\u001B[38;5;241;43m.\u001B[39;49m\u001B[43m_exec_single_context\u001B[49m\u001B[43m(\u001B[49m\n\u001B[1;32m   1843\u001B[0m \u001B[43m        \u001B[49m\u001B[43mdialect\u001B[49m\u001B[43m,\u001B[49m\u001B[43m \u001B[49m\u001B[43mcontext\u001B[49m\u001B[43m,\u001B[49m\u001B[43m \u001B[49m\u001B[43mstatement\u001B[49m\u001B[43m,\u001B[49m\u001B[43m \u001B[49m\u001B[43mparameters\u001B[49m\n\u001B[1;32m   1844\u001B[0m \u001B[43m    \u001B[49m\u001B[43m)\u001B[49m\n",
      "File \u001B[0;32m~/Documents/MYSpace/FinPy/.venv/lib/python3.10/site-packages/sqlalchemy/engine/base.py:1982\u001B[0m, in \u001B[0;36mConnection._exec_single_context\u001B[0;34m(self, dialect, context, statement, parameters)\u001B[0m\n\u001B[1;32m   1979\u001B[0m     result \u001B[38;5;241m=\u001B[39m context\u001B[38;5;241m.\u001B[39m_setup_result_proxy()\n\u001B[1;32m   1981\u001B[0m \u001B[38;5;28;01mexcept\u001B[39;00m \u001B[38;5;167;01mBaseException\u001B[39;00m \u001B[38;5;28;01mas\u001B[39;00m e:\n\u001B[0;32m-> 1982\u001B[0m     \u001B[38;5;28;43mself\u001B[39;49m\u001B[38;5;241;43m.\u001B[39;49m\u001B[43m_handle_dbapi_exception\u001B[49m\u001B[43m(\u001B[49m\n\u001B[1;32m   1983\u001B[0m \u001B[43m        \u001B[49m\u001B[43me\u001B[49m\u001B[43m,\u001B[49m\u001B[43m \u001B[49m\u001B[43mstr_statement\u001B[49m\u001B[43m,\u001B[49m\u001B[43m \u001B[49m\u001B[43meffective_parameters\u001B[49m\u001B[43m,\u001B[49m\u001B[43m \u001B[49m\u001B[43mcursor\u001B[49m\u001B[43m,\u001B[49m\u001B[43m \u001B[49m\u001B[43mcontext\u001B[49m\n\u001B[1;32m   1984\u001B[0m \u001B[43m    \u001B[49m\u001B[43m)\u001B[49m\n\u001B[1;32m   1986\u001B[0m \u001B[38;5;28;01mreturn\u001B[39;00m result\n",
      "File \u001B[0;32m~/Documents/MYSpace/FinPy/.venv/lib/python3.10/site-packages/sqlalchemy/engine/base.py:2351\u001B[0m, in \u001B[0;36mConnection._handle_dbapi_exception\u001B[0;34m(self, e, statement, parameters, cursor, context, is_sub_exec)\u001B[0m\n\u001B[1;32m   2349\u001B[0m \u001B[38;5;28;01melif\u001B[39;00m should_wrap:\n\u001B[1;32m   2350\u001B[0m     \u001B[38;5;28;01massert\u001B[39;00m sqlalchemy_exception \u001B[38;5;129;01mis\u001B[39;00m \u001B[38;5;129;01mnot\u001B[39;00m \u001B[38;5;28;01mNone\u001B[39;00m\n\u001B[0;32m-> 2351\u001B[0m     \u001B[38;5;28;01mraise\u001B[39;00m sqlalchemy_exception\u001B[38;5;241m.\u001B[39mwith_traceback(exc_info[\u001B[38;5;241m2\u001B[39m]) \u001B[38;5;28;01mfrom\u001B[39;00m\u001B[38;5;250m \u001B[39m\u001B[38;5;21;01me\u001B[39;00m\n\u001B[1;32m   2352\u001B[0m \u001B[38;5;28;01melse\u001B[39;00m:\n\u001B[1;32m   2353\u001B[0m     \u001B[38;5;28;01massert\u001B[39;00m exc_info[\u001B[38;5;241m1\u001B[39m] \u001B[38;5;129;01mis\u001B[39;00m \u001B[38;5;129;01mnot\u001B[39;00m \u001B[38;5;28;01mNone\u001B[39;00m\n",
      "File \u001B[0;32m~/Documents/MYSpace/FinPy/.venv/lib/python3.10/site-packages/sqlalchemy/engine/base.py:1963\u001B[0m, in \u001B[0;36mConnection._exec_single_context\u001B[0;34m(self, dialect, context, statement, parameters)\u001B[0m\n\u001B[1;32m   1961\u001B[0m                 \u001B[38;5;28;01mbreak\u001B[39;00m\n\u001B[1;32m   1962\u001B[0m     \u001B[38;5;28;01mif\u001B[39;00m \u001B[38;5;129;01mnot\u001B[39;00m evt_handled:\n\u001B[0;32m-> 1963\u001B[0m         \u001B[38;5;28;43mself\u001B[39;49m\u001B[38;5;241;43m.\u001B[39;49m\u001B[43mdialect\u001B[49m\u001B[38;5;241;43m.\u001B[39;49m\u001B[43mdo_execute\u001B[49m\u001B[43m(\u001B[49m\n\u001B[1;32m   1964\u001B[0m \u001B[43m            \u001B[49m\u001B[43mcursor\u001B[49m\u001B[43m,\u001B[49m\u001B[43m \u001B[49m\u001B[43mstr_statement\u001B[49m\u001B[43m,\u001B[49m\u001B[43m \u001B[49m\u001B[43meffective_parameters\u001B[49m\u001B[43m,\u001B[49m\u001B[43m \u001B[49m\u001B[43mcontext\u001B[49m\n\u001B[1;32m   1965\u001B[0m \u001B[43m        \u001B[49m\u001B[43m)\u001B[49m\n\u001B[1;32m   1967\u001B[0m \u001B[38;5;28;01mif\u001B[39;00m \u001B[38;5;28mself\u001B[39m\u001B[38;5;241m.\u001B[39m_has_events \u001B[38;5;129;01mor\u001B[39;00m \u001B[38;5;28mself\u001B[39m\u001B[38;5;241m.\u001B[39mengine\u001B[38;5;241m.\u001B[39m_has_events:\n\u001B[1;32m   1968\u001B[0m     \u001B[38;5;28mself\u001B[39m\u001B[38;5;241m.\u001B[39mdispatch\u001B[38;5;241m.\u001B[39mafter_cursor_execute(\n\u001B[1;32m   1969\u001B[0m         \u001B[38;5;28mself\u001B[39m,\n\u001B[1;32m   1970\u001B[0m         cursor,\n\u001B[0;32m   (...)\u001B[0m\n\u001B[1;32m   1974\u001B[0m         context\u001B[38;5;241m.\u001B[39mexecutemany,\n\u001B[1;32m   1975\u001B[0m     )\n",
      "File \u001B[0;32m~/Documents/MYSpace/FinPy/.venv/lib/python3.10/site-packages/sqlalchemy/engine/default.py:943\u001B[0m, in \u001B[0;36mDefaultDialect.do_execute\u001B[0;34m(self, cursor, statement, parameters, context)\u001B[0m\n\u001B[1;32m    942\u001B[0m \u001B[38;5;28;01mdef\u001B[39;00m\u001B[38;5;250m \u001B[39m\u001B[38;5;21mdo_execute\u001B[39m(\u001B[38;5;28mself\u001B[39m, cursor, statement, parameters, context\u001B[38;5;241m=\u001B[39m\u001B[38;5;28;01mNone\u001B[39;00m):\n\u001B[0;32m--> 943\u001B[0m     \u001B[43mcursor\u001B[49m\u001B[38;5;241;43m.\u001B[39;49m\u001B[43mexecute\u001B[49m\u001B[43m(\u001B[49m\u001B[43mstatement\u001B[49m\u001B[43m,\u001B[49m\u001B[43m \u001B[49m\u001B[43mparameters\u001B[49m\u001B[43m)\u001B[49m\n",
      "\u001B[0;31mOperationalError\u001B[0m: (sqlite3.OperationalError) no such table: test\n[SQL: select * from test]\n(Background on this error at: https://sqlalche.me/e/20/e3q8)"
     ]
    }
   ],
   "execution_count": 7
  },
  {
   "metadata": {
    "ExecuteTime": {
     "end_time": "2025-06-14T04:13:17.957093Z",
     "start_time": "2025-06-14T04:13:17.952525Z"
    }
   },
   "cell_type": "code",
   "source": "np.ones((3, 4, 5), dtype = np.float64).strides",
   "id": "36d3e21b360ca084",
   "outputs": [
    {
     "data": {
      "text/plain": [
       "(160, 40, 8)"
      ]
     },
     "execution_count": 8,
     "metadata": {},
     "output_type": "execute_result"
    }
   ],
   "execution_count": 8
  },
  {
   "metadata": {
    "ExecuteTime": {
     "end_time": "2025-06-14T04:18:23.246761Z",
     "start_time": "2025-06-14T04:18:23.240713Z"
    }
   },
   "cell_type": "code",
   "source": [
    "import numpy as np\n",
    "\n",
    "ints = np.ones(10, dtype=np.uint16)\n",
    "floats = np.ones(10, dtype=np.float32)\n",
    "\n",
    "print(np.issubdtype(ints.dtype, np.integer))   # ✅ Note: issubdtype\n",
    "print(np.issubdtype(floats.dtype, np.floating)) # ✅ Note: issubdtype\n",
    "\n",
    "np.float64.mro()"
   ],
   "id": "5165b24fef86957f",
   "outputs": [
    {
     "name": "stdout",
     "output_type": "stream",
     "text": [
      "True\n",
      "True\n"
     ]
    },
    {
     "data": {
      "text/plain": [
       "[numpy.float64,\n",
       " numpy.floating,\n",
       " numpy.inexact,\n",
       " numpy.number,\n",
       " numpy.generic,\n",
       " float,\n",
       " object]"
      ]
     },
     "execution_count": 13,
     "metadata": {},
     "output_type": "execute_result"
    }
   ],
   "execution_count": 13
  },
  {
   "metadata": {
    "ExecuteTime": {
     "end_time": "2025-06-14T04:19:25.322561Z",
     "start_time": "2025-06-14T04:19:25.316848Z"
    }
   },
   "cell_type": "code",
   "source": "np.issubdtype(ints.dtype, np.number)",
   "id": "1692397c05600b92",
   "outputs": [
    {
     "data": {
      "text/plain": [
       "True"
      ]
     },
     "execution_count": 17,
     "metadata": {},
     "output_type": "execute_result"
    }
   ],
   "execution_count": 17
  },
  {
   "metadata": {
    "ExecuteTime": {
     "end_time": "2025-06-14T04:21:10.431011Z",
     "start_time": "2025-06-14T04:21:10.426613Z"
    }
   },
   "cell_type": "code",
   "source": [
    "arr = np.arange(8)\n",
    "arr.reshape((4, 2)).reshape((2, 4))"
   ],
   "id": "68fadad183adcd03",
   "outputs": [
    {
     "data": {
      "text/plain": [
       "array([[0, 1, 2, 3],\n",
       "       [4, 5, 6, 7]])"
      ]
     },
     "execution_count": 22,
     "metadata": {},
     "output_type": "execute_result"
    }
   ],
   "execution_count": 22
  },
  {
   "metadata": {
    "ExecuteTime": {
     "end_time": "2025-06-14T04:21:32.802317Z",
     "start_time": "2025-06-14T04:21:32.797023Z"
    }
   },
   "cell_type": "code",
   "source": [
    "arr = np.arange(15)\n",
    "arr.reshape((5, -1))"
   ],
   "id": "ad4d9cbdd159e35",
   "outputs": [
    {
     "data": {
      "text/plain": [
       "array([[ 0,  1,  2],\n",
       "       [ 3,  4,  5],\n",
       "       [ 6,  7,  8],\n",
       "       [ 9, 10, 11],\n",
       "       [12, 13, 14]])"
      ]
     },
     "execution_count": 23,
     "metadata": {},
     "output_type": "execute_result"
    }
   ],
   "execution_count": 23
  },
  {
   "metadata": {
    "ExecuteTime": {
     "end_time": "2025-06-14T04:22:29.838558Z",
     "start_time": "2025-06-14T04:22:29.834672Z"
    }
   },
   "cell_type": "code",
   "source": [
    "other_arr = np.ones((3, 5))\n",
    "\n",
    "arr.reshape(other_arr.shape)"
   ],
   "id": "2790ad890af22e46",
   "outputs": [
    {
     "data": {
      "text/plain": [
       "array([[ 0,  1,  2,  3,  4],\n",
       "       [ 5,  6,  7,  8,  9],\n",
       "       [10, 11, 12, 13, 14]])"
      ]
     },
     "execution_count": 25,
     "metadata": {},
     "output_type": "execute_result"
    }
   ],
   "execution_count": 25
  },
  {
   "metadata": {
    "ExecuteTime": {
     "end_time": "2025-06-14T04:23:04.502228Z",
     "start_time": "2025-06-14T04:23:04.496928Z"
    }
   },
   "cell_type": "code",
   "source": [
    "arr = np.arange(15).reshape((5, 3))\n",
    "arr.ravel()"
   ],
   "id": "e36be376b6cf280b",
   "outputs": [
    {
     "data": {
      "text/plain": [
       "array([ 0,  1,  2,  3,  4,  5,  6,  7,  8,  9, 10, 11, 12, 13, 14])"
      ]
     },
     "execution_count": 28,
     "metadata": {},
     "output_type": "execute_result"
    }
   ],
   "execution_count": 28
  },
  {
   "metadata": {
    "ExecuteTime": {
     "end_time": "2025-06-14T04:24:40.430355Z",
     "start_time": "2025-06-14T04:24:40.424743Z"
    }
   },
   "cell_type": "code",
   "source": [
    "arr = np.arange(12).reshape((3, 4))\n",
    "arr"
   ],
   "id": "e8e55ec9d17afc2a",
   "outputs": [
    {
     "data": {
      "text/plain": [
       "array([[ 0,  1,  2,  3],\n",
       "       [ 4,  5,  6,  7],\n",
       "       [ 8,  9, 10, 11]])"
      ]
     },
     "execution_count": 29,
     "metadata": {},
     "output_type": "execute_result"
    }
   ],
   "execution_count": 29
  },
  {
   "metadata": {
    "ExecuteTime": {
     "end_time": "2025-06-14T04:24:48.160470Z",
     "start_time": "2025-06-14T04:24:48.156389Z"
    }
   },
   "cell_type": "code",
   "source": "arr.ravel()",
   "id": "5092796d906cf477",
   "outputs": [
    {
     "data": {
      "text/plain": [
       "array([ 0,  1,  2,  3,  4,  5,  6,  7,  8,  9, 10, 11])"
      ]
     },
     "execution_count": 30,
     "metadata": {},
     "output_type": "execute_result"
    }
   ],
   "execution_count": 30
  },
  {
   "metadata": {
    "ExecuteTime": {
     "end_time": "2025-06-14T04:24:56.536939Z",
     "start_time": "2025-06-14T04:24:56.532711Z"
    }
   },
   "cell_type": "code",
   "source": "arr.ravel('F')",
   "id": "241dcb93ad76dc99",
   "outputs": [
    {
     "data": {
      "text/plain": [
       "array([ 0,  4,  8,  1,  5,  9,  2,  6, 10,  3,  7, 11])"
      ]
     },
     "execution_count": 31,
     "metadata": {},
     "output_type": "execute_result"
    }
   ],
   "execution_count": 31
  },
  {
   "metadata": {
    "ExecuteTime": {
     "end_time": "2025-06-14T04:27:00.372353Z",
     "start_time": "2025-06-14T04:27:00.366537Z"
    }
   },
   "cell_type": "code",
   "source": [
    "arr1 = np.array([[1, 2, 3], [4, 5, 6]])\n",
    "arr2 = np.array([[7, 8, 9], [10, 11, 12]])\n",
    "\n",
    "np.concatenate([arr1, arr2], axis = 1)"
   ],
   "id": "6efa71e5d68df93e",
   "outputs": [
    {
     "data": {
      "text/plain": [
       "array([[ 1,  2,  3,  7,  8,  9],\n",
       "       [ 4,  5,  6, 10, 11, 12]])"
      ]
     },
     "execution_count": 34,
     "metadata": {},
     "output_type": "execute_result"
    }
   ],
   "execution_count": 34
  },
  {
   "metadata": {
    "ExecuteTime": {
     "end_time": "2025-06-14T04:27:22.753687Z",
     "start_time": "2025-06-14T04:27:22.748877Z"
    }
   },
   "cell_type": "code",
   "source": "np.vstack((arr1, arr2))",
   "id": "f5bfe24534d99908",
   "outputs": [
    {
     "data": {
      "text/plain": [
       "array([[ 1,  2,  3],\n",
       "       [ 4,  5,  6],\n",
       "       [ 7,  8,  9],\n",
       "       [10, 11, 12]])"
      ]
     },
     "execution_count": 35,
     "metadata": {},
     "output_type": "execute_result"
    }
   ],
   "execution_count": 35
  },
  {
   "metadata": {
    "ExecuteTime": {
     "end_time": "2025-06-14T04:27:37.637855Z",
     "start_time": "2025-06-14T04:27:37.633065Z"
    }
   },
   "cell_type": "code",
   "source": "np.hstack((arr1, arr2))",
   "id": "1d830710d81080d1",
   "outputs": [
    {
     "data": {
      "text/plain": [
       "array([[ 1,  2,  3,  7,  8,  9],\n",
       "       [ 4,  5,  6, 10, 11, 12]])"
      ]
     },
     "execution_count": 36,
     "metadata": {},
     "output_type": "execute_result"
    }
   ],
   "execution_count": 36
  },
  {
   "metadata": {
    "ExecuteTime": {
     "end_time": "2025-06-14T04:27:53.205955Z",
     "start_time": "2025-06-14T04:27:53.200086Z"
    }
   },
   "cell_type": "code",
   "source": [
    "arr = np.random.randn(5, 2)\n",
    "arr"
   ],
   "id": "4538053aa720b3b4",
   "outputs": [
    {
     "data": {
      "text/plain": [
       "array([[ 0.50578773, -2.26935455],\n",
       "       [ 2.2661557 , -1.08091473],\n",
       "       [-0.51487741, -1.84908918],\n",
       "       [ 0.25876419,  0.75233977],\n",
       "       [-0.3782325 ,  0.7931524 ]])"
      ]
     },
     "execution_count": 37,
     "metadata": {},
     "output_type": "execute_result"
    }
   ],
   "execution_count": 37
  },
  {
   "metadata": {
    "ExecuteTime": {
     "end_time": "2025-06-14T04:28:14.458888Z",
     "start_time": "2025-06-14T04:28:14.454214Z"
    }
   },
   "cell_type": "code",
   "source": [
    "first, second, third = np.split(arr, [1, 3])\n",
    "first"
   ],
   "id": "2ade99cbc8f7948a",
   "outputs": [
    {
     "data": {
      "text/plain": [
       "array([[ 0.50578773, -2.26935455]])"
      ]
     },
     "execution_count": 38,
     "metadata": {},
     "output_type": "execute_result"
    }
   ],
   "execution_count": 38
  },
  {
   "metadata": {
    "ExecuteTime": {
     "end_time": "2025-06-14T04:28:38.188405Z",
     "start_time": "2025-06-14T04:28:38.183348Z"
    }
   },
   "cell_type": "code",
   "source": "third",
   "id": "edba7e82a22b5f1c",
   "outputs": [
    {
     "data": {
      "text/plain": [
       "array([[ 0.25876419,  0.75233977],\n",
       "       [-0.3782325 ,  0.7931524 ]])"
      ]
     },
     "execution_count": 40,
     "metadata": {},
     "output_type": "execute_result"
    }
   ],
   "execution_count": 40
  },
  {
   "metadata": {
    "ExecuteTime": {
     "end_time": "2025-06-14T04:30:44.517533Z",
     "start_time": "2025-06-14T04:30:44.510991Z"
    }
   },
   "cell_type": "code",
   "source": [
    "arr = np.arange(6)\n",
    "arr1 = arr.reshape((3, 2))\n",
    "arr2 = np.random.randn(3, 2)\n",
    "\n",
    "np.r_[arr1, arr2]"
   ],
   "id": "aff18e3f474fc02f",
   "outputs": [
    {
     "data": {
      "text/plain": [
       "array([[ 0.        ,  1.        ],\n",
       "       [ 2.        ,  3.        ],\n",
       "       [ 4.        ,  5.        ],\n",
       "       [-0.70319185, -0.96231521],\n",
       "       [-1.31366289,  0.63124673],\n",
       "       [-0.4366222 , -0.59252589]])"
      ]
     },
     "execution_count": 42,
     "metadata": {},
     "output_type": "execute_result"
    }
   ],
   "execution_count": 42
  },
  {
   "metadata": {
    "ExecuteTime": {
     "end_time": "2025-06-14T04:31:21.557870Z",
     "start_time": "2025-06-14T04:31:21.552890Z"
    }
   },
   "cell_type": "code",
   "source": "np.c_[np.r_[arr1, arr2], arr]",
   "id": "91e08cb8abee762d",
   "outputs": [
    {
     "data": {
      "text/plain": [
       "array([[ 0.        ,  1.        ,  0.        ],\n",
       "       [ 2.        ,  3.        ,  1.        ],\n",
       "       [ 4.        ,  5.        ,  2.        ],\n",
       "       [-0.70319185, -0.96231521,  3.        ],\n",
       "       [-1.31366289,  0.63124673,  4.        ],\n",
       "       [-0.4366222 , -0.59252589,  5.        ]])"
      ]
     },
     "execution_count": 44,
     "metadata": {},
     "output_type": "execute_result"
    }
   ],
   "execution_count": 44
  },
  {
   "metadata": {
    "ExecuteTime": {
     "end_time": "2025-06-14T04:33:55.561308Z",
     "start_time": "2025-06-14T04:33:55.556812Z"
    }
   },
   "cell_type": "code",
   "source": [
    "arr = np.arange(3)\n",
    "arr.repeat(33)"
   ],
   "id": "d264437e5a28ecea",
   "outputs": [
    {
     "data": {
      "text/plain": [
       "array([0, 0, 0, 0, 0, 0, 0, 0, 0, 0, 0, 0, 0, 0, 0, 0, 0, 0, 0, 0, 0, 0,\n",
       "       0, 0, 0, 0, 0, 0, 0, 0, 0, 0, 0, 1, 1, 1, 1, 1, 1, 1, 1, 1, 1, 1,\n",
       "       1, 1, 1, 1, 1, 1, 1, 1, 1, 1, 1, 1, 1, 1, 1, 1, 1, 1, 1, 1, 1, 1,\n",
       "       2, 2, 2, 2, 2, 2, 2, 2, 2, 2, 2, 2, 2, 2, 2, 2, 2, 2, 2, 2, 2, 2,\n",
       "       2, 2, 2, 2, 2, 2, 2, 2, 2, 2, 2])"
      ]
     },
     "execution_count": 47,
     "metadata": {},
     "output_type": "execute_result"
    }
   ],
   "execution_count": 47
  },
  {
   "metadata": {
    "ExecuteTime": {
     "end_time": "2025-06-14T04:34:38.857881Z",
     "start_time": "2025-06-14T04:34:38.853002Z"
    }
   },
   "cell_type": "code",
   "source": "arr.repeat([2, 3, 4])\n",
   "id": "207efad26e7924ec",
   "outputs": [
    {
     "data": {
      "text/plain": [
       "array([0, 0, 1, 1, 1, 2, 2, 2, 2])"
      ]
     },
     "execution_count": 48,
     "metadata": {},
     "output_type": "execute_result"
    }
   ],
   "execution_count": 48
  },
  {
   "metadata": {
    "ExecuteTime": {
     "end_time": "2025-06-14T04:34:58.478040Z",
     "start_time": "2025-06-14T04:34:58.472951Z"
    }
   },
   "cell_type": "code",
   "source": [
    "arr = np.random.randn(2, 2)\n",
    "arr"
   ],
   "id": "fc455b9c42193af6",
   "outputs": [
    {
     "data": {
      "text/plain": [
       "array([[-0.64834965, -1.44553158],\n",
       "       [-0.46795224, -1.34738933]])"
      ]
     },
     "execution_count": 49,
     "metadata": {},
     "output_type": "execute_result"
    }
   ],
   "execution_count": 49
  },
  {
   "metadata": {
    "ExecuteTime": {
     "end_time": "2025-06-14T04:35:10.766873Z",
     "start_time": "2025-06-14T04:35:10.762304Z"
    }
   },
   "cell_type": "code",
   "source": "arr.repeat(2, axis = 0)",
   "id": "d82e1d84fd9aa54c",
   "outputs": [
    {
     "data": {
      "text/plain": [
       "array([[-0.64834965, -1.44553158],\n",
       "       [-0.64834965, -1.44553158],\n",
       "       [-0.46795224, -1.34738933],\n",
       "       [-0.46795224, -1.34738933]])"
      ]
     },
     "execution_count": 50,
     "metadata": {},
     "output_type": "execute_result"
    }
   ],
   "execution_count": 50
  },
  {
   "metadata": {
    "ExecuteTime": {
     "end_time": "2025-06-14T04:35:52.004290Z",
     "start_time": "2025-06-14T04:35:51.999400Z"
    }
   },
   "cell_type": "code",
   "source": "arr.repeat([2, 3], axis = 0)",
   "id": "4014136f2002f32c",
   "outputs": [
    {
     "data": {
      "text/plain": [
       "array([[-0.64834965, -1.44553158],\n",
       "       [-0.64834965, -1.44553158],\n",
       "       [-0.46795224, -1.34738933],\n",
       "       [-0.46795224, -1.34738933],\n",
       "       [-0.46795224, -1.34738933]])"
      ]
     },
     "execution_count": 51,
     "metadata": {},
     "output_type": "execute_result"
    }
   ],
   "execution_count": 51
  },
  {
   "metadata": {
    "ExecuteTime": {
     "end_time": "2025-06-14T04:36:05.795078Z",
     "start_time": "2025-06-14T04:36:05.791143Z"
    }
   },
   "cell_type": "code",
   "source": "arr.repeat([2, 3], axis = 1)",
   "id": "af858e3a1e625f56",
   "outputs": [
    {
     "data": {
      "text/plain": [
       "array([[-0.64834965, -0.64834965, -1.44553158, -1.44553158, -1.44553158],\n",
       "       [-0.46795224, -0.46795224, -1.34738933, -1.34738933, -1.34738933]])"
      ]
     },
     "execution_count": 52,
     "metadata": {},
     "output_type": "execute_result"
    }
   ],
   "execution_count": 52
  },
  {
   "metadata": {
    "ExecuteTime": {
     "end_time": "2025-06-14T04:37:50.669059Z",
     "start_time": "2025-06-14T04:37:50.664919Z"
    }
   },
   "cell_type": "code",
   "source": "np.tile(arr, 2)",
   "id": "b883c2055b4ea602",
   "outputs": [
    {
     "data": {
      "text/plain": [
       "array([[-0.64834965, -1.44553158, -0.64834965, -1.44553158],\n",
       "       [-0.46795224, -1.34738933, -0.46795224, -1.34738933]])"
      ]
     },
     "execution_count": 56,
     "metadata": {},
     "output_type": "execute_result"
    }
   ],
   "execution_count": 56
  },
  {
   "metadata": {
    "ExecuteTime": {
     "end_time": "2025-06-14T04:38:18.929245Z",
     "start_time": "2025-06-14T04:38:18.924935Z"
    }
   },
   "cell_type": "code",
   "source": "np.tile(arr, (2, 1))",
   "id": "79faf872c78e8bf7",
   "outputs": [
    {
     "data": {
      "text/plain": [
       "array([[-0.64834965, -1.44553158],\n",
       "       [-0.46795224, -1.34738933],\n",
       "       [-0.64834965, -1.44553158],\n",
       "       [-0.46795224, -1.34738933]])"
      ]
     },
     "execution_count": 58,
     "metadata": {},
     "output_type": "execute_result"
    }
   ],
   "execution_count": 58
  },
  {
   "metadata": {
    "ExecuteTime": {
     "end_time": "2025-06-14T04:39:32.202352Z",
     "start_time": "2025-06-14T04:39:32.197385Z"
    }
   },
   "cell_type": "code",
   "source": "np.tile(arr, (3, 2))",
   "id": "41d8035f07c3e58f",
   "outputs": [
    {
     "data": {
      "text/plain": [
       "array([[-0.64834965, -1.44553158, -0.64834965, -1.44553158],\n",
       "       [-0.46795224, -1.34738933, -0.46795224, -1.34738933],\n",
       "       [-0.64834965, -1.44553158, -0.64834965, -1.44553158],\n",
       "       [-0.46795224, -1.34738933, -0.46795224, -1.34738933],\n",
       "       [-0.64834965, -1.44553158, -0.64834965, -1.44553158],\n",
       "       [-0.46795224, -1.34738933, -0.46795224, -1.34738933]])"
      ]
     },
     "execution_count": 60,
     "metadata": {},
     "output_type": "execute_result"
    }
   ],
   "execution_count": 60
  },
  {
   "metadata": {
    "ExecuteTime": {
     "end_time": "2025-06-14T04:40:18.048509Z",
     "start_time": "2025-06-14T04:40:18.043877Z"
    }
   },
   "cell_type": "code",
   "source": [
    "arr = np.arange(10) * 100\n",
    "inds = [7, 1, 2, 6]\n",
    "arr[inds]"
   ],
   "id": "bb46fc2f0de968f2",
   "outputs": [
    {
     "data": {
      "text/plain": [
       "array([700, 100, 200, 600])"
      ]
     },
     "execution_count": 64,
     "metadata": {},
     "output_type": "execute_result"
    }
   ],
   "execution_count": 64
  },
  {
   "metadata": {
    "ExecuteTime": {
     "end_time": "2025-06-14T04:40:46.933855Z",
     "start_time": "2025-06-14T04:40:46.929809Z"
    }
   },
   "cell_type": "code",
   "source": "arr.take(inds)",
   "id": "2c1155c21a8ddc3f",
   "outputs": [
    {
     "data": {
      "text/plain": [
       "array([700, 100, 200, 600])"
      ]
     },
     "execution_count": 67,
     "metadata": {},
     "output_type": "execute_result"
    }
   ],
   "execution_count": 67
  },
  {
   "metadata": {
    "ExecuteTime": {
     "end_time": "2025-06-14T04:41:04.648354Z",
     "start_time": "2025-06-14T04:41:04.645520Z"
    }
   },
   "cell_type": "code",
   "source": "arr.put(inds, 32)",
   "id": "ed8d2c7f8899dd9d",
   "outputs": [],
   "execution_count": 68
  },
  {
   "metadata": {
    "ExecuteTime": {
     "end_time": "2025-06-14T04:41:08.428910Z",
     "start_time": "2025-06-14T04:41:08.424505Z"
    }
   },
   "cell_type": "code",
   "source": "arr",
   "id": "30befbdc810da0b9",
   "outputs": [
    {
     "data": {
      "text/plain": [
       "array([  0,  32,  32, 300, 400, 500,  32,  32, 800, 900])"
      ]
     },
     "execution_count": 69,
     "metadata": {},
     "output_type": "execute_result"
    }
   ],
   "execution_count": 69
  },
  {
   "metadata": {
    "ExecuteTime": {
     "end_time": "2025-06-14T04:42:01.066591Z",
     "start_time": "2025-06-14T04:42:01.060478Z"
    }
   },
   "cell_type": "code",
   "source": [
    "inds = [2, 0, 2, 1]\n",
    "arr = np.random.randn(2, 4)\n",
    "arr"
   ],
   "id": "f960f89d666c3bc4",
   "outputs": [
    {
     "data": {
      "text/plain": [
       "array([[ 1.33580867e+00,  4.48626907e-01,  4.35021620e-03,\n",
       "         8.06481215e-01],\n",
       "       [-1.93606869e+00, -5.30055768e-01, -7.36079532e-01,\n",
       "         1.46535229e-03]])"
      ]
     },
     "execution_count": 70,
     "metadata": {},
     "output_type": "execute_result"
    }
   ],
   "execution_count": 70
  },
  {
   "metadata": {
    "ExecuteTime": {
     "end_time": "2025-06-14T04:44:27.009703Z",
     "start_time": "2025-06-14T04:44:27.004657Z"
    }
   },
   "cell_type": "code",
   "source": "arr.take(inds, axis = 1)",
   "id": "6a12d35a63cf47b4",
   "outputs": [
    {
     "data": {
      "text/plain": [
       "array([[ 0.00435022,  1.33580867,  0.00435022,  0.44862691],\n",
       "       [-0.73607953, -1.93606869, -0.73607953, -0.53005577]])"
      ]
     },
     "execution_count": 74,
     "metadata": {},
     "output_type": "execute_result"
    }
   ],
   "execution_count": 74
  },
  {
   "metadata": {
    "ExecuteTime": {
     "end_time": "2025-06-14T04:43:31.706101Z",
     "start_time": "2025-06-14T04:43:31.690846Z"
    }
   },
   "cell_type": "code",
   "source": "arr[inds]",
   "id": "acd7a2555ab7124d",
   "outputs": [
    {
     "ename": "IndexError",
     "evalue": "index 2 is out of bounds for axis 0 with size 2",
     "output_type": "error",
     "traceback": [
      "\u001B[0;31m---------------------------------------------------------------------------\u001B[0m",
      "\u001B[0;31mIndexError\u001B[0m                                Traceback (most recent call last)",
      "Cell \u001B[0;32mIn[72], line 1\u001B[0m\n\u001B[0;32m----> 1\u001B[0m \u001B[43marr\u001B[49m\u001B[43m[\u001B[49m\u001B[43minds\u001B[49m\u001B[43m]\u001B[49m\n",
      "\u001B[0;31mIndexError\u001B[0m: index 2 is out of bounds for axis 0 with size 2"
     ]
    }
   ],
   "execution_count": 72
  },
  {
   "metadata": {
    "ExecuteTime": {
     "end_time": "2025-06-14T04:45:19.725637Z",
     "start_time": "2025-06-14T04:45:19.721336Z"
    }
   },
   "cell_type": "code",
   "source": [
    "arr = np.arange(5)\n",
    "arr * 4"
   ],
   "id": "de955e74e0aafb86",
   "outputs": [
    {
     "data": {
      "text/plain": [
       "array([ 0,  4,  8, 12, 16])"
      ]
     },
     "execution_count": 76,
     "metadata": {},
     "output_type": "execute_result"
    }
   ],
   "execution_count": 76
  },
  {
   "metadata": {
    "ExecuteTime": {
     "end_time": "2025-06-14T04:46:31.872700Z",
     "start_time": "2025-06-14T04:46:31.867804Z"
    }
   },
   "cell_type": "code",
   "source": [
    "arr = np.random.randn(4,3)\n",
    "arr.mean(0)\n",
    "\n",
    "demeanded = arr - arr.mean(0)\n",
    "\n",
    "demeanded"
   ],
   "id": "265c66e61c023919",
   "outputs": [
    {
     "data": {
      "text/plain": [
       "array([[ 2.09437298,  0.05897925,  1.28927113],\n",
       "       [-0.04914491, -1.47041181, -2.36011624],\n",
       "       [-0.64677864, -0.08474928,  2.14291405],\n",
       "       [-1.39844943,  1.49618184, -1.07206894]])"
      ]
     },
     "execution_count": 77,
     "metadata": {},
     "output_type": "execute_result"
    }
   ],
   "execution_count": 77
  },
  {
   "metadata": {
    "ExecuteTime": {
     "end_time": "2025-06-14T04:49:20.169700Z",
     "start_time": "2025-06-14T04:49:20.166168Z"
    }
   },
   "cell_type": "code",
   "source": [
    "a = np.array([1, 2, 3])        # shape (3,)\n",
    "b = np.array([[10], [20]])     # shape (2, 1)\n",
    "c = a + b\n"
   ],
   "id": "b0cf3163651d5fc",
   "outputs": [],
   "execution_count": 80
  },
  {
   "metadata": {
    "ExecuteTime": {
     "end_time": "2025-06-14T04:49:32.592680Z",
     "start_time": "2025-06-14T04:49:32.588111Z"
    }
   },
   "cell_type": "code",
   "source": "a + b",
   "id": "355bf71cc5835461",
   "outputs": [
    {
     "data": {
      "text/plain": [
       "array([[11, 12, 13],\n",
       "       [21, 22, 23]])"
      ]
     },
     "execution_count": 83,
     "metadata": {},
     "output_type": "execute_result"
    }
   ],
   "execution_count": 83
  },
  {
   "metadata": {
    "ExecuteTime": {
     "end_time": "2025-06-14T04:50:47.500161Z",
     "start_time": "2025-06-14T04:50:47.495637Z"
    }
   },
   "cell_type": "code",
   "source": "arr",
   "id": "44302a1eeae87bb",
   "outputs": [
    {
     "data": {
      "text/plain": [
       "array([[ 2.12471147,  0.66941851,  1.16257226],\n",
       "       [-0.01880643, -0.85997256, -2.48681511],\n",
       "       [-0.61644015,  0.52568997,  2.01621518],\n",
       "       [-1.36811095,  2.10662109, -1.19876781]])"
      ]
     },
     "execution_count": 84,
     "metadata": {},
     "output_type": "execute_result"
    }
   ],
   "execution_count": 84
  },
  {
   "metadata": {
    "ExecuteTime": {
     "end_time": "2025-06-14T04:51:36.546653Z",
     "start_time": "2025-06-14T04:51:36.542567Z"
    }
   },
   "cell_type": "code",
   "source": [
    "row_means = arr.mean(1)\n",
    "row_means.reshape((4, 1))\n"
   ],
   "id": "4679031b6a2c8293",
   "outputs": [
    {
     "data": {
      "text/plain": [
       "array([[ 1.31890074],\n",
       "       [-1.1218647 ],\n",
       "       [ 0.64182167],\n",
       "       [-0.15341922]])"
      ]
     },
     "execution_count": 86,
     "metadata": {},
     "output_type": "execute_result"
    }
   ],
   "execution_count": 86
  },
  {
   "metadata": {
    "ExecuteTime": {
     "end_time": "2025-06-14T04:52:29.600084Z",
     "start_time": "2025-06-14T04:52:29.597266Z"
    }
   },
   "cell_type": "code",
   "source": "demeaned = arr - row_means.reshape((4, 1))",
   "id": "9c71c6eb7b2e7ca2",
   "outputs": [],
   "execution_count": 89
  },
  {
   "metadata": {
    "ExecuteTime": {
     "end_time": "2025-06-14T04:52:35.791256Z",
     "start_time": "2025-06-14T04:52:35.786929Z"
    }
   },
   "cell_type": "code",
   "source": "demeaned.mean(1)",
   "id": "c6819c5385503bbf",
   "outputs": [
    {
     "data": {
      "text/plain": [
       "array([ 1.11022302e-16, -7.40148683e-17,  1.48029737e-16,  7.40148683e-17])"
      ]
     },
     "execution_count": 90,
     "metadata": {},
     "output_type": "execute_result"
    }
   ],
   "execution_count": 90
  },
  {
   "metadata": {
    "ExecuteTime": {
     "end_time": "2025-06-14T04:53:54.783651Z",
     "start_time": "2025-06-14T04:53:54.766053Z"
    }
   },
   "cell_type": "code",
   "source": "arr - arr.mean(1)",
   "id": "a23dc754a1d98d43",
   "outputs": [
    {
     "ename": "ValueError",
     "evalue": "operands could not be broadcast together with shapes (4,3) (4,) ",
     "output_type": "error",
     "traceback": [
      "\u001B[0;31m---------------------------------------------------------------------------\u001B[0m",
      "\u001B[0;31mValueError\u001B[0m                                Traceback (most recent call last)",
      "Cell \u001B[0;32mIn[91], line 1\u001B[0m\n\u001B[0;32m----> 1\u001B[0m \u001B[43marr\u001B[49m\u001B[43m \u001B[49m\u001B[38;5;241;43m-\u001B[39;49m\u001B[43m \u001B[49m\u001B[43marr\u001B[49m\u001B[38;5;241;43m.\u001B[39;49m\u001B[43mmean\u001B[49m\u001B[43m(\u001B[49m\u001B[38;5;241;43m1\u001B[39;49m\u001B[43m)\u001B[49m\n",
      "\u001B[0;31mValueError\u001B[0m: operands could not be broadcast together with shapes (4,3) (4,) "
     ]
    }
   ],
   "execution_count": 91
  },
  {
   "metadata": {
    "ExecuteTime": {
     "end_time": "2025-06-14T04:54:45.998887Z",
     "start_time": "2025-06-14T04:54:45.994611Z"
    }
   },
   "cell_type": "code",
   "source": "arr - arr.mean(1).reshape((4, 1))",
   "id": "66903447519156f5",
   "outputs": [
    {
     "data": {
      "text/plain": [
       "array([[ 0.80581072, -0.64948224, -0.15632849],\n",
       "       [ 1.10305827,  0.26189214, -1.36495041],\n",
       "       [-1.25826182, -0.1161317 ,  1.37439351],\n",
       "       [-1.21469172,  2.26004032, -1.04534859]])"
      ]
     },
     "execution_count": 92,
     "metadata": {},
     "output_type": "execute_result"
    }
   ],
   "execution_count": 92
  },
  {
   "metadata": {
    "ExecuteTime": {
     "end_time": "2025-06-14T04:54:58.855102Z",
     "start_time": "2025-06-14T04:54:58.850681Z"
    }
   },
   "cell_type": "code",
   "source": "arr.mean(1).reshape((4, 1))",
   "id": "fca98649aa8c881f",
   "outputs": [
    {
     "data": {
      "text/plain": [
       "array([[ 1.31890074],\n",
       "       [-1.1218647 ],\n",
       "       [ 0.64182167],\n",
       "       [-0.15341922]])"
      ]
     },
     "execution_count": 93,
     "metadata": {},
     "output_type": "execute_result"
    }
   ],
   "execution_count": 93
  },
  {
   "metadata": {
    "ExecuteTime": {
     "end_time": "2025-06-14T04:55:05.251615Z",
     "start_time": "2025-06-14T04:55:05.246406Z"
    }
   },
   "cell_type": "code",
   "source": "arr",
   "id": "b764ee165c9feb94",
   "outputs": [
    {
     "data": {
      "text/plain": [
       "array([[ 2.12471147,  0.66941851,  1.16257226],\n",
       "       [-0.01880643, -0.85997256, -2.48681511],\n",
       "       [-0.61644015,  0.52568997,  2.01621518],\n",
       "       [-1.36811095,  2.10662109, -1.19876781]])"
      ]
     },
     "execution_count": 94,
     "metadata": {},
     "output_type": "execute_result"
    }
   ],
   "execution_count": 94
  },
  {
   "metadata": {
    "ExecuteTime": {
     "end_time": "2025-06-14T04:56:26.142332Z",
     "start_time": "2025-06-14T04:56:26.137085Z"
    }
   },
   "cell_type": "code",
   "source": [
    "arr = np.zeros((4, 4))\n",
    "arr_3d = arr[:, np.newaxis, :]\n",
    "\n",
    "arr_3d.shape"
   ],
   "id": "d390c9310c027000",
   "outputs": [
    {
     "data": {
      "text/plain": [
       "(4, 1, 4)"
      ]
     },
     "execution_count": 95,
     "metadata": {},
     "output_type": "execute_result"
    }
   ],
   "execution_count": 95
  },
  {
   "metadata": {
    "ExecuteTime": {
     "end_time": "2025-06-14T04:57:00.988500Z",
     "start_time": "2025-06-14T04:57:00.982789Z"
    }
   },
   "cell_type": "code",
   "source": [
    "arr_1d = np.random.normal(size = 3)\n",
    "arr_1d[:, np.newaxis]"
   ],
   "id": "457b60bc754e9dea",
   "outputs": [
    {
     "data": {
      "text/plain": [
       "array([[ 0.60771945],\n",
       "       [-0.90700484],\n",
       "       [ 0.18374606]])"
      ]
     },
     "execution_count": 97,
     "metadata": {},
     "output_type": "execute_result"
    }
   ],
   "execution_count": 97
  },
  {
   "metadata": {
    "ExecuteTime": {
     "end_time": "2025-06-14T04:57:40.261959Z",
     "start_time": "2025-06-14T04:57:40.257486Z"
    }
   },
   "cell_type": "code",
   "source": "arr_1d[np.newaxis, :]\n",
   "id": "dbfee027fd0397e6",
   "outputs": [
    {
     "data": {
      "text/plain": [
       "array([[ 0.60771945, -0.90700484,  0.18374606]])"
      ]
     },
     "execution_count": 98,
     "metadata": {},
     "output_type": "execute_result"
    }
   ],
   "execution_count": 98
  },
  {
   "metadata": {
    "ExecuteTime": {
     "end_time": "2025-06-14T05:01:23.434023Z",
     "start_time": "2025-06-14T05:01:23.428257Z"
    }
   },
   "cell_type": "code",
   "source": [
    "arr = np.random.randn(3,4, 5)\n",
    "depth_means = arr.mean(2)\n",
    "depth_means.shape\n",
    "demeaned= arr - depth_means[:, :, np.newaxis]\n",
    "\n",
    "demeaned.mean(2)"
   ],
   "id": "7d39a67f043252ed",
   "outputs": [
    {
     "data": {
      "text/plain": [
       "array([[-4.44089210e-17,  0.00000000e+00, -2.22044605e-17,\n",
       "        -4.44089210e-17],\n",
       "       [-1.11022302e-17, -8.88178420e-17,  6.93889390e-17,\n",
       "         0.00000000e+00],\n",
       "       [ 0.00000000e+00,  0.00000000e+00,  2.22044605e-17,\n",
       "         0.00000000e+00]])"
      ]
     },
     "execution_count": 116,
     "metadata": {},
     "output_type": "execute_result"
    }
   ],
   "execution_count": 116
  },
  {
   "metadata": {
    "ExecuteTime": {
     "end_time": "2025-06-14T05:03:00.673431Z",
     "start_time": "2025-06-14T05:03:00.670051Z"
    }
   },
   "cell_type": "code",
   "source": [
    "def demean_axis(arr, axis = 0):\n",
    "    means = arr.mean(axis)\n",
    "    indexer = [slice(None)] * arr.ndim\n",
    "    indexer[axis] = np.newaxis\n",
    "    return arr - means[indexer]"
   ],
   "id": "dcc8820e0d4e0fa6",
   "outputs": [],
   "execution_count": 117
  },
  {
   "metadata": {
    "ExecuteTime": {
     "end_time": "2025-06-14T05:03:18.243828Z",
     "start_time": "2025-06-14T05:03:18.240840Z"
    }
   },
   "cell_type": "code",
   "source": "arr = np.zeros((4, 3))",
   "id": "bd05f060dcff84e7",
   "outputs": [],
   "execution_count": 118
  },
  {
   "metadata": {
    "ExecuteTime": {
     "end_time": "2025-06-14T05:15:55.925744Z",
     "start_time": "2025-06-14T05:15:55.922375Z"
    }
   },
   "cell_type": "code",
   "source": "col = np.array([1.28, -0.42, 0.44, 1.6])\n",
   "id": "e412f2ea5ecd74d1",
   "outputs": [],
   "execution_count": 123
  },
  {
   "metadata": {
    "ExecuteTime": {
     "end_time": "2025-06-14T05:15:56.674194Z",
     "start_time": "2025-06-14T05:15:56.671240Z"
    }
   },
   "cell_type": "code",
   "source": "arr[:] = 5",
   "id": "38b115b74a3a7241",
   "outputs": [],
   "execution_count": 124
  },
  {
   "metadata": {
    "ExecuteTime": {
     "end_time": "2025-06-14T05:15:56.939600Z",
     "start_time": "2025-06-14T05:15:56.934638Z"
    }
   },
   "cell_type": "code",
   "source": [
    "arr[:] = col[:, np.newaxis]\n",
    "arr"
   ],
   "id": "1a1cc0c768d4739b",
   "outputs": [
    {
     "data": {
      "text/plain": [
       "array([[ 1.28,  1.28,  1.28],\n",
       "       [-0.42, -0.42, -0.42],\n",
       "       [ 0.44,  0.44,  0.44],\n",
       "       [ 1.6 ,  1.6 ,  1.6 ]])"
      ]
     },
     "execution_count": 125,
     "metadata": {},
     "output_type": "execute_result"
    }
   ],
   "execution_count": 125
  },
  {
   "metadata": {
    "ExecuteTime": {
     "end_time": "2025-06-14T05:16:54.915233Z",
     "start_time": "2025-06-14T05:16:54.912260Z"
    }
   },
   "cell_type": "code",
   "source": "arr[:2] = [[-1.37], [0.509]]\n",
   "id": "4935cb2e8596d00e",
   "outputs": [],
   "execution_count": 126
  },
  {
   "metadata": {
    "ExecuteTime": {
     "end_time": "2025-06-14T05:17:21.520258Z",
     "start_time": "2025-06-14T05:17:21.515146Z"
    }
   },
   "cell_type": "code",
   "source": "arr",
   "id": "b8dc179abf2d0ad5",
   "outputs": [
    {
     "data": {
      "text/plain": [
       "array([[-1.37 , -1.37 , -1.37 ],\n",
       "       [ 0.509,  0.509,  0.509],\n",
       "       [ 0.44 ,  0.44 ,  0.44 ],\n",
       "       [ 1.6  ,  1.6  ,  1.6  ]])"
      ]
     },
     "execution_count": 127,
     "metadata": {},
     "output_type": "execute_result"
    }
   ],
   "execution_count": 127
  },
  {
   "metadata": {
    "ExecuteTime": {
     "end_time": "2025-06-14T05:18:17.918219Z",
     "start_time": "2025-06-14T05:18:17.914153Z"
    }
   },
   "cell_type": "code",
   "source": [
    "arr = np.arange(10)\n",
    "np.add.reduce(arr)\n"
   ],
   "id": "5df97d016e2a57b6",
   "outputs": [
    {
     "data": {
      "text/plain": [
       "45"
      ]
     },
     "execution_count": 128,
     "metadata": {},
     "output_type": "execute_result"
    }
   ],
   "execution_count": 128
  },
  {
   "metadata": {
    "ExecuteTime": {
     "end_time": "2025-06-14T05:18:45.400527Z",
     "start_time": "2025-06-14T05:18:45.385527Z"
    }
   },
   "cell_type": "code",
   "source": "np.add.rarr.sum()",
   "id": "1816d236c6980b0e",
   "outputs": [
    {
     "ename": "AttributeError",
     "evalue": "'numpy.ufunc' object has no attribute 'rarr'",
     "output_type": "error",
     "traceback": [
      "\u001B[0;31m---------------------------------------------------------------------------\u001B[0m",
      "\u001B[0;31mAttributeError\u001B[0m                            Traceback (most recent call last)",
      "Cell \u001B[0;32mIn[131], line 1\u001B[0m\n\u001B[0;32m----> 1\u001B[0m \u001B[43mnp\u001B[49m\u001B[38;5;241;43m.\u001B[39;49m\u001B[43madd\u001B[49m\u001B[38;5;241;43m.\u001B[39;49m\u001B[43mrarr\u001B[49m\u001B[38;5;241m.\u001B[39msum()\n",
      "\u001B[0;31mAttributeError\u001B[0m: 'numpy.ufunc' object has no attribute 'rarr'"
     ]
    }
   ],
   "execution_count": 131
  },
  {
   "metadata": {
    "ExecuteTime": {
     "end_time": "2025-06-14T05:20:00.474797Z",
     "start_time": "2025-06-14T05:20:00.471821Z"
    }
   },
   "cell_type": "code",
   "source": [
    "np.random.seed(12345)\n",
    "\n",
    "arr = np.random.randn(5, 5)\n",
    "\n",
    "arr[::2].sort(1)"
   ],
   "id": "c39b57fc21b742a3",
   "outputs": [],
   "execution_count": 132
  },
  {
   "metadata": {
    "ExecuteTime": {
     "end_time": "2025-06-14T05:20:23.875789Z",
     "start_time": "2025-06-14T05:20:23.871028Z"
    }
   },
   "cell_type": "code",
   "source": "arr",
   "id": "308b3e7e4ba6f23",
   "outputs": [
    {
     "data": {
      "text/plain": [
       "array([[-0.5557303 , -0.51943872, -0.20470766,  0.47894334,  1.96578057],\n",
       "       [ 1.39340583,  0.09290788,  0.28174615,  0.76902257,  1.24643474],\n",
       "       [-1.29622111,  0.22891288,  0.27499163,  1.00718936,  1.35291684],\n",
       "       [ 0.88642934, -2.00163731, -0.37184254,  1.66902531, -0.43856974],\n",
       "       [-1.02122752, -0.5770873 , -0.53974145,  0.47698501,  3.24894392]])"
      ]
     },
     "execution_count": 134,
     "metadata": {},
     "output_type": "execute_result"
    }
   ],
   "execution_count": 134
  },
  {
   "metadata": {
    "ExecuteTime": {
     "end_time": "2025-06-14T05:21:24.644521Z",
     "start_time": "2025-06-14T05:21:24.640898Z"
    }
   },
   "cell_type": "code",
   "source": "arr[:, :-1] < arr[:, 1:]",
   "id": "334120aed694bdf3",
   "outputs": [
    {
     "data": {
      "text/plain": [
       "array([[ True,  True,  True,  True],\n",
       "       [False,  True,  True,  True],\n",
       "       [ True,  True,  True,  True],\n",
       "       [False,  True,  True, False],\n",
       "       [ True,  True,  True,  True]])"
      ]
     },
     "execution_count": 135,
     "metadata": {},
     "output_type": "execute_result"
    }
   ],
   "execution_count": 135
  },
  {
   "metadata": {
    "ExecuteTime": {
     "end_time": "2025-06-14T05:22:38.653562Z",
     "start_time": "2025-06-14T05:22:38.648592Z"
    }
   },
   "cell_type": "code",
   "source": "np.logical_and.reduce(arr[:, :-1] < arr[:, 1:], axis =1)",
   "id": "bc5da274df7005a9",
   "outputs": [
    {
     "data": {
      "text/plain": [
       "array([ True, False,  True, False,  True])"
      ]
     },
     "execution_count": 137,
     "metadata": {},
     "output_type": "execute_result"
    }
   ],
   "execution_count": 137
  },
  {
   "metadata": {},
   "cell_type": "markdown",
   "source": "",
   "id": "660c5011d5c56b28"
  },
  {
   "metadata": {
    "ExecuteTime": {
     "end_time": "2025-06-14T05:29:01.524352Z",
     "start_time": "2025-06-14T05:29:01.519936Z"
    }
   },
   "cell_type": "code",
   "source": "np.logical_and.reduce(arr[:, :-1] < arr[:, 1:], axis=1)\n",
   "id": "a608a1ac42ec124e",
   "outputs": [
    {
     "data": {
      "text/plain": [
       "array([ True,  True,  True])"
      ]
     },
     "execution_count": 147,
     "metadata": {},
     "output_type": "execute_result"
    }
   ],
   "execution_count": 147
  },
  {
   "metadata": {
    "ExecuteTime": {
     "end_time": "2025-06-14T05:25:41.770566Z",
     "start_time": "2025-06-14T05:25:41.765923Z"
    }
   },
   "cell_type": "code",
   "source": [
    "arr = np.arange(15).reshape((3, 5))\n",
    "\n",
    "np.add.accumulate(arr, axis = 1)"
   ],
   "id": "9693322f45ac6890",
   "outputs": [
    {
     "data": {
      "text/plain": [
       "array([[ 0,  1,  3,  6, 10],\n",
       "       [ 5, 11, 18, 26, 35],\n",
       "       [10, 21, 33, 46, 60]])"
      ]
     },
     "execution_count": 138,
     "metadata": {},
     "output_type": "execute_result"
    }
   ],
   "execution_count": 138
  },
  {
   "metadata": {
    "ExecuteTime": {
     "end_time": "2025-06-14T05:26:04.460682Z",
     "start_time": "2025-06-14T05:26:04.456226Z"
    }
   },
   "cell_type": "code",
   "source": "np.cumsum(arr, axis = 1)",
   "id": "60b41eb35ab14bf8",
   "outputs": [
    {
     "data": {
      "text/plain": [
       "array([[ 0,  1,  3,  6, 10],\n",
       "       [ 5, 11, 18, 26, 35],\n",
       "       [10, 21, 33, 46, 60]])"
      ]
     },
     "execution_count": 140,
     "metadata": {},
     "output_type": "execute_result"
    }
   ],
   "execution_count": 140
  },
  {
   "metadata": {
    "ExecuteTime": {
     "end_time": "2025-06-14T05:29:11.149772Z",
     "start_time": "2025-06-14T05:29:11.143550Z"
    }
   },
   "cell_type": "code",
   "source": [
    "arr = np.arange(3).repeat([1, 2, 3])\n",
    "\n",
    "arr"
   ],
   "id": "4b7e34f7ec98c26d",
   "outputs": [
    {
     "data": {
      "text/plain": [
       "array([0, 1, 1, 2, 2, 2])"
      ]
     },
     "execution_count": 148,
     "metadata": {},
     "output_type": "execute_result"
    }
   ],
   "execution_count": 148
  },
  {
   "metadata": {
    "ExecuteTime": {
     "end_time": "2025-06-14T05:29:31.531011Z",
     "start_time": "2025-06-14T05:29:31.526026Z"
    }
   },
   "cell_type": "code",
   "source": "np.multiply.outer(arr, np.arange(5))",
   "id": "bccb49f155c7991b",
   "outputs": [
    {
     "data": {
      "text/plain": [
       "array([[0, 0, 0, 0, 0],\n",
       "       [0, 1, 2, 3, 4],\n",
       "       [0, 1, 2, 3, 4],\n",
       "       [0, 2, 4, 6, 8],\n",
       "       [0, 2, 4, 6, 8],\n",
       "       [0, 2, 4, 6, 8]])"
      ]
     },
     "execution_count": 149,
     "metadata": {},
     "output_type": "execute_result"
    }
   ],
   "execution_count": 149
  },
  {
   "metadata": {
    "ExecuteTime": {
     "end_time": "2025-06-14T05:30:41.978373Z",
     "start_time": "2025-06-14T05:30:41.972994Z"
    }
   },
   "cell_type": "code",
   "source": [
    "x, y = np.random.randn(3, 4), np.random.randn(5)\n",
    "\n",
    "result = np.subtract.outer(x, y)\n",
    "\n",
    "result.shape"
   ],
   "id": "759f058f806fd8e",
   "outputs": [
    {
     "data": {
      "text/plain": [
       "(3, 4, 5)"
      ]
     },
     "execution_count": 150,
     "metadata": {},
     "output_type": "execute_result"
    }
   ],
   "execution_count": 150
  },
  {
   "metadata": {
    "ExecuteTime": {
     "end_time": "2025-06-14T05:31:24.537840Z",
     "start_time": "2025-06-14T05:31:24.533599Z"
    }
   },
   "cell_type": "code",
   "source": "print(x.shape); print(y.shape)",
   "id": "5e0e0a3be38182a7",
   "outputs": [
    {
     "name": "stdout",
     "output_type": "stream",
     "text": [
      "(3, 4)\n",
      "(5,)\n"
     ]
    }
   ],
   "execution_count": 155
  },
  {
   "metadata": {
    "ExecuteTime": {
     "end_time": "2025-06-14T05:32:12.421963Z",
     "start_time": "2025-06-14T05:32:12.417539Z"
    }
   },
   "cell_type": "code",
   "source": [
    "arr = np.arange(10)\n",
    "\n",
    "np.add.reduceat(arr, [0, 5, 8])"
   ],
   "id": "1760ee1de3547b22",
   "outputs": [
    {
     "data": {
      "text/plain": [
       "array([10, 18, 17])"
      ]
     },
     "execution_count": 156,
     "metadata": {},
     "output_type": "execute_result"
    }
   ],
   "execution_count": 156
  },
  {
   "metadata": {
    "ExecuteTime": {
     "end_time": "2025-06-14T05:33:17.668396Z",
     "start_time": "2025-06-14T05:33:17.663645Z"
    }
   },
   "cell_type": "code",
   "source": [
    "arr = np.arange(10)\n",
    "np.add.reduceat(arr, [0, 5, 8])\n"
   ],
   "id": "810bd9860368a1aa",
   "outputs": [
    {
     "data": {
      "text/plain": [
       "array([10, 18, 17])"
      ]
     },
     "execution_count": 157,
     "metadata": {},
     "output_type": "execute_result"
    }
   ],
   "execution_count": 157
  },
  {
   "metadata": {
    "ExecuteTime": {
     "end_time": "2025-06-14T05:33:47.973113Z",
     "start_time": "2025-06-14T05:33:47.968143Z"
    }
   },
   "cell_type": "code",
   "source": [
    "arr = np.multiply.outer(np.arange(4), np.arange(5))\n",
    "arr"
   ],
   "id": "3de7b031a86efeb6",
   "outputs": [
    {
     "data": {
      "text/plain": [
       "array([[ 0,  0,  0,  0,  0],\n",
       "       [ 0,  1,  2,  3,  4],\n",
       "       [ 0,  2,  4,  6,  8],\n",
       "       [ 0,  3,  6,  9, 12]])"
      ]
     },
     "execution_count": 158,
     "metadata": {},
     "output_type": "execute_result"
    }
   ],
   "execution_count": 158
  },
  {
   "metadata": {
    "ExecuteTime": {
     "end_time": "2025-06-14T05:34:15.021641Z",
     "start_time": "2025-06-14T05:34:15.006233Z"
    }
   },
   "cell_type": "code",
   "source": "np.add.reduceat(arr, [0, 2, 5], axis = 1)",
   "id": "9f4f3a23b306ec64",
   "outputs": [
    {
     "ename": "IndexError",
     "evalue": "index 5 out-of-bounds in add.reduceat [0, 5)",
     "output_type": "error",
     "traceback": [
      "\u001B[0;31m---------------------------------------------------------------------------\u001B[0m",
      "\u001B[0;31mIndexError\u001B[0m                                Traceback (most recent call last)",
      "Cell \u001B[0;32mIn[159], line 1\u001B[0m\n\u001B[0;32m----> 1\u001B[0m \u001B[43mnp\u001B[49m\u001B[38;5;241;43m.\u001B[39;49m\u001B[43madd\u001B[49m\u001B[38;5;241;43m.\u001B[39;49m\u001B[43mreduceat\u001B[49m\u001B[43m(\u001B[49m\u001B[43marr\u001B[49m\u001B[43m,\u001B[49m\u001B[43m \u001B[49m\u001B[43m[\u001B[49m\u001B[38;5;241;43m0\u001B[39;49m\u001B[43m,\u001B[49m\u001B[43m \u001B[49m\u001B[38;5;241;43m2\u001B[39;49m\u001B[43m,\u001B[49m\u001B[43m \u001B[49m\u001B[38;5;241;43m5\u001B[39;49m\u001B[43m]\u001B[49m\u001B[43m,\u001B[49m\u001B[43m \u001B[49m\u001B[43maxis\u001B[49m\u001B[43m \u001B[49m\u001B[38;5;241;43m=\u001B[39;49m\u001B[43m \u001B[49m\u001B[38;5;241;43m1\u001B[39;49m\u001B[43m)\u001B[49m\n",
      "\u001B[0;31mIndexError\u001B[0m: index 5 out-of-bounds in add.reduceat [0, 5)"
     ]
    }
   ],
   "execution_count": 159
  },
  {
   "metadata": {},
   "cell_type": "code",
   "outputs": [],
   "execution_count": null,
   "source": [
    "def add_elements(x, y):\n",
    "    return x + y"
   ],
   "id": "1609fb4db53c194e"
  },
  {
   "metadata": {
    "ExecuteTime": {
     "end_time": "2025-06-14T05:39:36.431692Z",
     "start_time": "2025-06-14T05:39:36.428976Z"
    }
   },
   "cell_type": "code",
   "source": " arr = np.arange(33)",
   "id": "c3f2a051019ccd91",
   "outputs": [],
   "execution_count": 160
  },
  {
   "metadata": {
    "ExecuteTime": {
     "end_time": "2025-06-14T05:40:47.407606Z",
     "start_time": "2025-06-14T05:40:47.379852Z"
    }
   },
   "cell_type": "code",
   "source": "np.accumulate(arr)",
   "id": "f9cc3b3d2eb2c7bd",
   "outputs": [
    {
     "ename": "AttributeError",
     "evalue": "module 'numpy' has no attribute 'accumulate'",
     "output_type": "error",
     "traceback": [
      "\u001B[0;31m---------------------------------------------------------------------------\u001B[0m",
      "\u001B[0;31mAttributeError\u001B[0m                            Traceback (most recent call last)",
      "Cell \u001B[0;32mIn[167], line 1\u001B[0m\n\u001B[0;32m----> 1\u001B[0m \u001B[43mnp\u001B[49m\u001B[38;5;241;43m.\u001B[39;49m\u001B[43maccumulate\u001B[49m(arr)\n",
      "File \u001B[0;32m~/Documents/MYSpace/FinPy/.venv/lib/python3.10/site-packages/numpy/__init__.py:333\u001B[0m, in \u001B[0;36m__getattr__\u001B[0;34m(attr)\u001B[0m\n\u001B[1;32m    330\u001B[0m     \u001B[38;5;124m\"\u001B[39m\u001B[38;5;124mRemoved in NumPy 1.25.0\u001B[39m\u001B[38;5;124m\"\u001B[39m\n\u001B[1;32m    331\u001B[0m     \u001B[38;5;28;01mraise\u001B[39;00m \u001B[38;5;167;01mRuntimeError\u001B[39;00m(\u001B[38;5;124m\"\u001B[39m\u001B[38;5;124mTester was removed in NumPy 1.25.\u001B[39m\u001B[38;5;124m\"\u001B[39m)\n\u001B[0;32m--> 333\u001B[0m \u001B[38;5;28;01mraise\u001B[39;00m \u001B[38;5;167;01mAttributeError\u001B[39;00m(\u001B[38;5;124m\"\u001B[39m\u001B[38;5;124mmodule \u001B[39m\u001B[38;5;132;01m{!r}\u001B[39;00m\u001B[38;5;124m has no attribute \u001B[39m\u001B[38;5;124m\"\u001B[39m\n\u001B[1;32m    334\u001B[0m                      \u001B[38;5;124m\"\u001B[39m\u001B[38;5;132;01m{!r}\u001B[39;00m\u001B[38;5;124m\"\u001B[39m\u001B[38;5;241m.\u001B[39mformat(\u001B[38;5;18m__name__\u001B[39m, attr))\n",
      "\u001B[0;31mAttributeError\u001B[0m: module 'numpy' has no attribute 'accumulate'"
     ]
    }
   ],
   "execution_count": 167
  },
  {
   "metadata": {
    "ExecuteTime": {
     "end_time": "2025-06-14T05:42:20.793581Z",
     "start_time": "2025-06-14T05:42:20.788868Z"
    }
   },
   "cell_type": "code",
   "source": "np.add.at(arr, [2, 3], 3 )",
   "id": "40e98524026a68ee",
   "outputs": [],
   "execution_count": 170
  },
  {
   "metadata": {
    "ExecuteTime": {
     "end_time": "2025-06-14T05:43:01.726593Z",
     "start_time": "2025-06-14T05:43:01.721904Z"
    }
   },
   "cell_type": "code",
   "source": "np.add.reduce(arr)",
   "id": "f24f1071193e7e7b",
   "outputs": [
    {
     "data": {
      "text/plain": [
       "534"
      ]
     },
     "execution_count": 173,
     "metadata": {},
     "output_type": "execute_result"
    }
   ],
   "execution_count": 173
  },
  {
   "metadata": {
    "ExecuteTime": {
     "end_time": "2025-06-14T05:44:02.311960Z",
     "start_time": "2025-06-14T05:44:02.306686Z"
    }
   },
   "cell_type": "code",
   "source": "np.add.outer(arr, np.arange(3))",
   "id": "9036ba0723192fa0",
   "outputs": [
    {
     "data": {
      "text/plain": [
       "array([[ 0,  1,  2],\n",
       "       [ 1,  2,  3],\n",
       "       [ 5,  6,  7],\n",
       "       [ 6,  7,  8],\n",
       "       [ 4,  5,  6],\n",
       "       [ 5,  6,  7],\n",
       "       [ 6,  7,  8],\n",
       "       [ 7,  8,  9],\n",
       "       [ 8,  9, 10],\n",
       "       [ 9, 10, 11],\n",
       "       [10, 11, 12],\n",
       "       [11, 12, 13],\n",
       "       [12, 13, 14],\n",
       "       [13, 14, 15],\n",
       "       [14, 15, 16],\n",
       "       [15, 16, 17],\n",
       "       [16, 17, 18],\n",
       "       [17, 18, 19],\n",
       "       [18, 19, 20],\n",
       "       [19, 20, 21],\n",
       "       [20, 21, 22],\n",
       "       [21, 22, 23],\n",
       "       [22, 23, 24],\n",
       "       [23, 24, 25],\n",
       "       [24, 25, 26],\n",
       "       [25, 26, 27],\n",
       "       [26, 27, 28],\n",
       "       [27, 28, 29],\n",
       "       [28, 29, 30],\n",
       "       [29, 30, 31],\n",
       "       [30, 31, 32],\n",
       "       [31, 32, 33],\n",
       "       [32, 33, 34]])"
      ]
     },
     "execution_count": 174,
     "metadata": {},
     "output_type": "execute_result"
    }
   ],
   "execution_count": 174
  },
  {
   "metadata": {
    "ExecuteTime": {
     "end_time": "2025-06-14T05:47:17.603080Z",
     "start_time": "2025-06-14T05:47:17.599246Z"
    }
   },
   "cell_type": "code",
   "source": [
    "arr = np.array([10, 20, 30, 40, 50, 60])\n",
    "indices = [0, 3, 5]\n",
    "result = np.add.reduceat(arr, indices)\n",
    "print(result)"
   ],
   "id": "64226246c2c7343b",
   "outputs": [
    {
     "name": "stdout",
     "output_type": "stream",
     "text": [
      "[60 90 60]\n"
     ]
    }
   ],
   "execution_count": 184
  },
  {
   "metadata": {
    "ExecuteTime": {
     "end_time": "2025-06-14T05:50:12.682828Z",
     "start_time": "2025-06-14T05:50:12.677886Z"
    }
   },
   "cell_type": "code",
   "source": [
    "def add_elements(x, y):\n",
    "    return x + y\n",
    "\n",
    "add_them = np.frompyfunc(add_elements, 2, 1)\n",
    "\n",
    "add_them(np.arange(8), np.arange(8))\n"
   ],
   "id": "152ec66f97995b8a",
   "outputs": [
    {
     "data": {
      "text/plain": [
       "array([0, 2, 4, 6, 8, 10, 12, 14], dtype=object)"
      ]
     },
     "execution_count": 186,
     "metadata": {},
     "output_type": "execute_result"
    }
   ],
   "execution_count": 186
  },
  {
   "metadata": {
    "ExecuteTime": {
     "end_time": "2025-06-14T05:51:29.139271Z",
     "start_time": "2025-06-14T05:51:19.060319Z"
    }
   },
   "cell_type": "code",
   "source": [
    "arr = np.random.randn(10000)\n",
    "\n",
    "%timeit add_them(arr, arr)"
   ],
   "id": "ee0678d3ee790646",
   "outputs": [
    {
     "name": "stdout",
     "output_type": "stream",
     "text": [
      "1.19 ms ± 47.6 μs per loop (mean ± std. dev. of 7 runs, 1,000 loops each)\n"
     ]
    }
   ],
   "execution_count": 187
  },
  {
   "metadata": {
    "ExecuteTime": {
     "end_time": "2025-06-14T05:51:39.085408Z",
     "start_time": "2025-06-14T05:51:36.562333Z"
    }
   },
   "cell_type": "code",
   "source": "%timeit np.add(arr, arr)",
   "id": "5a1978e4d9987cf4",
   "outputs": [
    {
     "name": "stdout",
     "output_type": "stream",
     "text": [
      "3.14 μs ± 662 ns per loop (mean ± std. dev. of 7 runs, 100,000 loops each)\n"
     ]
    }
   ],
   "execution_count": 188
  },
  {
   "metadata": {
    "ExecuteTime": {
     "end_time": "2025-06-14T05:52:58.660156Z",
     "start_time": "2025-06-14T05:52:58.655947Z"
    }
   },
   "cell_type": "code",
   "source": [
    "import numpy as np\n",
    "\n",
    "arr = np.array([[1, 3, 2],\n",
    "                [4, 2, 5]])\n",
    "\n",
    "# Task: Compute cumulative max along each row\n",
    "result = np.maximum.accumulate(arr, axis=1)\n",
    "print(result)\n"
   ],
   "id": "9c10189ff800d783",
   "outputs": [
    {
     "name": "stdout",
     "output_type": "stream",
     "text": [
      "[[1 3 3]\n",
      " [4 4 5]]\n"
     ]
    }
   ],
   "execution_count": 189
  },
  {
   "metadata": {
    "ExecuteTime": {
     "end_time": "2025-06-14T05:54:15.333339Z",
     "start_time": "2025-06-14T05:54:15.327686Z"
    }
   },
   "cell_type": "code",
   "source": [
    "x = np.array([1, 2, 3])\n",
    "y = np.array([0, 1, 2])\n",
    "\n",
    "def myfunc(x, y):\n",
    "    return x**y\n",
    "myfunc(x, y)\n",
    "\n",
    "result = np.power.outer(x, y)\n",
    "\n",
    "result"
   ],
   "id": "9d0018a72ee4b6de",
   "outputs": [
    {
     "data": {
      "text/plain": [
       "array([[1, 1, 1],\n",
       "       [1, 2, 4],\n",
       "       [1, 3, 9]])"
      ]
     },
     "execution_count": 193,
     "metadata": {},
     "output_type": "execute_result"
    }
   ],
   "execution_count": 193
  },
  {
   "metadata": {
    "ExecuteTime": {
     "end_time": "2025-06-14T05:55:43.071248Z",
     "start_time": "2025-06-14T05:55:43.065647Z"
    }
   },
   "cell_type": "code",
   "source": [
    "arr = np.array([10, 20, 30, 40, 50, 60, 70])\n",
    "indices = [0, 2, 5]\n",
    "result = np.add.reduceat(arr, indices)\n",
    "result"
   ],
   "id": "3e232e2369286ff1",
   "outputs": [
    {
     "data": {
      "text/plain": [
       "array([ 30, 120, 130])"
      ]
     },
     "execution_count": 195,
     "metadata": {},
     "output_type": "execute_result"
    }
   ],
   "execution_count": 195
  },
  {
   "metadata": {
    "ExecuteTime": {
     "end_time": "2025-06-14T05:58:00.191171Z",
     "start_time": "2025-06-14T05:58:00.186134Z"
    }
   },
   "cell_type": "code",
   "source": [
    "dtype = [('x', np.float64), ('y', np.int32)]\n",
    "\n",
    "sarr = np.array([(1.5, 6), (np.pi, -2)], dtype = dtype)\n",
    "\n",
    "sarr"
   ],
   "id": "32a4dcef4cd6c8e4",
   "outputs": [
    {
     "data": {
      "text/plain": [
       "array([(1.5       ,  6), (3.14159265, -2)],\n",
       "      dtype=[('x', '<f8'), ('y', '<i4')])"
      ]
     },
     "execution_count": 198,
     "metadata": {},
     "output_type": "execute_result"
    }
   ],
   "execution_count": 198
  },
  {
   "metadata": {
    "ExecuteTime": {
     "end_time": "2025-06-14T05:58:22.706941Z",
     "start_time": "2025-06-14T05:58:22.701498Z"
    }
   },
   "cell_type": "code",
   "source": "sarr[0]",
   "id": "d2aed9b7643e1622",
   "outputs": [
    {
     "data": {
      "text/plain": [
       "(1.5, 6)"
      ]
     },
     "execution_count": 199,
     "metadata": {},
     "output_type": "execute_result"
    }
   ],
   "execution_count": 199
  },
  {
   "metadata": {
    "ExecuteTime": {
     "end_time": "2025-06-14T05:58:31.185402Z",
     "start_time": "2025-06-14T05:58:31.181575Z"
    }
   },
   "cell_type": "code",
   "source": "sarr[0]['y']",
   "id": "60ce7b0055f9157f",
   "outputs": [
    {
     "data": {
      "text/plain": [
       "6"
      ]
     },
     "execution_count": 200,
     "metadata": {},
     "output_type": "execute_result"
    }
   ],
   "execution_count": 200
  },
  {
   "metadata": {
    "ExecuteTime": {
     "end_time": "2025-06-14T05:58:36.544049Z",
     "start_time": "2025-06-14T05:58:36.540076Z"
    }
   },
   "cell_type": "code",
   "source": "sarr['x']",
   "id": "acda3cf6189b3faa",
   "outputs": [
    {
     "data": {
      "text/plain": [
       "array([1.5       , 3.14159265])"
      ]
     },
     "execution_count": 201,
     "metadata": {},
     "output_type": "execute_result"
    }
   ],
   "execution_count": 201
  },
  {
   "metadata": {
    "ExecuteTime": {
     "end_time": "2025-06-14T06:01:02.004805Z",
     "start_time": "2025-06-14T06:01:01.999958Z"
    }
   },
   "cell_type": "code",
   "source": [
    "dtype = [('x', np.int64, 3), ('y', np.int32)]\n",
    "arr = np.zeros(4, dtype = dtype)\n",
    "arr"
   ],
   "id": "966e494b8e003530",
   "outputs": [
    {
     "data": {
      "text/plain": [
       "array([([0, 0, 0], 0), ([0, 0, 0], 0), ([0, 0, 0], 0), ([0, 0, 0], 0)],\n",
       "      dtype=[('x', '<i8', (3,)), ('y', '<i4')])"
      ]
     },
     "execution_count": 204,
     "metadata": {},
     "output_type": "execute_result"
    }
   ],
   "execution_count": 204
  },
  {
   "metadata": {
    "ExecuteTime": {
     "end_time": "2025-06-14T06:02:47.183875Z",
     "start_time": "2025-06-14T06:02:47.180661Z"
    }
   },
   "cell_type": "code",
   "source": "dtype = [('x', [('a', 'f8'), ('b', 'f4')]),  'y', np.int32]",
   "id": "caa0e6a6fab9be1b",
   "outputs": [],
   "execution_count": 205
  },
  {
   "metadata": {
    "ExecuteTime": {
     "end_time": "2025-06-14T06:05:36.286436Z",
     "start_time": "2025-06-14T06:05:36.269452Z"
    }
   },
   "cell_type": "code",
   "source": "data['x']",
   "id": "5d9271ec5502047a",
   "outputs": [
    {
     "ename": "TypeError",
     "evalue": "Field elements must be 2- or 3-tuples, got ''y''",
     "output_type": "error",
     "traceback": [
      "\u001B[0;31m---------------------------------------------------------------------------\u001B[0m",
      "\u001B[0;31mTypeError\u001B[0m                                 Traceback (most recent call last)",
      "Cell \u001B[0;32mIn[210], line 1\u001B[0m\n\u001B[0;32m----> 1\u001B[0m data \u001B[38;5;241m=\u001B[39m \u001B[43mnp\u001B[49m\u001B[38;5;241;43m.\u001B[39;49m\u001B[43marray\u001B[49m\u001B[43m(\u001B[49m\u001B[43m[\u001B[49m\u001B[43m(\u001B[49m\u001B[43m(\u001B[49m\u001B[38;5;241;43m1\u001B[39;49m\u001B[43m,\u001B[49m\u001B[43m \u001B[49m\u001B[38;5;241;43m2\u001B[39;49m\u001B[43m,\u001B[49m\u001B[43m \u001B[49m\u001B[38;5;241;43m0\u001B[39;49m\u001B[43m)\u001B[49m\u001B[43m,\u001B[49m\u001B[43m \u001B[49m\u001B[38;5;241;43m5\u001B[39;49m\u001B[43m)\u001B[49m\u001B[43m,\u001B[49m\u001B[43m \u001B[49m\u001B[43m(\u001B[49m\u001B[43m(\u001B[49m\u001B[38;5;241;43m3\u001B[39;49m\u001B[43m,\u001B[49m\u001B[43m \u001B[49m\u001B[38;5;241;43m4\u001B[39;49m\u001B[43m,\u001B[49m\u001B[43m \u001B[49m\u001B[38;5;241;43m0\u001B[39;49m\u001B[43m)\u001B[49m\u001B[43m,\u001B[49m\u001B[43m \u001B[49m\u001B[38;5;241;43m6\u001B[39;49m\u001B[43m)\u001B[49m\u001B[43m]\u001B[49m\u001B[43m,\u001B[49m\u001B[43m \u001B[49m\u001B[43mdtype\u001B[49m\u001B[38;5;241;43m=\u001B[39;49m\u001B[43mdtype\u001B[49m\u001B[43m)\u001B[49m\n",
      "\u001B[0;31mTypeError\u001B[0m: Field elements must be 2- or 3-tuples, got ''y''"
     ]
    }
   ],
   "execution_count": 210
  },
  {
   "metadata": {
    "ExecuteTime": {
     "end_time": "2025-06-14T06:06:46.407723Z",
     "start_time": "2025-06-14T06:06:46.402311Z"
    }
   },
   "cell_type": "code",
   "source": [
    "arr = np.random.randn(6)\n",
    "arr.sort()\n",
    "\n",
    "arr"
   ],
   "id": "9267728f0b19790a",
   "outputs": [
    {
     "data": {
      "text/plain": [
       "array([-2.8684566 , -0.97842091, -0.60364122, -0.36927672, -0.04395743,\n",
       "        1.17812873])"
      ]
     },
     "execution_count": 212,
     "metadata": {},
     "output_type": "execute_result"
    }
   ],
   "execution_count": 212
  },
  {
   "metadata": {
    "ExecuteTime": {
     "end_time": "2025-06-14T06:07:08.447587Z",
     "start_time": "2025-06-14T06:07:08.442774Z"
    }
   },
   "cell_type": "code",
   "source": [
    "arr = np.random.randn(3, 5)\n",
    "arr"
   ],
   "id": "61546f230e9bf263",
   "outputs": [
    {
     "data": {
      "text/plain": [
       "array([[-0.66000182, -0.33807963,  0.63497703, -0.71606474,  0.0228685 ],\n",
       "       [-0.13324884, -0.11682442,  0.03503312, -1.79267401, -1.82940241],\n",
       "       [-0.14848782,  0.04995322, -1.32899112, -0.45067167, -1.02241173]])"
      ]
     },
     "execution_count": 214,
     "metadata": {},
     "output_type": "execute_result"
    }
   ],
   "execution_count": 214
  },
  {
   "metadata": {
    "ExecuteTime": {
     "end_time": "2025-06-14T06:07:32.840798Z",
     "start_time": "2025-06-14T06:07:32.835034Z"
    }
   },
   "cell_type": "code",
   "source": [
    "arr[:, 0].sort()\n",
    "arr"
   ],
   "id": "b08adbfada54e52d",
   "outputs": [
    {
     "data": {
      "text/plain": [
       "array([[-0.66000182, -0.33807963,  0.63497703, -0.71606474,  0.0228685 ],\n",
       "       [-0.14848782, -0.11682442,  0.03503312, -1.79267401, -1.82940241],\n",
       "       [-0.13324884,  0.04995322, -1.32899112, -0.45067167, -1.02241173]])"
      ]
     },
     "execution_count": 216,
     "metadata": {},
     "output_type": "execute_result"
    }
   ],
   "execution_count": 216
  },
  {
   "metadata": {
    "ExecuteTime": {
     "end_time": "2025-06-14T06:09:01.838426Z",
     "start_time": "2025-06-14T06:09:01.834077Z"
    }
   },
   "cell_type": "code",
   "source": [
    "arr = np.random.randn(5)\n",
    "np.sort(arr)"
   ],
   "id": "36a67f6f60890d34",
   "outputs": [
    {
     "data": {
      "text/plain": [
       "array([-1.40713387, -0.47359003,  0.19392979,  0.28345813,  0.87670717])"
      ]
     },
     "execution_count": 218,
     "metadata": {},
     "output_type": "execute_result"
    }
   ],
   "execution_count": 218
  },
  {
   "metadata": {
    "ExecuteTime": {
     "end_time": "2025-06-14T06:09:04.702053Z",
     "start_time": "2025-06-14T06:09:04.696898Z"
    }
   },
   "cell_type": "code",
   "source": "arr",
   "id": "e4a3eead9f0ff9cc",
   "outputs": [
    {
     "data": {
      "text/plain": [
       "array([ 0.19392979,  0.87670717,  0.28345813, -1.40713387, -0.47359003])"
      ]
     },
     "execution_count": 219,
     "metadata": {},
     "output_type": "execute_result"
    }
   ],
   "execution_count": 219
  },
  {
   "metadata": {
    "ExecuteTime": {
     "end_time": "2025-06-14T06:09:49.712416Z",
     "start_time": "2025-06-14T06:09:49.709760Z"
    }
   },
   "cell_type": "code",
   "source": [
    "arr = np.random.randn(3, 5)\n",
    "arr.sort(axis = 1)"
   ],
   "id": "c8c08c0019440438",
   "outputs": [],
   "execution_count": 222
  },
  {
   "metadata": {
    "ExecuteTime": {
     "end_time": "2025-06-14T06:09:52.069493Z",
     "start_time": "2025-06-14T06:09:52.064967Z"
    }
   },
   "cell_type": "code",
   "source": "arr",
   "id": "85b144b9003dbbfc",
   "outputs": [
    {
     "data": {
      "text/plain": [
       "array([[-0.93651858, -0.16986601,  0.08360603,  0.10631206,  0.52731415],\n",
       "       [-1.51974035, -0.5007859 , -0.24616905, -0.04641922,  0.95668424],\n",
       "       [-0.66749644, -0.28348781, -0.19059901, -0.09342088,  1.14912319]])"
      ]
     },
     "execution_count": 223,
     "metadata": {},
     "output_type": "execute_result"
    }
   ],
   "execution_count": 223
  },
  {
   "metadata": {
    "ExecuteTime": {
     "end_time": "2025-06-14T06:10:34.710178Z",
     "start_time": "2025-06-14T06:10:34.705657Z"
    }
   },
   "cell_type": "code",
   "source": "arr[:, ::-1]",
   "id": "d7a10095761b9eb",
   "outputs": [
    {
     "data": {
      "text/plain": [
       "array([[ 0.52731415,  0.10631206,  0.08360603, -0.16986601, -0.93651858],\n",
       "       [ 0.95668424, -0.04641922, -0.24616905, -0.5007859 , -1.51974035],\n",
       "       [ 1.14912319, -0.09342088, -0.19059901, -0.28348781, -0.66749644]])"
      ]
     },
     "execution_count": 224,
     "metadata": {},
     "output_type": "execute_result"
    }
   ],
   "execution_count": 224
  },
  {
   "metadata": {
    "ExecuteTime": {
     "end_time": "2025-06-14T06:12:10.912384Z",
     "start_time": "2025-06-14T06:12:10.908116Z"
    }
   },
   "cell_type": "code",
   "source": [
    "values = np.array([5, 0, 1, 3, 2])\n",
    "indexer = values.argsort()\n",
    "indexer\n",
    "\n",
    "values[indexer]"
   ],
   "id": "336da0fd48cc3e1b",
   "outputs": [
    {
     "data": {
      "text/plain": [
       "array([0, 1, 2, 3, 5])"
      ]
     },
     "execution_count": 226,
     "metadata": {},
     "output_type": "execute_result"
    }
   ],
   "execution_count": 226
  },
  {
   "metadata": {
    "ExecuteTime": {
     "end_time": "2025-06-14T06:12:47.402894Z",
     "start_time": "2025-06-14T06:12:47.399311Z"
    }
   },
   "cell_type": "code",
   "source": [
    "arr = np.random.randn(3, 5)\n",
    "arr[0] = values"
   ],
   "id": "cbdcb4c39bde0365",
   "outputs": [],
   "execution_count": 227
  },
  {
   "metadata": {
    "ExecuteTime": {
     "end_time": "2025-06-14T06:12:49.475549Z",
     "start_time": "2025-06-14T06:12:49.469539Z"
    }
   },
   "cell_type": "code",
   "source": "arr",
   "id": "dbd2f96c813b1f8a",
   "outputs": [
    {
     "data": {
      "text/plain": [
       "array([[ 5.        ,  0.        ,  1.        ,  3.        ,  2.        ],\n",
       "       [-1.79015022,  0.50613633, -1.84093014, -2.06582445, -0.08328621],\n",
       "       [ 0.61383685, -1.64562276,  1.83888497, -0.13053351, -0.20532461]])"
      ]
     },
     "execution_count": 228,
     "metadata": {},
     "output_type": "execute_result"
    }
   ],
   "execution_count": 228
  },
  {
   "metadata": {
    "ExecuteTime": {
     "end_time": "2025-06-14T06:13:46.910031Z",
     "start_time": "2025-06-14T06:13:46.905733Z"
    }
   },
   "cell_type": "code",
   "source": "arr[:, arr[0].argsort()]",
   "id": "ee0491de03a5e695",
   "outputs": [
    {
     "data": {
      "text/plain": [
       "array([[ 0.        ,  1.        ,  2.        ,  3.        ,  5.        ],\n",
       "       [ 0.50613633, -1.84093014, -0.08328621, -2.06582445, -1.79015022],\n",
       "       [-1.64562276,  1.83888497, -0.20532461, -0.13053351,  0.61383685]])"
      ]
     },
     "execution_count": 231,
     "metadata": {},
     "output_type": "execute_result"
    }
   ],
   "execution_count": 231
  },
  {
   "metadata": {
    "ExecuteTime": {
     "end_time": "2025-06-15T12:55:29.845261Z",
     "start_time": "2025-06-15T12:55:29.840393Z"
    }
   },
   "cell_type": "code",
   "source": [
    "import numpy as np\n",
    "def add_elements(x, y):\n",
    "    return x + y\n",
    "add_them = np.frompyfunc(add_elements, 2, 1)\n",
    "\n",
    "add_them(np.arange(8), np.arange(8))\n"
   ],
   "id": "264504b435877b16",
   "outputs": [
    {
     "data": {
      "text/plain": [
       "array([0, 2, 4, 6, 8, 10, 12, 14], dtype=object)"
      ]
     },
     "execution_count": 4,
     "metadata": {},
     "output_type": "execute_result"
    }
   ],
   "execution_count": 4
  },
  {
   "metadata": {
    "ExecuteTime": {
     "end_time": "2025-06-15T12:57:39.804373Z",
     "start_time": "2025-06-15T12:57:39.800471Z"
    }
   },
   "cell_type": "code",
   "source": [
    "add_them = np.vectorize(add_elements, otypes = [np.float64])\n",
    "add_them(np.arange(8), np.arange(8))\n",
    "arr = np.random.randn(10000)\n",
    "\n"
   ],
   "id": "945c6f8fe4ea35ca",
   "outputs": [],
   "execution_count": 7
  },
  {
   "metadata": {
    "ExecuteTime": {
     "end_time": "2025-06-15T12:58:00.482634Z",
     "start_time": "2025-06-15T12:57:48.751057Z"
    }
   },
   "cell_type": "code",
   "source": "%timeit add_them(arr, arr)",
   "id": "67aae5592cde12ab",
   "outputs": [
    {
     "name": "stdout",
     "output_type": "stream",
     "text": [
      "1.42 ms ± 45.2 μs per loop (mean ± std. dev. of 7 runs, 1,000 loops each)\n"
     ]
    }
   ],
   "execution_count": 8
  },
  {
   "metadata": {
    "ExecuteTime": {
     "end_time": "2025-06-15T12:59:44.805614Z",
     "start_time": "2025-06-15T12:59:44.799945Z"
    }
   },
   "cell_type": "code",
   "source": [
    "first_name = np.array(['Bob', 'Jane', 'Steve', 'Bill', 'Barbara'])\n",
    "\n",
    "last_name = np.array(['Jones', 'Arnold', 'Arnold', 'Jones', 'Walters'])\n",
    "\n",
    "sorter = np.lexsort((first_name, last_name))\n",
    "sorter"
   ],
   "id": "e1e3e048cce269de",
   "outputs": [
    {
     "data": {
      "text/plain": [
       "array([1, 2, 3, 0, 4])"
      ]
     },
     "execution_count": 9,
     "metadata": {},
     "output_type": "execute_result"
    }
   ],
   "execution_count": 9
  },
  {
   "metadata": {
    "ExecuteTime": {
     "end_time": "2025-06-15T13:00:19.344942Z",
     "start_time": "2025-06-15T13:00:19.340932Z"
    }
   },
   "cell_type": "code",
   "source": "list(zip(last_name[sorter], first_name[sorter]))\n",
   "id": "f59020b51b4afa97",
   "outputs": [
    {
     "data": {
      "text/plain": [
       "[('Arnold', 'Jane'),\n",
       " ('Arnold', 'Steve'),\n",
       " ('Jones', 'Bill'),\n",
       " ('Jones', 'Bob'),\n",
       " ('Walters', 'Barbara')]"
      ]
     },
     "execution_count": 10,
     "metadata": {},
     "output_type": "execute_result"
    }
   ],
   "execution_count": 10
  },
  {
   "metadata": {
    "ExecuteTime": {
     "end_time": "2025-06-15T13:01:27.162700Z",
     "start_time": "2025-06-15T13:01:27.159899Z"
    }
   },
   "cell_type": "code",
   "source": "values = np.array(['2:first', '2:second', '1:first', '1:second', '1:third'])",
   "id": "f0292d9ebd1258a0",
   "outputs": [],
   "execution_count": 11
  },
  {
   "metadata": {
    "ExecuteTime": {
     "end_time": "2025-06-15T13:02:17.391241Z",
     "start_time": "2025-06-15T13:02:17.387024Z"
    }
   },
   "cell_type": "code",
   "source": [
    "key = np.array([2, 2, 1, 1, 1])\n",
    "\n",
    "indexer = key.argsort(kind = 'mergesort')\n",
    "values.take(indexer)"
   ],
   "id": "4ebe8c42ec5aaafd",
   "outputs": [
    {
     "data": {
      "text/plain": [
       "array(['1:first', '1:second', '1:third', '2:first', '2:second'],\n",
       "      dtype='<U8')"
      ]
     },
     "execution_count": 13,
     "metadata": {},
     "output_type": "execute_result"
    }
   ],
   "execution_count": 13
  },
  {
   "metadata": {
    "ExecuteTime": {
     "end_time": "2025-06-15T13:06:09.702189Z",
     "start_time": "2025-06-15T13:06:09.695533Z"
    }
   },
   "cell_type": "code",
   "source": [
    "np.random.seed(12345)\n",
    "arr = np.random.randn(20)\n",
    "arr"
   ],
   "id": "cbba8b3171734f1e",
   "outputs": [
    {
     "data": {
      "text/plain": [
       "array([-0.20470766,  0.47894334, -0.51943872, -0.5557303 ,  1.96578057,\n",
       "        1.39340583,  0.09290788,  0.28174615,  0.76902257,  1.24643474,\n",
       "        1.00718936, -1.29622111,  0.27499163,  0.22891288,  1.35291684,\n",
       "        0.88642934, -2.00163731, -0.37184254,  1.66902531, -0.43856974])"
      ]
     },
     "execution_count": 14,
     "metadata": {},
     "output_type": "execute_result"
    }
   ],
   "execution_count": 14
  },
  {
   "metadata": {
    "ExecuteTime": {
     "end_time": "2025-06-15T13:06:20.936835Z",
     "start_time": "2025-06-15T13:06:20.931785Z"
    }
   },
   "cell_type": "code",
   "source": "np.partition(arr, 3)",
   "id": "ab9d8d1afa097b4f",
   "outputs": [
    {
     "data": {
      "text/plain": [
       "array([-2.00163731, -1.29622111, -0.5557303 , -0.51943872, -0.37184254,\n",
       "       -0.43856974, -0.20470766,  0.28174615,  0.76902257,  0.47894334,\n",
       "        1.00718936,  0.09290788,  0.27499163,  0.22891288,  1.35291684,\n",
       "        0.88642934,  1.39340583,  1.96578057,  1.66902531,  1.24643474])"
      ]
     },
     "execution_count": 15,
     "metadata": {},
     "output_type": "execute_result"
    }
   ],
   "execution_count": 15
  },
  {
   "metadata": {
    "ExecuteTime": {
     "end_time": "2025-06-15T13:08:37.224594Z",
     "start_time": "2025-06-15T13:08:37.219939Z"
    }
   },
   "cell_type": "code",
   "source": [
    "indices = np.argpartition(arr, 3)\n",
    "indices"
   ],
   "id": "e2b897a960b35a52",
   "outputs": [
    {
     "data": {
      "text/plain": [
       "array([16, 11,  3,  2, 17, 19,  0,  7,  8,  1, 10,  6, 12, 13, 14, 15,  5,\n",
       "        4, 18,  9])"
      ]
     },
     "execution_count": 18,
     "metadata": {},
     "output_type": "execute_result"
    }
   ],
   "execution_count": 18
  },
  {
   "metadata": {
    "ExecuteTime": {
     "end_time": "2025-06-15T13:08:37.794197Z",
     "start_time": "2025-06-15T13:08:37.789431Z"
    }
   },
   "cell_type": "code",
   "source": "arr.take(indices)",
   "id": "f1238884825c6319",
   "outputs": [
    {
     "data": {
      "text/plain": [
       "array([-2.00163731, -1.29622111, -0.5557303 , -0.51943872, -0.37184254,\n",
       "       -0.43856974, -0.20470766,  0.28174615,  0.76902257,  0.47894334,\n",
       "        1.00718936,  0.09290788,  0.27499163,  0.22891288,  1.35291684,\n",
       "        0.88642934,  1.39340583,  1.96578057,  1.66902531,  1.24643474])"
      ]
     },
     "execution_count": 19,
     "metadata": {},
     "output_type": "execute_result"
    }
   ],
   "execution_count": 19
  },
  {
   "metadata": {
    "ExecuteTime": {
     "end_time": "2025-06-15T13:14:51.845770Z",
     "start_time": "2025-06-15T13:14:50.774303Z"
    }
   },
   "cell_type": "code",
   "source": [
    "import numba as nb\n",
    "@nb.jit\n",
    "def mean_distance(x, y):\n",
    "    nx = len(x)\n",
    "    result = 0.0\n",
    "    count = 0\n",
    "    for i in range(nx):\n",
    "        result += x[i] - y[i]\n",
    "        count+= 1\n",
    "    return result / count\n",
    "x=y = np.random.randn(10000000)\n",
    "%timeit mean_distance(x, y)"
   ],
   "id": "10dcf906535ac22f",
   "outputs": [
    {
     "name": "stdout",
     "output_type": "stream",
     "text": [
      "12.4 ms ± 276 μs per loop (mean ± std. dev. of 7 runs, 1 loop each)\n"
     ]
    }
   ],
   "execution_count": 25
  },
  {
   "metadata": {
    "ExecuteTime": {
     "end_time": "2025-06-15T13:17:53.988123Z",
     "start_time": "2025-06-15T13:17:53.931667Z"
    }
   },
   "cell_type": "code",
   "source": [
    "from numba import vectorize\n",
    "\n",
    "@vectorize\n",
    "def nb_add(x, y):\n",
    "    return x+ y\n",
    "\n",
    "x = np.arange(10)\n",
    "nb_add(x, x)\n",
    "\n",
    "nb_add.accumulate(x, 0)"
   ],
   "id": "1d6795354f0fd92b",
   "outputs": [
    {
     "data": {
      "text/plain": [
       "array([ 0,  1,  3,  6, 10, 15, 21, 28, 36, 45])"
      ]
     },
     "execution_count": 28,
     "metadata": {},
     "output_type": "execute_result"
    }
   ],
   "execution_count": 28
  },
  {
   "metadata": {
    "ExecuteTime": {
     "end_time": "2025-06-15T13:19:35.628213Z",
     "start_time": "2025-06-15T13:19:35.602091Z"
    }
   },
   "cell_type": "code",
   "source": [
    "mmap = np.memmap('mymmap', dtype = 'float64', mode = 'w+', shape = (10000, 10000))\n",
    "mmap"
   ],
   "id": "f261429ac6349d48",
   "outputs": [
    {
     "data": {
      "text/plain": [
       "memmap([[0., 0., 0., ..., 0., 0., 0.],\n",
       "        [0., 0., 0., ..., 0., 0., 0.],\n",
       "        [0., 0., 0., ..., 0., 0., 0.],\n",
       "        ...,\n",
       "        [0., 0., 0., ..., 0., 0., 0.],\n",
       "        [0., 0., 0., ..., 0., 0., 0.],\n",
       "        [0., 0., 0., ..., 0., 0., 0.]])"
      ]
     },
     "execution_count": 30,
     "metadata": {},
     "output_type": "execute_result"
    }
   ],
   "execution_count": 30
  },
  {
   "metadata": {
    "ExecuteTime": {
     "end_time": "2025-06-15T13:20:58.199212Z",
     "start_time": "2025-06-15T13:20:58.194576Z"
    }
   },
   "cell_type": "code",
   "source": [
    "section = mmap[:5]\n",
    "section[:] = np.random.randn(5, 10000)\n",
    "\n",
    "mmap.flush()"
   ],
   "id": "ef0175384c01296b",
   "outputs": [],
   "execution_count": 35
  },
  {
   "metadata": {
    "ExecuteTime": {
     "end_time": "2025-06-15T13:21:02.060633Z",
     "start_time": "2025-06-15T13:21:02.056163Z"
    }
   },
   "cell_type": "code",
   "source": "mmap",
   "id": "e595a26b527e43be",
   "outputs": [
    {
     "data": {
      "text/plain": [
       "memmap([[ 0.23275331,  1.78686021,  0.97992359, ...,  2.41775622,\n",
       "         -3.14188089,  0.80611709],\n",
       "        [ 0.14532681, -0.13024997, -0.84999561, ..., -0.05977103,\n",
       "          0.48362599, -0.71616606],\n",
       "        [-0.57893615, -1.56128556,  0.06070886, ..., -0.36330868,\n",
       "         -0.24724856, -0.22294129],\n",
       "        ...,\n",
       "        [ 0.        ,  0.        ,  0.        , ...,  0.        ,\n",
       "          0.        ,  0.        ],\n",
       "        [ 0.        ,  0.        ,  0.        , ...,  0.        ,\n",
       "          0.        ,  0.        ],\n",
       "        [ 0.        ,  0.        ,  0.        , ...,  0.        ,\n",
       "          0.        ,  0.        ]])"
      ]
     },
     "execution_count": 36,
     "metadata": {},
     "output_type": "execute_result"
    }
   ],
   "execution_count": 36
  },
  {
   "metadata": {
    "ExecuteTime": {
     "end_time": "2025-06-15T13:21:16.173529Z",
     "start_time": "2025-06-15T13:21:16.170672Z"
    }
   },
   "cell_type": "code",
   "source": "del mmap",
   "id": "d05bf54e0fe6161d",
   "outputs": [],
   "execution_count": 37
  },
  {
   "metadata": {
    "ExecuteTime": {
     "end_time": "2025-06-15T13:22:12.278255Z",
     "start_time": "2025-06-15T13:22:12.252760Z"
    }
   },
   "cell_type": "code",
   "source": [
    "mmap = np.memmap('mymmap', dtype = 'float64', shape = (10000, 10000))\n",
    "mmap"
   ],
   "id": "830256944f35ba2b",
   "outputs": [
    {
     "data": {
      "text/plain": [
       "memmap([[ 0.23275331,  1.78686021,  0.97992359, ...,  2.41775622,\n",
       "         -3.14188089,  0.80611709],\n",
       "        [ 0.14532681, -0.13024997, -0.84999561, ..., -0.05977103,\n",
       "          0.48362599, -0.71616606],\n",
       "        [-0.57893615, -1.56128556,  0.06070886, ..., -0.36330868,\n",
       "         -0.24724856, -0.22294129],\n",
       "        ...,\n",
       "        [ 0.        ,  0.        ,  0.        , ...,  0.        ,\n",
       "          0.        ,  0.        ],\n",
       "        [ 0.        ,  0.        ,  0.        , ...,  0.        ,\n",
       "          0.        ,  0.        ],\n",
       "        [ 0.        ,  0.        ,  0.        , ...,  0.        ,\n",
       "          0.        ,  0.        ]])"
      ]
     },
     "execution_count": 38,
     "metadata": {},
     "output_type": "execute_result"
    }
   ],
   "execution_count": 38
  },
  {
   "metadata": {
    "ExecuteTime": {
     "end_time": "2025-06-15T13:22:34.477986Z",
     "start_time": "2025-06-15T13:22:34.474613Z"
    }
   },
   "cell_type": "code",
   "source": "%xdel mmap",
   "id": "14bcd4758656b2f0",
   "outputs": [],
   "execution_count": 39
  },
  {
   "metadata": {
    "ExecuteTime": {
     "end_time": "2025-06-15T13:22:42.981436Z",
     "start_time": "2025-06-15T13:22:42.835637Z"
    }
   },
   "cell_type": "code",
   "source": "!rm mymmap",
   "id": "2c2fea9c88b97155",
   "outputs": [],
   "execution_count": 40
  },
  {
   "metadata": {
    "ExecuteTime": {
     "end_time": "2025-06-15T13:26:56.852729Z",
     "start_time": "2025-06-15T13:26:56.842818Z"
    }
   },
   "cell_type": "code",
   "source": [
    "arr_c = np.ones((100, 10000), order = 'C')\n",
    "\n",
    "arr_f = np.ones((100, 10000), order = 'F')\n",
    "\n",
    "arr_c.flags"
   ],
   "id": "a21a9cb22d36ac4",
   "outputs": [
    {
     "data": {
      "text/plain": [
       "  C_CONTIGUOUS : True\n",
       "  F_CONTIGUOUS : False\n",
       "  OWNDATA : True\n",
       "  WRITEABLE : True\n",
       "  ALIGNED : True\n",
       "  WRITEBACKIFCOPY : False"
      ]
     },
     "execution_count": 44,
     "metadata": {},
     "output_type": "execute_result"
    }
   ],
   "execution_count": 44
  },
  {
   "metadata": {
    "ExecuteTime": {
     "end_time": "2025-06-15T13:27:06.728817Z",
     "start_time": "2025-06-15T13:27:06.724794Z"
    }
   },
   "cell_type": "code",
   "source": "arr_f.flags",
   "id": "e734ab22fb0576a7",
   "outputs": [
    {
     "data": {
      "text/plain": [
       "  C_CONTIGUOUS : False\n",
       "  F_CONTIGUOUS : True\n",
       "  OWNDATA : True\n",
       "  WRITEABLE : True\n",
       "  ALIGNED : True\n",
       "  WRITEBACKIFCOPY : False"
      ]
     },
     "execution_count": 45,
     "metadata": {},
     "output_type": "execute_result"
    }
   ],
   "execution_count": 45
  },
  {
   "metadata": {
    "ExecuteTime": {
     "end_time": "2025-06-15T13:27:27.816861Z",
     "start_time": "2025-06-15T13:27:27.812519Z"
    }
   },
   "cell_type": "code",
   "source": "arr_f.flags.f_contiguous",
   "id": "b70ef51f6bca2b39",
   "outputs": [
    {
     "data": {
      "text/plain": [
       "True"
      ]
     },
     "execution_count": 46,
     "metadata": {},
     "output_type": "execute_result"
    }
   ],
   "execution_count": 46
  },
  {
   "metadata": {
    "ExecuteTime": {
     "end_time": "2025-06-15T13:27:56.509088Z",
     "start_time": "2025-06-15T13:27:53.281208Z"
    }
   },
   "cell_type": "code",
   "source": "%timeit arr_c.sum(1)\n",
   "id": "e00d598103a0566d",
   "outputs": [
    {
     "name": "stdout",
     "output_type": "stream",
     "text": [
      "398 μs ± 131 μs per loop (mean ± std. dev. of 7 runs, 1,000 loops each)\n"
     ]
    }
   ],
   "execution_count": 47
  },
  {
   "metadata": {
    "ExecuteTime": {
     "end_time": "2025-06-15T13:28:14.971074Z",
     "start_time": "2025-06-15T13:28:11.214103Z"
    }
   },
   "cell_type": "code",
   "source": "%timeit arr_f.sum(1)",
   "id": "4765da36bdda7094",
   "outputs": [
    {
     "name": "stdout",
     "output_type": "stream",
     "text": [
      "454 μs ± 134 μs per loop (mean ± std. dev. of 7 runs, 1,000 loops each)\n"
     ]
    }
   ],
   "execution_count": 48
  },
  {
   "metadata": {
    "ExecuteTime": {
     "end_time": "2025-06-15T13:28:31.269066Z",
     "start_time": "2025-06-15T13:28:31.257180Z"
    }
   },
   "cell_type": "code",
   "source": "arr_f.copy('C').flags",
   "id": "7c335ea9a3d7fa9d",
   "outputs": [
    {
     "data": {
      "text/plain": [
       "  C_CONTIGUOUS : True\n",
       "  F_CONTIGUOUS : False\n",
       "  OWNDATA : True\n",
       "  WRITEABLE : True\n",
       "  ALIGNED : True\n",
       "  WRITEBACKIFCOPY : False"
      ]
     },
     "execution_count": 49,
     "metadata": {},
     "output_type": "execute_result"
    }
   ],
   "execution_count": 49
  },
  {
   "metadata": {
    "ExecuteTime": {
     "end_time": "2025-06-15T13:29:24.720294Z",
     "start_time": "2025-06-15T13:29:24.715887Z"
    }
   },
   "cell_type": "code",
   "source": "arr_c[:50].flags.contiguous",
   "id": "40bf31d18d9bc841",
   "outputs": [
    {
     "data": {
      "text/plain": [
       "True"
      ]
     },
     "execution_count": 50,
     "metadata": {},
     "output_type": "execute_result"
    }
   ],
   "execution_count": 50
  },
  {
   "metadata": {
    "ExecuteTime": {
     "end_time": "2025-06-15T13:29:37.477336Z",
     "start_time": "2025-06-15T13:29:37.473306Z"
    }
   },
   "cell_type": "code",
   "source": "arr_c[:, :50].flags",
   "id": "404b59e0b746d0ee",
   "outputs": [
    {
     "data": {
      "text/plain": [
       "  C_CONTIGUOUS : False\n",
       "  F_CONTIGUOUS : False\n",
       "  OWNDATA : False\n",
       "  WRITEABLE : True\n",
       "  ALIGNED : True\n",
       "  WRITEBACKIFCOPY : False"
      ]
     },
     "execution_count": 51,
     "metadata": {},
     "output_type": "execute_result"
    }
   ],
   "execution_count": 51
  },
  {
   "metadata": {
    "ExecuteTime": {
     "end_time": "2025-06-15T13:30:46.049357Z",
     "start_time": "2025-06-15T13:30:46.045295Z"
    }
   },
   "cell_type": "code",
   "source": "'input1'",
   "id": "d83e69fb395e60cd",
   "outputs": [
    {
     "data": {
      "text/plain": [
       "'input1'"
      ]
     },
     "execution_count": 52,
     "metadata": {},
     "output_type": "execute_result"
    }
   ],
   "execution_count": 52
  },
  {
   "metadata": {
    "ExecuteTime": {
     "end_time": "2025-06-15T13:32:00.857787Z",
     "start_time": "2025-06-15T13:32:00.853640Z"
    }
   },
   "cell_type": "code",
   "source": "'input2'",
   "id": "eadeb0f345b6ed03",
   "outputs": [
    {
     "data": {
      "text/plain": [
       "'input2'"
      ]
     },
     "execution_count": 64,
     "metadata": {},
     "output_type": "execute_result"
    }
   ],
   "execution_count": 64
  },
  {
   "metadata": {
    "ExecuteTime": {
     "end_time": "2025-06-15T13:32:01.148637Z",
     "start_time": "2025-06-15T13:32:01.144126Z"
    }
   },
   "cell_type": "code",
   "source": "'input3'",
   "id": "b5741e0c4da4632",
   "outputs": [
    {
     "data": {
      "text/plain": [
       "'input3'"
      ]
     },
     "execution_count": 65,
     "metadata": {},
     "output_type": "execute_result"
    }
   ],
   "execution_count": 65
  },
  {
   "metadata": {
    "ExecuteTime": {
     "end_time": "2025-06-15T13:32:27.389330Z",
     "start_time": "2025-06-15T13:32:27.385119Z"
    }
   },
   "cell_type": "code",
   "source": [
    "foo = 'bar'\n",
    "foo"
   ],
   "id": "6052eb28c01ac1c0",
   "outputs": [
    {
     "data": {
      "text/plain": [
       "'bar'"
      ]
     },
     "execution_count": 69,
     "metadata": {},
     "output_type": "execute_result"
    }
   ],
   "execution_count": 69
  },
  {
   "metadata": {
    "ExecuteTime": {
     "end_time": "2025-06-15T13:32:50.028764Z",
     "start_time": "2025-06-15T13:32:50.024277Z"
    }
   },
   "cell_type": "code",
   "source": "_69",
   "id": "dabd736caf1be71d",
   "outputs": [
    {
     "data": {
      "text/plain": [
       "'bar'"
      ]
     },
     "execution_count": 72,
     "metadata": {},
     "output_type": "execute_result"
    }
   ],
   "execution_count": 72
  },
  {
   "metadata": {
    "ExecuteTime": {
     "end_time": "2025-06-15T13:33:30.065975Z",
     "start_time": "2025-06-15T13:33:30.061450Z"
    }
   },
   "cell_type": "code",
   "source": "",
   "id": "18929dabbbdb9346",
   "outputs": [
    {
     "name": "stdout",
     "output_type": "stream",
     "text": [
      "def add_elements(x, y):\n",
      "    return x + y\n",
      "add_them = np.frompyfunc(add_elements, 2, 1)\n",
      "import numpy as np\n",
      "def add_elements(x, y):\n",
      "    return x + y\n",
      "add_them = np.frompyfunc(add_elements, 2, 1)\n",
      "import numpy as np\n",
      "def add_elements(x, y):\n",
      "    return x + y\n",
      "add_them = np.frompyfunc(add_elements, 2, 1)\n",
      "\n",
      "add_them\n",
      "import numpy as np\n",
      "def add_elements(x, y):\n",
      "    return x + y\n",
      "add_them = np.frompyfunc(add_elements, 2, 1)\n",
      "\n",
      "add_them(np.arange(8), np.arange(8))\n",
      "add_them = np.vectorize(add_elements, otypes = [np.float64])\n",
      "add_them(np.arange(8), np.arange(8))\n",
      "add_them = np.vectorize(add_elements, otypes = [np.float64])\n",
      "add_them(np.arange(8), np.arange(8))\n",
      "arr = np.random.randn(10000)\n",
      "\n",
      "%timeit add_themm(arr, arr)\n",
      "add_them = np.vectorize(add_elements, otypes = [np.float64])\n",
      "add_them(np.arange(8), np.arange(8))\n",
      "arr = np.random.randn(10000)\n",
      "%timeit add_them(arr, arr)\n",
      "first_name = np.array(['Bob', 'Jane', 'Steve', 'Bill', 'Barbara'])\n",
      "\n",
      "last_name = np.array(['Jones', 'Arnold', 'Arnold', 'Jones', 'Walters'])\n",
      "\n",
      "sorter = np.lexsort((first_name, last_name))\n",
      "sorter\n",
      "list(zip(last_name[sorter], first_name[sorter]))\n",
      "values = np.array(['2:first', '2:second', '1:first', '1:second', '1:third'])\n",
      "key = np.array([2, 2, 1, 1, 1])\n",
      "\n",
      "indexer = key.argsort(kind = 'mergesort')\n",
      "key = np.array([2, 2, 1, 1, 1])\n",
      "\n",
      "indexer = key.argsort(kind = 'mergesort')\n",
      "values.take(indexer)\n",
      "np.random.seed(12345)\n",
      "arr = np.random.randn(20)\n",
      "arr\n",
      "np.partition(arr, 3)\n",
      "indices = np.argpartition(arr, 3)\n",
      "indices\n",
      "arr.take(indices)\n",
      "indices = np.argpartition(arr, 3)\n",
      "indices\n",
      "arr.take(indices)\n",
      "def mean_distance(x, y):\n",
      "    nx = len(x)\n",
      "    result = 0.0\n",
      "    count = 0\n",
      "    for i in range(nx):\n",
      "        result += x[i] - y[i]\n",
      "        count+= 1\n",
      "    return result / count\n",
      "\n",
      "import numba as nb\n",
      "def mean_distance(x, y):\n",
      "    nx = len(x)\n",
      "    result = 0.0\n",
      "    count = 0\n",
      "    for i in range(nx):\n",
      "        result += x[i] - y[i]\n",
      "        count+= 1\n",
      "    return result / count\n",
      "\n",
      "import numba as nb\n",
      "\n",
      "numba.jit(mean_distance)\n",
      "def mean_distance(x, y):\n",
      "    nx = len(x)\n",
      "    result = 0.0\n",
      "    count = 0\n",
      "    for i in range(nx):\n",
      "        result += x[i] - y[i]\n",
      "        count+= 1\n",
      "    return result / count\n",
      "\n",
      "import numba as nb\n",
      "\n",
      "nb.jit(mean_distance)\n",
      "import numba as nb\n",
      "@nb.jit\n",
      "def mean_distance(x, y):\n",
      "    nx = len(x)\n",
      "    result = 0.0\n",
      "    count = 0\n",
      "    for i in range(nx):\n",
      "        result += x[i] - y[i]\n",
      "        count+= 1\n",
      "    return result / count\n",
      "\n",
      "import numba as nb\n",
      "import numba as nb\n",
      "@nb.jit\n",
      "def mean_distance(x, y):\n",
      "    nx = len(x)\n",
      "    result = 0.0\n",
      "    count = 0\n",
      "    for i in range(nx):\n",
      "        result += x[i] - y[i]\n",
      "        count+= 1\n",
      "    return result / count\n",
      "x=y = np.random.randn(10000000)\n",
      "import numba as nb\n",
      "@nb.jit\n",
      "def mean_distance(x, y):\n",
      "    nx = len(x)\n",
      "    result = 0.0\n",
      "    count = 0\n",
      "    for i in range(nx):\n",
      "        result += x[i] - y[i]\n",
      "        count+= 1\n",
      "    return result / count\n",
      "x=y = np.random.randn(10000000)\n",
      "%timeit mean_distance(x, y)\n",
      "from numba import vectorize\n",
      "\n",
      "@vectorize\n",
      "def nb(x, y):\n",
      "    return x+ y\n",
      "\n",
      "x = np.arange(10)\n",
      "nb_add(x, x)\n",
      "from numba import vectorize\n",
      "\n",
      "@vectorize\n",
      "def nb_add(x, y):\n",
      "    return x+ y\n",
      "\n",
      "x = np.arange(10)\n",
      "nb_add(x, x)\n",
      "from numba import vectorize\n",
      "\n",
      "@vectorize\n",
      "def nb_add(x, y):\n",
      "    return x+ y\n",
      "\n",
      "x = np.arange(10)\n",
      "nb_add(x, x)\n",
      "\n",
      "nb_add.accumulate(x, 0)\n",
      "mmap = np.memmap('mymmap', dtype = 'float64', mode = 'w+', shape = (10000, 10000))\n",
      "mmap = np.memmap('mymmap', dtype = 'float64', mode = 'w+', shape = (10000, 10000))\n",
      "mmap\n",
      "section = mmap[:5\n",
      "          ]\n",
      "section = mmap[:5]\n",
      "section\n",
      "section = mmap[:5]\n",
      "section[:] = np.random.randn(5, 10000)\n",
      "section = mmap[:5]\n",
      "section[:] = np.random.randn(5, 10000)\n",
      "\n",
      "mmap\n",
      "section = mmap[:5]\n",
      "section[:] = np.random.randn(5, 10000)\n",
      "\n",
      "mmap.flush()\n",
      "mmap\n",
      "del mmap\n",
      "mmap = np.memmap('mymmap', dtype = 'float64', shape = (10000, 10000))\n",
      "mmap\n",
      "%xdel mmap\n",
      "!rm mymmap\n",
      "arr_c = np.ones((100, 10000), order = 'C')\n",
      "\n",
      "arr_f = np.oes((100, 10000), order = 'F')\n",
      "arr_c.flags\n",
      "arr_c = np.ones((100, 10000), order = 'C')\n",
      "\n",
      "arr_f = np.oes((100, 10000), order = 'F')\n",
      "arr_c = np.ones((100, 10000), order = 'C')\n",
      "\n",
      "arr_f = np.ones((100, 10000), order = 'F')\n",
      "arr_c = np.ones((100, 10000), order = 'C')\n",
      "\n",
      "arr_f = np.ones((100, 10000), order = 'F')\n",
      "\n",
      "arr_c.flags\n",
      "arr_f.flags\n",
      "arr_f.flags.f_contiguous\n",
      "%timeit arr_c.sum(1)\n",
      "%timeit arr_f.sum(1)\n",
      "arr_f.copy('C').flags\n",
      "arr_c[:50].flags.contiguous\n",
      "arr_c[:, :50].flags\n",
      "'input1'\n",
      "'input2'\n",
      "__\n",
      "_\n",
      "___\n",
      "'input3'\n",
      "_\n",
      "__\n",
      "___\n",
      "____\n",
      "_\n",
      "__\n",
      "'input2'\n",
      "'input3'\n",
      "__\n",
      "_\n",
      "_\n",
      "foo = 'bar'\n",
      "foo\n",
      "_i27\n",
      "_i69\n",
      "_69\n",
      "eval(_i27)\n",
      "eval(_i69)\n",
      "%hist\n"
     ]
    }
   ],
   "execution_count": 75
  },
  {
   "metadata": {
    "ExecuteTime": {
     "end_time": "2025-06-15T13:34:32.905562Z",
     "start_time": "2025-06-15T13:34:32.769161Z"
    }
   },
   "cell_type": "code",
   "source": "!cmd",
   "id": "299281d6b6a518cf",
   "outputs": [
    {
     "name": "stdout",
     "output_type": "stream",
     "text": [
      "zsh:1: command not found: cmd\r\n"
     ]
    }
   ],
   "execution_count": 76
  },
  {
   "metadata": {
    "ExecuteTime": {
     "end_time": "2025-06-15T13:34:49.277956Z",
     "start_time": "2025-06-15T13:34:49.256455Z"
    }
   },
   "cell_type": "code",
   "source": "output = !cmd args",
   "id": "24f0775d766d70f5",
   "outputs": [],
   "execution_count": 77
  },
  {
   "metadata": {
    "ExecuteTime": {
     "end_time": "2025-06-15T13:34:52.260213Z",
     "start_time": "2025-06-15T13:34:52.255386Z"
    }
   },
   "cell_type": "code",
   "source": "output",
   "id": "ef9d25fe103145bc",
   "outputs": [
    {
     "data": {
      "text/plain": [
       "['zsh:1: command not found: cmd']"
      ]
     },
     "execution_count": 78,
     "metadata": {},
     "output_type": "execute_result"
    }
   ],
   "execution_count": 78
  },
  {
   "metadata": {
    "ExecuteTime": {
     "end_time": "2025-06-15T13:35:07.547280Z",
     "start_time": "2025-06-15T13:35:07.542377Z"
    }
   },
   "cell_type": "code",
   "source": "%alias",
   "id": "fba634603dfe0715",
   "outputs": [
    {
     "name": "stdout",
     "output_type": "stream",
     "text": [
      "Total number of aliases: 12\n"
     ]
    },
    {
     "data": {
      "text/plain": [
       "[('cat', 'cat'),\n",
       " ('cp', 'cp'),\n",
       " ('ldir', 'ls -F -G -l %l | grep /$'),\n",
       " ('lf', 'ls -F -l -G %l | grep ^-'),\n",
       " ('lk', 'ls -F -l -G %l | grep ^l'),\n",
       " ('ll', 'ls -F -l -G'),\n",
       " ('ls', 'ls -F -G'),\n",
       " ('lx', 'ls -F -l -G %l | grep ^-..x'),\n",
       " ('mkdir', 'mkdir'),\n",
       " ('mv', 'mv'),\n",
       " ('rm', 'rm'),\n",
       " ('rmdir', 'rmdir')]"
      ]
     },
     "execution_count": 80,
     "metadata": {},
     "output_type": "execute_result"
    }
   ],
   "execution_count": 80
  },
  {
   "metadata": {
    "ExecuteTime": {
     "end_time": "2025-06-15T13:37:16.753261Z",
     "start_time": "2025-06-15T13:37:16.728710Z"
    }
   },
   "cell_type": "code",
   "source": "ip_info = !ifconfig wlan0 | grap \"inet \"",
   "id": "b7d53563feff58bf",
   "outputs": [],
   "execution_count": 86
  },
  {
   "metadata": {
    "ExecuteTime": {
     "end_time": "2025-06-15T13:37:21.343180Z",
     "start_time": "2025-06-15T13:37:21.338892Z"
    }
   },
   "cell_type": "code",
   "source": "ip_info",
   "id": "d0fa5d8d28c4bab7",
   "outputs": [
    {
     "data": {
      "text/plain": [
       "['zsh:1: command not found: grap', 'ifconfig: interface wlan0 does not exist']"
      ]
     },
     "execution_count": 87,
     "metadata": {},
     "output_type": "execute_result"
    }
   ],
   "execution_count": 87
  },
  {
   "metadata": {
    "ExecuteTime": {
     "end_time": "2025-06-15T13:37:45.377970Z",
     "start_time": "2025-06-15T13:37:45.234043Z"
    }
   },
   "cell_type": "code",
   "source": [
    "foo = 'test*'\n",
    "!ls $foo"
   ],
   "id": "c9af220ec0fe64d",
   "outputs": [
    {
     "name": "stdout",
     "output_type": "stream",
     "text": [
      "zsh:1: no matches found: test*\r\n"
     ]
    }
   ],
   "execution_count": 88
  },
  {
   "metadata": {
    "ExecuteTime": {
     "end_time": "2025-06-15T13:38:05.304940Z",
     "start_time": "2025-06-15T13:38:05.301424Z"
    }
   },
   "cell_type": "code",
   "source": "%alias ll ls -1",
   "id": "ce34caa7a58b7f88",
   "outputs": [],
   "execution_count": 89
  },
  {
   "metadata": {
    "ExecuteTime": {
     "end_time": "2025-06-15T13:38:19.866043Z",
     "start_time": "2025-06-15T13:38:19.718746Z"
    }
   },
   "cell_type": "code",
   "source": "ll /usr",
   "id": "f69fab0f4fac434c",
   "outputs": [
    {
     "name": "stdout",
     "output_type": "stream",
     "text": [
      "\u001B[34mbin\u001B[m\u001B[m\r\n",
      "\u001B[34mlib\u001B[m\u001B[m\r\n",
      "\u001B[34mlibexec\u001B[m\u001B[m\r\n",
      "\u001B[34mlocal\u001B[m\u001B[m\r\n",
      "\u001B[34msbin\u001B[m\u001B[m\r\n",
      "\u001B[34mshare\u001B[m\u001B[m\r\n",
      "\u001B[34mstandalone\u001B[m\u001B[m\r\n",
      "\u001B[35mX11\u001B[m\u001B[m\r\n",
      "\u001B[35mX11R6\u001B[m\u001B[m\r\n"
     ]
    }
   ],
   "execution_count": 90
  },
  {
   "metadata": {
    "ExecuteTime": {
     "end_time": "2025-06-15T13:38:54.154463Z",
     "start_time": "2025-06-15T13:38:54.150996Z"
    }
   },
   "cell_type": "code",
   "source": "%alias test_alias (cd examples; ls; cd)",
   "id": "5c8192d8f9bcb2f5",
   "outputs": [],
   "execution_count": 91
  },
  {
   "metadata": {
    "ExecuteTime": {
     "end_time": "2025-06-15T13:39:00.853943Z",
     "start_time": "2025-06-15T13:39:00.707001Z"
    }
   },
   "cell_type": "code",
   "source": "test_alias",
   "id": "b53bd353f27785fb",
   "outputs": [
    {
     "name": "stdout",
     "output_type": "stream",
     "text": [
      "zsh:cd:1: no such file or directory: examples\r\n",
      "mydata.sqlaite Pandas.ipynb\r\n"
     ]
    }
   ],
   "execution_count": 92
  },
  {
   "metadata": {
    "ExecuteTime": {
     "end_time": "2025-06-15T13:48:14.738504Z",
     "start_time": "2025-06-15T13:48:14.706165Z"
    }
   },
   "cell_type": "code",
   "source": [
    "import sys\n",
    "from IPython.core.debugger import Pdb\n",
    "\n",
    "# Custom set_trace that drops you into the debugger\n",
    "def set_trace():\n",
    "    Pdb().set_trace(sys._getframe().f_back)\n",
    "\n",
    "# Custom debug wrapper to run a function under the debugger\n",
    "def debug(func, *args, **kwargs):\n",
    "    pdb = Pdb()\n",
    "    return pdb.runcall(func, *args, **kwargs)\n",
    "\n",
    "def divide(a, b):\n",
    "    result = a / b\n",
    "    return result\n",
    "\n",
    "x = 10\n",
    "y = 0\n",
    "print(divide(x, y))\n",
    "\n",
    "\n"
   ],
   "id": "d86e21a191337f69",
   "outputs": [
    {
     "ename": "ZeroDivisionError",
     "evalue": "division by zero",
     "output_type": "error",
     "traceback": [
      "\u001B[0;31m---------------------------------------------------------------------------\u001B[0m",
      "\u001B[0;31mZeroDivisionError\u001B[0m                         Traceback (most recent call last)",
      "Cell \u001B[0;32mIn[103], line 19\u001B[0m\n\u001B[1;32m     17\u001B[0m x \u001B[38;5;241m=\u001B[39m \u001B[38;5;241m10\u001B[39m\n\u001B[1;32m     18\u001B[0m y \u001B[38;5;241m=\u001B[39m \u001B[38;5;241m0\u001B[39m\n\u001B[0;32m---> 19\u001B[0m \u001B[38;5;28mprint\u001B[39m(\u001B[43mdivide\u001B[49m\u001B[43m(\u001B[49m\u001B[43mx\u001B[49m\u001B[43m,\u001B[49m\u001B[43m \u001B[49m\u001B[43my\u001B[49m\u001B[43m)\u001B[49m)\n\u001B[1;32m     22\u001B[0m debug(devide, \u001B[38;5;241m1\u001B[39m, \u001B[38;5;241m2\u001B[39m, z\u001B[38;5;241m=\u001B[39m \u001B[38;5;241m3\u001B[39m)\n",
      "Cell \u001B[0;32mIn[103], line 14\u001B[0m, in \u001B[0;36mdivide\u001B[0;34m(a, b)\u001B[0m\n\u001B[1;32m     13\u001B[0m \u001B[38;5;28;01mdef\u001B[39;00m\u001B[38;5;250m \u001B[39m\u001B[38;5;21mdivide\u001B[39m(a, b):\n\u001B[0;32m---> 14\u001B[0m     result \u001B[38;5;241m=\u001B[39m \u001B[43ma\u001B[49m\u001B[43m \u001B[49m\u001B[38;5;241;43m/\u001B[39;49m\u001B[43m \u001B[49m\u001B[43mb\u001B[49m\n\u001B[1;32m     15\u001B[0m     \u001B[38;5;28;01mreturn\u001B[39;00m result\n",
      "\u001B[0;31mZeroDivisionError\u001B[0m: division by zero"
     ]
    }
   ],
   "execution_count": 103
  },
  {
   "metadata": {
    "ExecuteTime": {
     "end_time": "2025-06-15T13:49:17.807700Z",
     "start_time": "2025-06-15T13:49:09.250380Z"
    }
   },
   "cell_type": "code",
   "source": "debug(divide, 1, 0)",
   "id": "deb20bca78b400fe",
   "outputs": [
    {
     "name": "stdout",
     "output_type": "stream",
     "text": [
      "> \u001B[0;32m/var/folders/32/x9dgly0d26z5yqyvl8t2zw3c0000gn/T/ipykernel_6346/660299463.py\u001B[0m(2)\u001B[0;36mdivide\u001B[0;34m()\u001B[0m\n",
      "\u001B[0;32m      1 \u001B[0;31m\u001B[0;32mdef\u001B[0m \u001B[0mdivide\u001B[0m\u001B[0;34m(\u001B[0m\u001B[0ma\u001B[0m\u001B[0;34m,\u001B[0m \u001B[0mb\u001B[0m\u001B[0;34m)\u001B[0m\u001B[0;34m:\u001B[0m\u001B[0;34m\u001B[0m\u001B[0;34m\u001B[0m\u001B[0m\n",
      "\u001B[0m\u001B[0;32m----> 2 \u001B[0;31m    \u001B[0mresult\u001B[0m \u001B[0;34m=\u001B[0m \u001B[0ma\u001B[0m \u001B[0;34m/\u001B[0m \u001B[0mb\u001B[0m\u001B[0;34m\u001B[0m\u001B[0;34m\u001B[0m\u001B[0m\n",
      "\u001B[0m\u001B[0;32m      3 \u001B[0;31m    \u001B[0;32mreturn\u001B[0m \u001B[0mresult\u001B[0m\u001B[0;34m\u001B[0m\u001B[0;34m\u001B[0m\u001B[0m\n",
      "\u001B[0m\u001B[0;32m      4 \u001B[0;31m\u001B[0;34m\u001B[0m\u001B[0m\n",
      "\u001B[0m\u001B[0;32m      5 \u001B[0;31m\u001B[0mx\u001B[0m \u001B[0;34m=\u001B[0m \u001B[0;36m10\u001B[0m\u001B[0;34m\u001B[0m\u001B[0;34m\u001B[0m\u001B[0m\n",
      "\u001B[0m\n",
      "1\n",
      "2\n",
      "ZeroDivisionError: division by zero\n",
      "> \u001B[0;32m/var/folders/32/x9dgly0d26z5yqyvl8t2zw3c0000gn/T/ipykernel_6346/660299463.py\u001B[0m(2)\u001B[0;36mdivide\u001B[0;34m()\u001B[0m\n",
      "\u001B[0;32m      1 \u001B[0;31m\u001B[0;32mdef\u001B[0m \u001B[0mdivide\u001B[0m\u001B[0;34m(\u001B[0m\u001B[0ma\u001B[0m\u001B[0;34m,\u001B[0m \u001B[0mb\u001B[0m\u001B[0;34m)\u001B[0m\u001B[0;34m:\u001B[0m\u001B[0;34m\u001B[0m\u001B[0;34m\u001B[0m\u001B[0m\n",
      "\u001B[0m\u001B[0;32m----> 2 \u001B[0;31m    \u001B[0mresult\u001B[0m \u001B[0;34m=\u001B[0m \u001B[0ma\u001B[0m \u001B[0;34m/\u001B[0m \u001B[0mb\u001B[0m\u001B[0;34m\u001B[0m\u001B[0;34m\u001B[0m\u001B[0m\n",
      "\u001B[0m\u001B[0;32m      3 \u001B[0;31m    \u001B[0;32mreturn\u001B[0m \u001B[0mresult\u001B[0m\u001B[0;34m\u001B[0m\u001B[0;34m\u001B[0m\u001B[0m\n",
      "\u001B[0m\u001B[0;32m      4 \u001B[0;31m\u001B[0;34m\u001B[0m\u001B[0m\n",
      "\u001B[0m\u001B[0;32m      5 \u001B[0;31m\u001B[0mx\u001B[0m \u001B[0;34m=\u001B[0m \u001B[0;36m10\u001B[0m\u001B[0;34m\u001B[0m\u001B[0;34m\u001B[0m\u001B[0m\n",
      "\u001B[0m\n",
      "--Return--\n",
      "None\n",
      "> \u001B[0;32m/var/folders/32/x9dgly0d26z5yqyvl8t2zw3c0000gn/T/ipykernel_6346/660299463.py\u001B[0m(2)\u001B[0;36mdivide\u001B[0;34m()\u001B[0m\n",
      "\u001B[0;32m      1 \u001B[0;31m\u001B[0;32mdef\u001B[0m \u001B[0mdivide\u001B[0m\u001B[0;34m(\u001B[0m\u001B[0ma\u001B[0m\u001B[0;34m,\u001B[0m \u001B[0mb\u001B[0m\u001B[0;34m)\u001B[0m\u001B[0;34m:\u001B[0m\u001B[0;34m\u001B[0m\u001B[0;34m\u001B[0m\u001B[0m\n",
      "\u001B[0m\u001B[0;32m----> 2 \u001B[0;31m    \u001B[0mresult\u001B[0m \u001B[0;34m=\u001B[0m \u001B[0ma\u001B[0m \u001B[0;34m/\u001B[0m \u001B[0mb\u001B[0m\u001B[0;34m\u001B[0m\u001B[0;34m\u001B[0m\u001B[0m\n",
      "\u001B[0m\u001B[0;32m      3 \u001B[0;31m    \u001B[0;32mreturn\u001B[0m \u001B[0mresult\u001B[0m\u001B[0;34m\u001B[0m\u001B[0;34m\u001B[0m\u001B[0m\n",
      "\u001B[0m\u001B[0;32m      4 \u001B[0;31m\u001B[0;34m\u001B[0m\u001B[0m\n",
      "\u001B[0m\u001B[0;32m      5 \u001B[0;31m\u001B[0mx\u001B[0m \u001B[0;34m=\u001B[0m \u001B[0;36m10\u001B[0m\u001B[0;34m\u001B[0m\u001B[0;34m\u001B[0m\u001B[0m\n",
      "\u001B[0m\n"
     ]
    },
    {
     "ename": "ZeroDivisionError",
     "evalue": "division by zero",
     "output_type": "error",
     "traceback": [
      "\u001B[0;31m---------------------------------------------------------------------------\u001B[0m",
      "\u001B[0;31mZeroDivisionError\u001B[0m                         Traceback (most recent call last)",
      "Cell \u001B[0;32mIn[108], line 1\u001B[0m\n\u001B[0;32m----> 1\u001B[0m \u001B[43mdebug\u001B[49m\u001B[43m(\u001B[49m\u001B[43mdivide\u001B[49m\u001B[43m,\u001B[49m\u001B[43m \u001B[49m\u001B[38;5;241;43m1\u001B[39;49m\u001B[43m,\u001B[49m\u001B[43m \u001B[49m\u001B[38;5;241;43m0\u001B[39;49m\u001B[43m)\u001B[49m\n",
      "Cell \u001B[0;32mIn[103], line 11\u001B[0m, in \u001B[0;36mdebug\u001B[0;34m(func, *args, **kwargs)\u001B[0m\n\u001B[1;32m      9\u001B[0m \u001B[38;5;28;01mdef\u001B[39;00m\u001B[38;5;250m \u001B[39m\u001B[38;5;21mdebug\u001B[39m(func, \u001B[38;5;241m*\u001B[39margs, \u001B[38;5;241m*\u001B[39m\u001B[38;5;241m*\u001B[39mkwargs):\n\u001B[1;32m     10\u001B[0m     pdb \u001B[38;5;241m=\u001B[39m Pdb()\n\u001B[0;32m---> 11\u001B[0m     \u001B[38;5;28;01mreturn\u001B[39;00m \u001B[43mpdb\u001B[49m\u001B[38;5;241;43m.\u001B[39;49m\u001B[43mruncall\u001B[49m\u001B[43m(\u001B[49m\u001B[43mfunc\u001B[49m\u001B[43m,\u001B[49m\u001B[43m \u001B[49m\u001B[38;5;241;43m*\u001B[39;49m\u001B[43margs\u001B[49m\u001B[43m,\u001B[49m\u001B[43m \u001B[49m\u001B[38;5;241;43m*\u001B[39;49m\u001B[38;5;241;43m*\u001B[39;49m\u001B[43mkwargs\u001B[49m\u001B[43m)\u001B[49m\n",
      "File \u001B[0;32m/Library/Frameworks/Python.framework/Versions/3.10/lib/python3.10/bdb.py:641\u001B[0m, in \u001B[0;36mBdb.runcall\u001B[0;34m(self, func, *args, **kwds)\u001B[0m\n\u001B[1;32m    639\u001B[0m res \u001B[38;5;241m=\u001B[39m \u001B[38;5;28;01mNone\u001B[39;00m\n\u001B[1;32m    640\u001B[0m \u001B[38;5;28;01mtry\u001B[39;00m:\n\u001B[0;32m--> 641\u001B[0m     res \u001B[38;5;241m=\u001B[39m \u001B[43mfunc\u001B[49m\u001B[43m(\u001B[49m\u001B[38;5;241;43m*\u001B[39;49m\u001B[43margs\u001B[49m\u001B[43m,\u001B[49m\u001B[43m \u001B[49m\u001B[38;5;241;43m*\u001B[39;49m\u001B[38;5;241;43m*\u001B[39;49m\u001B[43mkwds\u001B[49m\u001B[43m)\u001B[49m\n\u001B[1;32m    642\u001B[0m \u001B[38;5;28;01mexcept\u001B[39;00m BdbQuit:\n\u001B[1;32m    643\u001B[0m     \u001B[38;5;28;01mpass\u001B[39;00m\n",
      "Cell \u001B[0;32mIn[104], line 2\u001B[0m, in \u001B[0;36mdivide\u001B[0;34m(a, b)\u001B[0m\n\u001B[1;32m      1\u001B[0m \u001B[38;5;28;01mdef\u001B[39;00m\u001B[38;5;250m \u001B[39m\u001B[38;5;21mdivide\u001B[39m(a, b):\n\u001B[0;32m----> 2\u001B[0m     result \u001B[38;5;241m=\u001B[39m \u001B[43ma\u001B[49m\u001B[43m \u001B[49m\u001B[38;5;241;43m/\u001B[39;49m\u001B[43m \u001B[49m\u001B[43mb\u001B[49m\n\u001B[1;32m      3\u001B[0m     \u001B[38;5;28;01mreturn\u001B[39;00m result\n",
      "\u001B[0;31mZeroDivisionError\u001B[0m: division by zero"
     ]
    }
   ],
   "execution_count": 108
  },
  {
   "metadata": {},
   "cell_type": "code",
   "outputs": [],
   "execution_count": null,
   "source": [
    "import time\n",
    "start = time.time()\n",
    "for i in range(iterations):\n",
    "elapsed_per = (time.time() - start) / iterations\n"
   ],
   "id": "dbb17a429aaf1daa"
  },
  {
   "metadata": {
    "ExecuteTime": {
     "end_time": "2025-06-15T13:51:43.462342Z",
     "start_time": "2025-06-15T13:51:43.455747Z"
    }
   },
   "cell_type": "code",
   "source": "strings = ['foo', 'foobar', 'baz', 'qux', 'python', 'Guido Van Rossum'] * 100000",
   "id": "b1b09167cac00f10",
   "outputs": [],
   "execution_count": 109
  },
  {
   "metadata": {
    "ExecuteTime": {
     "end_time": "2025-06-15T13:52:34.001049Z",
     "start_time": "2025-06-15T13:52:33.830681Z"
    }
   },
   "cell_type": "code",
   "source": [
    "method1 = [x for x in strings if x.startswith('foo')]\n",
    "method2 = [x for x in strings if x[:3] == 'foo']\n",
    "\n"
   ],
   "id": "a116d6262003590b",
   "outputs": [],
   "execution_count": 110
  },
  {
   "metadata": {
    "ExecuteTime": {
     "end_time": "2025-06-15T13:53:18.366489Z",
     "start_time": "2025-06-15T13:53:18.278299Z"
    }
   },
   "cell_type": "code",
   "source": "%time metod1 = [x for x in strings if x.startswith('foo')]\n",
   "id": "1ababc151fa88867",
   "outputs": [
    {
     "name": "stdout",
     "output_type": "stream",
     "text": [
      "CPU times: user 83.3 ms, sys: 2.9 ms, total: 86.2 ms\n",
      "Wall time: 84.5 ms\n"
     ]
    }
   ],
   "execution_count": 111
  },
  {
   "metadata": {
    "ExecuteTime": {
     "end_time": "2025-06-15T13:53:47.389393Z",
     "start_time": "2025-06-15T13:53:47.317581Z"
    }
   },
   "cell_type": "code",
   "source": "%time method2 = [x for x in strings if x[:3] == 'foo']",
   "id": "d471632be3eed470",
   "outputs": [
    {
     "name": "stdout",
     "output_type": "stream",
     "text": [
      "CPU times: user 66.5 ms, sys: 2.72 ms, total: 69.3 ms\n",
      "Wall time: 67.9 ms\n"
     ]
    }
   ],
   "execution_count": 112
  },
  {
   "metadata": {},
   "cell_type": "code",
   "outputs": [],
   "execution_count": null,
   "source": "",
   "id": "edc9f1561bc89bfa"
  }
 ],
 "metadata": {
  "kernelspec": {
   "display_name": "Python 3",
   "language": "python",
   "name": "python3"
  },
  "language_info": {
   "codemirror_mode": {
    "name": "ipython",
    "version": 2
   },
   "file_extension": ".py",
   "mimetype": "text/x-python",
   "name": "python",
   "nbconvert_exporter": "python",
   "pygments_lexer": "ipython2",
   "version": "2.7.6"
  }
 },
 "nbformat": 4,
 "nbformat_minor": 5
}
