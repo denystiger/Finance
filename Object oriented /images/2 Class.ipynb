{
 "cells": [
  {
   "cell_type": "code",
   "id": "initial_id",
   "metadata": {
    "collapsed": true,
    "ExecuteTime": {
     "end_time": "2025-06-22T12:57:48.944372Z",
     "start_time": "2025-06-22T12:57:48.942204Z"
    }
   },
   "source": [
    "class MyClass():\n",
    "    def __init__(self):\n",
    "        self.count = 0\n",
    "    def increment(self):\n",
    "        self.count += 1"
   ],
   "outputs": [],
   "execution_count": 1
  },
  {
   "metadata": {},
   "cell_type": "code",
   "outputs": [],
   "execution_count": null,
   "source": [
    "class LightSwitch():\n",
    "    def __init__(self):\n",
    "        self.switchIsOn = False\n",
    "    def turnOn(self):\n",
    "        self.switchIsOn = True\n",
    "    def turnOff(self):\n",
    "        self.switchIsOn = False\n",
    "\n",
    "    def show(self):\n",
    "        print(self.switchIsOn)\n"
   ],
   "id": "a9327e5dc27232ca"
  },
  {
   "metadata": {
    "ExecuteTime": {
     "end_time": "2025-06-22T13:19:54.652062Z",
     "start_time": "2025-06-22T13:19:54.647612Z"
    }
   },
   "cell_type": "code",
   "source": [
    "class TV():\n",
    "    def __init__(self):\n",
    "        self.isOn = False\n",
    "        self.isMuted = False\n",
    "        self.chan_list = [1, 2, 3, 43, 523, 6, 17, 8, 29, 0]\n",
    "\n",
    "        self.n_chan = len(self.chan_list)\n",
    "        self.chan_idx =0\n",
    "        self.vol_max = 10\n",
    "        self.vol_min = 0\n",
    "        self.vol = 5\n",
    "    def power(self):\n",
    "        self.isOn = not self.isOn\n",
    "    def volumeUp\n"
   ],
   "id": "733dd232a5cdbc8d",
   "outputs": [],
   "execution_count": 7
  },
  {
   "metadata": {},
   "cell_type": "code",
   "outputs": [],
   "execution_count": null,
   "source": "from TV",
   "id": "606f70984ae95bf4"
  }
 ],
 "metadata": {
  "kernelspec": {
   "display_name": "Python 3",
   "language": "python",
   "name": "python3"
  },
  "language_info": {
   "codemirror_mode": {
    "name": "ipython",
    "version": 2
   },
   "file_extension": ".py",
   "mimetype": "text/x-python",
   "name": "python",
   "nbconvert_exporter": "python",
   "pygments_lexer": "ipython2",
   "version": "2.7.6"
  }
 },
 "nbformat": 4,
 "nbformat_minor": 5
}
