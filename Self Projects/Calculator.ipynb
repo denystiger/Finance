{
 "cells": [
  {
   "cell_type": "code",
   "id": "initial_id",
   "metadata": {
    "collapsed": true,
    "ExecuteTime": {
     "end_time": "2025-06-19T11:43:08.713223Z",
     "start_time": "2025-06-19T11:43:08.694647Z"
    }
   },
   "source": [
    "def Calculator():\n",
    "    memory = 0.0\n",
    "    store = 0.0\n",
    "    current_op = None\n",
    "\n",
    "    while True:\n",
    "        inp = input(\"Enter number or operation (+, -, *, /, store, recall, quit): \")\n",
    "\n",
    "        # Handle quit\n",
    "        if inp.lower() == 'quit':\n",
    "            print(\"Bye!\")\n",
    "            break\n",
    "\n",
    "        # Handle store\n",
    "        if inp.lower() == 'store':\n",
    "            store = memory\n",
    "            print(f\"Stored: {store}\")\n",
    "            continue\n",
    "\n",
    "        # Handle recall\n",
    "        if inp.lower() == 'recall':\n",
    "            print(f\"Recalled: {store}\")\n",
    "            memory = store\n",
    "            continue\n",
    "\n",
    "        # Handle operations\n",
    "        if inp in ['+', '-', '*', '/']:\n",
    "            current_op = inp\n",
    "            continue\n",
    "\n",
    "        # Try parsing a number\n",
    "        try:\n",
    "            num = float(inp)\n",
    "        except ValueError:\n",
    "            print(\"Invalid input. Please enter a number or valid command.\")\n",
    "            continue\n",
    "\n",
    "        # If no current operation, just assign\n",
    "        if current_op is None:\n",
    "            memory = num\n",
    "        else:\n",
    "            if current_op == '+':\n",
    "                memory += num\n",
    "            elif current_op == '-':\n",
    "                memory -= num\n",
    "            elif current_op == '*':\n",
    "                memory *= num\n",
    "            elif current_op == '/':\n",
    "                if num == 0:\n",
    "                    print(\"Cannot divide by zero!\")\n",
    "                    continue\n",
    "                memory /= num\n",
    "            print(f\"Result: {memory}\")\n",
    "            current_op = None  # Reset operation after applying\n",
    "\n"
   ],
   "outputs": [],
   "execution_count": 70
  },
  {
   "metadata": {
    "ExecuteTime": {
     "end_time": "2025-06-19T11:43:09.336320Z",
     "start_time": "2025-06-19T11:43:09.327687Z"
    }
   },
   "cell_type": "code",
   "source": [
    "class CalculatorClass:\n",
    "    def __init__(self):\n",
    "        self.memory = 0.0\n",
    "        self.store = 0.0\n",
    "        self.current_op = None\n",
    "\n",
    "    def process(self, user_input):\n",
    "        if user_input == 'q':\n",
    "            print(\"Bye\")\n",
    "            return False  # signal to quit\n",
    "\n",
    "        if user_input == 's':\n",
    "            self.store = self.memory\n",
    "            print(f\"Stored: {self.store}\")\n",
    "            return True\n",
    "\n",
    "        if user_input == 'r':\n",
    "            self.memory = self.store\n",
    "            print(f\"Recalled: {self.memory}\")\n",
    "            return True\n",
    "\n",
    "        if user_input in ['+', '-', '*', '/']:\n",
    "            self.current_op = user_input\n",
    "            return True\n",
    "\n",
    "        try:\n",
    "            num = float(user_input)\n",
    "        except ValueError:\n",
    "            print(\"Invalid input.\")\n",
    "            return True\n",
    "\n",
    "        if self.current_op is None:\n",
    "            self.memory = num\n",
    "        else:\n",
    "            if self.current_op == '+':\n",
    "                self.memory += num\n",
    "            elif self.current_op == '-':\n",
    "                self.memory -= num\n",
    "            elif self.current_op == '*':\n",
    "                self.memory *= num\n",
    "            elif self.current_op == '/':\n",
    "                if num == 0:\n",
    "                    print(\"Cannot divide by zero!\")\n",
    "                    return True\n",
    "                self.memory /= num\n",
    "            print(f\"Result: {self.memory}\")\n",
    "            self.current_op = None\n",
    "\n",
    "        return True\n"
   ],
   "id": "cbc689170ff79fc6",
   "outputs": [],
   "execution_count": 71
  },
  {
   "metadata": {
    "ExecuteTime": {
     "end_time": "2025-06-19T11:43:09.830547Z",
     "start_time": "2025-06-19T11:43:09.826801Z"
    }
   },
   "cell_type": "code",
   "source": "c2 = CalculatorClass()",
   "id": "43d138f8c8bd92ff",
   "outputs": [],
   "execution_count": 72
  },
  {
   "metadata": {
    "ExecuteTime": {
     "end_time": "2025-06-19T11:43:10.287896Z",
     "start_time": "2025-06-19T11:43:10.285603Z"
    }
   },
   "cell_type": "code",
   "source": "",
   "id": "abe5dfd5ae397f3d",
   "outputs": [],
   "execution_count": null
  },
  {
   "metadata": {
    "ExecuteTime": {
     "end_time": "2025-06-19T11:43:11.126830Z",
     "start_time": "2025-06-19T11:43:11.119986Z"
    }
   },
   "cell_type": "code",
   "source": [
    "import numpy as np\n",
    "1/(1 + np.exp(0.44))"
   ],
   "id": "796c6badc5c838c",
   "outputs": [
    {
     "data": {
      "text/plain": [
       "0.3917409692534856"
      ]
     },
     "execution_count": 73,
     "metadata": {},
     "output_type": "execute_result"
    }
   ],
   "execution_count": 73
  },
  {
   "metadata": {},
   "cell_type": "code",
   "outputs": [],
   "execution_count": null,
   "source": "",
   "id": "b5008e1a0ff34554"
  }
 ],
 "metadata": {
  "kernelspec": {
   "display_name": "Python 3",
   "language": "python",
   "name": "python3"
  },
  "language_info": {
   "codemirror_mode": {
    "name": "ipython",
    "version": 2
   },
   "file_extension": ".py",
   "mimetype": "text/x-python",
   "name": "python",
   "nbconvert_exporter": "python",
   "pygments_lexer": "ipython2",
   "version": "2.7.6"
  }
 },
 "nbformat": 4,
 "nbformat_minor": 5
}
