{
 "cells": [
  {
   "cell_type": "code",
   "id": "initial_id",
   "metadata": {
    "collapsed": true,
    "ExecuteTime": {
     "end_time": "2025-06-07T23:35:14.248541Z",
     "start_time": "2025-06-07T23:35:14.244396Z"
    }
   },
   "source": [
    "from datetime import datetime\n",
    "from tokenize import group\n",
    "\n",
    "a = [100, 102, 105, 103, 107]\n",
    "running_avg = []\n",
    "for i in range(1, len(a)+1):\n",
    "    avg = sum(a[:i]) / i\n",
    "    running_avg.append(avg)\n",
    "print(running_avg)\n"
   ],
   "outputs": [
    {
     "name": "stdout",
     "output_type": "stream",
     "text": [
      "[100.0, 101.0, 102.33333333333333, 102.5, 103.4]\n"
     ]
    }
   ],
   "execution_count": 45
  },
  {
   "metadata": {
    "ExecuteTime": {
     "end_time": "2025-06-07T23:36:20.684186Z",
     "start_time": "2025-06-07T23:36:20.678926Z"
    }
   },
   "cell_type": "code",
   "source": [
    "\n",
    "a = [[1, 2, 3], [4, 5], [6]]\n",
    "flat = [num for sublist in a for num in sublist]\n",
    "flat"
   ],
   "id": "c52142870ee798d5",
   "outputs": [
    {
     "data": {
      "text/plain": [
       "[1, 2, 3, 4, 5, 6]"
      ]
     },
     "execution_count": 48,
     "metadata": {},
     "output_type": "execute_result"
    }
   ],
   "execution_count": 48
  },
  {
   "metadata": {
    "ExecuteTime": {
     "end_time": "2025-06-07T23:22:43.782663Z",
     "start_time": "2025-06-07T23:22:43.778003Z"
    }
   },
   "cell_type": "code",
   "source": [
    "b = [1,2,3,2,1,4,5,3]\n",
    "unique = []\n",
    "for i in range(len(b)):\n",
    "    num = b[i]\n",
    "    if num not in unique:\n",
    "        unique.append(num)\n"
   ],
   "id": "d49045317c7c0bc2",
   "outputs": [],
   "execution_count": 15
  },
  {
   "metadata": {
    "ExecuteTime": {
     "end_time": "2025-06-07T23:24:51.271883Z",
     "start_time": "2025-06-07T23:24:51.265996Z"
    }
   },
   "cell_type": "code",
   "source": [
    "A = {1, 2, 3, 4, 5};  B = {4, 5, 6, 7}\n",
    "A|B\n",
    "A& B\n",
    "A-B\n",
    "A^B"
   ],
   "id": "476e1bf75d08331c",
   "outputs": [
    {
     "data": {
      "text/plain": [
       "{1, 2, 3, 4, 5}"
      ]
     },
     "execution_count": 22,
     "metadata": {},
     "output_type": "execute_result"
    }
   ],
   "execution_count": 22
  },
  {
   "metadata": {
    "ExecuteTime": {
     "end_time": "2025-06-07T23:26:08.659225Z",
     "start_time": "2025-06-07T23:26:08.653708Z"
    }
   },
   "cell_type": "code",
   "source": [
    "L1 = [1,2,3,4]\n",
    "L2 = [3,4,5,6]\n",
    "L3 = [4,5,6,7]\n",
    "\n",
    "set(L1) & set(L2) & set(L3)"
   ],
   "id": "c9c751918e6ef1ff",
   "outputs": [
    {
     "data": {
      "text/plain": [
       "{4}"
      ]
     },
     "execution_count": 28,
     "metadata": {},
     "output_type": "execute_result"
    }
   ],
   "execution_count": 28
  },
  {
   "metadata": {
    "ExecuteTime": {
     "end_time": "2025-06-07T23:39:25.086728Z",
     "start_time": "2025-06-07T23:39:25.081912Z"
    }
   },
   "cell_type": "code",
   "source": [
    "edges = [ (1,2), (2,1), (3,4), (4,3), (5,6) ]\n",
    "unique_edges = set()\n",
    "\n",
    "for edge in edges:\n",
    "    f_edge = frozenset(edge)\n",
    "    unique_edges.add(f_edge)\n",
    "\n",
    "print(unique_edges)\n"
   ],
   "id": "7c4bc7a013743437",
   "outputs": [
    {
     "name": "stdout",
     "output_type": "stream",
     "text": [
      "{frozenset({3, 4}), frozenset({5, 6}), frozenset({1, 2})}\n"
     ]
    }
   ],
   "execution_count": 55
  },
  {
   "metadata": {
    "ExecuteTime": {
     "end_time": "2025-06-07T23:39:27.154298Z",
     "start_time": "2025-06-07T23:39:27.149500Z"
    }
   },
   "cell_type": "code",
   "source": "",
   "id": "34684a634f7c4109",
   "outputs": [
    {
     "data": {
      "text/plain": [
       "[(1, 2), (2, 1), (3, 4), (4, 3), (5, 6)]"
      ]
     },
     "execution_count": 56,
     "metadata": {},
     "output_type": "execute_result"
    }
   ],
   "execution_count": 56
  },
  {
   "metadata": {
    "ExecuteTime": {
     "end_time": "2025-06-07T23:40:43.557345Z",
     "start_time": "2025-06-07T23:40:43.552923Z"
    }
   },
   "cell_type": "code",
   "source": [
    "d = {'a':1, 'b':2, 'c':3}\n",
    "inverted = {v: k for k, v in d.items()}\n",
    "print(inverted)\n"
   ],
   "id": "f4267c150dc15929",
   "outputs": [
    {
     "name": "stdout",
     "output_type": "stream",
     "text": [
      "{1: 'a', 2: 'b', 3: 'c'}\n"
     ]
    }
   ],
   "execution_count": 61
  },
  {
   "metadata": {
    "ExecuteTime": {
     "end_time": "2025-06-07T23:42:50.695728Z",
     "start_time": "2025-06-07T23:42:50.690482Z"
    }
   },
   "cell_type": "code",
   "source": [
    "data = [ ('AAPL','Tech'), ('MSFT','Tech'), ('JPM','Bank'), ('GS','Bank'), ('TSLA','Auto') ]\n",
    "\n",
    "sector_dict = {}\n",
    "for stock, sector in data:\n",
    "    if sector not in sector_dict:\n",
    "        sector_dict[sector] = set()\n",
    "    sector_dict[sector].add(stock)\n",
    "print(sector_dict)"
   ],
   "id": "6aa4cd4c6b7ed458",
   "outputs": [
    {
     "name": "stdout",
     "output_type": "stream",
     "text": [
      "{'Tech': {'MSFT', 'AAPL'}, 'Bank': {'JPM', 'GS'}, 'Auto': {'TSLA'}}\n"
     ]
    }
   ],
   "execution_count": 62
  },
  {
   "metadata": {
    "ExecuteTime": {
     "end_time": "2025-06-07T23:44:35.825095Z",
     "start_time": "2025-06-07T23:44:35.819544Z"
    }
   },
   "cell_type": "code",
   "source": [
    "portfolio_A = {'AAPL', 'MSFT', 'GOOG', 'TSLA', 'JPM'}\n",
    "portfolio_B = {'GOOG', 'META', 'JPM', 'V', 'TSLA'}\n",
    "\n",
    "# Find which tickers are in BOTH portfolios\n",
    "portfolio_A & portfolio_B"
   ],
   "id": "738040e58f21c871",
   "outputs": [
    {
     "data": {
      "text/plain": [
       "{'GOOG', 'JPM', 'TSLA'}"
      ]
     },
     "execution_count": 64,
     "metadata": {},
     "output_type": "execute_result"
    }
   ],
   "execution_count": 64
  },
  {
   "metadata": {
    "ExecuteTime": {
     "end_time": "2025-06-07T23:45:25.230463Z",
     "start_time": "2025-06-07T23:45:25.225689Z"
    }
   },
   "cell_type": "code",
   "source": [
    "existing_db = {'AAPL', 'MSFT', 'TSLA'}\n",
    "new_upload = {'TSLA', 'NFLX', 'META'}\n",
    "\n",
    "# Which new tickers are truly new?\n",
    "new_upload - existing_db"
   ],
   "id": "2ad6f3224c0fea33",
   "outputs": [
    {
     "data": {
      "text/plain": [
       "{'META', 'NFLX'}"
      ]
     },
     "execution_count": 67,
     "metadata": {},
     "output_type": "execute_result"
    }
   ],
   "execution_count": 67
  },
  {
   "metadata": {
    "ExecuteTime": {
     "end_time": "2025-06-07T23:46:01.668863Z",
     "start_time": "2025-06-07T23:46:01.663982Z"
    }
   },
   "cell_type": "code",
   "source": [
    "active_tickers = {'AAPL', 'MSFT', 'TSLA', 'GOOG'}\n",
    "delisted_tickers = {'TSLA', 'XYZ'}\n",
    "\n",
    "# Keep only active non-delisted\n",
    "active_tickers - delisted_tickers"
   ],
   "id": "69002ad8de4cee9",
   "outputs": [
    {
     "data": {
      "text/plain": [
       "{'AAPL', 'GOOG', 'MSFT'}"
      ]
     },
     "execution_count": 68,
     "metadata": {},
     "output_type": "execute_result"
    }
   ],
   "execution_count": 68
  },
  {
   "metadata": {
    "ExecuteTime": {
     "end_time": "2025-06-08T00:58:54.364554Z",
     "start_time": "2025-06-08T00:58:54.359393Z"
    }
   },
   "cell_type": "code",
   "source": [
    "# Given pairs of correlated tickers (unordered!)\n",
    "correlations = [ ('AAPL', 'MSFT'), ('MSFT', 'AAPL'), ('GOOG', 'META'), ('META', 'GOOG'), ('AAPL', 'TSLA') ]\n",
    "\n",
    "unique_pairs = set()\n",
    "\n",
    "for pair in correlations:\n",
    "    f_pair = frozenset(pair)\n",
    "    unique_pairs.add(f_pair)\n",
    "\n",
    "print(unique_pairs)"
   ],
   "id": "931662f106006b4d",
   "outputs": [
    {
     "name": "stdout",
     "output_type": "stream",
     "text": [
      "{frozenset({'META', 'GOOG'}), frozenset({'TSLA', 'AAPL'}), frozenset({'MSFT', 'AAPL'})}\n"
     ]
    }
   ],
   "execution_count": 123
  },
  {
   "metadata": {
    "ExecuteTime": {
     "end_time": "2025-06-07T23:55:06.893169Z",
     "start_time": "2025-06-07T23:55:06.888828Z"
    }
   },
   "cell_type": "code",
   "source": "a",
   "id": "17aaf8ee460ac1b0",
   "outputs": [
    {
     "data": {
      "text/plain": [
       "{'AAPL', 'TSLA'}"
      ]
     },
     "execution_count": 87,
     "metadata": {},
     "output_type": "execute_result"
    }
   ],
   "execution_count": 87
  },
  {
   "metadata": {
    "ExecuteTime": {
     "end_time": "2025-06-08T01:03:11.740928Z",
     "start_time": "2025-06-08T01:03:11.735385Z"
    }
   },
   "cell_type": "code",
   "source": [
    "friendships = [ ('Alice', 'Bob'), ('Bob', 'Alice'), ('Alice', 'Charlie')]\n",
    "\n",
    "unique_friendships = set()\n",
    "\n",
    "for friendship in friendships:\n",
    "    f_friendship = frozenset(friendship)\n",
    "    unique_friendships.add(f_friendship)\n",
    "unique_friendships"
   ],
   "id": "28ef8af0420b6abb",
   "outputs": [
    {
     "data": {
      "text/plain": [
       "{frozenset({'Alice', 'Charlie'}), frozenset({'Alice', 'Bob'})}"
      ]
     },
     "execution_count": 127,
     "metadata": {},
     "output_type": "execute_result"
    }
   ],
   "execution_count": 127
  },
  {
   "metadata": {
    "ExecuteTime": {
     "end_time": "2025-06-08T00:45:44.855660Z",
     "start_time": "2025-06-08T00:45:44.851041Z"
    }
   },
   "cell_type": "code",
   "source": [
    "prices = {'AAPL': 172.5, 'MSFT':312.4, 'GOOG': 132.2}\n",
    "prices['MSFT']\n",
    "\n"
   ],
   "id": "661a9c18ef5d0ced",
   "outputs": [
    {
     "data": {
      "text/plain": [
       "312.4"
      ]
     },
     "execution_count": 93,
     "metadata": {},
     "output_type": "execute_result"
    }
   ],
   "execution_count": 93
  },
  {
   "metadata": {
    "ExecuteTime": {
     "end_time": "2025-06-08T01:05:27.245478Z",
     "start_time": "2025-06-08T01:05:27.241427Z"
    }
   },
   "cell_type": "code",
   "source": [
    "# Given (ticker, sector) data\n",
    "data = [ ('AAPL','Tech'), ('MSFT','Tech'), ('JPM','Bank'), ('GOOG','Tech'), ('GS','Bank') ]\n",
    "\n",
    "sector_dict = {}\n",
    "\n",
    "for ticker, sector in data:\n",
    "    if sector not in sector_dict:\n",
    "        sector_dict[sector] = set()\n",
    "    sector_dict[sector].add(ticker)"
   ],
   "id": "d9c28e30fa4cfe86",
   "outputs": [],
   "execution_count": 128
  },
  {
   "metadata": {
    "ExecuteTime": {
     "end_time": "2025-06-08T01:07:20.295786Z",
     "start_time": "2025-06-08T01:07:20.266065Z"
    }
   },
   "cell_type": "code",
   "source": [
    "trades = [ 'AAPL', 'MSFT', 'AAPL', 'GOOG', 'AAPL', 'MSFT' ]\n",
    "\n",
    "# Count number of trades per ticker → { 'AAPL': 3, 'MSFT': 2, 'GOOG': 1 }\n",
    "trade_counts = {}\n",
    "\n",
    "for trade in trades:\n",
    "    if trade not in trade_counts:\n",
    "        trade_counts[trade] = 0\n",
    "    trade_counts += 1\n",
    "print(trade_counts)"
   ],
   "id": "7d01b074d2ae38e",
   "outputs": [
    {
     "ename": "TypeError",
     "evalue": "list indices must be integers or slices, not str",
     "output_type": "error",
     "traceback": [
      "\u001B[31m---------------------------------------------------------------------------\u001B[39m",
      "\u001B[31mTypeError\u001B[39m                                 Traceback (most recent call last)",
      "\u001B[36mCell\u001B[39m\u001B[36m \u001B[39m\u001B[32mIn[134]\u001B[39m\u001B[32m, line 5\u001B[39m\n\u001B[32m      3\u001B[39m \u001B[38;5;66;03m# Count number of trades per ticker → { 'AAPL': 3, 'MSFT': 2, 'GOOG': 1 }\u001B[39;00m\n\u001B[32m      4\u001B[39m \u001B[38;5;28;01mfor\u001B[39;00m trade \u001B[38;5;129;01min\u001B[39;00m trades:\n\u001B[32m----> \u001B[39m\u001B[32m5\u001B[39m     counts = \u001B[43mtrades\u001B[49m\u001B[43m[\u001B[49m\u001B[33;43m'\u001B[39;49m\u001B[33;43mtrade\u001B[39;49m\u001B[33;43m'\u001B[39;49m\u001B[43m]\u001B[49m.count()\n",
      "\u001B[31mTypeError\u001B[39m: list indices must be integers or slices, not str"
     ]
    }
   ],
   "execution_count": 134
  },
  {
   "metadata": {
    "ExecuteTime": {
     "end_time": "2025-06-08T01:10:08.051762Z",
     "start_time": "2025-06-08T01:10:08.046693Z"
    }
   },
   "cell_type": "code",
   "source": [
    "correlations = {\n",
    "    frozenset(['AAPL', 'MSFT']): 0.95,\n",
    "    frozenset(['GOOG', 'META']): 0.9\n",
    "}\n",
    "correlations[frozenset(['MSFT', 'AAPL'])]\n"
   ],
   "id": "71c045ab90c7d246",
   "outputs": [
    {
     "data": {
      "text/plain": [
       "0.95"
      ]
     },
     "execution_count": 135,
     "metadata": {},
     "output_type": "execute_result"
    }
   ],
   "execution_count": 135
  },
  {
   "metadata": {
    "ExecuteTime": {
     "end_time": "2025-06-08T00:56:25.728186Z",
     "start_time": "2025-06-08T00:56:25.699428Z"
    }
   },
   "cell_type": "code",
   "source": "",
   "id": "f4fa05d5da7d9709",
   "outputs": [
    {
     "ename": "KeyError",
     "evalue": "1",
     "output_type": "error",
     "traceback": [
      "\u001B[31m---------------------------------------------------------------------------\u001B[39m",
      "\u001B[31mKeyError\u001B[39m                                  Traceback (most recent call last)",
      "\u001B[36mCell\u001B[39m\u001B[36m \u001B[39m\u001B[32mIn[121]\u001B[39m\u001B[32m, line 1\u001B[39m\n\u001B[32m----> \u001B[39m\u001B[32m1\u001B[39m \u001B[43mcorrelations\u001B[49m\u001B[43m[\u001B[49m\u001B[32;43m1\u001B[39;49m\u001B[43m]\u001B[49m[\u001B[32m1\u001B[39m]\n",
      "\u001B[31mKeyError\u001B[39m: 1"
     ]
    }
   ],
   "execution_count": 121
  },
  {
   "metadata": {
    "ExecuteTime": {
     "end_time": "2025-06-08T01:13:05.857855Z",
     "start_time": "2025-06-08T01:13:05.849233Z"
    }
   },
   "cell_type": "code",
   "source": [
    "numbers = [-10, -5.5, 0, 7, -100]\n",
    "# Create a new list with absolute values of these numbers\n",
    "abs_list = []\n",
    "for num in numbers:\n",
    "    abs_list.append(abs(num))\n",
    "abs_list"
   ],
   "id": "6b2ce36e987332c5",
   "outputs": [
    {
     "data": {
      "text/plain": [
       "[10, 5.5, 0, 7, 100]"
      ]
     },
     "execution_count": 144,
     "metadata": {},
     "output_type": "execute_result"
    }
   ],
   "execution_count": 144
  },
  {
   "metadata": {
    "ExecuteTime": {
     "end_time": "2025-06-08T01:14:00.115040Z",
     "start_time": "2025-06-08T01:14:00.110205Z"
    }
   },
   "cell_type": "code",
   "source": [
    "bools1 = [True, True, True]\n",
    "bools2 = [True, False, True]\n",
    "\n",
    "all(bools1)\n",
    "all(bools2)"
   ],
   "id": "5d9fe8642ceac5d8",
   "outputs": [
    {
     "data": {
      "text/plain": [
       "False"
      ]
     },
     "execution_count": 146,
     "metadata": {},
     "output_type": "execute_result"
    }
   ],
   "execution_count": 146
  },
  {
   "metadata": {
    "ExecuteTime": {
     "end_time": "2025-06-08T01:14:37.172655Z",
     "start_time": "2025-06-08T01:14:37.167702Z"
    }
   },
   "cell_type": "code",
   "source": [
    "bools3 = [False, False, False]\n",
    "bools4 = [False, True, False]\n",
    "# Check if any element is True for both lists\n",
    "any(bools3)\n",
    "any(bools4)"
   ],
   "id": "b65d042e7b673825",
   "outputs": [
    {
     "data": {
      "text/plain": [
       "True"
      ]
     },
     "execution_count": 148,
     "metadata": {},
     "output_type": "execute_result"
    }
   ],
   "execution_count": 148
  },
  {
   "metadata": {
    "ExecuteTime": {
     "end_time": "2025-06-08T01:15:48.574991Z",
     "start_time": "2025-06-08T01:15:48.569873Z"
    }
   },
   "cell_type": "code",
   "source": [
    "x = 10\n",
    "y = 'hello'\n",
    "z = [1, 2, 3]\n",
    "isinstance(x, int)\n",
    "isinstance(y, str)\n",
    "isinstance(z, list)"
   ],
   "id": "60e9bef5bd711ed1",
   "outputs": [
    {
     "data": {
      "text/plain": [
       "True"
      ]
     },
     "execution_count": 151,
     "metadata": {},
     "output_type": "execute_result"
    }
   ],
   "execution_count": 151
  },
  {
   "metadata": {
    "ExecuteTime": {
     "end_time": "2025-06-08T01:16:44.242012Z",
     "start_time": "2025-06-08T01:16:44.237510Z"
    }
   },
   "cell_type": "code",
   "source": [
    "lst = [1, 2, 3, 4]\n",
    "a=iter(lst)\n",
    "\n",
    "for i in a:\n",
    "    print(i)"
   ],
   "id": "e2b6e6eba4fb44a7",
   "outputs": [
    {
     "name": "stdout",
     "output_type": "stream",
     "text": [
      "1\n",
      "2\n",
      "3\n",
      "4\n"
     ]
    }
   ],
   "execution_count": 155
  },
  {
   "metadata": {
    "ExecuteTime": {
     "end_time": "2025-06-08T01:23:24.819234Z",
     "start_time": "2025-06-08T01:23:24.814079Z"
    }
   },
   "cell_type": "code",
   "source": [
    "# You have two lists of numbers.\n",
    "# Sum corresponding elements using map + lambda.\n",
    "\n",
    "a = [1, 2, 3]\n",
    "b = [4, 5, 6]\n",
    "# Result: [5, 7, 9]\n",
    "list(map(lambda x, y: x+y, a, b))\n",
    "\n"
   ],
   "id": "82af0d1084a3686c",
   "outputs": [
    {
     "data": {
      "text/plain": [
       "[5, 7, 9]"
      ]
     },
     "execution_count": 162,
     "metadata": {},
     "output_type": "execute_result"
    }
   ],
   "execution_count": 162
  },
  {
   "metadata": {
    "ExecuteTime": {
     "end_time": "2025-06-08T01:21:36.277923Z",
     "start_time": "2025-06-08T01:21:36.272825Z"
    }
   },
   "cell_type": "code",
   "source": [
    "words = ['banana', 'apple', 'cherry', 'date']\n",
    "sorted(words,key = len, reverse=True)"
   ],
   "id": "d2a118236a665cff",
   "outputs": [
    {
     "data": {
      "text/plain": [
       "['banana', 'cherry', 'apple', 'date']"
      ]
     },
     "execution_count": 160,
     "metadata": {},
     "output_type": "execute_result"
    }
   ],
   "execution_count": 160
  },
  {
   "metadata": {
    "ExecuteTime": {
     "end_time": "2025-06-08T01:22:24.049102Z",
     "start_time": "2025-06-08T01:22:24.045869Z"
    }
   },
   "cell_type": "code",
   "source": [
    "returns = [-0.05, 0.02, -0.1, 0.04, -0.03]\n",
    "\n",
    "# Create a new list of absolute returns using map + abs\n"
   ],
   "id": "c42f2f89b86af84",
   "outputs": [],
   "execution_count": 161
  },
  {
   "metadata": {
    "ExecuteTime": {
     "end_time": "2025-06-08T01:43:42.134796Z",
     "start_time": "2025-06-08T01:43:42.131615Z"
    }
   },
   "cell_type": "code",
   "source": [
    "returns = [-0.05, 0.02, -0.1, 0.04, -0.03]\n",
    "x = list(map(abs, returns))  # no need for custom abs_()\n"
   ],
   "id": "285b98a228683d95",
   "outputs": [],
   "execution_count": 189
  },
  {
   "metadata": {
    "ExecuteTime": {
     "end_time": "2025-06-08T01:44:19.778113Z",
     "start_time": "2025-06-08T01:44:19.772999Z"
    }
   },
   "cell_type": "code",
   "source": [
    "scores = [65, 70, 55, 80, 40]\n",
    "\n",
    "passed = all(score >= 50 for score in scores)\n",
    "auto_fail = any(score < 30 for score in scores)\n",
    "\n",
    "if auto_fail:\n",
    "    print(\"Automatic fail\")\n",
    "elif passed:\n",
    "    print(\"You passed\")\n",
    "else:\n",
    "    print(\"You failed\")\n"
   ],
   "id": "d8f4c87ad81e250e",
   "outputs": [
    {
     "name": "stdout",
     "output_type": "stream",
     "text": [
      "You failed\n"
     ]
    }
   ],
   "execution_count": 190
  },
  {
   "metadata": {
    "ExecuteTime": {
     "end_time": "2025-06-08T01:42:40.761103Z",
     "start_time": "2025-06-08T01:42:40.755342Z"
    }
   },
   "cell_type": "code",
   "source": [
    "items = [10, 'abc', 5.5, [1, 2], \"xyz\", 42]\n",
    "int_list = []; str_list = []\n",
    "for item in items:\n",
    "    if isinstance(item, int):\n",
    "        int_list.append(item)\n",
    "    if isinstance(item, str):\n",
    "        str_list.append(item)\n",
    "int_list\n",
    "str_list\n"
   ],
   "id": "7a1c4a61dda493c2",
   "outputs": [
    {
     "data": {
      "text/plain": [
       "['abc', 'xyz']"
      ]
     },
     "execution_count": 188,
     "metadata": {},
     "output_type": "execute_result"
    }
   ],
   "execution_count": 188
  },
  {
   "metadata": {},
   "cell_type": "code",
   "outputs": [],
   "execution_count": null,
   "source": "",
   "id": "703558f1f374cd23"
  }
 ],
 "metadata": {
  "kernelspec": {
   "display_name": "Python 3",
   "language": "python",
   "name": "python3"
  },
  "language_info": {
   "codemirror_mode": {
    "name": "ipython",
    "version": 2
   },
   "file_extension": ".py",
   "mimetype": "text/x-python",
   "name": "python",
   "nbconvert_exporter": "python",
   "pygments_lexer": "ipython2",
   "version": "2.7.6"
  }
 },
 "nbformat": 4,
 "nbformat_minor": 5
}
