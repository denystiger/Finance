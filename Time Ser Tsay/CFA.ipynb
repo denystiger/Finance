{
 "cells": [
  {
   "cell_type": "code",
   "id": "initial_id",
   "metadata": {
    "collapsed": true,
    "ExecuteTime": {
     "end_time": "2025-07-01T01:49:57.208589Z",
     "start_time": "2025-07-01T01:49:57.203676Z"
    }
   },
   "source": [
    "from arch import arch_model\n",
    "\n",
    "log_sales = lambda past_log_sales: 0.0068 + 0.2633 * past_log_sales\n",
    "\n",
    "eur(0.03)\n",
    "eur(eur(0.03))\n",
    "eur(eur(eur(0.03)))\n",
    "eur(eur(eur(eur(0.03))))"
   ],
   "outputs": [
    {
     "data": {
      "text/plain": [
       "-0.053976789688319995"
      ]
     },
     "execution_count": 4,
     "metadata": {},
     "output_type": "execute_result"
    }
   ],
   "execution_count": 4
  },
  {
   "metadata": {
    "ExecuteTime": {
     "end_time": "2025-07-01T02:13:39.366932Z",
     "start_time": "2025-07-01T02:13:39.322671Z"
    }
   },
   "cell_type": "code",
   "source": [
    "import pandas as pd\n",
    "import numpy as np\n",
    "\n",
    "data = {\n",
    "    \"Date\": [\"1Q 2019\", \"2Q 2019\", \"3Q 2019\", \"4Q 2019\", \"1Q 2020\", \"2Q 2020\"],\n",
    "    \"Actual_Sales\": [13072, 12446, 12958, 13428, None, None],\n",
    "    \"ln_Sales\": [9.4782, 9.4292, 9.4695, 9.5051, None, None],\n",
    "    \"delta_ln_Sales\": [0.0176, -0.0491, 0.403, 0.0356, None, None]\n",
    "}\n",
    "\n",
    "df = pd.DataFrame(data)\n",
    "\n",
    "print(df)\n",
    "log_sales = lambda past_del_log_sales: 0.0068 + 0.2633 * past_del_log_sales\n",
    "df.loc[4, 'delta_ln_Sales'] = log_sales(df.loc[3, 'delta_ln_Sales'])   # 1Q 2020\n",
    "df.loc[5, 'delta_ln_Sales'] = log_sales(df.loc[4, 'delta_ln_Sales'])\n",
    "print(df)\n",
    "df.loc[4, 'ln_Sales'] = df.loc[3, 'ln_Sales'] + df.loc[4, 'delta_ln_Sales']\n",
    "df.loc[5, 'ln_Sales'] = df.loc[4, 'ln_Sales'] + df.loc[5, 'delta_ln_Sales']\n",
    "print(df)\n",
    "df.loc[4, 'Actual_Sales'] = np.exp(df.loc[4, 'ln_Sales'])\n",
    "df.loc[5, 'Actual_Sales'] = np.exp(df.loc[5, 'ln_Sales'])\n",
    "\n",
    "\n",
    "import pandas as pd\n",
    "\n",
    "# Original df\n",
    "\n",
    "# Forecasted values for delta_ln_Sales (for 1Q to 4Q 2019)\n",
    "forecast_data = {\n",
    "    \"Date\": [\"1Q 2019\", \"2Q 2019\", \"3Q 2019\", \"4Q 2019\"],\n",
    "    \"Forecast_delta_ln_Sales\": [0.0147, 0.0107, 0.0096, 0.0093]\n",
    "}\n",
    "\n",
    "df_forecast = pd.DataFrame(forecast_data)\n",
    "\n",
    "# Merge on Date\n",
    "df = df.merge(df_forecast, on=\"Date\", how=\"left\")\n",
    "\n",
    "print(df)\n",
    "\n",
    "df['Error'] = df['delta_ln_Sales'] - df['Forecast_delta_ln_Sales']\n",
    "df['Squerred_Error'] =df['Error'] **2\n",
    "sum = df['Squerred_Error'].sum()\n",
    "mean = df_sqared.mean()\n",
    "RMSE = np.sqrt(df.mean())"
   ],
   "id": "794090c642a2955e",
   "outputs": [
    {
     "name": "stdout",
     "output_type": "stream",
     "text": [
      "      Date  Actual_Sales  ln_Sales  delta_ln_Sales\n",
      "0  1Q 2019       13072.0    9.4782          0.0176\n",
      "1  2Q 2019       12446.0    9.4292         -0.0491\n",
      "2  3Q 2019       12958.0    9.4695          0.4030\n",
      "3  4Q 2019       13428.0    9.5051          0.0356\n",
      "4  1Q 2020           NaN       NaN             NaN\n",
      "5  2Q 2020           NaN       NaN             NaN\n",
      "      Date  Actual_Sales  ln_Sales  delta_ln_Sales\n",
      "0  1Q 2019       13072.0    9.4782        0.017600\n",
      "1  2Q 2019       12446.0    9.4292       -0.049100\n",
      "2  3Q 2019       12958.0    9.4695        0.403000\n",
      "3  4Q 2019       13428.0    9.5051        0.035600\n",
      "4  1Q 2020           NaN       NaN        0.016173\n",
      "5  2Q 2020           NaN       NaN        0.011058\n",
      "      Date  Actual_Sales  ln_Sales  delta_ln_Sales\n",
      "0  1Q 2019       13072.0  9.478200        0.017600\n",
      "1  2Q 2019       12446.0  9.429200       -0.049100\n",
      "2  3Q 2019       12958.0  9.469500        0.403000\n",
      "3  4Q 2019       13428.0  9.505100        0.035600\n",
      "4  1Q 2020           NaN  9.521273        0.016173\n",
      "5  2Q 2020           NaN  9.532332        0.011058\n",
      "      Date  Actual_Sales  ln_Sales  delta_ln_Sales  Forecast_delta_ln_Sales\n",
      "0  1Q 2019  13072.000000  9.478200        0.017600                   0.0147\n",
      "1  2Q 2019  12446.000000  9.429200       -0.049100                   0.0107\n",
      "2  3Q 2019  12958.000000  9.469500        0.403000                   0.0096\n",
      "3  4Q 2019  13428.000000  9.505100        0.035600                   0.0093\n",
      "4  1Q 2020  13646.979308  9.521273        0.016173                      NaN\n",
      "5  2Q 2020  13798.731647  9.532332        0.011058                      NaN\n"
     ]
    },
    {
     "ename": "NameError",
     "evalue": "name 'df_sqared' is not defined",
     "output_type": "error",
     "traceback": [
      "\u001B[0;31m---------------------------------------------------------------------------\u001B[0m",
      "\u001B[0;31mNameError\u001B[0m                                 Traceback (most recent call last)",
      "Cell \u001B[0;32mIn[42], line 45\u001B[0m\n\u001B[1;32m     43\u001B[0m df[\u001B[38;5;124m'\u001B[39m\u001B[38;5;124mSquerred_Error\u001B[39m\u001B[38;5;124m'\u001B[39m] \u001B[38;5;241m=\u001B[39mdf[\u001B[38;5;124m'\u001B[39m\u001B[38;5;124mError\u001B[39m\u001B[38;5;124m'\u001B[39m] \u001B[38;5;241m*\u001B[39m\u001B[38;5;241m*\u001B[39m\u001B[38;5;241m2\u001B[39m\n\u001B[1;32m     44\u001B[0m \u001B[38;5;28msum\u001B[39m \u001B[38;5;241m=\u001B[39m df[\u001B[38;5;124m'\u001B[39m\u001B[38;5;124mSquerred_Error\u001B[39m\u001B[38;5;124m'\u001B[39m]\u001B[38;5;241m.\u001B[39msum()\n\u001B[0;32m---> 45\u001B[0m mean \u001B[38;5;241m=\u001B[39m \u001B[43mdf_sqared\u001B[49m\u001B[38;5;241m.\u001B[39mmean()\n\u001B[1;32m     46\u001B[0m RMSE \u001B[38;5;241m=\u001B[39m np\u001B[38;5;241m.\u001B[39msqrt(df\u001B[38;5;241m.\u001B[39mmean())\n",
      "\u001B[0;31mNameError\u001B[0m: name 'df_sqared' is not defined"
     ]
    }
   ],
   "execution_count": 42
  },
  {
   "metadata": {
    "ExecuteTime": {
     "end_time": "2025-07-01T02:19:49.150748Z",
     "start_time": "2025-07-01T02:19:49.142521Z"
    }
   },
   "cell_type": "code",
   "source": [
    "import pandas as pd\n",
    "\n",
    "ex1 = pd.DataFrame({\n",
    "    \"Date\": [\"1Q 2019\", \"2Q 2019\", \"3Q 2019\", \"4Q 2019\"],\n",
    "    \"Actual_delta_ln_Sales\": [0.0176, -0.0491, 0.0403, 0.0356],\n",
    "    \"Forecast_delta_ln_Sales\": [0.0147, 0.0107, 0.0096, 0.0093]\n",
    "})\n",
    "\n",
    "print(ex1)\n",
    "ex1['Error']= ex1['Actual_delta_ln_Sales'] - ex1['Forecast_delta_ln_Sales']\n",
    "ex1['Squared_err'] = ex1['Error'] **2\n",
    "mean = ex1['Squared_err'].mean()\n",
    "RMSE = np.sqrt(mean)"
   ],
   "id": "7a412d0504e03dc0",
   "outputs": [
    {
     "name": "stdout",
     "output_type": "stream",
     "text": [
      "      Date  Actual_delta_ln_Sales  Forecast_delta_ln_Sales\n",
      "0  1Q 2019                 0.0176                   0.0147\n",
      "1  2Q 2019                -0.0491                   0.0107\n",
      "2  3Q 2019                 0.0403                   0.0096\n",
      "3  4Q 2019                 0.0356                   0.0093\n"
     ]
    }
   ],
   "execution_count": 56
  },
  {
   "metadata": {
    "ExecuteTime": {
     "end_time": "2025-07-01T02:19:49.632501Z",
     "start_time": "2025-07-01T02:19:49.628642Z"
    }
   },
   "cell_type": "code",
   "source": "RMSE",
   "id": "efc8871cab42a595",
   "outputs": [
    {
     "data": {
      "text/plain": [
       "0.036120042912488354"
      ]
     },
     "execution_count": 57,
     "metadata": {},
     "output_type": "execute_result"
    }
   ],
   "execution_count": 57
  },
  {
   "metadata": {},
   "cell_type": "markdown",
   "source": [
    "March 2016\n",
    "\n",
    "\n"
   ],
   "id": "7a14570de76099cd"
  },
  {
   "metadata": {
    "ExecuteTime": {
     "end_time": "2025-07-01T03:01:46.189608Z",
     "start_time": "2025-07-01T03:01:46.183070Z"
    }
   },
   "cell_type": "code",
   "source": [
    "import numpy as np\n",
    "\n",
    "# Assign historical quarterly sales (in billions)\n",
    "sales_1 = 3868  # Dec 2015\n",
    "sales_2 = 3780  # Sep 2015\n",
    "sales_4 = 3836  # Mar 2015\n",
    "sales_5 = 3418  # Dec 2014\n",
    "\n",
    "# Compute first differences in logs\n",
    "delta_ln_1 = np.log(sales_1) - np.log(sales_2)\n",
    "delta_ln_4 = np.log(sales_4) - np.log(sales_5)\n",
    "\n",
    "# Regression coefficients\n",
    "intercept = 0.0092\n",
    "b1 = -0.1279\n",
    "b2 = 0.7239\n",
    "\n",
    "# Compute predicted Δln(Sales₀)\n",
    "delta_ln_0 = intercept + b1 * delta_ln_1 + b2 * delta_ln_4\n",
    "\n",
    "ln_sales_0 = np.log(sales_1) + delta_ln_0\n",
    "sales_0 = np.exp(ln_sales_0)\n",
    "sales_0"
   ],
   "id": "1b98e36de3b9d0c2",
   "outputs": [
    {
     "data": {
      "text/plain": [
       "4231.319128521278"
      ]
     },
     "execution_count": 63,
     "metadata": {},
     "output_type": "execute_result"
    }
   ],
   "execution_count": 63
  },
  {
   "metadata": {
    "ExecuteTime": {
     "end_time": "2025-07-01T03:23:47.376698Z",
     "start_time": "2025-07-01T03:23:47.371388Z"
    }
   },
   "cell_type": "code",
   "source": [
    "raw = 0.0121 - 0.0839 * np.log(1.01) + 0.6292 * np.log(1.02)\n",
    "np.exp(raw) - 1"
   ],
   "id": "7d19afd7e0f21f65",
   "outputs": [
    {
     "data": {
      "text/plain": [
       "0.02400865664470242"
      ]
     },
     "execution_count": 68,
     "metadata": {},
     "output_type": "execute_result"
    }
   ],
   "execution_count": 68
  },
  {
   "metadata": {
    "ExecuteTime": {
     "end_time": "2025-07-01T03:34:11.272092Z",
     "start_time": "2025-07-01T03:34:11.249127Z"
    }
   },
   "cell_type": "code",
   "source": [
    "import numpy as np\n",
    "import pandas as pd\n",
    "import statsmodels.api as sm\n",
    "\n",
    "# Step 1: Create toy data for ΔUER\n",
    "data = {\n",
    "    'dUER': [1.2, 0.5, -0.4, 0.3],\n",
    "    'dUER_lag1': [0.9, 1.2, 0.5, -0.4]\n",
    "}\n",
    "df = pd.DataFrame(data)\n",
    "\n",
    "X = sm.add_constant(df['dUER_lag1'])\n",
    "y = df['dUER']\n",
    "model = sm.OLS(y, X).fit()\n",
    "df['resid'] = model.resid\n",
    "\n",
    "df['resid_sq'] = df['resid'] **2\n",
    "\n",
    "df['resid_sq_lag1'] = df['resid_sq'].shift(1)\n",
    "\n",
    "df_arch = df.dropna()\n",
    "\n",
    "X_arch = sm.add_constant(df_arch['resid_sq_lag1'])\n",
    "y_arch = df_arch['resid_sq']\n",
    "arch_model = sm.OLS(y_arch, X_arch).fit()\n",
    "\n",
    "print(arch_model.summary())\n",
    "\n",
    "T = len(y_arch)\n",
    "R2 = arch_model.rsquared\n",
    "LM_stat = T * R2\n",
    "\n",
    "from scipy.stats import chi2\n",
    "p_value = 1 - chi2.cdf(LM_stat, df =1)\n",
    "print(f\"\\nManual LM statistic: {LM_stat:.4f}\")\n",
    "print(f\"p-value: {p_value:.4f}\")"
   ],
   "id": "df0e700fd8f6ff54",
   "outputs": [
    {
     "name": "stdout",
     "output_type": "stream",
     "text": [
      "                            OLS Regression Results                            \n",
      "==============================================================================\n",
      "Dep. Variable:               resid_sq   R-squared:                       0.922\n",
      "Model:                            OLS   Adj. R-squared:                  0.844\n",
      "Method:                 Least Squares   F-statistic:                     11.80\n",
      "Date:                Tue, 01 Jul 2025   Prob (F-statistic):              0.180\n",
      "Time:                        05:34:11   Log-Likelihood:                 3.4326\n",
      "No. Observations:                   3   AIC:                            -2.865\n",
      "Df Residuals:                       1   BIC:                            -4.668\n",
      "Df Model:                           1                                         \n",
      "Covariance Type:            nonrobust                                         \n",
      "=================================================================================\n",
      "                    coef    std err          t      P>|t|      [0.025      0.975]\n",
      "---------------------------------------------------------------------------------\n",
      "const             0.6022      0.134      4.484      0.140      -1.104       2.309\n",
      "resid_sq_lag1    -1.0350      0.301     -3.435      0.180      -4.864       2.794\n",
      "==============================================================================\n",
      "Omnibus:                          nan   Durbin-Watson:                   1.108\n",
      "Prob(Omnibus):                    nan   Jarque-Bera (JB):                0.386\n",
      "Skew:                          -0.458   Prob(JB):                        0.824\n",
      "Kurtosis:                       1.500   Cond. No.                         4.46\n",
      "==============================================================================\n",
      "\n",
      "Notes:\n",
      "[1] Standard Errors assume that the covariance matrix of the errors is correctly specified.\n",
      "\n",
      "Manual LM statistic: 2.7656\n",
      "p-value: 0.0963\n"
     ]
    },
    {
     "name": "stderr",
     "output_type": "stream",
     "text": [
      "/Users/macbook/Documents/MYSpace/FinPy/.venv/lib/python3.10/site-packages/statsmodels/stats/stattools.py:74: ValueWarning: omni_normtest is not valid with less than 8 observations; 3 samples were given.\n",
      "  warn(\"omni_normtest is not valid with less than 8 observations; %i \"\n"
     ]
    }
   ],
   "execution_count": 78
  },
  {
   "metadata": {
    "ExecuteTime": {
     "end_time": "2025-07-01T03:38:57.391940Z",
     "start_time": "2025-07-01T03:38:57.387243Z"
    }
   },
   "cell_type": "code",
   "source": [
    "raw=0.0661/(1 - 0.4698)\n",
    "raw"
   ],
   "id": "de58daf0527c3a63",
   "outputs": [
    {
     "data": {
      "text/plain": [
       "0.12466993587325538"
      ]
     },
     "execution_count": 83,
     "metadata": {},
     "output_type": "execute_result"
    }
   ],
   "execution_count": 83
  },
  {
   "metadata": {},
   "cell_type": "code",
   "outputs": [],
   "execution_count": null,
   "source": "",
   "id": "1f0cd82e07fb8db6"
  }
 ],
 "metadata": {
  "kernelspec": {
   "display_name": "Python 3",
   "language": "python",
   "name": "python3"
  },
  "language_info": {
   "codemirror_mode": {
    "name": "ipython",
    "version": 2
   },
   "file_extension": ".py",
   "mimetype": "text/x-python",
   "name": "python",
   "nbconvert_exporter": "python",
   "pygments_lexer": "ipython2",
   "version": "2.7.6"
  }
 },
 "nbformat": 4,
 "nbformat_minor": 5
}
