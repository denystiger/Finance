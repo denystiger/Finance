{
 "cells": [
  {
   "cell_type": "code",
   "id": "initial_id",
   "metadata": {
    "collapsed": true,
    "ExecuteTime": {
     "end_time": "2025-06-19T13:30:55.952898Z",
     "start_time": "2025-06-19T13:30:55.942409Z"
    }
   },
   "source": [
    "class Node:\n",
    "    def __init__(self, data=None, next=None, prev=None):\n",
    "        self.data = data\n",
    "        self.next = next\n",
    "        self.prev = prev\n",
    "\n",
    "class LinkedList:\n",
    "    def __init__(self):\n",
    "        self.head = None\n",
    "\n",
    "    def print_forward(self):\n",
    "        if self.head is None:\n",
    "            print(\"Linked list is empty\")\n",
    "            return\n",
    "        itr = self.head\n",
    "        llstr = ''\n",
    "        while itr:\n",
    "            llstr += str(itr.data) + ' --> ' if itr.next else str(itr.data)\n",
    "            itr = itr.next\n",
    "        print(\"Forward:\", llstr)\n",
    "\n",
    "    def print_backward(self):\n",
    "        if self.head is None:\n",
    "            print(\"Linked list is empty\")\n",
    "            return\n",
    "        # Go to the last node\n",
    "        itr = self.head\n",
    "        while itr.next:\n",
    "            itr = itr.next\n",
    "\n",
    "        # Traverse backwards using .prev\n",
    "        llstr = ''\n",
    "        while itr:\n",
    "            llstr += str(itr.data) + ' <-- ' if itr.prev else str(itr.data)\n",
    "            itr = itr.prev\n",
    "        print(\"Backward:\", llstr)\n",
    "\n",
    "    def get_length(self):\n",
    "        count = 0\n",
    "        itr = self.head\n",
    "        while itr:\n",
    "            count += 1\n",
    "            itr = itr.next\n",
    "        return count\n",
    "\n",
    "    def insert_at_begining(self, data):\n",
    "        new_node = Node(data, self.head)\n",
    "        if self.head:\n",
    "            self.head.prev = new_node\n",
    "        self.head = new_node\n",
    "\n",
    "    def insert_at_end(self, data):\n",
    "        if self.head is None:\n",
    "            self.head = Node(data)\n",
    "            return\n",
    "        itr = self.head\n",
    "        while itr.next:\n",
    "            itr = itr.next\n",
    "        new_node = Node(data, None, itr)\n",
    "        itr.next = new_node\n",
    "\n",
    "    def insert_at(self, index, data):\n",
    "        if index < 0 or index > self.get_length():\n",
    "            raise Exception(\"Invalid Index\")\n",
    "        if index == 0:\n",
    "            self.insert_at_begining(data)\n",
    "            return\n",
    "        count = 0\n",
    "        itr = self.head\n",
    "        while itr:\n",
    "            if count == index - 1:\n",
    "                new_node = Node(data, itr.next, itr)\n",
    "                if itr.next:\n",
    "                    itr.next.prev = new_node\n",
    "                itr.next = new_node\n",
    "                break\n",
    "            itr = itr.next\n",
    "            count += 1\n",
    "\n",
    "    def insert_after_value(self, data_after, data_to_insert):\n",
    "        itr = self.head\n",
    "        while itr:\n",
    "            if itr.data == data_after:\n",
    "                new_node = Node(data_to_insert, itr.next, itr)\n",
    "                if itr.next:\n",
    "                    itr.next.prev = new_node\n",
    "                itr.next = new_node\n",
    "                return\n",
    "            itr = itr.next\n",
    "\n",
    "    def insert_values(self, data_list):\n",
    "        self.head = None\n",
    "        for data in data_list:\n",
    "            self.insert_at_end(data)\n"
   ],
   "outputs": [],
   "execution_count": 41
  },
  {
   "metadata": {
    "ExecuteTime": {
     "end_time": "2025-06-19T13:31:10.385025Z",
     "start_time": "2025-06-19T13:31:10.380585Z"
    }
   },
   "cell_type": "code",
   "source": [
    "ll = LinkedList()\n",
    "ll.insert_values([\"banana\", \"mango\", \"grapes\", \"orange\"])\n",
    "ll.print_forward()\n",
    "ll.insert_after_value(\"mango\", \"apple\")  # Insert apple after mango\n",
    "ll.print_forward()\n",
    "ll.print_backward()\n"
   ],
   "id": "28f882a958542e92",
   "outputs": [
    {
     "name": "stdout",
     "output_type": "stream",
     "text": [
      "Forward: banana --> mango --> grapes --> orange\n",
      "Forward: banana --> mango --> apple --> grapes --> orange\n",
      "Backward: orange <-- grapes <-- apple <-- mango <-- banana\n"
     ]
    }
   ],
   "execution_count": 44
  },
  {
   "metadata": {},
   "cell_type": "code",
   "outputs": [],
   "execution_count": null,
   "source": "",
   "id": "8c2cf2813fd2225e"
  }
 ],
 "metadata": {
  "kernelspec": {
   "display_name": "Python 3",
   "language": "python",
   "name": "python3"
  },
  "language_info": {
   "codemirror_mode": {
    "name": "ipython",
    "version": 2
   },
   "file_extension": ".py",
   "mimetype": "text/x-python",
   "name": "python",
   "nbconvert_exporter": "python",
   "pygments_lexer": "ipython2",
   "version": "2.7.6"
  }
 },
 "nbformat": 4,
 "nbformat_minor": 5
}
