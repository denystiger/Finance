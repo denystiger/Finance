{
 "cells": [
  {
   "cell_type": "code",
   "id": "initial_id",
   "metadata": {
    "collapsed": true,
    "ExecuteTime": {
     "end_time": "2025-06-29T12:26:09.783081Z",
     "start_time": "2025-06-29T12:26:09.774913Z"
    }
   },
   "source": [
    "from empiricaldist import Pmf\n",
    "import numpy as np\n",
    "hypos = np.linspace(0, 1, 101)\n",
    "prior = Pmf(np.ones_like(hypos), hypos)\n"
   ],
   "outputs": [],
   "execution_count": 5
  },
  {
   "metadata": {
    "ExecuteTime": {
     "end_time": "2025-06-29T12:26:49.893794Z",
     "start_time": "2025-06-29T12:26:49.890653Z"
    }
   },
   "cell_type": "code",
   "source": [
    "likelihood_heads = hypos\n",
    "likelihood_tails = 1 - hypos"
   ],
   "id": "4a08734988983f96",
   "outputs": [],
   "execution_count": 8
  },
  {
   "metadata": {
    "ExecuteTime": {
     "end_time": "2025-06-29T12:32:56.115447Z",
     "start_time": "2025-06-29T12:32:56.031698Z"
    }
   },
   "cell_type": "code",
   "source": [
    "likelihood = {\n",
    "    'H': likelihood_heads,\n",
    "    'T': likelihood_tails\n",
    "}\n",
    "dataset = 'H' * 140 + 'T' * 110\n",
    "\n",
    "def update_euro(pmf, dataset):\n",
    "    for data in dataset:\n",
    "        for hypo in pmf.qs:\n",
    "            pmf[hypo] *= likelihood[data][hypo]\n",
    "        pmf.normalize()\n",
    "\n",
    "\n",
    "\n",
    "hypos = [6, 8, 12]\n",
    "prior = Pmf(1/3, hypos)\n",
    "posterior = prior.copy()\n",
    "update_euro(posterior,dataset)"
   ],
   "id": "90d95fa0018b65c1",
   "outputs": [],
   "execution_count": 21
  },
  {
   "metadata": {
    "ExecuteTime": {
     "end_time": "2025-06-29T12:33:10.909514Z",
     "start_time": "2025-06-29T12:33:10.904520Z"
    }
   },
   "cell_type": "code",
   "source": "unifor = Pmf(1, hypos, name = 'un')",
   "id": "c2bb240533a85ff6",
   "outputs": [
    {
     "data": {
      "text/plain": [
       "array([1.  , 0.99, 0.98, 0.97, 0.96, 0.95, 0.94, 0.93, 0.92, 0.91, 0.9 ,\n",
       "       0.89, 0.88, 0.87, 0.86, 0.85, 0.84, 0.83, 0.82, 0.81, 0.8 , 0.79,\n",
       "       0.78, 0.77, 0.76, 0.75, 0.74, 0.73, 0.72, 0.71, 0.7 , 0.69, 0.68,\n",
       "       0.67, 0.66, 0.65, 0.64, 0.63, 0.62, 0.61, 0.6 , 0.59, 0.58, 0.57,\n",
       "       0.56, 0.55, 0.54, 0.53, 0.52, 0.51, 0.5 , 0.49, 0.48, 0.47, 0.46,\n",
       "       0.45, 0.44, 0.43, 0.42, 0.41, 0.4 , 0.39, 0.38, 0.37, 0.36, 0.35,\n",
       "       0.34, 0.33, 0.32, 0.31, 0.3 , 0.29, 0.28, 0.27, 0.26, 0.25, 0.24,\n",
       "       0.23, 0.22, 0.21, 0.2 , 0.19, 0.18, 0.17, 0.16, 0.15, 0.14, 0.13,\n",
       "       0.12, 0.11, 0.1 , 0.09, 0.08, 0.07, 0.06, 0.05, 0.04, 0.03, 0.02,\n",
       "       0.01, 0.  ])"
      ]
     },
     "execution_count": 22,
     "metadata": {},
     "output_type": "execute_result"
    }
   ],
   "execution_count": 22
  },
  {
   "metadata": {
    "ExecuteTime": {
     "end_time": "2025-06-29T12:40:25.316288Z",
     "start_time": "2025-06-29T12:40:25.309946Z"
    }
   },
   "cell_type": "code",
   "source": [
    "from empiricaldist import Pmf\n",
    "import numpy as np\n",
    "\n",
    "# Create a triangular shape from 0 up to 50 and back to 0 at 100\n",
    "ramp_up = np.arange(51)       # 0 to 50\n",
    "ramp_down = np.arange(49, -1, -1)  # 49 to 0\n",
    "triangle_values = np.concatenate([ramp_up, ramp_down])  # total 100 values\n",
    "\n",
    "# Hypotheses from 0 to 100 (length 100)\n",
    "hypos = np.arange(101)\n",
    "\n",
    "# Create PMF\n",
    "triangle = Pmf(triangle_values, hypos)\n",
    "triangle.normalize()\n"
   ],
   "id": "d6ed9c0665ed0586",
   "outputs": [
    {
     "data": {
      "text/plain": [
       "2500"
      ]
     },
     "execution_count": 36,
     "metadata": {},
     "output_type": "execute_result"
    }
   ],
   "execution_count": 36
  },
  {
   "metadata": {
    "ExecuteTime": {
     "end_time": "2025-06-29T12:40:49.928716Z",
     "start_time": "2025-06-29T12:40:49.834670Z"
    }
   },
   "cell_type": "code",
   "source": "update_euro(uniform, dataset)\n",
   "id": "6f648dc55f70169f",
   "outputs": [],
   "execution_count": 37
  },
  {
   "metadata": {
    "ExecuteTime": {
     "end_time": "2025-06-29T12:40:57.620736Z",
     "start_time": "2025-06-29T12:40:57.270574Z"
    }
   },
   "cell_type": "code",
   "source": "update_euro(triangle, dataset)",
   "id": "9272735394303ff6",
   "outputs": [],
   "execution_count": 38
  },
  {
   "metadata": {
    "ExecuteTime": {
     "end_time": "2025-06-29T12:43:46.767419Z",
     "start_time": "2025-06-29T12:43:46.763354Z"
    }
   },
   "cell_type": "code",
   "source": [
    "from scipy.stats import binom\n",
    "def update_binomial(pmf, data):\n",
    "    '''Update pmf using the binomial distribution'''\n",
    "    k, n = data\n",
    "    xs = pmf.qs\n",
    "    likelihood = binom.pmf(k, n, xs)\n",
    "    pmf *= likelihood\n",
    "    pmf.normalize()"
   ],
   "id": "1fceba9256144593",
   "outputs": [],
   "execution_count": 40
  },
  {
   "metadata": {
    "ExecuteTime": {
     "end_time": "2025-06-29T12:44:29.494817Z",
     "start_time": "2025-06-29T12:44:29.487934Z"
    }
   },
   "cell_type": "code",
   "source": [
    "uniform2 = Pmf(1, hypos, name = 'uniform2')\n",
    "data = 140, 250\n",
    "update_binomial(uniform2, data)"
   ],
   "id": "859f887adb55101a",
   "outputs": [],
   "execution_count": 41
  },
  {
   "metadata": {
    "ExecuteTime": {
     "end_time": "2025-06-29T12:53:34.097458Z",
     "start_time": "2025-06-29T12:53:34.089314Z"
    }
   },
   "cell_type": "code",
   "source": [
    "import numpy as np\n",
    "from empiricaldist import Pmf\n",
    "\n",
    "hypos = np.arange(1, 1001)\n",
    "prior = Pmf(1, hypos)\n",
    "def update_train(pmf, data):\n",
    "    hypos = pmf.qs\n",
    "    likelihood = 1/ hypos\n",
    "    impossible = (data > hypos)\n",
    "    likelihood[impossible] = 0\n",
    "    pmf *= likelihood\n",
    "    pmf.normalize()\n",
    "data = 60\n",
    "posterior = prior.copy()\n",
    "update_train(posterior, data)\n",
    "\n",
    "np.sum(posterior.ps * posterior.qs)"
   ],
   "id": "6ccae4ac3a4a8f6a",
   "outputs": [
    {
     "data": {
      "text/plain": [
       "333.41989326370776"
      ]
     },
     "execution_count": 44,
     "metadata": {},
     "output_type": "execute_result"
    }
   ],
   "execution_count": 44
  },
  {
   "metadata": {
    "ExecuteTime": {
     "end_time": "2025-06-29T12:54:25.182224Z",
     "start_time": "2025-06-29T12:54:25.177538Z"
    }
   },
   "cell_type": "code",
   "source": "posterior.mean()",
   "id": "8cfd503e167edecb",
   "outputs": [
    {
     "data": {
      "text/plain": [
       "333.41989326370776"
      ]
     },
     "execution_count": 45,
     "metadata": {},
     "output_type": "execute_result"
    }
   ],
   "execution_count": 45
  },
  {
   "metadata": {
    "ExecuteTime": {
     "end_time": "2025-06-29T13:24:00.354717Z",
     "start_time": "2025-06-29T13:24:00.347213Z"
    }
   },
   "cell_type": "code",
   "source": [
    "alpha = 1.0\n",
    "ps = hypos **(-alpha)\n",
    "power = Pmf(ps, hypos, name ='power law')\n",
    "power.normalize()\n",
    "\n",
    "hypos = np.arange(1, 1001)\n",
    "uniform = Pmf(1, hypos, name = 'uniform')\n",
    "uniform.normalize()"
   ],
   "id": "cd7b5690f3cabfb7",
   "outputs": [
    {
     "data": {
      "text/plain": [
       "1000"
      ]
     },
     "execution_count": 46,
     "metadata": {},
     "output_type": "execute_result"
    }
   ],
   "execution_count": 46
  },
  {
   "metadata": {},
   "cell_type": "code",
   "outputs": [],
   "execution_count": null,
   "source": [
    "def quantile(pmf, prob):\n",
    "    total = 0\n",
    "    for q, p in pmf.items():\n",
    "        total += p\n",
    "        if total >= prob\n",
    "            return q\n",
    "        return np.nan"
   ],
   "id": "af545191e8515fe"
  },
  {
   "metadata": {},
   "cell_type": "code",
   "outputs": [],
   "execution_count": null,
   "source": [
    "import numpy as np\n",
    "from empiricaldist import Pmf\n",
    "\n",
    "hypos = np.arange(1, 1200)\n",
    "prior = Pmf(1, hypos)\n",
    "def update_train(pmf, data):\n",
    "    hypos = pmf.qs\n",
    "    likelihood = 1/ hypos\n",
    "    impossible = (data > hypos)\n",
    "    likelihood[impossible] = 0\n",
    "    pmf *= likelihood\n",
    "    pmf.normalize()\n",
    "data = 60, 60\n",
    "posterior = prior.copy()\n",
    "update_train(posterior, data)\n",
    "\n",
    "np.sum(posterior.ps * posterior.qs)"
   ],
   "id": "8efcf109ac4e8f1"
  },
  {
   "metadata": {
    "ExecuteTime": {
     "end_time": "2025-06-29T13:59:20.694122Z",
     "start_time": "2025-06-29T13:59:20.436254Z"
    }
   },
   "cell_type": "code",
   "source": [
    "import numpy as np\n",
    "from empiricaldist import Pmf\n",
    "from scipy.stats import binom\n",
    "hypos = np.arange(1, 2001)\n",
    "uniform = Pmf(1, hypos, name = 'uniform')\n",
    "\n",
    "def update_binomial(pmf, k):\n",
    "    \"\"\"Update a PMF using the binomial likelihood for one birthday observation.\"\"\"\n",
    "    xs = pmf.qs  # hypotheses: number of people\n",
    "    p = 1 / 365  # birthday probability\n",
    "    likelihood = binom.pmf(k, xs, p)  # vectorized over all hypotheses\n",
    "    pmf *= likelihood\n",
    "    pmf.normalize()\n",
    "\n",
    "\n",
    "data_points = [2, 1, 0]\n",
    "posterior = uniform.copy()\n",
    "\n",
    "for k in data_points:\n",
    "    update_binomial(posterior, k)\n",
    "\n",
    "posterior.mean(), posterior.credible_interval(0.9)\n",
    "posterior.plot(label = \"Posteriory PMF\")\n",
    "print(f\"Mean estimate: {posterior.mean():.1f}\")\n",
    "print(f\"P(n > 1200):{posterior[posterior.qs > 1200].sum():.4f}\")\n"
   ],
   "id": "5cf90152ec0b61fe",
   "outputs": [
    {
     "name": "stdout",
     "output_type": "stream",
     "text": [
      "Mean estimate: 486.2\n",
      "P(n > 1200):0.0112\n"
     ]
    },
    {
     "data": {
      "text/plain": [
       "<Figure size 640x480 with 1 Axes>"
      ],
      "image/png": "[encoded data removed]"
     },
     "metadata": {},
     "output_type": "display_data"
    }
   ],
   "execution_count": 64
  },
  {
   "metadata": {
    "ExecuteTime": {
     "end_time": "2025-06-29T14:36:37.462978Z",
     "start_time": "2025-06-29T14:36:36.997981Z"
    }
   },
   "cell_type": "code",
   "source": [
    "from empiricaldist import Pmf\n",
    "from scipy.stats import binom\n",
    "import numpy as np\n",
    "from scipy.special import comb\n",
    "from sympy import S\n",
    "from sympy.functions.combinatorial.numbers import stirling\n",
    "\n",
    "def prob_unique(q, n, N):\n",
    "    \"\"\"Compute P(q unique rabbits in n sightings | N total rabbits).\"\"\"\n",
    "    from scipy.special import comb\n",
    "    return float(stirling(n, q, kind=2)) * comb(N, q) * np.math.factorial(q) / (N**n)\n",
    "\n",
    "\n",
    "# Hypotheses: total number of rabbits (between 4 and 10)\n",
    "hypos = np.arange(4, 11)\n",
    "dist = Pmf(1, hypos, name='Uniform')\n",
    "dist.normalize()\n",
    "\n",
    "def prob_unique(q, n, N):\n",
    "    \"\"\"Compute P(q unique rabbits in n sightings | N total rabbits).\"\"\"\n",
    "    from scipy.special import comb\n",
    "    return float(stirling(n, q, kind=2)) * comb(N, q) * np.math.factorial(q) / (N**n)\n",
    "\n",
    "def update_rabbits(pmf, q, n):\n",
    "    '''Update based on q distinct rabbits observed in n sightings.'''\n",
    "    xs = pmf.qs\n",
    "    likelihood = np.array([prob_unique(q, n, N) if N >= q else 0 for N in xs])\n",
    "    pmf *= likelihood\n",
    "    pmf.normalize()\n",
    "\n",
    "update_rabbits(dist, 2, 3)"
   ],
   "id": "960104ab6ef81bc5",
   "outputs": [],
   "execution_count": 108
  },
  {
   "metadata": {
    "ExecuteTime": {
     "end_time": "2025-06-29T14:36:41.290346Z",
     "start_time": "2025-06-29T14:36:41.282875Z"
    }
   },
   "cell_type": "code",
   "source": "dist",
   "id": "b8117f425fe17106",
   "outputs": [
    {
     "data": {
      "text/plain": [
       "4     0.206730\n",
       "5     0.176410\n",
       "6     0.153134\n",
       "7     0.135008\n",
       "8     0.120593\n",
       "9     0.108895\n",
       "10    0.099231\n",
       "Name: Uniform, dtype: float64"
      ],
      "text/html": [
       "<div>\n",
       "<style scoped>\n",
       "    .dataframe tbody tr th:only-of-type {\n",
       "        vertical-align: middle;\n",
       "    }\n",
       "\n",
       "    .dataframe tbody tr th {\n",
       "        vertical-align: top;\n",
       "    }\n",
       "\n",
       "    .dataframe thead th {\n",
       "        text-align: right;\n",
       "    }\n",
       "</style>\n",
       "<table border=\"1\" class=\"dataframe\">\n",
       "  <thead>\n",
       "    <tr style=\"text-align: right;\">\n",
       "      <th></th>\n",
       "      <th>probs</th>\n",
       "    </tr>\n",
       "  </thead>\n",
       "  <tbody>\n",
       "    <tr>\n",
       "      <th>4</th>\n",
       "      <td>0.206730</td>\n",
       "    </tr>\n",
       "    <tr>\n",
       "      <th>5</th>\n",
       "      <td>0.176410</td>\n",
       "    </tr>\n",
       "    <tr>\n",
       "      <th>6</th>\n",
       "      <td>0.153134</td>\n",
       "    </tr>\n",
       "    <tr>\n",
       "      <th>7</th>\n",
       "      <td>0.135008</td>\n",
       "    </tr>\n",
       "    <tr>\n",
       "      <th>8</th>\n",
       "      <td>0.120593</td>\n",
       "    </tr>\n",
       "    <tr>\n",
       "      <th>9</th>\n",
       "      <td>0.108895</td>\n",
       "    </tr>\n",
       "    <tr>\n",
       "      <th>10</th>\n",
       "      <td>0.099231</td>\n",
       "    </tr>\n",
       "  </tbody>\n",
       "</table>\n",
       "</div>"
      ]
     },
     "execution_count": 110,
     "metadata": {},
     "output_type": "execute_result"
    }
   ],
   "execution_count": 110
  },
  {
   "metadata": {
    "ExecuteTime": {
     "end_time": "2025-06-29T14:48:06.201729Z",
     "start_time": "2025-06-29T14:48:06.194447Z"
    }
   },
   "cell_type": "code",
   "source": [
    "import numpy as np\n",
    "from empiricaldist import Pmf\n",
    "\n",
    "# 1. Actual sentence lengths and their equal prior probability\n",
    "sentences = np.array([1, 2, 3])\n",
    "prior = Pmf(1, sentences)\n",
    "prior.normalize()\n",
    "\n",
    "# 2. Construct observed distribution by weighting by sentence length (length bias)\n",
    "# P(observed) ∝ sentence_length × P(length)\n",
    "biased = prior * sentences\n",
    "biased.normalize()\n",
    "\n",
    "# 3. What's the probability the observed prisoner has a 3-year sentence?\n",
    "prob_3_years = biased[3]\n",
    "\n",
    "# 4. What's the expected remaining sentence length?\n",
    "expected_remaining = biased.mean()\n",
    "\n",
    "# Display results\n",
    "print(\"Observed distribution:\", biased)\n",
    "print(\"P(3-year sentence | observed):\", prob_3_years)\n",
    "print(\"Expected remaining sentence length:\", expected_remaining)\n"
   ],
   "id": "1bf638804029477e",
   "outputs": [
    {
     "name": "stdout",
     "output_type": "stream",
     "text": [
      "Observed distribution: 1    0.166667\n",
      "2    0.333333\n",
      "3    0.500000\n",
      "dtype: float64\n",
      "P(3-year sentence | observed): 0.5\n",
      "Expected remaining sentence length: 2.333333333333333\n"
     ]
    }
   ],
   "execution_count": 119
  },
  {
   "metadata": {
    "ExecuteTime": {
     "end_time": "2025-06-29T14:57:21.544200Z",
     "start_time": "2025-06-29T14:57:21.539672Z"
    }
   },
   "cell_type": "code",
   "source": [
    "import numpy as np\n",
    "\n",
    "# Family sizes: assume 4+ as 4.5\n",
    "children = np.array([1, 2, 3, 4.5])\n",
    "frequencies = np.array([22, 41, 24, 14])  # from 2014 data\n",
    "\n",
    "# Convert to probabilities\n",
    "prob = frequencies / frequencies.sum()\n",
    "\n",
    "# Expected number of children\n",
    "expected_children = np.sum(children * prob)\n",
    "print(f\"Expected number of children: {expected_children:.2f}\")\n"
   ],
   "id": "4945c157e4053a1",
   "outputs": [
    {
     "name": "stdout",
     "output_type": "stream",
     "text": [
      "Expected number of children: 2.37\n"
     ]
    }
   ],
   "execution_count": 124
  },
  {
   "metadata": {
    "ExecuteTime": {
     "end_time": "2025-06-29T14:57:35.444144Z",
     "start_time": "2025-06-29T14:57:35.440165Z"
    }
   },
   "cell_type": "code",
   "source": "prob",
   "id": "75c78a6f9d7bd14e",
   "outputs": [
    {
     "data": {
      "text/plain": [
       "array([0.21782178, 0.40594059, 0.23762376, 0.13861386])"
      ]
     },
     "execution_count": 125,
     "metadata": {},
     "output_type": "execute_result"
    }
   ],
   "execution_count": 125
  },
  {
   "metadata": {
    "ExecuteTime": {
     "end_time": "2025-06-29T15:03:31.949159Z",
     "start_time": "2025-06-29T15:03:31.943380Z"
    }
   },
   "cell_type": "code",
   "source": [
    "from empiricaldist import Pmf\n",
    "import numpy as np\n",
    "\n",
    "# Total possible population sizes (in billions)\n",
    "lengths = np.array([200e9, 2000e9])\n",
    "prior = Pmf(1, lengths)\n",
    "prior.normalize()\n"
   ],
   "id": "199f283b29e7f9d5",
   "outputs": [
    {
     "data": {
      "text/plain": [
       "2"
      ]
     },
     "execution_count": 141,
     "metadata": {},
     "output_type": "execute_result"
    }
   ],
   "execution_count": 141
  },
  {
   "metadata": {
    "ExecuteTime": {
     "end_time": "2025-06-29T15:03:37.044632Z",
     "start_time": "2025-06-29T15:03:37.037344Z"
    }
   },
   "cell_type": "code",
   "source": [
    "# Data: you are the 108-billionth person\n",
    "d = 108e9\n",
    "\n",
    "# Likelihood: P(d | N) = 1 / N for each hypothesis\n",
    "likelihood = 1 / lengths\n",
    "\n",
    "# Bayesian update: multiply prior by likelihood\n",
    "posterior = prior * likelihood\n",
    "posterior.normalize()\n",
    "\n",
    "# Results\n",
    "print(posterior)\n",
    "print(f\"P(short-lived civilization): {posterior[200e9]:.3f}\")\n",
    "print(f\"P(long-lived civilization):  {posterior[2000e9]:.3f}\")\n"
   ],
   "id": "6153955a52169394",
   "outputs": [
    {
     "name": "stdout",
     "output_type": "stream",
     "text": [
      "2.000000e+11    0.909091\n",
      "2.000000e+12    0.090909\n",
      "dtype: float64\n",
      "P(short-lived civilization): 0.909\n",
      "P(long-lived civilization):  0.091\n"
     ]
    }
   ],
   "execution_count": 142
  },
  {
   "metadata": {
    "ExecuteTime": {
     "end_time": "2025-06-29T15:03:19.522674Z",
     "start_time": "2025-06-29T15:03:19.515943Z"
    }
   },
   "cell_type": "code",
   "source": "posterior",
   "id": "80b751e03293f08c",
   "outputs": [
    {
     "data": {
      "text/plain": [
       "0    0.5\n",
       "1    0.5\n",
       "dtype: float64"
      ],
      "text/html": [
       "<div>\n",
       "<style scoped>\n",
       "    .dataframe tbody tr th:only-of-type {\n",
       "        vertical-align: middle;\n",
       "    }\n",
       "\n",
       "    .dataframe tbody tr th {\n",
       "        vertical-align: top;\n",
       "    }\n",
       "\n",
       "    .dataframe thead th {\n",
       "        text-align: right;\n",
       "    }\n",
       "</style>\n",
       "<table border=\"1\" class=\"dataframe\">\n",
       "  <thead>\n",
       "    <tr style=\"text-align: right;\">\n",
       "      <th></th>\n",
       "      <th>probs</th>\n",
       "    </tr>\n",
       "  </thead>\n",
       "  <tbody>\n",
       "    <tr>\n",
       "      <th>0</th>\n",
       "      <td>0.5</td>\n",
       "    </tr>\n",
       "    <tr>\n",
       "      <th>1</th>\n",
       "      <td>0.5</td>\n",
       "    </tr>\n",
       "  </tbody>\n",
       "</table>\n",
       "</div>"
      ]
     },
     "execution_count": 140,
     "metadata": {},
     "output_type": "execute_result"
    }
   ],
   "execution_count": 140
  },
  {
   "metadata": {
    "ExecuteTime": {
     "end_time": "2025-06-29T15:08:04.516991Z",
     "start_time": "2025-06-29T15:08:04.513279Z"
    }
   },
   "cell_type": "code",
   "source": [
    "def odds(p):\n",
    "    return p/ (1 - p)\n",
    "def prob(o):\n",
    "    return o / (o + 1)\n",
    "\n",
    "def prob2(yes, no):\n",
    "    return yes / (yes + no)"
   ],
   "id": "308a9d665eea4124",
   "outputs": [],
   "execution_count": 148
  },
  {
   "metadata": {
    "ExecuteTime": {
     "end_time": "2025-06-29T15:08:04.759433Z",
     "start_time": "2025-06-29T15:08:04.754475Z"
    }
   },
   "cell_type": "code",
   "source": "odds(0.9)",
   "id": "1bf68b091ea357a0",
   "outputs": [
    {
     "data": {
      "text/plain": [
       "9.000000000000002"
      ]
     },
     "execution_count": 149,
     "metadata": {},
     "output_type": "execute_result"
    }
   ],
   "execution_count": 149
  },
  {
   "metadata": {
    "ExecuteTime": {
     "end_time": "2025-06-29T15:08:05.185078Z",
     "start_time": "2025-06-29T15:08:05.180560Z"
    }
   },
   "cell_type": "code",
   "source": "prob2(3, 2)",
   "id": "f1cf4e241dff1e03",
   "outputs": [
    {
     "data": {
      "text/plain": [
       "0.6"
      ]
     },
     "execution_count": 150,
     "metadata": {},
     "output_type": "execute_result"
    }
   ],
   "execution_count": 150
  },
  {
   "metadata": {
    "ExecuteTime": {
     "end_time": "2025-06-29T15:11:14.463455Z",
     "start_time": "2025-06-29T15:11:14.458629Z"
    }
   },
   "cell_type": "code",
   "source": [
    "prior_odds = 1\n",
    "likelihood_ratio = (3/4) / (1/2)\n",
    "post_odds = prior_odds * likelihood_ratio\n",
    "post_odds\n",
    "post_prob = prob(post_odds)\n",
    "post_prob"
   ],
   "id": "6d5d1ce911ade5c5",
   "outputs": [
    {
     "data": {
      "text/plain": [
       "0.6"
      ]
     },
     "execution_count": 155,
     "metadata": {},
     "output_type": "execute_result"
    }
   ],
   "execution_count": 155
  },
  {
   "metadata": {
    "ExecuteTime": {
     "end_time": "2025-06-29T15:12:00.849262Z",
     "start_time": "2025-06-29T15:12:00.844727Z"
    }
   },
   "cell_type": "code",
   "source": [
    "likelihood_ratio = (1/4) / (1/2)\n",
    "post_odds *= likelihood_ratio\n",
    "post_odds"
   ],
   "id": "985d7757a5cf9ea5",
   "outputs": [
    {
     "data": {
      "text/plain": [
       "0.75"
      ]
     },
     "execution_count": 156,
     "metadata": {},
     "output_type": "execute_result"
    }
   ],
   "execution_count": 156
  },
  {
   "metadata": {
    "ExecuteTime": {
     "end_time": "2025-06-29T15:12:25.375614Z",
     "start_time": "2025-06-29T15:12:25.371532Z"
    }
   },
   "cell_type": "code",
   "source": [
    "post_prob = prob(post_odds)\n",
    "post_prob"
   ],
   "id": "cde2a7d7b9e7922a",
   "outputs": [
    {
     "data": {
      "text/plain": [
       "0.42857142857142855"
      ]
     },
     "execution_count": 157,
     "metadata": {},
     "output_type": "execute_result"
    }
   ],
   "execution_count": 157
  },
  {
   "metadata": {
    "ExecuteTime": {
     "end_time": "2025-06-29T15:16:22.941878Z",
     "start_time": "2025-06-29T15:16:22.938594Z"
    }
   },
   "cell_type": "code",
   "source": [
    "like1 =0.01\n",
    "like2 = 2* 0.6 * 0.01\n",
    "\n",
    "likelihood_ratio = like1 / like2"
   ],
   "id": "3d2d7463f51b7d22",
   "outputs": [],
   "execution_count": 158
  },
  {
   "metadata": {},
   "cell_type": "code",
   "outputs": [],
   "execution_count": null,
   "source": "",
   "id": "95402522f02adca"
  }
 ],
 "metadata": {
  "kernelspec": {
   "display_name": "Python 3",
   "language": "python",
   "name": "python3"
  },
  "language_info": {
   "codemirror_mode": {
    "name": "ipython",
    "version": 2
   },
   "file_extension": ".py",
   "mimetype": "text/x-python",
   "name": "python",
   "nbconvert_exporter": "python",
   "pygments_lexer": "ipython2",
   "version": "2.7.6"
  }
 },
 "nbformat": 4,
 "nbformat_minor": 5
}
