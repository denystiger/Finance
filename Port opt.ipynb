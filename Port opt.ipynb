{
 "cells": [
  {
   "cell_type": "code",
   "id": "initial_id",
   "metadata": {
    "collapsed": true,
    "ExecuteTime": {
     "end_time": "2025-06-08T02:55:42.140491Z",
     "start_time": "2025-06-08T02:55:42.136274Z"
    }
   },
   "source": [
    "import numpy as np\n",
    "\n",
    "B = np.array([[0.5, 0.2],\n",
    "              [0.4, -0.1],\n",
    "              [0.3, 0.4]])\n",
    "sigma_F = np.array([[0.02, 0.01],\n",
    "                  [0.01, 0.03]])\n",
    "Phi = np.diag([0.05, 0.04, 0.03])"
   ],
   "outputs": [],
   "execution_count": 4
  },
  {
   "metadata": {
    "ExecuteTime": {
     "end_time": "2025-06-08T02:56:22.929754Z",
     "start_time": "2025-06-08T02:56:22.924780Z"
    }
   },
   "cell_type": "code",
   "source": "sigma = B @ sigma_F @ B.T + Phi",
   "id": "58a8bb1831b988f8",
   "outputs": [],
   "execution_count": 5
  },
  {
   "metadata": {
    "ExecuteTime": {
     "end_time": "2025-06-08T02:56:25.155631Z",
     "start_time": "2025-06-08T02:56:25.150515Z"
    }
   },
   "cell_type": "code",
   "source": "sigma",
   "id": "81b62017268a556",
   "outputs": [
    {
     "data": {
      "text/plain": [
       "array([[0.0582, 0.0037, 0.008 ],\n",
       "       [0.0037, 0.0427, 0.0025],\n",
       "       [0.008 , 0.0025, 0.039 ]])"
      ]
     },
     "execution_count": 6,
     "metadata": {},
     "output_type": "execute_result"
    }
   ],
   "execution_count": 6
  },
  {
   "metadata": {
    "ExecuteTime": {
     "end_time": "2025-06-08T03:03:44.247707Z",
     "start_time": "2025-06-08T03:03:44.243769Z"
    }
   },
   "cell_type": "code",
   "source": [
    "Omega = np.diag([0.0025, 0.0025])\n",
    "v = np.array([0.06, 0.1])\n",
    "P = np.diag([1, -1])\n",
    "v = (0.04)"
   ],
   "id": "9060d6ce98fbdcb7",
   "outputs": [],
   "execution_count": 9
  },
  {
   "metadata": {
    "ExecuteTime": {
     "end_time": "2025-06-08T03:13:45.046594Z",
     "start_time": "2025-06-08T03:13:45.042293Z"
    }
   },
   "cell_type": "code",
   "source": [
    "Sigma = np.array([[0.04, 0.01],[0.01, 0.09]])\n",
    "shrink_factor = 0.3\n",
    "target = (np.trace(Sigma)/ 2) * np.eye(2)\n",
    "\n",
    "cov_shrinked = 0.3 * target + 0.7 * Sigma"
   ],
   "id": "7995352c346447f",
   "outputs": [],
   "execution_count": 15
  },
  {
   "metadata": {
    "ExecuteTime": {
     "end_time": "2025-06-08T03:20:48.644057Z",
     "start_time": "2025-06-08T03:20:48.638251Z"
    }
   },
   "cell_type": "code",
   "source": [
    "import numpy as np\n",
    "\n",
    "# Data\n",
    "rets = np.array([\n",
    "    [0.02, 0.01],\n",
    "    [-0.01, 0.02],\n",
    "    [0.03, -0.02]\n",
    "])\n",
    "\n",
    "# Sample mean\n",
    "rets_mean = rets.mean(axis=0)\n",
    "\n",
    "# Centered\n",
    "centered = rets - rets_mean\n",
    "\n",
    "# Sample covariance\n",
    "T = rets.shape[0]\n",
    "cov_manual = (centered.T @ centered) / (T - 1)\n",
    "\n",
    "# Result\n",
    "print(\"Sample mean:\", rets_mean)\n",
    "print(\"Sample covariance:\\n\", cov_manual)\n"
   ],
   "id": "f2ff87cb60e81f29",
   "outputs": [
    {
     "name": "stdout",
     "output_type": "stream",
     "text": [
      "Sample mean: [0.01333333 0.00333333]\n",
      "Sample covariance:\n",
      " [[ 0.00043333 -0.00036667]\n",
      " [-0.00036667  0.00043333]]\n"
     ]
    }
   ],
   "execution_count": 22
  },
  {
   "metadata": {
    "ExecuteTime": {
     "end_time": "2025-06-08T03:19:37.192011Z",
     "start_time": "2025-06-08T03:19:37.187259Z"
    }
   },
   "cell_type": "code",
   "source": "cov_manual",
   "id": "fc842fb404988d76",
   "outputs": [
    {
     "data": {
      "text/plain": [
       "array([[ 0.00043333, -0.00036667],\n",
       "       [-0.00036667,  0.00043333]])"
      ]
     },
     "execution_count": 21,
     "metadata": {},
     "output_type": "execute_result"
    }
   ],
   "execution_count": 21
  },
  {
   "metadata": {
    "ExecuteTime": {
     "end_time": "2025-06-08T03:25:35.063760Z",
     "start_time": "2025-06-08T03:25:35.059268Z"
    }
   },
   "cell_type": "code",
   "source": [
    "import numpy as np\n",
    "\n",
    "# Correct shapes\n",
    "B = np.array([[0.05], [0.07]])  # Shape (2,1)\n",
    "sigma_f = np.array([[0.04]])    # Shape (1,1)\n",
    "phi = np.diag([0.01, 0.02])     # Shape (2,2)\n",
    "\n",
    "# Compute\n",
    "cov = B @ sigma_f @ B.T + phi"
   ],
   "id": "2e0893d23eade441",
   "outputs": [],
   "execution_count": 36
  },
  {
   "metadata": {
    "ExecuteTime": {
     "end_time": "2025-06-08T03:28:57.032433Z",
     "start_time": "2025-06-08T03:28:57.026480Z"
    }
   },
   "cell_type": "code",
   "source": [
    "x = np.array([[0.1, -0.1], [-0.05, 0.2]])\n",
    "sigma_0 = np.array([[0.04, 0], [0, 0.09]])\n",
    "N = 1\n",
    "w = N / (x.T @ np.linalg.inv(sigma_0) @ x)"
   ],
   "id": "67221cffc9166e46",
   "outputs": [],
   "execution_count": 40
  },
  {
   "metadata": {
    "ExecuteTime": {
     "end_time": "2025-06-08T03:28:59.060197Z",
     "start_time": "2025-06-08T03:28:59.055444Z"
    }
   },
   "cell_type": "code",
   "source": "w",
   "id": "7b643c5261f3c0e",
   "outputs": [
    {
     "data": {
      "text/plain": [
       "array([[ 3.6       , -2.76923077],\n",
       "       [-2.76923077,  1.44      ]])"
      ]
     },
     "execution_count": 41,
     "metadata": {},
     "output_type": "execute_result"
    }
   ],
   "execution_count": 41
  },
  {
   "metadata": {
    "ExecuteTime": {
     "end_time": "2025-06-08T03:33:20.415468Z",
     "start_time": "2025-06-08T03:33:20.407870Z"
    }
   },
   "cell_type": "code",
   "source": [
    "\n",
    "\n",
    "x = np.array([[0.1, -0.1],\n",
    "              [-0.05, 0.2]])\n",
    "sigma_0 = np.array([[0.04, 0],\n",
    "                    [0, 0.09]])\n",
    "N_dim = 2  # because x_t is 2-dimensional!\n",
    "\n",
    "sigma_inv = np.linalg.inv(sigma_0)\n",
    "\n",
    "# Compute weights per t\n",
    "w = []\n",
    "\n",
    "for t in range(x.shape[0]):\n",
    "    x_t = x[t, :]  # take one row, shape (2,)\n",
    "    quad_form = x_t @ sigma_inv @ x_t.T  # scalar\n",
    "    w_t = N_dim / quad_form\n",
    "    w.append(w_t)\n",
    "\n",
    "w = np.array(w)\n",
    "w"
   ],
   "id": "6baef14ab14cd3cf",
   "outputs": [
    {
     "data": {
      "text/plain": [
       "array([5.53846154, 3.94520548])"
      ]
     },
     "execution_count": 46,
     "metadata": {},
     "output_type": "execute_result"
    }
   ],
   "execution_count": 46
  },
  {
   "metadata": {
    "ExecuteTime": {
     "end_time": "2025-06-08T03:33:27.770730Z",
     "start_time": "2025-06-08T03:33:27.766787Z"
    }
   },
   "cell_type": "code",
   "source": [
    "\n",
    "print(\"Tyler weights:\", w)"
   ],
   "id": "3009753de5335e31",
   "outputs": [
    {
     "name": "stdout",
     "output_type": "stream",
     "text": [
      "Tyler weights: [5.53846154 3.94520548]\n"
     ]
    }
   ],
   "execution_count": 47
  },
  {
   "metadata": {
    "ExecuteTime": {
     "end_time": "2025-06-08T03:38:00.848528Z",
     "start_time": "2025-06-08T03:38:00.843778Z"
    }
   },
   "cell_type": "code",
   "source": "6/(6.7)",
   "id": "fdbd221b8b036f20",
   "outputs": [
    {
     "data": {
      "text/plain": [
       "0.8955223880597015"
      ]
     },
     "execution_count": 48,
     "metadata": {},
     "output_type": "execute_result"
    }
   ],
   "execution_count": 48
  },
  {
   "metadata": {
    "ExecuteTime": {
     "end_time": "2025-06-08T03:46:37.699739Z",
     "start_time": "2025-06-08T03:46:37.696376Z"
    }
   },
   "cell_type": "code",
   "source": [
    "import sympy as sp\n",
    "pi, Sigma, P, v, Omega, tau, I = sp.symbols('pi, Sigma, P, v, Omega, tau I')"
   ],
   "id": "b3c99043811b655",
   "outputs": [],
   "execution_count": 57
  },
  {
   "metadata": {
    "ExecuteTime": {
     "end_time": "2025-06-08T04:01:15.073144Z",
     "start_time": "2025-06-08T04:01:15.039859Z"
    }
   },
   "cell_type": "code",
   "source": [
    "import sympy as sp\n",
    "n, k = sp.symbols('n, k', positive = True)\n",
    "pi = sp.MatrixSymbol('pi', n, 1)\n",
    "Sigma = sp.MatrixSymbol('Sigma', n, n)\n",
    "P = sp.MatrixSymbol('P', k, n)\n",
    "Omega = sp.MatrixSymbol('Omega', k, k)\n",
    "v = sp.MatrixSymbol('v', k, 1)\n",
    "I = sp.Identity(n)\n",
    "tau = sp.symbols('tau')\n",
    "\n",
    "\n",
    "inv_term = ( (tau * Sigma).inv() + P.T * Omega.inv() * P).inv()\n",
    "\n",
    "middle_term = (  (tau * Sigma).inv() * pi + P.T* Omega.inv() * v)\n",
    "\n",
    "mu_BL = inv_term * middle_term\n",
    "mu_BL"
   ],
   "id": "68b11104120787cb",
   "outputs": [
    {
     "data": {
      "text/plain": [
       "(P.T*Omega**(-1)*P + 1/tau*Sigma**(-1))**(-1)*(P.T*Omega**(-1)*v + 1/tau*Sigma**(-1)*pi)"
      ],
      "text/latex": "$\\displaystyle \\left(P^{T} \\Omega^{-1} P + \\frac{1}{\\tau} \\Sigma^{-1}\\right)^{-1} \\left(P^{T} \\Omega^{-1} v + \\frac{1}{\\tau} \\Sigma^{-1} \\pi\\right)$"
     },
     "execution_count": 79,
     "metadata": {},
     "output_type": "execute_result"
    }
   ],
   "execution_count": 79
  },
  {
   "metadata": {
    "ExecuteTime": {
     "end_time": "2025-06-08T03:53:03.897672Z",
     "start_time": "2025-06-08T03:53:03.893620Z"
    }
   },
   "cell_type": "code",
   "source": [
    "x = np.array([0.05, -0.1, 0.02])\n",
    "mu = 0\n",
    "var = 0.04\n",
    "v = 4\n",
    "N = 1\n",
    "\n",
    "for t in range(3):\n",
    "    x_t = x[t]\n",
    "    w_t = (v + N)/ (v + (x_t - mu)**2 / var)"
   ],
   "id": "7c09dd89759b1e0f",
   "outputs": [],
   "execution_count": 67
  },
  {
   "metadata": {
    "ExecuteTime": {
     "end_time": "2025-06-08T03:53:06.706840Z",
     "start_time": "2025-06-08T03:53:06.702524Z"
    }
   },
   "cell_type": "code",
   "source": "w_t",
   "id": "7299cec24aab6c65",
   "outputs": [
    {
     "data": {
      "text/plain": [
       "np.float64(1.2468827930174564)"
      ]
     },
     "execution_count": 68,
     "metadata": {},
     "output_type": "execute_result"
    }
   ],
   "execution_count": 68
  },
  {
   "metadata": {
    "ExecuteTime": {
     "end_time": "2025-06-08T09:23:24.781984Z",
     "start_time": "2025-06-08T09:23:24.777831Z"
    }
   },
   "cell_type": "code",
   "source": [
    "pi = sp.MatrixSymbol('pi', n, 1)   # n x 1 vector\n",
    "Sigma = sp.MatrixSymbol('Sigma', n, n)  # n x n covariance matrix\n",
    "P = sp.MatrixSymbol('P', k, n)  # k views on n assets\n",
    "Omega = sp.MatrixSymbol('Omega', k, k)  # uncertainty of views\n",
    "v = sp.MatrixSymbol('v', k, 1)  # view vector\n",
    "I = sp.Identity(n)  # identity matrix\n",
    "tau = sp.symbols('tau')\n"
   ],
   "id": "1f85efb831f52b4a",
   "outputs": [],
   "execution_count": 84
  },
  {
   "metadata": {},
   "cell_type": "code",
   "outputs": [],
   "execution_count": null,
   "source": "",
   "id": "c35ea9e88f601f79"
  }
 ],
 "metadata": {
  "kernelspec": {
   "display_name": "Python 3",
   "language": "python",
   "name": "python3"
  },
  "language_info": {
   "codemirror_mode": {
    "name": "ipython",
    "version": 2
   },
   "file_extension": ".py",
   "mimetype": "text/x-python",
   "name": "python",
   "nbconvert_exporter": "python",
   "pygments_lexer": "ipython2",
   "version": "2.7.6"
  }
 },
 "nbformat": 4,
 "nbformat_minor": 5
}
