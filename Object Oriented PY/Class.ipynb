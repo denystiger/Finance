{
 "cells": [
  {
   "cell_type": "code",
   "id": "initial_id",
   "metadata": {
    "collapsed": true,
    "ExecuteTime": {
     "end_time": "2025-06-17T13:19:00.336361Z",
     "start_time": "2025-06-17T13:19:00.332444Z"
    }
   },
   "source": [
    "class Account():\n",
    "    def __init__(self, name, balance, password):\n",
    "        self.name = name\n",
    "        self.balance = int(balance)\n",
    "        self.password = password\n",
    "    def deposit(self, amountToDeposit, password):\n",
    "        if password != self.password:\n",
    "            print('Sorry, incorect password')\n",
    "            return  None\n",
    "        if amountToDeposit < 0:\n",
    "            print('You cannont deposit a negative amount')\n",
    "            return None\n",
    "        self.balance += amountToDeposit\n",
    "    def withdraw(self, amountToWithdraw, password):\n",
    "        if password != self.password:\n",
    "            print('Sorry, incorrect password')\n",
    "            return None\n",
    "        if amountToWithdraw< 0:\n",
    "            print('Youscdsds')\n"
   ],
   "outputs": [],
   "execution_count": 1
  },
  {
   "metadata": {},
   "cell_type": "code",
   "outputs": [],
   "execution_count": null,
   "source": "",
   "id": "f0e6014dba4a8c32"
  },
  {
   "metadata": {
    "ExecuteTime": {
     "end_time": "2025-06-17T13:33:52.980215Z",
     "start_time": "2025-06-17T13:33:52.975109Z"
    }
   },
   "cell_type": "code",
   "source": [
    "class LightSwitch():\n",
    "    def __init__(self):\n",
    "        self.switchIsOn = False\n",
    "    def turnOn(self):\n",
    "        self.switchIsOn = True\n",
    "    def turnOff(self):\n",
    "        self.switchIsOn = False\n",
    "    def show(self):\n",
    "        print(self.switchIsOn)\n",
    "oLingtSwitch = LightSwitch()\n",
    "oLingtSwitch.turnOn()\n",
    "oLingtSwitch.show()"
   ],
   "id": "2f9f6f69fc76121b",
   "outputs": [
    {
     "name": "stdout",
     "output_type": "stream",
     "text": [
      "True\n"
     ]
    }
   ],
   "execution_count": 6
  },
  {
   "metadata": {
    "ExecuteTime": {
     "end_time": "2025-06-17T13:45:04.446789Z",
     "start_time": "2025-06-17T13:45:04.442084Z"
    }
   },
   "cell_type": "code",
   "source": [
    "class DimmerSwitch:\n",
    "    def __init__(self):\n",
    "        self.brightness = 0\n",
    "        self.turnedOn = False  # initialize this so it's always defined\n",
    "\n",
    "    def turn_on(self):\n",
    "        self.turnedOn = True\n",
    "\n",
    "    def turn_off(self):\n",
    "        self.turnedOn = False\n",
    "\n",
    "    def raiseBright(self, units=1):\n",
    "        if self.brightness + units <= 10:\n",
    "            self.brightness += units\n",
    "\n",
    "    def lowerBright(self, units=1):\n",
    "        if self.brightness - units >= 0:\n",
    "            self.brightness -= units\n",
    "\n",
    "    def show(self):\n",
    "        print('Brightness:', self.brightness)\n"
   ],
   "id": "d1a1dec027ade66e",
   "outputs": [],
   "execution_count": 15
  },
  {
   "metadata": {
    "ExecuteTime": {
     "end_time": "2025-06-17T13:43:30.236018Z",
     "start_time": "2025-06-17T13:43:30.232423Z"
    }
   },
   "cell_type": "code",
   "source": [
    "\n",
    "dim.lowerBright(7)\n",
    "dim.show()"
   ],
   "id": "f7052fb575f61ed5",
   "outputs": [
    {
     "name": "stdout",
     "output_type": "stream",
     "text": [
      "Brightness 10\n"
     ]
    }
   ],
   "execution_count": 14
  },
  {
   "metadata": {},
   "cell_type": "code",
   "outputs": [],
   "execution_count": null,
   "source": "",
   "id": "b1932974ae23dce1"
  }
 ],
 "metadata": {
  "kernelspec": {
   "display_name": "Python 3",
   "language": "python",
   "name": "python3"
  },
  "language_info": {
   "codemirror_mode": {
    "name": "ipython",
    "version": 2
   },
   "file_extension": ".py",
   "mimetype": "text/x-python",
   "name": "python",
   "nbconvert_exporter": "python",
   "pygments_lexer": "ipython2",
   "version": "2.7.6"
  }
 },
 "nbformat": 4,
 "nbformat_minor": 5
}
