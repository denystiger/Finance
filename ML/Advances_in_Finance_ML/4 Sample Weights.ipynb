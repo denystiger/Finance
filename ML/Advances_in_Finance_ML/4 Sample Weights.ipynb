{
 "cells": [
  {
   "cell_type": "code",
   "execution_count": null,
   "id": "initial_id",
   "metadata": {
    "collapsed": true
   },
   "outputs": [],
   "source": [
    "def mpNumCoEvents(closeIdx, t1, molecule):\n",
    "    \"\"\"\n",
    "    Compute number of concurrent events per bar.\n",
    "\n",
    "    Parameters:\n",
    "    - closeIdx: pd.Index of close prices (usually datetime index)\n",
    "    - t1: pd.Series where index is event start time and value is event end time\n",
    "    - molecule: list-like with timestamps (subset of t1.index) to compute on\n",
    "\n",
    "    Returns:\n",
    "    - count: pd.Series with index as closeIdx and values as number of overlapping events\n",
    "    \"\"\"\n",
    "\n",
    "    # 1) Ensure all t1 values are filled (use last close if NaN)\n",
    "    t1 = t1.fillna(closeIdx[-1])\n",
    "\n",
    "    # 2) Keep only events that start after or at the first molecule time\n",
    "    t1 = t1[t1 >= molecule[0]]\n",
    "\n",
    "    # 3) And end before or at the last end time in this molecule\n",
    "    t1 = t1.loc[:t1[molecule].max()]\n",
    "\n",
    "    # 4) Find the time window we're working in\n",
    "    iloc_start, iloc_end = closeIdx.searchsorted([t1.index[0], t1.max()])\n",
    "    barIdx = closeIdx[iloc_start: iloc_end + 1]\n",
    "\n",
    "    # 5) Initialize count Series\n",
    "    count = pd.Series(0, index=barIdx)\n",
    "\n",
    "    # 6) Count how many events overlap each time point\n",
    "    for t_in, t_out in t1.items():\n",
    "        count.loc[t_in:t_out] += 1\n",
    "\n",
    "    return count.loc[molecule[0]: t1[molecule].max()]\n"
   ]
  },
  {
   "metadata": {
    "ExecuteTime": {
     "end_time": "2025-07-05T02:45:12.198187Z",
     "start_time": "2025-07-05T02:45:12.192539Z"
    }
   },
   "cell_type": "code",
   "source": [
    "import pandas as pd\n",
    "import numpy as np\n",
    "def getIndicatorMatrix(events, close):\n",
    "    \"\"\"\n",
    "    Create an indicator matrix (bool DataFrame) where:\n",
    "    - Rows: event start time (t0)\n",
    "    - Columns: close index (timestamps)\n",
    "    - True: if event covers that timestamp\n",
    "    \"\"\"\n",
    "    indM = pd.DataFrame(0, index=events.index, columns=close.index)\n",
    "    for t0, t1 in events['t1'].items():\n",
    "        indM.loc[t0, t0:t1] = 1\n",
    "    return indM\n",
    "\n",
    "def getAvgUniqueness(indM):\n",
    "    # Avarage uniqueness from indicator matrix\n",
    "    c = indM.sum(ais = 1) # concurency\n",
    "    u = indM.div(c, axis = 0) # uniquness\n",
    "    avgU = u[u >0].mean() # avg uniqueness\n",
    "    return avgU\n",
    "def seqBootstrap(indM, sample_size = None):\n",
    "    '''perform sequantioal bootstrap sampling based on indicator matrix\n",
    "\n",
    "    Returns:\n",
    "        - list of selected semple indices\n",
    "    '''\n",
    "    if sample_size is None:\n",
    "        sample_size = indM.shape[0]\n",
    "\n",
    "    phi = [] # selected samples\n",
    "    while len(phi) < sample_size:\n",
    "        avg_uniqueness = (1. / indM.loc[phi].sum()) if phi else pd.Series(1, index= indM.columns)\n",
    "        score = (indM * avg_uniqueness).sum(axis = 1)\n",
    "        prob = score / score.sum()\n",
    "        candidate = np.random.choice(indM.index, prob)\n",
    "        if candidate not in phi:\n",
    "            phi.append(candidate)\n",
    "    return phi"
   ],
   "id": "c911b7cdd6b1d10",
   "outputs": [],
   "execution_count": 50
  },
  {
   "metadata": {},
   "cell_type": "code",
   "outputs": [],
   "execution_count": null,
   "source": "",
   "id": "3475cf5639ff8ad1"
  }
 ],
 "metadata": {
  "kernelspec": {
   "display_name": "Python 3",
   "language": "python",
   "name": "python3"
  },
  "language_info": {
   "codemirror_mode": {
    "name": "ipython",
    "version": 2
   },
   "file_extension": ".py",
   "mimetype": "text/x-python",
   "name": "python",
   "nbconvert_exporter": "python",
   "pygments_lexer": "ipython2",
   "version": "2.7.6"
  }
 },
 "nbformat": 4,
 "nbformat_minor": 5
}
