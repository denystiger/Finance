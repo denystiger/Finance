{
 "cells": [
  {
   "cell_type": "code",
   "id": "initial_id",
   "metadata": {
    "collapsed": true,
    "ExecuteTime": {
     "end_time": "2025-06-10T03:07:43.531193Z",
     "start_time": "2025-06-10T03:07:43.520980Z"
    }
   },
   "source": [
    "import pandas as pd\n",
    "import numpy as np\n",
    "\n",
    "# Load and rename the column\n",
    "ts = pd.read_csv('Electric_Production.csv', index_col=\"DATE\", parse_dates=True)\n",
    "ts = ts.rename(columns={ts.columns[0]: 'PRODUCTION'})\n",
    "\n",
    "# Linspace Sampling (every 10th entry)\n",
    "lin_samp = np.arange(0, len(ts), 10)\n",
    "ts_linear = ts.iloc[lin_samp]\n",
    "\n",
    "# Uniform Sampling: generate 10 random integer indices\n",
    "ts_uniform_idx = np.random.randint(0, len(ts), 10)  # FIXED: use randint not uniform for indexing\n",
    "ts_uniform = ts.iloc[ts_uniform_idx]\n"
   ],
   "outputs": [],
   "execution_count": 59
  },
  {
   "metadata": {
    "ExecuteTime": {
     "end_time": "2025-06-10T03:08:06.522609Z",
     "start_time": "2025-06-10T03:08:06.517953Z"
    }
   },
   "cell_type": "code",
   "source": "len(ts_uniform)",
   "id": "c92bb5ad90b3d7ed",
   "outputs": [
    {
     "data": {
      "text/plain": [
       "10"
      ]
     },
     "execution_count": 61,
     "metadata": {},
     "output_type": "execute_result"
    }
   ],
   "execution_count": 61
  },
  {
   "metadata": {
    "ExecuteTime": {
     "end_time": "2025-06-10T03:08:14.115125Z",
     "start_time": "2025-06-10T03:08:14.110147Z"
    }
   },
   "cell_type": "code",
   "source": [
    "len(ts)\n",
    "\n"
   ],
   "id": "1f958e5a55241447",
   "outputs": [
    {
     "data": {
      "text/plain": [
       "397"
      ]
     },
     "execution_count": 62,
     "metadata": {},
     "output_type": "execute_result"
    }
   ],
   "execution_count": 62
  },
  {
   "metadata": {
    "ExecuteTime": {
     "end_time": "2025-06-10T02:57:03.241351Z",
     "start_time": "2025-06-10T02:57:03.238785Z"
    }
   },
   "cell_type": "code",
   "source": [
    "\n",
    "\n",
    "def huber_fn(y_true, y_pred):\n",
    "    error = abs(y_true - y_pred)\n",
    "    is_small_error = error < 1"
   ],
   "id": "23aa309cd104500a",
   "outputs": [],
   "execution_count": null
  },
  {
   "metadata": {},
   "cell_type": "code",
   "outputs": [],
   "execution_count": null,
   "source": "",
   "id": "b19df0044e0194bd"
  }
 ],
 "metadata": {
  "kernelspec": {
   "display_name": "Python 3",
   "language": "python",
   "name": "python3"
  },
  "language_info": {
   "codemirror_mode": {
    "name": "ipython",
    "version": 2
   },
   "file_extension": ".py",
   "mimetype": "text/x-python",
   "name": "python",
   "nbconvert_exporter": "python",
   "pygments_lexer": "ipython2",
   "version": "2.7.6"
  }
 },
 "nbformat": 4,
 "nbformat_minor": 5
}
